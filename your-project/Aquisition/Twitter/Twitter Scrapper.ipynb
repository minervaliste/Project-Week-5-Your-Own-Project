{
 "cells": [
  {
   "cell_type": "code",
   "execution_count": 3,
   "metadata": {},
   "outputs": [],
   "source": [
    "from twitterscraper import query_tweets\n",
    "import datetime as dt\n",
    "import pandas as pd\n",
    "import glob\n",
    "import time\n"
   ]
  },
  {
   "cell_type": "code",
   "execution_count": 4,
   "metadata": {},
   "outputs": [
    {
     "name": "stderr",
     "output_type": "stream",
     "text": [
      "INFO: queries: ['\"Barcelona\" AND \"violencia\" OR \"crimen\" OR \"inseguridad\" OR \"delincuencia\" OR \"agresion\" OR \"delito\" OR \"crim\" OR \"inseguretat\" OR \"delinqüència\" OR \"agressió\" OR \"delicte\") since:2020-01-17 until:2020-01-18', '\"Barcelona\" AND \"violencia\" OR \"crimen\" OR \"inseguridad\" OR \"delincuencia\" OR \"agresion\" OR \"delito\" OR \"crim\" OR \"inseguretat\" OR \"delinqüència\" OR \"agressió\" OR \"delicte\") since:2020-01-18 until:2020-01-19', '\"Barcelona\" AND \"violencia\" OR \"crimen\" OR \"inseguridad\" OR \"delincuencia\" OR \"agresion\" OR \"delito\" OR \"crim\" OR \"inseguretat\" OR \"delinqüència\" OR \"agressió\" OR \"delicte\") since:2020-01-19 until:2020-01-20', '\"Barcelona\" AND \"violencia\" OR \"crimen\" OR \"inseguridad\" OR \"delincuencia\" OR \"agresion\" OR \"delito\" OR \"crim\" OR \"inseguretat\" OR \"delinqüència\" OR \"agressió\" OR \"delicte\") since:2020-01-20 until:2020-01-21', '\"Barcelona\" AND \"violencia\" OR \"crimen\" OR \"inseguridad\" OR \"delincuencia\" OR \"agresion\" OR \"delito\" OR \"crim\" OR \"inseguretat\" OR \"delinqüència\" OR \"agressió\" OR \"delicte\") since:2020-01-21 until:2020-01-22', '\"Barcelona\" AND \"violencia\" OR \"crimen\" OR \"inseguridad\" OR \"delincuencia\" OR \"agresion\" OR \"delito\" OR \"crim\" OR \"inseguretat\" OR \"delinqüència\" OR \"agressió\" OR \"delicte\") since:2020-01-22 until:2020-01-23', '\"Barcelona\" AND \"violencia\" OR \"crimen\" OR \"inseguridad\" OR \"delincuencia\" OR \"agresion\" OR \"delito\" OR \"crim\" OR \"inseguretat\" OR \"delinqüència\" OR \"agressió\" OR \"delicte\") since:2020-01-23 until:2020-01-24']\n",
      "INFO: Got 41 tweets (41 new).\n",
      "INFO: Got 95 tweets (54 new).\n",
      "INFO: Got 158 tweets (63 new).\n",
      "INFO: Got 224 tweets (66 new).\n",
      "INFO: Got 306 tweets (82 new).\n",
      "INFO: Got 388 tweets (82 new).\n",
      "INFO: Got 496 tweets (108 new).\n"
     ]
    },
    {
     "name": "stdout",
     "output_type": "stream",
     "text": [
      "496  were retrieved for 2020-01-17 to 2020-01-24\n"
     ]
    },
    {
     "name": "stderr",
     "output_type": "stream",
     "text": [
      "INFO: queries: ['\"Barcelona\" AND \"violencia\" OR \"crimen\" OR \"inseguridad\" OR \"delincuencia\" OR \"agresion\" OR \"delito\" OR \"crim\" OR \"inseguretat\" OR \"delinqüència\" OR \"agressió\" OR \"delicte\") since:2020-01-10 until:2020-01-11', '\"Barcelona\" AND \"violencia\" OR \"crimen\" OR \"inseguridad\" OR \"delincuencia\" OR \"agresion\" OR \"delito\" OR \"crim\" OR \"inseguretat\" OR \"delinqüència\" OR \"agressió\" OR \"delicte\") since:2020-01-11 until:2020-01-12', '\"Barcelona\" AND \"violencia\" OR \"crimen\" OR \"inseguridad\" OR \"delincuencia\" OR \"agresion\" OR \"delito\" OR \"crim\" OR \"inseguretat\" OR \"delinqüència\" OR \"agressió\" OR \"delicte\") since:2020-01-12 until:2020-01-13', '\"Barcelona\" AND \"violencia\" OR \"crimen\" OR \"inseguridad\" OR \"delincuencia\" OR \"agresion\" OR \"delito\" OR \"crim\" OR \"inseguretat\" OR \"delinqüència\" OR \"agressió\" OR \"delicte\") since:2020-01-13 until:2020-01-14', '\"Barcelona\" AND \"violencia\" OR \"crimen\" OR \"inseguridad\" OR \"delincuencia\" OR \"agresion\" OR \"delito\" OR \"crim\" OR \"inseguretat\" OR \"delinqüència\" OR \"agressió\" OR \"delicte\") since:2020-01-14 until:2020-01-15', '\"Barcelona\" AND \"violencia\" OR \"crimen\" OR \"inseguridad\" OR \"delincuencia\" OR \"agresion\" OR \"delito\" OR \"crim\" OR \"inseguretat\" OR \"delinqüència\" OR \"agressió\" OR \"delicte\") since:2020-01-15 until:2020-01-16', '\"Barcelona\" AND \"violencia\" OR \"crimen\" OR \"inseguridad\" OR \"delincuencia\" OR \"agresion\" OR \"delito\" OR \"crim\" OR \"inseguretat\" OR \"delinqüència\" OR \"agressió\" OR \"delicte\") since:2020-01-16 until:2020-01-17']\n",
      "INFO: Got 42 tweets (42 new).\n",
      "INFO: Got 85 tweets (43 new).\n",
      "INFO: Got 122 tweets (37 new).\n",
      "INFO: Got 181 tweets (59 new).\n",
      "INFO: Got 267 tweets (86 new).\n",
      "INFO: Got 347 tweets (80 new).\n",
      "INFO: Got 479 tweets (132 new).\n"
     ]
    },
    {
     "name": "stdout",
     "output_type": "stream",
     "text": [
      "479  were retrieved for 2020-01-10 to 2020-01-17\n"
     ]
    },
    {
     "name": "stderr",
     "output_type": "stream",
     "text": [
      "INFO: queries: ['\"Barcelona\" AND \"violencia\" OR \"crimen\" OR \"inseguridad\" OR \"delincuencia\" OR \"agresion\" OR \"delito\" OR \"crim\" OR \"inseguretat\" OR \"delinqüència\" OR \"agressió\" OR \"delicte\") since:2020-01-03 until:2020-01-04', '\"Barcelona\" AND \"violencia\" OR \"crimen\" OR \"inseguridad\" OR \"delincuencia\" OR \"agresion\" OR \"delito\" OR \"crim\" OR \"inseguretat\" OR \"delinqüència\" OR \"agressió\" OR \"delicte\") since:2020-01-04 until:2020-01-05', '\"Barcelona\" AND \"violencia\" OR \"crimen\" OR \"inseguridad\" OR \"delincuencia\" OR \"agresion\" OR \"delito\" OR \"crim\" OR \"inseguretat\" OR \"delinqüència\" OR \"agressió\" OR \"delicte\") since:2020-01-05 until:2020-01-06', '\"Barcelona\" AND \"violencia\" OR \"crimen\" OR \"inseguridad\" OR \"delincuencia\" OR \"agresion\" OR \"delito\" OR \"crim\" OR \"inseguretat\" OR \"delinqüència\" OR \"agressió\" OR \"delicte\") since:2020-01-06 until:2020-01-07', '\"Barcelona\" AND \"violencia\" OR \"crimen\" OR \"inseguridad\" OR \"delincuencia\" OR \"agresion\" OR \"delito\" OR \"crim\" OR \"inseguretat\" OR \"delinqüència\" OR \"agressió\" OR \"delicte\") since:2020-01-07 until:2020-01-08', '\"Barcelona\" AND \"violencia\" OR \"crimen\" OR \"inseguridad\" OR \"delincuencia\" OR \"agresion\" OR \"delito\" OR \"crim\" OR \"inseguretat\" OR \"delinqüència\" OR \"agressió\" OR \"delicte\") since:2020-01-08 until:2020-01-09', '\"Barcelona\" AND \"violencia\" OR \"crimen\" OR \"inseguridad\" OR \"delincuencia\" OR \"agresion\" OR \"delito\" OR \"crim\" OR \"inseguretat\" OR \"delinqüència\" OR \"agressió\" OR \"delicte\") since:2020-01-09 until:2020-01-10']\n",
      "INFO: Got 44 tweets (44 new).\n",
      "INFO: Got 89 tweets (45 new).\n",
      "INFO: Got 142 tweets (53 new).\n",
      "INFO: Got 212 tweets (70 new).\n",
      "INFO: Got 279 tweets (67 new).\n",
      "INFO: Got 353 tweets (74 new).\n",
      "INFO: Got 456 tweets (103 new).\n"
     ]
    },
    {
     "name": "stdout",
     "output_type": "stream",
     "text": [
      "456  were retrieved for 2020-01-03 to 2020-01-10\n"
     ]
    },
    {
     "name": "stderr",
     "output_type": "stream",
     "text": [
      "INFO: queries: ['\"Barcelona\" AND \"violencia\" OR \"crimen\" OR \"inseguridad\" OR \"delincuencia\" OR \"agresion\" OR \"delito\" OR \"crim\" OR \"inseguretat\" OR \"delinqüència\" OR \"agressió\" OR \"delicte\") since:2019-12-27 until:2019-12-28', '\"Barcelona\" AND \"violencia\" OR \"crimen\" OR \"inseguridad\" OR \"delincuencia\" OR \"agresion\" OR \"delito\" OR \"crim\" OR \"inseguretat\" OR \"delinqüència\" OR \"agressió\" OR \"delicte\") since:2019-12-28 until:2019-12-29', '\"Barcelona\" AND \"violencia\" OR \"crimen\" OR \"inseguridad\" OR \"delincuencia\" OR \"agresion\" OR \"delito\" OR \"crim\" OR \"inseguretat\" OR \"delinqüència\" OR \"agressió\" OR \"delicte\") since:2019-12-29 until:2019-12-30', '\"Barcelona\" AND \"violencia\" OR \"crimen\" OR \"inseguridad\" OR \"delincuencia\" OR \"agresion\" OR \"delito\" OR \"crim\" OR \"inseguretat\" OR \"delinqüència\" OR \"agressió\" OR \"delicte\") since:2019-12-30 until:2019-12-31', '\"Barcelona\" AND \"violencia\" OR \"crimen\" OR \"inseguridad\" OR \"delincuencia\" OR \"agresion\" OR \"delito\" OR \"crim\" OR \"inseguretat\" OR \"delinqüència\" OR \"agressió\" OR \"delicte\") since:2019-12-31 until:2020-01-01', '\"Barcelona\" AND \"violencia\" OR \"crimen\" OR \"inseguridad\" OR \"delincuencia\" OR \"agresion\" OR \"delito\" OR \"crim\" OR \"inseguretat\" OR \"delinqüència\" OR \"agressió\" OR \"delicte\") since:2020-01-01 until:2020-01-02', '\"Barcelona\" AND \"violencia\" OR \"crimen\" OR \"inseguridad\" OR \"delincuencia\" OR \"agresion\" OR \"delito\" OR \"crim\" OR \"inseguretat\" OR \"delinqüència\" OR \"agressió\" OR \"delicte\") since:2020-01-02 until:2020-01-03']\n",
      "INFO: Got 42 tweets (42 new).\n",
      "INFO: Got 81 tweets (39 new).\n",
      "INFO: Got 140 tweets (59 new).\n",
      "INFO: Got 188 tweets (48 new).\n",
      "INFO: Got 238 tweets (50 new).\n",
      "INFO: Got 302 tweets (64 new).\n",
      "INFO: Got 380 tweets (78 new).\n"
     ]
    },
    {
     "name": "stdout",
     "output_type": "stream",
     "text": [
      "380  were retrieved for 2019-12-27 to 2020-01-03\n"
     ]
    },
    {
     "name": "stderr",
     "output_type": "stream",
     "text": [
      "INFO: queries: ['\"Barcelona\" AND \"violencia\" OR \"crimen\" OR \"inseguridad\" OR \"delincuencia\" OR \"agresion\" OR \"delito\" OR \"crim\" OR \"inseguretat\" OR \"delinqüència\" OR \"agressió\" OR \"delicte\") since:2019-12-20 until:2019-12-21', '\"Barcelona\" AND \"violencia\" OR \"crimen\" OR \"inseguridad\" OR \"delincuencia\" OR \"agresion\" OR \"delito\" OR \"crim\" OR \"inseguretat\" OR \"delinqüència\" OR \"agressió\" OR \"delicte\") since:2019-12-21 until:2019-12-22', '\"Barcelona\" AND \"violencia\" OR \"crimen\" OR \"inseguridad\" OR \"delincuencia\" OR \"agresion\" OR \"delito\" OR \"crim\" OR \"inseguretat\" OR \"delinqüència\" OR \"agressió\" OR \"delicte\") since:2019-12-22 until:2019-12-23', '\"Barcelona\" AND \"violencia\" OR \"crimen\" OR \"inseguridad\" OR \"delincuencia\" OR \"agresion\" OR \"delito\" OR \"crim\" OR \"inseguretat\" OR \"delinqüència\" OR \"agressió\" OR \"delicte\") since:2019-12-23 until:2019-12-24', '\"Barcelona\" AND \"violencia\" OR \"crimen\" OR \"inseguridad\" OR \"delincuencia\" OR \"agresion\" OR \"delito\" OR \"crim\" OR \"inseguretat\" OR \"delinqüència\" OR \"agressió\" OR \"delicte\") since:2019-12-24 until:2019-12-25', '\"Barcelona\" AND \"violencia\" OR \"crimen\" OR \"inseguridad\" OR \"delincuencia\" OR \"agresion\" OR \"delito\" OR \"crim\" OR \"inseguretat\" OR \"delinqüència\" OR \"agressió\" OR \"delicte\") since:2019-12-25 until:2019-12-26', '\"Barcelona\" AND \"violencia\" OR \"crimen\" OR \"inseguridad\" OR \"delincuencia\" OR \"agresion\" OR \"delito\" OR \"crim\" OR \"inseguretat\" OR \"delinqüència\" OR \"agressió\" OR \"delicte\") since:2019-12-26 until:2019-12-27']\n",
      "INFO: Got 38 tweets (38 new).\n",
      "INFO: Got 89 tweets (51 new).\n",
      "INFO: Got 134 tweets (45 new).\n",
      "INFO: Got 184 tweets (50 new).\n",
      "INFO: Got 226 tweets (42 new).\n",
      "INFO: Got 293 tweets (67 new).\n",
      "INFO: Got 341 tweets (48 new).\n"
     ]
    },
    {
     "name": "stdout",
     "output_type": "stream",
     "text": [
      "341  were retrieved for 2019-12-20 to 2019-12-27\n"
     ]
    },
    {
     "name": "stderr",
     "output_type": "stream",
     "text": [
      "INFO: queries: ['\"Barcelona\" AND \"violencia\" OR \"crimen\" OR \"inseguridad\" OR \"delincuencia\" OR \"agresion\" OR \"delito\" OR \"crim\" OR \"inseguretat\" OR \"delinqüència\" OR \"agressió\" OR \"delicte\") since:2019-12-13 until:2019-12-14', '\"Barcelona\" AND \"violencia\" OR \"crimen\" OR \"inseguridad\" OR \"delincuencia\" OR \"agresion\" OR \"delito\" OR \"crim\" OR \"inseguretat\" OR \"delinqüència\" OR \"agressió\" OR \"delicte\") since:2019-12-14 until:2019-12-15', '\"Barcelona\" AND \"violencia\" OR \"crimen\" OR \"inseguridad\" OR \"delincuencia\" OR \"agresion\" OR \"delito\" OR \"crim\" OR \"inseguretat\" OR \"delinqüència\" OR \"agressió\" OR \"delicte\") since:2019-12-15 until:2019-12-16', '\"Barcelona\" AND \"violencia\" OR \"crimen\" OR \"inseguridad\" OR \"delincuencia\" OR \"agresion\" OR \"delito\" OR \"crim\" OR \"inseguretat\" OR \"delinqüència\" OR \"agressió\" OR \"delicte\") since:2019-12-16 until:2019-12-17', '\"Barcelona\" AND \"violencia\" OR \"crimen\" OR \"inseguridad\" OR \"delincuencia\" OR \"agresion\" OR \"delito\" OR \"crim\" OR \"inseguretat\" OR \"delinqüència\" OR \"agressió\" OR \"delicte\") since:2019-12-17 until:2019-12-18', '\"Barcelona\" AND \"violencia\" OR \"crimen\" OR \"inseguridad\" OR \"delincuencia\" OR \"agresion\" OR \"delito\" OR \"crim\" OR \"inseguretat\" OR \"delinqüència\" OR \"agressió\" OR \"delicte\") since:2019-12-18 until:2019-12-19', '\"Barcelona\" AND \"violencia\" OR \"crimen\" OR \"inseguridad\" OR \"delincuencia\" OR \"agresion\" OR \"delito\" OR \"crim\" OR \"inseguretat\" OR \"delinqüència\" OR \"agressió\" OR \"delicte\") since:2019-12-19 until:2019-12-20']\n",
      "INFO: Got 50 tweets (50 new).\n",
      "INFO: Got 109 tweets (59 new).\n",
      "INFO: Got 177 tweets (68 new).\n",
      "INFO: Got 238 tweets (61 new).\n",
      "INFO: Got 326 tweets (88 new).\n",
      "INFO: Got 458 tweets (132 new).\n",
      "INFO: Got 604 tweets (146 new).\n"
     ]
    },
    {
     "name": "stdout",
     "output_type": "stream",
     "text": [
      "604  were retrieved for 2019-12-13 to 2019-12-20\n"
     ]
    },
    {
     "name": "stderr",
     "output_type": "stream",
     "text": [
      "INFO: queries: ['\"Barcelona\" AND \"violencia\" OR \"crimen\" OR \"inseguridad\" OR \"delincuencia\" OR \"agresion\" OR \"delito\" OR \"crim\" OR \"inseguretat\" OR \"delinqüència\" OR \"agressió\" OR \"delicte\") since:2019-12-06 until:2019-12-07', '\"Barcelona\" AND \"violencia\" OR \"crimen\" OR \"inseguridad\" OR \"delincuencia\" OR \"agresion\" OR \"delito\" OR \"crim\" OR \"inseguretat\" OR \"delinqüència\" OR \"agressió\" OR \"delicte\") since:2019-12-07 until:2019-12-08', '\"Barcelona\" AND \"violencia\" OR \"crimen\" OR \"inseguridad\" OR \"delincuencia\" OR \"agresion\" OR \"delito\" OR \"crim\" OR \"inseguretat\" OR \"delinqüència\" OR \"agressió\" OR \"delicte\") since:2019-12-08 until:2019-12-09', '\"Barcelona\" AND \"violencia\" OR \"crimen\" OR \"inseguridad\" OR \"delincuencia\" OR \"agresion\" OR \"delito\" OR \"crim\" OR \"inseguretat\" OR \"delinqüència\" OR \"agressió\" OR \"delicte\") since:2019-12-09 until:2019-12-10', '\"Barcelona\" AND \"violencia\" OR \"crimen\" OR \"inseguridad\" OR \"delincuencia\" OR \"agresion\" OR \"delito\" OR \"crim\" OR \"inseguretat\" OR \"delinqüència\" OR \"agressió\" OR \"delicte\") since:2019-12-10 until:2019-12-11', '\"Barcelona\" AND \"violencia\" OR \"crimen\" OR \"inseguridad\" OR \"delincuencia\" OR \"agresion\" OR \"delito\" OR \"crim\" OR \"inseguretat\" OR \"delinqüència\" OR \"agressió\" OR \"delicte\") since:2019-12-11 until:2019-12-12', '\"Barcelona\" AND \"violencia\" OR \"crimen\" OR \"inseguridad\" OR \"delincuencia\" OR \"agresion\" OR \"delito\" OR \"crim\" OR \"inseguretat\" OR \"delinqüència\" OR \"agressió\" OR \"delicte\") since:2019-12-12 until:2019-12-13']\n",
      "INFO: Got 64 tweets (64 new).\n",
      "INFO: Got 136 tweets (72 new).\n",
      "INFO: Got 199 tweets (63 new).\n",
      "INFO: Got 275 tweets (76 new).\n",
      "INFO: Got 355 tweets (80 new).\n",
      "INFO: Got 454 tweets (99 new).\n",
      "INFO: Got 630 tweets (176 new).\n"
     ]
    },
    {
     "name": "stdout",
     "output_type": "stream",
     "text": [
      "630  were retrieved for 2019-12-06 to 2019-12-13\n"
     ]
    },
    {
     "name": "stderr",
     "output_type": "stream",
     "text": [
      "INFO: queries: ['\"Barcelona\" AND \"violencia\" OR \"crimen\" OR \"inseguridad\" OR \"delincuencia\" OR \"agresion\" OR \"delito\" OR \"crim\" OR \"inseguretat\" OR \"delinqüència\" OR \"agressió\" OR \"delicte\") since:2019-11-29 until:2019-11-30', '\"Barcelona\" AND \"violencia\" OR \"crimen\" OR \"inseguridad\" OR \"delincuencia\" OR \"agresion\" OR \"delito\" OR \"crim\" OR \"inseguretat\" OR \"delinqüència\" OR \"agressió\" OR \"delicte\") since:2019-11-30 until:2019-12-01', '\"Barcelona\" AND \"violencia\" OR \"crimen\" OR \"inseguridad\" OR \"delincuencia\" OR \"agresion\" OR \"delito\" OR \"crim\" OR \"inseguretat\" OR \"delinqüència\" OR \"agressió\" OR \"delicte\") since:2019-12-01 until:2019-12-02', '\"Barcelona\" AND \"violencia\" OR \"crimen\" OR \"inseguridad\" OR \"delincuencia\" OR \"agresion\" OR \"delito\" OR \"crim\" OR \"inseguretat\" OR \"delinqüència\" OR \"agressió\" OR \"delicte\") since:2019-12-02 until:2019-12-03', '\"Barcelona\" AND \"violencia\" OR \"crimen\" OR \"inseguridad\" OR \"delincuencia\" OR \"agresion\" OR \"delito\" OR \"crim\" OR \"inseguretat\" OR \"delinqüència\" OR \"agressió\" OR \"delicte\") since:2019-12-03 until:2019-12-04', '\"Barcelona\" AND \"violencia\" OR \"crimen\" OR \"inseguridad\" OR \"delincuencia\" OR \"agresion\" OR \"delito\" OR \"crim\" OR \"inseguretat\" OR \"delinqüència\" OR \"agressió\" OR \"delicte\") since:2019-12-04 until:2019-12-05', '\"Barcelona\" AND \"violencia\" OR \"crimen\" OR \"inseguridad\" OR \"delincuencia\" OR \"agresion\" OR \"delito\" OR \"crim\" OR \"inseguretat\" OR \"delinqüència\" OR \"agressió\" OR \"delicte\") since:2019-12-05 until:2019-12-06']\n",
      "INFO: Got 71 tweets (71 new).\n",
      "INFO: Got 128 tweets (57 new).\n",
      "INFO: Got 187 tweets (59 new).\n",
      "INFO: Got 276 tweets (89 new).\n",
      "INFO: Got 353 tweets (77 new).\n",
      "INFO: Got 443 tweets (90 new).\n",
      "INFO: Got 520 tweets (77 new).\n"
     ]
    },
    {
     "name": "stdout",
     "output_type": "stream",
     "text": [
      "520  were retrieved for 2019-11-29 to 2019-12-06\n"
     ]
    },
    {
     "name": "stderr",
     "output_type": "stream",
     "text": [
      "INFO: queries: ['\"Barcelona\" AND \"violencia\" OR \"crimen\" OR \"inseguridad\" OR \"delincuencia\" OR \"agresion\" OR \"delito\" OR \"crim\" OR \"inseguretat\" OR \"delinqüència\" OR \"agressió\" OR \"delicte\") since:2019-11-22 until:2019-11-23', '\"Barcelona\" AND \"violencia\" OR \"crimen\" OR \"inseguridad\" OR \"delincuencia\" OR \"agresion\" OR \"delito\" OR \"crim\" OR \"inseguretat\" OR \"delinqüència\" OR \"agressió\" OR \"delicte\") since:2019-11-23 until:2019-11-24', '\"Barcelona\" AND \"violencia\" OR \"crimen\" OR \"inseguridad\" OR \"delincuencia\" OR \"agresion\" OR \"delito\" OR \"crim\" OR \"inseguretat\" OR \"delinqüència\" OR \"agressió\" OR \"delicte\") since:2019-11-24 until:2019-11-25', '\"Barcelona\" AND \"violencia\" OR \"crimen\" OR \"inseguridad\" OR \"delincuencia\" OR \"agresion\" OR \"delito\" OR \"crim\" OR \"inseguretat\" OR \"delinqüència\" OR \"agressió\" OR \"delicte\") since:2019-11-25 until:2019-11-26', '\"Barcelona\" AND \"violencia\" OR \"crimen\" OR \"inseguridad\" OR \"delincuencia\" OR \"agresion\" OR \"delito\" OR \"crim\" OR \"inseguretat\" OR \"delinqüència\" OR \"agressió\" OR \"delicte\") since:2019-11-26 until:2019-11-27', '\"Barcelona\" AND \"violencia\" OR \"crimen\" OR \"inseguridad\" OR \"delincuencia\" OR \"agresion\" OR \"delito\" OR \"crim\" OR \"inseguretat\" OR \"delinqüència\" OR \"agressió\" OR \"delicte\") since:2019-11-27 until:2019-11-28', '\"Barcelona\" AND \"violencia\" OR \"crimen\" OR \"inseguridad\" OR \"delincuencia\" OR \"agresion\" OR \"delito\" OR \"crim\" OR \"inseguretat\" OR \"delinqüència\" OR \"agressió\" OR \"delicte\") since:2019-11-28 until:2019-11-29']\n",
      "INFO: Got 68 tweets (68 new).\n",
      "INFO: Got 139 tweets (71 new).\n",
      "INFO: Got 225 tweets (86 new).\n",
      "INFO: Got 314 tweets (89 new).\n",
      "INFO: Got 454 tweets (140 new).\n",
      "INFO: Got 612 tweets (158 new).\n",
      "INFO: Got 865 tweets (253 new).\n"
     ]
    },
    {
     "name": "stdout",
     "output_type": "stream",
     "text": [
      "865  were retrieved for 2019-11-22 to 2019-11-29\n"
     ]
    },
    {
     "name": "stderr",
     "output_type": "stream",
     "text": [
      "INFO: queries: ['\"Barcelona\" AND \"violencia\" OR \"crimen\" OR \"inseguridad\" OR \"delincuencia\" OR \"agresion\" OR \"delito\" OR \"crim\" OR \"inseguretat\" OR \"delinqüència\" OR \"agressió\" OR \"delicte\") since:2019-11-15 until:2019-11-16', '\"Barcelona\" AND \"violencia\" OR \"crimen\" OR \"inseguridad\" OR \"delincuencia\" OR \"agresion\" OR \"delito\" OR \"crim\" OR \"inseguretat\" OR \"delinqüència\" OR \"agressió\" OR \"delicte\") since:2019-11-16 until:2019-11-17', '\"Barcelona\" AND \"violencia\" OR \"crimen\" OR \"inseguridad\" OR \"delincuencia\" OR \"agresion\" OR \"delito\" OR \"crim\" OR \"inseguretat\" OR \"delinqüència\" OR \"agressió\" OR \"delicte\") since:2019-11-17 until:2019-11-18', '\"Barcelona\" AND \"violencia\" OR \"crimen\" OR \"inseguridad\" OR \"delincuencia\" OR \"agresion\" OR \"delito\" OR \"crim\" OR \"inseguretat\" OR \"delinqüència\" OR \"agressió\" OR \"delicte\") since:2019-11-18 until:2019-11-19', '\"Barcelona\" AND \"violencia\" OR \"crimen\" OR \"inseguridad\" OR \"delincuencia\" OR \"agresion\" OR \"delito\" OR \"crim\" OR \"inseguretat\" OR \"delinqüència\" OR \"agressió\" OR \"delicte\") since:2019-11-19 until:2019-11-20', '\"Barcelona\" AND \"violencia\" OR \"crimen\" OR \"inseguridad\" OR \"delincuencia\" OR \"agresion\" OR \"delito\" OR \"crim\" OR \"inseguretat\" OR \"delinqüència\" OR \"agressió\" OR \"delicte\") since:2019-11-20 until:2019-11-21', '\"Barcelona\" AND \"violencia\" OR \"crimen\" OR \"inseguridad\" OR \"delincuencia\" OR \"agresion\" OR \"delito\" OR \"crim\" OR \"inseguretat\" OR \"delinqüència\" OR \"agressió\" OR \"delicte\") since:2019-11-21 until:2019-11-22']\n",
      "INFO: Got 66 tweets (66 new).\n",
      "INFO: Got 139 tweets (73 new).\n",
      "INFO: Got 227 tweets (88 new).\n",
      "INFO: Got 314 tweets (87 new).\n",
      "INFO: Got 424 tweets (110 new).\n",
      "INFO: Got 546 tweets (122 new).\n",
      "INFO: Got 680 tweets (134 new).\n"
     ]
    },
    {
     "name": "stdout",
     "output_type": "stream",
     "text": [
      "680  were retrieved for 2019-11-15 to 2019-11-22\n"
     ]
    },
    {
     "name": "stderr",
     "output_type": "stream",
     "text": [
      "INFO: queries: ['\"Barcelona\" AND \"violencia\" OR \"crimen\" OR \"inseguridad\" OR \"delincuencia\" OR \"agresion\" OR \"delito\" OR \"crim\" OR \"inseguretat\" OR \"delinqüència\" OR \"agressió\" OR \"delicte\") since:2019-11-08 until:2019-11-09', '\"Barcelona\" AND \"violencia\" OR \"crimen\" OR \"inseguridad\" OR \"delincuencia\" OR \"agresion\" OR \"delito\" OR \"crim\" OR \"inseguretat\" OR \"delinqüència\" OR \"agressió\" OR \"delicte\") since:2019-11-09 until:2019-11-10', '\"Barcelona\" AND \"violencia\" OR \"crimen\" OR \"inseguridad\" OR \"delincuencia\" OR \"agresion\" OR \"delito\" OR \"crim\" OR \"inseguretat\" OR \"delinqüència\" OR \"agressió\" OR \"delicte\") since:2019-11-10 until:2019-11-11', '\"Barcelona\" AND \"violencia\" OR \"crimen\" OR \"inseguridad\" OR \"delincuencia\" OR \"agresion\" OR \"delito\" OR \"crim\" OR \"inseguretat\" OR \"delinqüència\" OR \"agressió\" OR \"delicte\") since:2019-11-11 until:2019-11-12', '\"Barcelona\" AND \"violencia\" OR \"crimen\" OR \"inseguridad\" OR \"delincuencia\" OR \"agresion\" OR \"delito\" OR \"crim\" OR \"inseguretat\" OR \"delinqüència\" OR \"agressió\" OR \"delicte\") since:2019-11-12 until:2019-11-13', '\"Barcelona\" AND \"violencia\" OR \"crimen\" OR \"inseguridad\" OR \"delincuencia\" OR \"agresion\" OR \"delito\" OR \"crim\" OR \"inseguretat\" OR \"delinqüència\" OR \"agressió\" OR \"delicte\") since:2019-11-13 until:2019-11-14', '\"Barcelona\" AND \"violencia\" OR \"crimen\" OR \"inseguridad\" OR \"delincuencia\" OR \"agresion\" OR \"delito\" OR \"crim\" OR \"inseguretat\" OR \"delinqüència\" OR \"agressió\" OR \"delicte\") since:2019-11-14 until:2019-11-15']\n",
      "INFO: Got 70 tweets (70 new).\n",
      "INFO: Got 152 tweets (82 new).\n",
      "INFO: Got 228 tweets (76 new).\n",
      "INFO: Got 304 tweets (76 new).\n",
      "INFO: Got 412 tweets (108 new).\n",
      "INFO: Got 501 tweets (89 new).\n",
      "INFO: Got 593 tweets (92 new).\n"
     ]
    },
    {
     "name": "stdout",
     "output_type": "stream",
     "text": [
      "593  were retrieved for 2019-11-08 to 2019-11-15\n"
     ]
    },
    {
     "name": "stderr",
     "output_type": "stream",
     "text": [
      "INFO: queries: ['\"Barcelona\" AND \"violencia\" OR \"crimen\" OR \"inseguridad\" OR \"delincuencia\" OR \"agresion\" OR \"delito\" OR \"crim\" OR \"inseguretat\" OR \"delinqüència\" OR \"agressió\" OR \"delicte\") since:2019-11-01 until:2019-11-02', '\"Barcelona\" AND \"violencia\" OR \"crimen\" OR \"inseguridad\" OR \"delincuencia\" OR \"agresion\" OR \"delito\" OR \"crim\" OR \"inseguretat\" OR \"delinqüència\" OR \"agressió\" OR \"delicte\") since:2019-11-02 until:2019-11-03', '\"Barcelona\" AND \"violencia\" OR \"crimen\" OR \"inseguridad\" OR \"delincuencia\" OR \"agresion\" OR \"delito\" OR \"crim\" OR \"inseguretat\" OR \"delinqüència\" OR \"agressió\" OR \"delicte\") since:2019-11-03 until:2019-11-04', '\"Barcelona\" AND \"violencia\" OR \"crimen\" OR \"inseguridad\" OR \"delincuencia\" OR \"agresion\" OR \"delito\" OR \"crim\" OR \"inseguretat\" OR \"delinqüència\" OR \"agressió\" OR \"delicte\") since:2019-11-04 until:2019-11-05', '\"Barcelona\" AND \"violencia\" OR \"crimen\" OR \"inseguridad\" OR \"delincuencia\" OR \"agresion\" OR \"delito\" OR \"crim\" OR \"inseguretat\" OR \"delinqüència\" OR \"agressió\" OR \"delicte\") since:2019-11-05 until:2019-11-06', '\"Barcelona\" AND \"violencia\" OR \"crimen\" OR \"inseguridad\" OR \"delincuencia\" OR \"agresion\" OR \"delito\" OR \"crim\" OR \"inseguretat\" OR \"delinqüència\" OR \"agressió\" OR \"delicte\") since:2019-11-06 until:2019-11-07', '\"Barcelona\" AND \"violencia\" OR \"crimen\" OR \"inseguridad\" OR \"delincuencia\" OR \"agresion\" OR \"delito\" OR \"crim\" OR \"inseguretat\" OR \"delinqüència\" OR \"agressió\" OR \"delicte\") since:2019-11-07 until:2019-11-08']\n",
      "INFO: Got 101 tweets (101 new).\n",
      "INFO: Got 212 tweets (111 new).\n",
      "INFO: Got 363 tweets (151 new).\n",
      "INFO: Got 515 tweets (152 new).\n",
      "INFO: Got 715 tweets (200 new).\n",
      "INFO: Got 885 tweets (170 new).\n",
      "INFO: Got 1226 tweets (341 new).\n"
     ]
    },
    {
     "name": "stdout",
     "output_type": "stream",
     "text": [
      "1226  were retrieved for 2019-11-01 to 2019-11-08\n"
     ]
    },
    {
     "name": "stderr",
     "output_type": "stream",
     "text": [
      "INFO: queries: ['\"Barcelona\" AND \"violencia\" OR \"crimen\" OR \"inseguridad\" OR \"delincuencia\" OR \"agresion\" OR \"delito\" OR \"crim\" OR \"inseguretat\" OR \"delinqüència\" OR \"agressió\" OR \"delicte\") since:2019-10-25 until:2019-10-26', '\"Barcelona\" AND \"violencia\" OR \"crimen\" OR \"inseguridad\" OR \"delincuencia\" OR \"agresion\" OR \"delito\" OR \"crim\" OR \"inseguretat\" OR \"delinqüència\" OR \"agressió\" OR \"delicte\") since:2019-10-26 until:2019-10-27', '\"Barcelona\" AND \"violencia\" OR \"crimen\" OR \"inseguridad\" OR \"delincuencia\" OR \"agresion\" OR \"delito\" OR \"crim\" OR \"inseguretat\" OR \"delinqüència\" OR \"agressió\" OR \"delicte\") since:2019-10-27 until:2019-10-28', '\"Barcelona\" AND \"violencia\" OR \"crimen\" OR \"inseguridad\" OR \"delincuencia\" OR \"agresion\" OR \"delito\" OR \"crim\" OR \"inseguretat\" OR \"delinqüència\" OR \"agressió\" OR \"delicte\") since:2019-10-28 until:2019-10-29', '\"Barcelona\" AND \"violencia\" OR \"crimen\" OR \"inseguridad\" OR \"delincuencia\" OR \"agresion\" OR \"delito\" OR \"crim\" OR \"inseguretat\" OR \"delinqüència\" OR \"agressió\" OR \"delicte\") since:2019-10-29 until:2019-10-30', '\"Barcelona\" AND \"violencia\" OR \"crimen\" OR \"inseguridad\" OR \"delincuencia\" OR \"agresion\" OR \"delito\" OR \"crim\" OR \"inseguretat\" OR \"delinqüència\" OR \"agressió\" OR \"delicte\") since:2019-10-30 until:2019-10-31', '\"Barcelona\" AND \"violencia\" OR \"crimen\" OR \"inseguridad\" OR \"delincuencia\" OR \"agresion\" OR \"delito\" OR \"crim\" OR \"inseguretat\" OR \"delinqüència\" OR \"agressió\" OR \"delicte\") since:2019-10-31 until:2019-11-01']\n",
      "INFO: Got 135 tweets (135 new).\n",
      "INFO: Got 284 tweets (149 new).\n",
      "INFO: Got 449 tweets (165 new).\n",
      "INFO: Got 753 tweets (304 new).\n",
      "INFO: Got 1058 tweets (305 new).\n",
      "INFO: Got 1399 tweets (341 new).\n",
      "INFO: Got 2028 tweets (629 new).\n"
     ]
    },
    {
     "name": "stdout",
     "output_type": "stream",
     "text": [
      "2028  were retrieved for 2019-10-25 to 2019-11-01\n"
     ]
    },
    {
     "name": "stderr",
     "output_type": "stream",
     "text": [
      "INFO: queries: ['\"Barcelona\" AND \"violencia\" OR \"crimen\" OR \"inseguridad\" OR \"delincuencia\" OR \"agresion\" OR \"delito\" OR \"crim\" OR \"inseguretat\" OR \"delinqüència\" OR \"agressió\" OR \"delicte\") since:2019-10-18 until:2019-10-19', '\"Barcelona\" AND \"violencia\" OR \"crimen\" OR \"inseguridad\" OR \"delincuencia\" OR \"agresion\" OR \"delito\" OR \"crim\" OR \"inseguretat\" OR \"delinqüència\" OR \"agressió\" OR \"delicte\") since:2019-10-19 until:2019-10-20', '\"Barcelona\" AND \"violencia\" OR \"crimen\" OR \"inseguridad\" OR \"delincuencia\" OR \"agresion\" OR \"delito\" OR \"crim\" OR \"inseguretat\" OR \"delinqüència\" OR \"agressió\" OR \"delicte\") since:2019-10-20 until:2019-10-21', '\"Barcelona\" AND \"violencia\" OR \"crimen\" OR \"inseguridad\" OR \"delincuencia\" OR \"agresion\" OR \"delito\" OR \"crim\" OR \"inseguretat\" OR \"delinqüència\" OR \"agressió\" OR \"delicte\") since:2019-10-21 until:2019-10-22', '\"Barcelona\" AND \"violencia\" OR \"crimen\" OR \"inseguridad\" OR \"delincuencia\" OR \"agresion\" OR \"delito\" OR \"crim\" OR \"inseguretat\" OR \"delinqüència\" OR \"agressió\" OR \"delicte\") since:2019-10-22 until:2019-10-23', '\"Barcelona\" AND \"violencia\" OR \"crimen\" OR \"inseguridad\" OR \"delincuencia\" OR \"agresion\" OR \"delito\" OR \"crim\" OR \"inseguretat\" OR \"delinqüència\" OR \"agressió\" OR \"delicte\") since:2019-10-23 until:2019-10-24', '\"Barcelona\" AND \"violencia\" OR \"crimen\" OR \"inseguridad\" OR \"delincuencia\" OR \"agresion\" OR \"delito\" OR \"crim\" OR \"inseguretat\" OR \"delinqüència\" OR \"agressió\" OR \"delicte\") since:2019-10-24 until:2019-10-25']\n",
      "INFO: Got 147 tweets (147 new).\n",
      "INFO: Got 414 tweets (267 new).\n",
      "INFO: Got 798 tweets (384 new).\n",
      "INFO: Got 1665 tweets (867 new).\n",
      "INFO: Got 2728 tweets (1063 new).\n",
      "INFO: Got 4931 tweets (2203 new).\n",
      "INFO: Got 7849 tweets (2918 new).\n"
     ]
    },
    {
     "name": "stdout",
     "output_type": "stream",
     "text": [
      "7849  were retrieved for 2019-10-18 to 2019-10-25\n"
     ]
    },
    {
     "name": "stderr",
     "output_type": "stream",
     "text": [
      "INFO: queries: ['\"Barcelona\" AND \"violencia\" OR \"crimen\" OR \"inseguridad\" OR \"delincuencia\" OR \"agresion\" OR \"delito\" OR \"crim\" OR \"inseguretat\" OR \"delinqüència\" OR \"agressió\" OR \"delicte\") since:2019-10-11 until:2019-10-12', '\"Barcelona\" AND \"violencia\" OR \"crimen\" OR \"inseguridad\" OR \"delincuencia\" OR \"agresion\" OR \"delito\" OR \"crim\" OR \"inseguretat\" OR \"delinqüència\" OR \"agressió\" OR \"delicte\") since:2019-10-12 until:2019-10-13', '\"Barcelona\" AND \"violencia\" OR \"crimen\" OR \"inseguridad\" OR \"delincuencia\" OR \"agresion\" OR \"delito\" OR \"crim\" OR \"inseguretat\" OR \"delinqüència\" OR \"agressió\" OR \"delicte\") since:2019-10-13 until:2019-10-14', '\"Barcelona\" AND \"violencia\" OR \"crimen\" OR \"inseguridad\" OR \"delincuencia\" OR \"agresion\" OR \"delito\" OR \"crim\" OR \"inseguretat\" OR \"delinqüència\" OR \"agressió\" OR \"delicte\") since:2019-10-14 until:2019-10-15', '\"Barcelona\" AND \"violencia\" OR \"crimen\" OR \"inseguridad\" OR \"delincuencia\" OR \"agresion\" OR \"delito\" OR \"crim\" OR \"inseguretat\" OR \"delinqüència\" OR \"agressió\" OR \"delicte\") since:2019-10-15 until:2019-10-16', '\"Barcelona\" AND \"violencia\" OR \"crimen\" OR \"inseguridad\" OR \"delincuencia\" OR \"agresion\" OR \"delito\" OR \"crim\" OR \"inseguretat\" OR \"delinqüència\" OR \"agressió\" OR \"delicte\") since:2019-10-16 until:2019-10-17', '\"Barcelona\" AND \"violencia\" OR \"crimen\" OR \"inseguridad\" OR \"delincuencia\" OR \"agresion\" OR \"delito\" OR \"crim\" OR \"inseguretat\" OR \"delinqüència\" OR \"agressió\" OR \"delicte\") since:2019-10-17 until:2019-10-18']\n",
      "INFO: Got 60 tweets (60 new).\n",
      "INFO: Got 123 tweets (63 new).\n",
      "INFO: Got 213 tweets (90 new).\n",
      "INFO: Got 570 tweets (357 new).\n",
      "INFO: Got 1282 tweets (712 new).\n",
      "INFO: Got 2966 tweets (1684 new).\n",
      "INFO: Got 4843 tweets (1877 new).\n"
     ]
    },
    {
     "name": "stdout",
     "output_type": "stream",
     "text": [
      "4843  were retrieved for 2019-10-11 to 2019-10-18\n"
     ]
    },
    {
     "name": "stderr",
     "output_type": "stream",
     "text": [
      "INFO: queries: ['\"Barcelona\" AND \"violencia\" OR \"crimen\" OR \"inseguridad\" OR \"delincuencia\" OR \"agresion\" OR \"delito\" OR \"crim\" OR \"inseguretat\" OR \"delinqüència\" OR \"agressió\" OR \"delicte\") since:2019-10-04 until:2019-10-05', '\"Barcelona\" AND \"violencia\" OR \"crimen\" OR \"inseguridad\" OR \"delincuencia\" OR \"agresion\" OR \"delito\" OR \"crim\" OR \"inseguretat\" OR \"delinqüència\" OR \"agressió\" OR \"delicte\") since:2019-10-05 until:2019-10-06', '\"Barcelona\" AND \"violencia\" OR \"crimen\" OR \"inseguridad\" OR \"delincuencia\" OR \"agresion\" OR \"delito\" OR \"crim\" OR \"inseguretat\" OR \"delinqüència\" OR \"agressió\" OR \"delicte\") since:2019-10-06 until:2019-10-07', '\"Barcelona\" AND \"violencia\" OR \"crimen\" OR \"inseguridad\" OR \"delincuencia\" OR \"agresion\" OR \"delito\" OR \"crim\" OR \"inseguretat\" OR \"delinqüència\" OR \"agressió\" OR \"delicte\") since:2019-10-07 until:2019-10-08', '\"Barcelona\" AND \"violencia\" OR \"crimen\" OR \"inseguridad\" OR \"delincuencia\" OR \"agresion\" OR \"delito\" OR \"crim\" OR \"inseguretat\" OR \"delinqüència\" OR \"agressió\" OR \"delicte\") since:2019-10-08 until:2019-10-09', '\"Barcelona\" AND \"violencia\" OR \"crimen\" OR \"inseguridad\" OR \"delincuencia\" OR \"agresion\" OR \"delito\" OR \"crim\" OR \"inseguretat\" OR \"delinqüència\" OR \"agressió\" OR \"delicte\") since:2019-10-09 until:2019-10-10', '\"Barcelona\" AND \"violencia\" OR \"crimen\" OR \"inseguridad\" OR \"delincuencia\" OR \"agresion\" OR \"delito\" OR \"crim\" OR \"inseguretat\" OR \"delinqüència\" OR \"agressió\" OR \"delicte\") since:2019-10-10 until:2019-10-11']\n",
      "INFO: Got 78 tweets (78 new).\n",
      "INFO: Got 163 tweets (85 new).\n",
      "INFO: Got 266 tweets (103 new).\n",
      "INFO: Got 366 tweets (100 new).\n",
      "INFO: Got 470 tweets (104 new).\n",
      "INFO: Got 612 tweets (142 new).\n",
      "INFO: Got 739 tweets (127 new).\n"
     ]
    },
    {
     "name": "stdout",
     "output_type": "stream",
     "text": [
      "739  were retrieved for 2019-10-04 to 2019-10-11\n"
     ]
    },
    {
     "name": "stderr",
     "output_type": "stream",
     "text": [
      "INFO: queries: ['\"Barcelona\" AND \"violencia\" OR \"crimen\" OR \"inseguridad\" OR \"delincuencia\" OR \"agresion\" OR \"delito\" OR \"crim\" OR \"inseguretat\" OR \"delinqüència\" OR \"agressió\" OR \"delicte\") since:2019-09-27 until:2019-09-28', '\"Barcelona\" AND \"violencia\" OR \"crimen\" OR \"inseguridad\" OR \"delincuencia\" OR \"agresion\" OR \"delito\" OR \"crim\" OR \"inseguretat\" OR \"delinqüència\" OR \"agressió\" OR \"delicte\") since:2019-09-28 until:2019-09-29', '\"Barcelona\" AND \"violencia\" OR \"crimen\" OR \"inseguridad\" OR \"delincuencia\" OR \"agresion\" OR \"delito\" OR \"crim\" OR \"inseguretat\" OR \"delinqüència\" OR \"agressió\" OR \"delicte\") since:2019-09-29 until:2019-09-30', '\"Barcelona\" AND \"violencia\" OR \"crimen\" OR \"inseguridad\" OR \"delincuencia\" OR \"agresion\" OR \"delito\" OR \"crim\" OR \"inseguretat\" OR \"delinqüència\" OR \"agressió\" OR \"delicte\") since:2019-09-30 until:2019-10-01', '\"Barcelona\" AND \"violencia\" OR \"crimen\" OR \"inseguridad\" OR \"delincuencia\" OR \"agresion\" OR \"delito\" OR \"crim\" OR \"inseguretat\" OR \"delinqüència\" OR \"agressió\" OR \"delicte\") since:2019-10-01 until:2019-10-02', '\"Barcelona\" AND \"violencia\" OR \"crimen\" OR \"inseguridad\" OR \"delincuencia\" OR \"agresion\" OR \"delito\" OR \"crim\" OR \"inseguretat\" OR \"delinqüència\" OR \"agressió\" OR \"delicte\") since:2019-10-02 until:2019-10-03', '\"Barcelona\" AND \"violencia\" OR \"crimen\" OR \"inseguridad\" OR \"delincuencia\" OR \"agresion\" OR \"delito\" OR \"crim\" OR \"inseguretat\" OR \"delinqüència\" OR \"agressió\" OR \"delicte\") since:2019-10-03 until:2019-10-04']\n",
      "INFO: Got 82 tweets (82 new).\n",
      "INFO: Got 161 tweets (79 new).\n",
      "INFO: Got 259 tweets (98 new).\n",
      "INFO: Got 380 tweets (121 new).\n",
      "INFO: Got 497 tweets (117 new).\n",
      "INFO: Got 653 tweets (156 new).\n",
      "INFO: Got 833 tweets (180 new).\n"
     ]
    },
    {
     "name": "stdout",
     "output_type": "stream",
     "text": [
      "833  were retrieved for 2019-09-27 to 2019-10-04\n"
     ]
    },
    {
     "name": "stderr",
     "output_type": "stream",
     "text": [
      "INFO: queries: ['\"Barcelona\" AND \"violencia\" OR \"crimen\" OR \"inseguridad\" OR \"delincuencia\" OR \"agresion\" OR \"delito\" OR \"crim\" OR \"inseguretat\" OR \"delinqüència\" OR \"agressió\" OR \"delicte\") since:2019-09-20 until:2019-09-21', '\"Barcelona\" AND \"violencia\" OR \"crimen\" OR \"inseguridad\" OR \"delincuencia\" OR \"agresion\" OR \"delito\" OR \"crim\" OR \"inseguretat\" OR \"delinqüència\" OR \"agressió\" OR \"delicte\") since:2019-09-21 until:2019-09-22', '\"Barcelona\" AND \"violencia\" OR \"crimen\" OR \"inseguridad\" OR \"delincuencia\" OR \"agresion\" OR \"delito\" OR \"crim\" OR \"inseguretat\" OR \"delinqüència\" OR \"agressió\" OR \"delicte\") since:2019-09-22 until:2019-09-23', '\"Barcelona\" AND \"violencia\" OR \"crimen\" OR \"inseguridad\" OR \"delincuencia\" OR \"agresion\" OR \"delito\" OR \"crim\" OR \"inseguretat\" OR \"delinqüència\" OR \"agressió\" OR \"delicte\") since:2019-09-23 until:2019-09-24', '\"Barcelona\" AND \"violencia\" OR \"crimen\" OR \"inseguridad\" OR \"delincuencia\" OR \"agresion\" OR \"delito\" OR \"crim\" OR \"inseguretat\" OR \"delinqüència\" OR \"agressió\" OR \"delicte\") since:2019-09-24 until:2019-09-25', '\"Barcelona\" AND \"violencia\" OR \"crimen\" OR \"inseguridad\" OR \"delincuencia\" OR \"agresion\" OR \"delito\" OR \"crim\" OR \"inseguretat\" OR \"delinqüència\" OR \"agressió\" OR \"delicte\") since:2019-09-25 until:2019-09-26', '\"Barcelona\" AND \"violencia\" OR \"crimen\" OR \"inseguridad\" OR \"delincuencia\" OR \"agresion\" OR \"delito\" OR \"crim\" OR \"inseguretat\" OR \"delinqüència\" OR \"agressió\" OR \"delicte\") since:2019-09-26 until:2019-09-27']\n",
      "INFO: Got 85 tweets (85 new).\n",
      "INFO: Got 190 tweets (105 new).\n",
      "INFO: Got 301 tweets (111 new).\n",
      "INFO: Got 461 tweets (160 new).\n",
      "INFO: Got 647 tweets (186 new).\n",
      "INFO: Got 815 tweets (168 new).\n",
      "INFO: Got 1031 tweets (216 new).\n"
     ]
    },
    {
     "name": "stdout",
     "output_type": "stream",
     "text": [
      "1031  were retrieved for 2019-09-20 to 2019-09-27\n"
     ]
    },
    {
     "name": "stderr",
     "output_type": "stream",
     "text": [
      "INFO: queries: ['\"Barcelona\" AND \"violencia\" OR \"crimen\" OR \"inseguridad\" OR \"delincuencia\" OR \"agresion\" OR \"delito\" OR \"crim\" OR \"inseguretat\" OR \"delinqüència\" OR \"agressió\" OR \"delicte\") since:2019-09-13 until:2019-09-14', '\"Barcelona\" AND \"violencia\" OR \"crimen\" OR \"inseguridad\" OR \"delincuencia\" OR \"agresion\" OR \"delito\" OR \"crim\" OR \"inseguretat\" OR \"delinqüència\" OR \"agressió\" OR \"delicte\") since:2019-09-14 until:2019-09-15', '\"Barcelona\" AND \"violencia\" OR \"crimen\" OR \"inseguridad\" OR \"delincuencia\" OR \"agresion\" OR \"delito\" OR \"crim\" OR \"inseguretat\" OR \"delinqüència\" OR \"agressió\" OR \"delicte\") since:2019-09-15 until:2019-09-16', '\"Barcelona\" AND \"violencia\" OR \"crimen\" OR \"inseguridad\" OR \"delincuencia\" OR \"agresion\" OR \"delito\" OR \"crim\" OR \"inseguretat\" OR \"delinqüència\" OR \"agressió\" OR \"delicte\") since:2019-09-16 until:2019-09-17', '\"Barcelona\" AND \"violencia\" OR \"crimen\" OR \"inseguridad\" OR \"delincuencia\" OR \"agresion\" OR \"delito\" OR \"crim\" OR \"inseguretat\" OR \"delinqüència\" OR \"agressió\" OR \"delicte\") since:2019-09-17 until:2019-09-18', '\"Barcelona\" AND \"violencia\" OR \"crimen\" OR \"inseguridad\" OR \"delincuencia\" OR \"agresion\" OR \"delito\" OR \"crim\" OR \"inseguretat\" OR \"delinqüència\" OR \"agressió\" OR \"delicte\") since:2019-09-18 until:2019-09-19', '\"Barcelona\" AND \"violencia\" OR \"crimen\" OR \"inseguridad\" OR \"delincuencia\" OR \"agresion\" OR \"delito\" OR \"crim\" OR \"inseguretat\" OR \"delinqüència\" OR \"agressió\" OR \"delicte\") since:2019-09-19 until:2019-09-20']\n",
      "INFO: Got 110 tweets (110 new).\n",
      "INFO: Got 266 tweets (156 new).\n",
      "INFO: Got 430 tweets (164 new).\n",
      "INFO: Got 640 tweets (210 new).\n",
      "INFO: Got 856 tweets (216 new).\n",
      "INFO: Got 1089 tweets (233 new).\n",
      "INFO: Got 1336 tweets (247 new).\n"
     ]
    },
    {
     "name": "stdout",
     "output_type": "stream",
     "text": [
      "1336  were retrieved for 2019-09-13 to 2019-09-20\n"
     ]
    },
    {
     "name": "stderr",
     "output_type": "stream",
     "text": [
      "INFO: queries: ['\"Barcelona\" AND \"violencia\" OR \"crimen\" OR \"inseguridad\" OR \"delincuencia\" OR \"agresion\" OR \"delito\" OR \"crim\" OR \"inseguretat\" OR \"delinqüència\" OR \"agressió\" OR \"delicte\") since:2019-09-06 until:2019-09-07', '\"Barcelona\" AND \"violencia\" OR \"crimen\" OR \"inseguridad\" OR \"delincuencia\" OR \"agresion\" OR \"delito\" OR \"crim\" OR \"inseguretat\" OR \"delinqüència\" OR \"agressió\" OR \"delicte\") since:2019-09-07 until:2019-09-08', '\"Barcelona\" AND \"violencia\" OR \"crimen\" OR \"inseguridad\" OR \"delincuencia\" OR \"agresion\" OR \"delito\" OR \"crim\" OR \"inseguretat\" OR \"delinqüència\" OR \"agressió\" OR \"delicte\") since:2019-09-08 until:2019-09-09', '\"Barcelona\" AND \"violencia\" OR \"crimen\" OR \"inseguridad\" OR \"delincuencia\" OR \"agresion\" OR \"delito\" OR \"crim\" OR \"inseguretat\" OR \"delinqüència\" OR \"agressió\" OR \"delicte\") since:2019-09-09 until:2019-09-10', '\"Barcelona\" AND \"violencia\" OR \"crimen\" OR \"inseguridad\" OR \"delincuencia\" OR \"agresion\" OR \"delito\" OR \"crim\" OR \"inseguretat\" OR \"delinqüència\" OR \"agressió\" OR \"delicte\") since:2019-09-10 until:2019-09-11', '\"Barcelona\" AND \"violencia\" OR \"crimen\" OR \"inseguridad\" OR \"delincuencia\" OR \"agresion\" OR \"delito\" OR \"crim\" OR \"inseguretat\" OR \"delinqüència\" OR \"agressió\" OR \"delicte\") since:2019-09-11 until:2019-09-12', '\"Barcelona\" AND \"violencia\" OR \"crimen\" OR \"inseguridad\" OR \"delincuencia\" OR \"agresion\" OR \"delito\" OR \"crim\" OR \"inseguretat\" OR \"delinqüència\" OR \"agressió\" OR \"delicte\") since:2019-09-12 until:2019-09-13']\n",
      "INFO: Got 139 tweets (139 new).\n",
      "INFO: Got 297 tweets (158 new).\n",
      "INFO: Got 483 tweets (186 new).\n",
      "INFO: Got 751 tweets (268 new).\n",
      "INFO: Got 1103 tweets (352 new).\n",
      "INFO: Got 1530 tweets (427 new).\n",
      "INFO: Got 2005 tweets (475 new).\n"
     ]
    },
    {
     "name": "stdout",
     "output_type": "stream",
     "text": [
      "2005  were retrieved for 2019-09-06 to 2019-09-13\n"
     ]
    },
    {
     "name": "stderr",
     "output_type": "stream",
     "text": [
      "INFO: queries: ['\"Barcelona\" AND \"violencia\" OR \"crimen\" OR \"inseguridad\" OR \"delincuencia\" OR \"agresion\" OR \"delito\" OR \"crim\" OR \"inseguretat\" OR \"delinqüència\" OR \"agressió\" OR \"delicte\") since:2019-08-30 until:2019-08-31', '\"Barcelona\" AND \"violencia\" OR \"crimen\" OR \"inseguridad\" OR \"delincuencia\" OR \"agresion\" OR \"delito\" OR \"crim\" OR \"inseguretat\" OR \"delinqüència\" OR \"agressió\" OR \"delicte\") since:2019-08-31 until:2019-09-01', '\"Barcelona\" AND \"violencia\" OR \"crimen\" OR \"inseguridad\" OR \"delincuencia\" OR \"agresion\" OR \"delito\" OR \"crim\" OR \"inseguretat\" OR \"delinqüència\" OR \"agressió\" OR \"delicte\") since:2019-09-01 until:2019-09-02', '\"Barcelona\" AND \"violencia\" OR \"crimen\" OR \"inseguridad\" OR \"delincuencia\" OR \"agresion\" OR \"delito\" OR \"crim\" OR \"inseguretat\" OR \"delinqüència\" OR \"agressió\" OR \"delicte\") since:2019-09-02 until:2019-09-03', '\"Barcelona\" AND \"violencia\" OR \"crimen\" OR \"inseguridad\" OR \"delincuencia\" OR \"agresion\" OR \"delito\" OR \"crim\" OR \"inseguretat\" OR \"delinqüència\" OR \"agressió\" OR \"delicte\") since:2019-09-03 until:2019-09-04', '\"Barcelona\" AND \"violencia\" OR \"crimen\" OR \"inseguridad\" OR \"delincuencia\" OR \"agresion\" OR \"delito\" OR \"crim\" OR \"inseguretat\" OR \"delinqüència\" OR \"agressió\" OR \"delicte\") since:2019-09-04 until:2019-09-05', '\"Barcelona\" AND \"violencia\" OR \"crimen\" OR \"inseguridad\" OR \"delincuencia\" OR \"agresion\" OR \"delito\" OR \"crim\" OR \"inseguretat\" OR \"delinqüència\" OR \"agressió\" OR \"delicte\") since:2019-09-05 until:2019-09-06']\n",
      "INFO: Got 175 tweets (175 new).\n",
      "INFO: Got 418 tweets (243 new).\n",
      "INFO: Got 836 tweets (418 new).\n",
      "INFO: Got 1331 tweets (495 new).\n",
      "INFO: Got 1911 tweets (580 new).\n",
      "INFO: Got 2652 tweets (741 new).\n",
      "INFO: Got 3442 tweets (790 new).\n"
     ]
    },
    {
     "name": "stdout",
     "output_type": "stream",
     "text": [
      "3442  were retrieved for 2019-08-30 to 2019-09-06\n"
     ]
    },
    {
     "name": "stderr",
     "output_type": "stream",
     "text": [
      "INFO: queries: ['\"Barcelona\" AND \"violencia\" OR \"crimen\" OR \"inseguridad\" OR \"delincuencia\" OR \"agresion\" OR \"delito\" OR \"crim\" OR \"inseguretat\" OR \"delinqüència\" OR \"agressió\" OR \"delicte\") since:2019-08-23 until:2019-08-24', '\"Barcelona\" AND \"violencia\" OR \"crimen\" OR \"inseguridad\" OR \"delincuencia\" OR \"agresion\" OR \"delito\" OR \"crim\" OR \"inseguretat\" OR \"delinqüència\" OR \"agressió\" OR \"delicte\") since:2019-08-24 until:2019-08-25', '\"Barcelona\" AND \"violencia\" OR \"crimen\" OR \"inseguridad\" OR \"delincuencia\" OR \"agresion\" OR \"delito\" OR \"crim\" OR \"inseguretat\" OR \"delinqüència\" OR \"agressió\" OR \"delicte\") since:2019-08-25 until:2019-08-26', '\"Barcelona\" AND \"violencia\" OR \"crimen\" OR \"inseguridad\" OR \"delincuencia\" OR \"agresion\" OR \"delito\" OR \"crim\" OR \"inseguretat\" OR \"delinqüència\" OR \"agressió\" OR \"delicte\") since:2019-08-26 until:2019-08-27', '\"Barcelona\" AND \"violencia\" OR \"crimen\" OR \"inseguridad\" OR \"delincuencia\" OR \"agresion\" OR \"delito\" OR \"crim\" OR \"inseguretat\" OR \"delinqüència\" OR \"agressió\" OR \"delicte\") since:2019-08-27 until:2019-08-28', '\"Barcelona\" AND \"violencia\" OR \"crimen\" OR \"inseguridad\" OR \"delincuencia\" OR \"agresion\" OR \"delito\" OR \"crim\" OR \"inseguretat\" OR \"delinqüència\" OR \"agressió\" OR \"delicte\") since:2019-08-28 until:2019-08-29', '\"Barcelona\" AND \"violencia\" OR \"crimen\" OR \"inseguridad\" OR \"delincuencia\" OR \"agresion\" OR \"delito\" OR \"crim\" OR \"inseguretat\" OR \"delinqüència\" OR \"agressió\" OR \"delicte\") since:2019-08-29 until:2019-08-30']\n",
      "INFO: Got 273 tweets (273 new).\n",
      "INFO: Got 555 tweets (282 new).\n",
      "INFO: Got 891 tweets (336 new).\n",
      "INFO: Got 1440 tweets (549 new).\n",
      "INFO: Got 2097 tweets (657 new).\n",
      "INFO: Got 2811 tweets (714 new).\n",
      "INFO: Got 3965 tweets (1154 new).\n"
     ]
    },
    {
     "name": "stdout",
     "output_type": "stream",
     "text": [
      "3965  were retrieved for 2019-08-23 to 2019-08-30\n"
     ]
    },
    {
     "name": "stderr",
     "output_type": "stream",
     "text": [
      "INFO: queries: ['\"Barcelona\" AND \"violencia\" OR \"crimen\" OR \"inseguridad\" OR \"delincuencia\" OR \"agresion\" OR \"delito\" OR \"crim\" OR \"inseguretat\" OR \"delinqüència\" OR \"agressió\" OR \"delicte\") since:2019-08-16 until:2019-08-17', '\"Barcelona\" AND \"violencia\" OR \"crimen\" OR \"inseguridad\" OR \"delincuencia\" OR \"agresion\" OR \"delito\" OR \"crim\" OR \"inseguretat\" OR \"delinqüència\" OR \"agressió\" OR \"delicte\") since:2019-08-17 until:2019-08-18', '\"Barcelona\" AND \"violencia\" OR \"crimen\" OR \"inseguridad\" OR \"delincuencia\" OR \"agresion\" OR \"delito\" OR \"crim\" OR \"inseguretat\" OR \"delinqüència\" OR \"agressió\" OR \"delicte\") since:2019-08-18 until:2019-08-19', '\"Barcelona\" AND \"violencia\" OR \"crimen\" OR \"inseguridad\" OR \"delincuencia\" OR \"agresion\" OR \"delito\" OR \"crim\" OR \"inseguretat\" OR \"delinqüència\" OR \"agressió\" OR \"delicte\") since:2019-08-19 until:2019-08-20', '\"Barcelona\" AND \"violencia\" OR \"crimen\" OR \"inseguridad\" OR \"delincuencia\" OR \"agresion\" OR \"delito\" OR \"crim\" OR \"inseguretat\" OR \"delinqüència\" OR \"agressió\" OR \"delicte\") since:2019-08-20 until:2019-08-21', '\"Barcelona\" AND \"violencia\" OR \"crimen\" OR \"inseguridad\" OR \"delincuencia\" OR \"agresion\" OR \"delito\" OR \"crim\" OR \"inseguretat\" OR \"delinqüència\" OR \"agressió\" OR \"delicte\") since:2019-08-21 until:2019-08-22', '\"Barcelona\" AND \"violencia\" OR \"crimen\" OR \"inseguridad\" OR \"delincuencia\" OR \"agresion\" OR \"delito\" OR \"crim\" OR \"inseguretat\" OR \"delinqüència\" OR \"agressió\" OR \"delicte\") since:2019-08-22 until:2019-08-23']\n",
      "INFO: Got 532 tweets (532 new).\n",
      "INFO: Got 1130 tweets (598 new).\n",
      "INFO: Got 1741 tweets (611 new).\n",
      "INFO: Got 2371 tweets (630 new).\n",
      "INFO: Got 2965 tweets (594 new).\n",
      "INFO: Got 3579 tweets (614 new).\n",
      "INFO: Got 4209 tweets (630 new).\n"
     ]
    },
    {
     "name": "stdout",
     "output_type": "stream",
     "text": [
      "4209  were retrieved for 2019-08-16 to 2019-08-23\n"
     ]
    },
    {
     "name": "stderr",
     "output_type": "stream",
     "text": [
      "INFO: queries: ['\"Barcelona\" AND \"violencia\" OR \"crimen\" OR \"inseguridad\" OR \"delincuencia\" OR \"agresion\" OR \"delito\" OR \"crim\" OR \"inseguretat\" OR \"delinqüència\" OR \"agressió\" OR \"delicte\") since:2019-08-09 until:2019-08-10', '\"Barcelona\" AND \"violencia\" OR \"crimen\" OR \"inseguridad\" OR \"delincuencia\" OR \"agresion\" OR \"delito\" OR \"crim\" OR \"inseguretat\" OR \"delinqüència\" OR \"agressió\" OR \"delicte\") since:2019-08-10 until:2019-08-11', '\"Barcelona\" AND \"violencia\" OR \"crimen\" OR \"inseguridad\" OR \"delincuencia\" OR \"agresion\" OR \"delito\" OR \"crim\" OR \"inseguretat\" OR \"delinqüència\" OR \"agressió\" OR \"delicte\") since:2019-08-11 until:2019-08-12', '\"Barcelona\" AND \"violencia\" OR \"crimen\" OR \"inseguridad\" OR \"delincuencia\" OR \"agresion\" OR \"delito\" OR \"crim\" OR \"inseguretat\" OR \"delinqüència\" OR \"agressió\" OR \"delicte\") since:2019-08-12 until:2019-08-13', '\"Barcelona\" AND \"violencia\" OR \"crimen\" OR \"inseguridad\" OR \"delincuencia\" OR \"agresion\" OR \"delito\" OR \"crim\" OR \"inseguretat\" OR \"delinqüència\" OR \"agressió\" OR \"delicte\") since:2019-08-13 until:2019-08-14', '\"Barcelona\" AND \"violencia\" OR \"crimen\" OR \"inseguridad\" OR \"delincuencia\" OR \"agresion\" OR \"delito\" OR \"crim\" OR \"inseguretat\" OR \"delinqüència\" OR \"agressió\" OR \"delicte\") since:2019-08-14 until:2019-08-15', '\"Barcelona\" AND \"violencia\" OR \"crimen\" OR \"inseguridad\" OR \"delincuencia\" OR \"agresion\" OR \"delito\" OR \"crim\" OR \"inseguretat\" OR \"delinqüència\" OR \"agressió\" OR \"delicte\") since:2019-08-15 until:2019-08-16']\n",
      "INFO: Got 20 tweets (20 new).\n",
      "INFO: Got 40 tweets (20 new).\n",
      "INFO: Got 59 tweets (19 new).\n",
      "INFO: Got 74 tweets (15 new).\n",
      "INFO: Got 91 tweets (17 new).\n",
      "INFO: Got 131 tweets (40 new).\n",
      "INFO: Got 171 tweets (40 new).\n"
     ]
    },
    {
     "name": "stdout",
     "output_type": "stream",
     "text": [
      "171  were retrieved for 2019-08-09 to 2019-08-16\n"
     ]
    },
    {
     "name": "stderr",
     "output_type": "stream",
     "text": [
      "INFO: queries: ['\"Barcelona\" AND \"violencia\" OR \"crimen\" OR \"inseguridad\" OR \"delincuencia\" OR \"agresion\" OR \"delito\" OR \"crim\" OR \"inseguretat\" OR \"delinqüència\" OR \"agressió\" OR \"delicte\") since:2019-08-02 until:2019-08-03', '\"Barcelona\" AND \"violencia\" OR \"crimen\" OR \"inseguridad\" OR \"delincuencia\" OR \"agresion\" OR \"delito\" OR \"crim\" OR \"inseguretat\" OR \"delinqüència\" OR \"agressió\" OR \"delicte\") since:2019-08-03 until:2019-08-04', '\"Barcelona\" AND \"violencia\" OR \"crimen\" OR \"inseguridad\" OR \"delincuencia\" OR \"agresion\" OR \"delito\" OR \"crim\" OR \"inseguretat\" OR \"delinqüència\" OR \"agressió\" OR \"delicte\") since:2019-08-04 until:2019-08-05', '\"Barcelona\" AND \"violencia\" OR \"crimen\" OR \"inseguridad\" OR \"delincuencia\" OR \"agresion\" OR \"delito\" OR \"crim\" OR \"inseguretat\" OR \"delinqüència\" OR \"agressió\" OR \"delicte\") since:2019-08-05 until:2019-08-06', '\"Barcelona\" AND \"violencia\" OR \"crimen\" OR \"inseguridad\" OR \"delincuencia\" OR \"agresion\" OR \"delito\" OR \"crim\" OR \"inseguretat\" OR \"delinqüència\" OR \"agressió\" OR \"delicte\") since:2019-08-06 until:2019-08-07', '\"Barcelona\" AND \"violencia\" OR \"crimen\" OR \"inseguridad\" OR \"delincuencia\" OR \"agresion\" OR \"delito\" OR \"crim\" OR \"inseguretat\" OR \"delinqüència\" OR \"agressió\" OR \"delicte\") since:2019-08-07 until:2019-08-08', '\"Barcelona\" AND \"violencia\" OR \"crimen\" OR \"inseguridad\" OR \"delincuencia\" OR \"agresion\" OR \"delito\" OR \"crim\" OR \"inseguretat\" OR \"delinqüència\" OR \"agressió\" OR \"delicte\") since:2019-08-08 until:2019-08-09']\n",
      "INFO: Got 18 tweets (18 new).\n",
      "INFO: Got 38 tweets (20 new).\n",
      "INFO: Got 54 tweets (16 new).\n",
      "INFO: Got 70 tweets (16 new).\n",
      "INFO: Got 104 tweets (34 new).\n",
      "INFO: Got 142 tweets (38 new).\n",
      "INFO: Got 182 tweets (40 new).\n"
     ]
    },
    {
     "name": "stdout",
     "output_type": "stream",
     "text": [
      "182  were retrieved for 2019-08-02 to 2019-08-09\n"
     ]
    },
    {
     "name": "stderr",
     "output_type": "stream",
     "text": [
      "INFO: queries: ['\"Barcelona\" AND \"violencia\" OR \"crimen\" OR \"inseguridad\" OR \"delincuencia\" OR \"agresion\" OR \"delito\" OR \"crim\" OR \"inseguretat\" OR \"delinqüència\" OR \"agressió\" OR \"delicte\") since:2019-07-26 until:2019-07-27', '\"Barcelona\" AND \"violencia\" OR \"crimen\" OR \"inseguridad\" OR \"delincuencia\" OR \"agresion\" OR \"delito\" OR \"crim\" OR \"inseguretat\" OR \"delinqüència\" OR \"agressió\" OR \"delicte\") since:2019-07-27 until:2019-07-28', '\"Barcelona\" AND \"violencia\" OR \"crimen\" OR \"inseguridad\" OR \"delincuencia\" OR \"agresion\" OR \"delito\" OR \"crim\" OR \"inseguretat\" OR \"delinqüència\" OR \"agressió\" OR \"delicte\") since:2019-07-28 until:2019-07-29', '\"Barcelona\" AND \"violencia\" OR \"crimen\" OR \"inseguridad\" OR \"delincuencia\" OR \"agresion\" OR \"delito\" OR \"crim\" OR \"inseguretat\" OR \"delinqüència\" OR \"agressió\" OR \"delicte\") since:2019-07-29 until:2019-07-30', '\"Barcelona\" AND \"violencia\" OR \"crimen\" OR \"inseguridad\" OR \"delincuencia\" OR \"agresion\" OR \"delito\" OR \"crim\" OR \"inseguretat\" OR \"delinqüència\" OR \"agressió\" OR \"delicte\") since:2019-07-30 until:2019-07-31', '\"Barcelona\" AND \"violencia\" OR \"crimen\" OR \"inseguridad\" OR \"delincuencia\" OR \"agresion\" OR \"delito\" OR \"crim\" OR \"inseguretat\" OR \"delinqüència\" OR \"agressió\" OR \"delicte\") since:2019-07-31 until:2019-08-01', '\"Barcelona\" AND \"violencia\" OR \"crimen\" OR \"inseguridad\" OR \"delincuencia\" OR \"agresion\" OR \"delito\" OR \"crim\" OR \"inseguretat\" OR \"delinqüència\" OR \"agressió\" OR \"delicte\") since:2019-08-01 until:2019-08-02']\n",
      "INFO: Got 140 tweets (140 new).\n",
      "INFO: Got 315 tweets (175 new).\n",
      "INFO: Got 520 tweets (205 new).\n",
      "INFO: Got 713 tweets (193 new).\n",
      "INFO: Got 932 tweets (219 new).\n",
      "INFO: Got 1184 tweets (252 new).\n",
      "INFO: Got 1432 tweets (248 new).\n"
     ]
    },
    {
     "name": "stdout",
     "output_type": "stream",
     "text": [
      "1432  were retrieved for 2019-07-26 to 2019-08-02\n"
     ]
    },
    {
     "name": "stderr",
     "output_type": "stream",
     "text": [
      "INFO: queries: ['\"Barcelona\" AND \"violencia\" OR \"crimen\" OR \"inseguridad\" OR \"delincuencia\" OR \"agresion\" OR \"delito\" OR \"crim\" OR \"inseguretat\" OR \"delinqüència\" OR \"agressió\" OR \"delicte\") since:2019-07-19 until:2019-07-20', '\"Barcelona\" AND \"violencia\" OR \"crimen\" OR \"inseguridad\" OR \"delincuencia\" OR \"agresion\" OR \"delito\" OR \"crim\" OR \"inseguretat\" OR \"delinqüència\" OR \"agressió\" OR \"delicte\") since:2019-07-20 until:2019-07-21', '\"Barcelona\" AND \"violencia\" OR \"crimen\" OR \"inseguridad\" OR \"delincuencia\" OR \"agresion\" OR \"delito\" OR \"crim\" OR \"inseguretat\" OR \"delinqüència\" OR \"agressió\" OR \"delicte\") since:2019-07-21 until:2019-07-22', '\"Barcelona\" AND \"violencia\" OR \"crimen\" OR \"inseguridad\" OR \"delincuencia\" OR \"agresion\" OR \"delito\" OR \"crim\" OR \"inseguretat\" OR \"delinqüència\" OR \"agressió\" OR \"delicte\") since:2019-07-22 until:2019-07-23', '\"Barcelona\" AND \"violencia\" OR \"crimen\" OR \"inseguridad\" OR \"delincuencia\" OR \"agresion\" OR \"delito\" OR \"crim\" OR \"inseguretat\" OR \"delinqüència\" OR \"agressió\" OR \"delicte\") since:2019-07-23 until:2019-07-24', '\"Barcelona\" AND \"violencia\" OR \"crimen\" OR \"inseguridad\" OR \"delincuencia\" OR \"agresion\" OR \"delito\" OR \"crim\" OR \"inseguretat\" OR \"delinqüència\" OR \"agressió\" OR \"delicte\") since:2019-07-24 until:2019-07-25', '\"Barcelona\" AND \"violencia\" OR \"crimen\" OR \"inseguridad\" OR \"delincuencia\" OR \"agresion\" OR \"delito\" OR \"crim\" OR \"inseguretat\" OR \"delinqüència\" OR \"agressió\" OR \"delicte\") since:2019-07-25 until:2019-07-26']\n",
      "INFO: Got 113 tweets (113 new).\n",
      "INFO: Got 254 tweets (141 new).\n",
      "INFO: Got 419 tweets (165 new).\n",
      "INFO: Got 590 tweets (171 new).\n",
      "INFO: Got 777 tweets (187 new).\n",
      "INFO: Got 1052 tweets (275 new).\n",
      "INFO: Got 1437 tweets (385 new).\n"
     ]
    },
    {
     "name": "stdout",
     "output_type": "stream",
     "text": [
      "1437  were retrieved for 2019-07-19 to 2019-07-26\n"
     ]
    },
    {
     "name": "stderr",
     "output_type": "stream",
     "text": [
      "INFO: queries: ['\"Barcelona\" AND \"violencia\" OR \"crimen\" OR \"inseguridad\" OR \"delincuencia\" OR \"agresion\" OR \"delito\" OR \"crim\" OR \"inseguretat\" OR \"delinqüència\" OR \"agressió\" OR \"delicte\") since:2019-07-12 until:2019-07-13', '\"Barcelona\" AND \"violencia\" OR \"crimen\" OR \"inseguridad\" OR \"delincuencia\" OR \"agresion\" OR \"delito\" OR \"crim\" OR \"inseguretat\" OR \"delinqüència\" OR \"agressió\" OR \"delicte\") since:2019-07-13 until:2019-07-14', '\"Barcelona\" AND \"violencia\" OR \"crimen\" OR \"inseguridad\" OR \"delincuencia\" OR \"agresion\" OR \"delito\" OR \"crim\" OR \"inseguretat\" OR \"delinqüència\" OR \"agressió\" OR \"delicte\") since:2019-07-14 until:2019-07-15', '\"Barcelona\" AND \"violencia\" OR \"crimen\" OR \"inseguridad\" OR \"delincuencia\" OR \"agresion\" OR \"delito\" OR \"crim\" OR \"inseguretat\" OR \"delinqüència\" OR \"agressió\" OR \"delicte\") since:2019-07-15 until:2019-07-16', '\"Barcelona\" AND \"violencia\" OR \"crimen\" OR \"inseguridad\" OR \"delincuencia\" OR \"agresion\" OR \"delito\" OR \"crim\" OR \"inseguretat\" OR \"delinqüència\" OR \"agressió\" OR \"delicte\") since:2019-07-16 until:2019-07-17', '\"Barcelona\" AND \"violencia\" OR \"crimen\" OR \"inseguridad\" OR \"delincuencia\" OR \"agresion\" OR \"delito\" OR \"crim\" OR \"inseguretat\" OR \"delinqüència\" OR \"agressió\" OR \"delicte\") since:2019-07-17 until:2019-07-18', '\"Barcelona\" AND \"violencia\" OR \"crimen\" OR \"inseguridad\" OR \"delincuencia\" OR \"agresion\" OR \"delito\" OR \"crim\" OR \"inseguretat\" OR \"delinqüència\" OR \"agressió\" OR \"delicte\") since:2019-07-18 until:2019-07-19']\n",
      "INFO: Got 83 tweets (83 new).\n",
      "INFO: Got 205 tweets (122 new).\n",
      "INFO: Got 351 tweets (146 new).\n",
      "INFO: Got 523 tweets (172 new).\n",
      "INFO: Got 697 tweets (174 new).\n",
      "INFO: Got 863 tweets (166 new).\n",
      "INFO: Got 1189 tweets (326 new).\n"
     ]
    },
    {
     "name": "stdout",
     "output_type": "stream",
     "text": [
      "1189  were retrieved for 2019-07-12 to 2019-07-19\n"
     ]
    },
    {
     "name": "stderr",
     "output_type": "stream",
     "text": [
      "INFO: queries: ['\"Barcelona\" AND \"violencia\" OR \"crimen\" OR \"inseguridad\" OR \"delincuencia\" OR \"agresion\" OR \"delito\" OR \"crim\" OR \"inseguretat\" OR \"delinqüència\" OR \"agressió\" OR \"delicte\") since:2019-07-05 until:2019-07-06', '\"Barcelona\" AND \"violencia\" OR \"crimen\" OR \"inseguridad\" OR \"delincuencia\" OR \"agresion\" OR \"delito\" OR \"crim\" OR \"inseguretat\" OR \"delinqüència\" OR \"agressió\" OR \"delicte\") since:2019-07-06 until:2019-07-07', '\"Barcelona\" AND \"violencia\" OR \"crimen\" OR \"inseguridad\" OR \"delincuencia\" OR \"agresion\" OR \"delito\" OR \"crim\" OR \"inseguretat\" OR \"delinqüència\" OR \"agressió\" OR \"delicte\") since:2019-07-07 until:2019-07-08', '\"Barcelona\" AND \"violencia\" OR \"crimen\" OR \"inseguridad\" OR \"delincuencia\" OR \"agresion\" OR \"delito\" OR \"crim\" OR \"inseguretat\" OR \"delinqüència\" OR \"agressió\" OR \"delicte\") since:2019-07-08 until:2019-07-09', '\"Barcelona\" AND \"violencia\" OR \"crimen\" OR \"inseguridad\" OR \"delincuencia\" OR \"agresion\" OR \"delito\" OR \"crim\" OR \"inseguretat\" OR \"delinqüència\" OR \"agressió\" OR \"delicte\") since:2019-07-09 until:2019-07-10', '\"Barcelona\" AND \"violencia\" OR \"crimen\" OR \"inseguridad\" OR \"delincuencia\" OR \"agresion\" OR \"delito\" OR \"crim\" OR \"inseguretat\" OR \"delinqüència\" OR \"agressió\" OR \"delicte\") since:2019-07-10 until:2019-07-11', '\"Barcelona\" AND \"violencia\" OR \"crimen\" OR \"inseguridad\" OR \"delincuencia\" OR \"agresion\" OR \"delito\" OR \"crim\" OR \"inseguretat\" OR \"delinqüència\" OR \"agressió\" OR \"delicte\") since:2019-07-11 until:2019-07-12']\n",
      "INFO: Got 128 tweets (128 new).\n",
      "INFO: Got 237 tweets (109 new).\n",
      "INFO: Got 469 tweets (232 new).\n",
      "INFO: Got 703 tweets (234 new).\n",
      "INFO: Got 952 tweets (249 new).\n",
      "INFO: Got 1216 tweets (264 new).\n",
      "INFO: Got 1537 tweets (321 new).\n"
     ]
    },
    {
     "name": "stdout",
     "output_type": "stream",
     "text": [
      "1537  were retrieved for 2019-07-05 to 2019-07-12\n"
     ]
    },
    {
     "name": "stderr",
     "output_type": "stream",
     "text": [
      "INFO: queries: ['\"Barcelona\" AND \"violencia\" OR \"crimen\" OR \"inseguridad\" OR \"delincuencia\" OR \"agresion\" OR \"delito\" OR \"crim\" OR \"inseguretat\" OR \"delinqüència\" OR \"agressió\" OR \"delicte\") since:2019-06-28 until:2019-06-29', '\"Barcelona\" AND \"violencia\" OR \"crimen\" OR \"inseguridad\" OR \"delincuencia\" OR \"agresion\" OR \"delito\" OR \"crim\" OR \"inseguretat\" OR \"delinqüència\" OR \"agressió\" OR \"delicte\") since:2019-06-29 until:2019-06-30', '\"Barcelona\" AND \"violencia\" OR \"crimen\" OR \"inseguridad\" OR \"delincuencia\" OR \"agresion\" OR \"delito\" OR \"crim\" OR \"inseguretat\" OR \"delinqüència\" OR \"agressió\" OR \"delicte\") since:2019-06-30 until:2019-07-01', '\"Barcelona\" AND \"violencia\" OR \"crimen\" OR \"inseguridad\" OR \"delincuencia\" OR \"agresion\" OR \"delito\" OR \"crim\" OR \"inseguretat\" OR \"delinqüència\" OR \"agressió\" OR \"delicte\") since:2019-07-01 until:2019-07-02', '\"Barcelona\" AND \"violencia\" OR \"crimen\" OR \"inseguridad\" OR \"delincuencia\" OR \"agresion\" OR \"delito\" OR \"crim\" OR \"inseguretat\" OR \"delinqüència\" OR \"agressió\" OR \"delicte\") since:2019-07-02 until:2019-07-03', '\"Barcelona\" AND \"violencia\" OR \"crimen\" OR \"inseguridad\" OR \"delincuencia\" OR \"agresion\" OR \"delito\" OR \"crim\" OR \"inseguretat\" OR \"delinqüència\" OR \"agressió\" OR \"delicte\") since:2019-07-03 until:2019-07-04', '\"Barcelona\" AND \"violencia\" OR \"crimen\" OR \"inseguridad\" OR \"delincuencia\" OR \"agresion\" OR \"delito\" OR \"crim\" OR \"inseguretat\" OR \"delinqüència\" OR \"agressió\" OR \"delicte\") since:2019-07-04 until:2019-07-05']\n",
      "INFO: Got 86 tweets (86 new).\n",
      "INFO: Got 202 tweets (116 new).\n",
      "INFO: Got 347 tweets (145 new).\n",
      "INFO: Got 538 tweets (191 new).\n",
      "INFO: Got 738 tweets (200 new).\n",
      "INFO: Got 1028 tweets (290 new).\n",
      "INFO: Got 1368 tweets (340 new).\n"
     ]
    },
    {
     "name": "stdout",
     "output_type": "stream",
     "text": [
      "1368  were retrieved for 2019-06-28 to 2019-07-05\n"
     ]
    },
    {
     "name": "stderr",
     "output_type": "stream",
     "text": [
      "INFO: queries: ['\"Barcelona\" AND \"violencia\" OR \"crimen\" OR \"inseguridad\" OR \"delincuencia\" OR \"agresion\" OR \"delito\" OR \"crim\" OR \"inseguretat\" OR \"delinqüència\" OR \"agressió\" OR \"delicte\") since:2019-06-21 until:2019-06-22', '\"Barcelona\" AND \"violencia\" OR \"crimen\" OR \"inseguridad\" OR \"delincuencia\" OR \"agresion\" OR \"delito\" OR \"crim\" OR \"inseguretat\" OR \"delinqüència\" OR \"agressió\" OR \"delicte\") since:2019-06-22 until:2019-06-23', '\"Barcelona\" AND \"violencia\" OR \"crimen\" OR \"inseguridad\" OR \"delincuencia\" OR \"agresion\" OR \"delito\" OR \"crim\" OR \"inseguretat\" OR \"delinqüència\" OR \"agressió\" OR \"delicte\") since:2019-06-23 until:2019-06-24', '\"Barcelona\" AND \"violencia\" OR \"crimen\" OR \"inseguridad\" OR \"delincuencia\" OR \"agresion\" OR \"delito\" OR \"crim\" OR \"inseguretat\" OR \"delinqüència\" OR \"agressió\" OR \"delicte\") since:2019-06-24 until:2019-06-25', '\"Barcelona\" AND \"violencia\" OR \"crimen\" OR \"inseguridad\" OR \"delincuencia\" OR \"agresion\" OR \"delito\" OR \"crim\" OR \"inseguretat\" OR \"delinqüència\" OR \"agressió\" OR \"delicte\") since:2019-06-25 until:2019-06-26', '\"Barcelona\" AND \"violencia\" OR \"crimen\" OR \"inseguridad\" OR \"delincuencia\" OR \"agresion\" OR \"delito\" OR \"crim\" OR \"inseguretat\" OR \"delinqüència\" OR \"agressió\" OR \"delicte\") since:2019-06-26 until:2019-06-27', '\"Barcelona\" AND \"violencia\" OR \"crimen\" OR \"inseguridad\" OR \"delincuencia\" OR \"agresion\" OR \"delito\" OR \"crim\" OR \"inseguretat\" OR \"delinqüència\" OR \"agressió\" OR \"delicte\") since:2019-06-27 until:2019-06-28']\n",
      "INFO: Got 52 tweets (52 new).\n",
      "INFO: Got 94 tweets (42 new).\n",
      "INFO: Got 155 tweets (61 new).\n",
      "INFO: Got 219 tweets (64 new).\n",
      "INFO: Got 299 tweets (80 new).\n",
      "INFO: Got 386 tweets (87 new).\n",
      "INFO: Got 556 tweets (170 new).\n"
     ]
    },
    {
     "name": "stdout",
     "output_type": "stream",
     "text": [
      "556  were retrieved for 2019-06-21 to 2019-06-28\n"
     ]
    },
    {
     "name": "stderr",
     "output_type": "stream",
     "text": [
      "INFO: queries: ['\"Barcelona\" AND \"violencia\" OR \"crimen\" OR \"inseguridad\" OR \"delincuencia\" OR \"agresion\" OR \"delito\" OR \"crim\" OR \"inseguretat\" OR \"delinqüència\" OR \"agressió\" OR \"delicte\") since:2019-06-14 until:2019-06-15', '\"Barcelona\" AND \"violencia\" OR \"crimen\" OR \"inseguridad\" OR \"delincuencia\" OR \"agresion\" OR \"delito\" OR \"crim\" OR \"inseguretat\" OR \"delinqüència\" OR \"agressió\" OR \"delicte\") since:2019-06-15 until:2019-06-16', '\"Barcelona\" AND \"violencia\" OR \"crimen\" OR \"inseguridad\" OR \"delincuencia\" OR \"agresion\" OR \"delito\" OR \"crim\" OR \"inseguretat\" OR \"delinqüència\" OR \"agressió\" OR \"delicte\") since:2019-06-16 until:2019-06-17', '\"Barcelona\" AND \"violencia\" OR \"crimen\" OR \"inseguridad\" OR \"delincuencia\" OR \"agresion\" OR \"delito\" OR \"crim\" OR \"inseguretat\" OR \"delinqüència\" OR \"agressió\" OR \"delicte\") since:2019-06-17 until:2019-06-18', '\"Barcelona\" AND \"violencia\" OR \"crimen\" OR \"inseguridad\" OR \"delincuencia\" OR \"agresion\" OR \"delito\" OR \"crim\" OR \"inseguretat\" OR \"delinqüència\" OR \"agressió\" OR \"delicte\") since:2019-06-18 until:2019-06-19', '\"Barcelona\" AND \"violencia\" OR \"crimen\" OR \"inseguridad\" OR \"delincuencia\" OR \"agresion\" OR \"delito\" OR \"crim\" OR \"inseguretat\" OR \"delinqüència\" OR \"agressió\" OR \"delicte\") since:2019-06-19 until:2019-06-20', '\"Barcelona\" AND \"violencia\" OR \"crimen\" OR \"inseguridad\" OR \"delincuencia\" OR \"agresion\" OR \"delito\" OR \"crim\" OR \"inseguretat\" OR \"delinqüència\" OR \"agressió\" OR \"delicte\") since:2019-06-20 until:2019-06-21']\n",
      "INFO: Got 65 tweets (65 new).\n",
      "INFO: Got 132 tweets (67 new).\n",
      "INFO: Got 202 tweets (70 new).\n",
      "INFO: Got 281 tweets (79 new).\n",
      "INFO: Got 375 tweets (94 new).\n",
      "INFO: Got 486 tweets (111 new).\n",
      "INFO: Got 608 tweets (122 new).\n"
     ]
    },
    {
     "name": "stdout",
     "output_type": "stream",
     "text": [
      "608  were retrieved for 2019-06-14 to 2019-06-21\n"
     ]
    },
    {
     "name": "stderr",
     "output_type": "stream",
     "text": [
      "INFO: queries: ['\"Barcelona\" AND \"violencia\" OR \"crimen\" OR \"inseguridad\" OR \"delincuencia\" OR \"agresion\" OR \"delito\" OR \"crim\" OR \"inseguretat\" OR \"delinqüència\" OR \"agressió\" OR \"delicte\") since:2019-06-07 until:2019-06-08', '\"Barcelona\" AND \"violencia\" OR \"crimen\" OR \"inseguridad\" OR \"delincuencia\" OR \"agresion\" OR \"delito\" OR \"crim\" OR \"inseguretat\" OR \"delinqüència\" OR \"agressió\" OR \"delicte\") since:2019-06-08 until:2019-06-09', '\"Barcelona\" AND \"violencia\" OR \"crimen\" OR \"inseguridad\" OR \"delincuencia\" OR \"agresion\" OR \"delito\" OR \"crim\" OR \"inseguretat\" OR \"delinqüència\" OR \"agressió\" OR \"delicte\") since:2019-06-09 until:2019-06-10', '\"Barcelona\" AND \"violencia\" OR \"crimen\" OR \"inseguridad\" OR \"delincuencia\" OR \"agresion\" OR \"delito\" OR \"crim\" OR \"inseguretat\" OR \"delinqüència\" OR \"agressió\" OR \"delicte\") since:2019-06-10 until:2019-06-11', '\"Barcelona\" AND \"violencia\" OR \"crimen\" OR \"inseguridad\" OR \"delincuencia\" OR \"agresion\" OR \"delito\" OR \"crim\" OR \"inseguretat\" OR \"delinqüència\" OR \"agressió\" OR \"delicte\") since:2019-06-11 until:2019-06-12', '\"Barcelona\" AND \"violencia\" OR \"crimen\" OR \"inseguridad\" OR \"delincuencia\" OR \"agresion\" OR \"delito\" OR \"crim\" OR \"inseguretat\" OR \"delinqüència\" OR \"agressió\" OR \"delicte\") since:2019-06-12 until:2019-06-13', '\"Barcelona\" AND \"violencia\" OR \"crimen\" OR \"inseguridad\" OR \"delincuencia\" OR \"agresion\" OR \"delito\" OR \"crim\" OR \"inseguretat\" OR \"delinqüència\" OR \"agressió\" OR \"delicte\") since:2019-06-13 until:2019-06-14']\n",
      "INFO: Got 50 tweets (50 new).\n",
      "INFO: Got 117 tweets (67 new).\n",
      "INFO: Got 178 tweets (61 new).\n",
      "INFO: Got 249 tweets (71 new).\n",
      "INFO: Got 319 tweets (70 new).\n",
      "INFO: Got 403 tweets (84 new).\n",
      "INFO: Got 477 tweets (74 new).\n"
     ]
    },
    {
     "name": "stdout",
     "output_type": "stream",
     "text": [
      "477  were retrieved for 2019-06-07 to 2019-06-14\n"
     ]
    },
    {
     "name": "stderr",
     "output_type": "stream",
     "text": [
      "INFO: queries: ['\"Barcelona\" AND \"violencia\" OR \"crimen\" OR \"inseguridad\" OR \"delincuencia\" OR \"agresion\" OR \"delito\" OR \"crim\" OR \"inseguretat\" OR \"delinqüència\" OR \"agressió\" OR \"delicte\") since:2019-05-31 until:2019-06-01', '\"Barcelona\" AND \"violencia\" OR \"crimen\" OR \"inseguridad\" OR \"delincuencia\" OR \"agresion\" OR \"delito\" OR \"crim\" OR \"inseguretat\" OR \"delinqüència\" OR \"agressió\" OR \"delicte\") since:2019-06-01 until:2019-06-02', '\"Barcelona\" AND \"violencia\" OR \"crimen\" OR \"inseguridad\" OR \"delincuencia\" OR \"agresion\" OR \"delito\" OR \"crim\" OR \"inseguretat\" OR \"delinqüència\" OR \"agressió\" OR \"delicte\") since:2019-06-02 until:2019-06-03', '\"Barcelona\" AND \"violencia\" OR \"crimen\" OR \"inseguridad\" OR \"delincuencia\" OR \"agresion\" OR \"delito\" OR \"crim\" OR \"inseguretat\" OR \"delinqüència\" OR \"agressió\" OR \"delicte\") since:2019-06-03 until:2019-06-04', '\"Barcelona\" AND \"violencia\" OR \"crimen\" OR \"inseguridad\" OR \"delincuencia\" OR \"agresion\" OR \"delito\" OR \"crim\" OR \"inseguretat\" OR \"delinqüència\" OR \"agressió\" OR \"delicte\") since:2019-06-04 until:2019-06-05', '\"Barcelona\" AND \"violencia\" OR \"crimen\" OR \"inseguridad\" OR \"delincuencia\" OR \"agresion\" OR \"delito\" OR \"crim\" OR \"inseguretat\" OR \"delinqüència\" OR \"agressió\" OR \"delicte\") since:2019-06-05 until:2019-06-06', '\"Barcelona\" AND \"violencia\" OR \"crimen\" OR \"inseguridad\" OR \"delincuencia\" OR \"agresion\" OR \"delito\" OR \"crim\" OR \"inseguretat\" OR \"delinqüència\" OR \"agressió\" OR \"delicte\") since:2019-06-06 until:2019-06-07']\n",
      "INFO: Got 53 tweets (53 new).\n",
      "INFO: Got 116 tweets (63 new).\n",
      "INFO: Got 184 tweets (68 new).\n",
      "INFO: Got 257 tweets (73 new).\n",
      "INFO: Got 347 tweets (90 new).\n",
      "INFO: Got 438 tweets (91 new).\n",
      "INFO: Got 605 tweets (167 new).\n"
     ]
    },
    {
     "name": "stdout",
     "output_type": "stream",
     "text": [
      "605  were retrieved for 2019-05-31 to 2019-06-07\n"
     ]
    },
    {
     "name": "stderr",
     "output_type": "stream",
     "text": [
      "INFO: queries: ['\"Barcelona\" AND \"violencia\" OR \"crimen\" OR \"inseguridad\" OR \"delincuencia\" OR \"agresion\" OR \"delito\" OR \"crim\" OR \"inseguretat\" OR \"delinqüència\" OR \"agressió\" OR \"delicte\") since:2019-05-24 until:2019-05-25', '\"Barcelona\" AND \"violencia\" OR \"crimen\" OR \"inseguridad\" OR \"delincuencia\" OR \"agresion\" OR \"delito\" OR \"crim\" OR \"inseguretat\" OR \"delinqüència\" OR \"agressió\" OR \"delicte\") since:2019-05-25 until:2019-05-26', '\"Barcelona\" AND \"violencia\" OR \"crimen\" OR \"inseguridad\" OR \"delincuencia\" OR \"agresion\" OR \"delito\" OR \"crim\" OR \"inseguretat\" OR \"delinqüència\" OR \"agressió\" OR \"delicte\") since:2019-05-26 until:2019-05-27', '\"Barcelona\" AND \"violencia\" OR \"crimen\" OR \"inseguridad\" OR \"delincuencia\" OR \"agresion\" OR \"delito\" OR \"crim\" OR \"inseguretat\" OR \"delinqüència\" OR \"agressió\" OR \"delicte\") since:2019-05-27 until:2019-05-28', '\"Barcelona\" AND \"violencia\" OR \"crimen\" OR \"inseguridad\" OR \"delincuencia\" OR \"agresion\" OR \"delito\" OR \"crim\" OR \"inseguretat\" OR \"delinqüència\" OR \"agressió\" OR \"delicte\") since:2019-05-28 until:2019-05-29', '\"Barcelona\" AND \"violencia\" OR \"crimen\" OR \"inseguridad\" OR \"delincuencia\" OR \"agresion\" OR \"delito\" OR \"crim\" OR \"inseguretat\" OR \"delinqüència\" OR \"agressió\" OR \"delicte\") since:2019-05-29 until:2019-05-30', '\"Barcelona\" AND \"violencia\" OR \"crimen\" OR \"inseguridad\" OR \"delincuencia\" OR \"agresion\" OR \"delito\" OR \"crim\" OR \"inseguretat\" OR \"delinqüència\" OR \"agressió\" OR \"delicte\") since:2019-05-30 until:2019-05-31']\n",
      "INFO: Got 53 tweets (53 new).\n",
      "INFO: Got 143 tweets (90 new).\n",
      "INFO: Got 221 tweets (78 new).\n",
      "INFO: Got 312 tweets (91 new).\n",
      "INFO: Got 410 tweets (98 new).\n",
      "INFO: Got 516 tweets (106 new).\n",
      "INFO: Got 629 tweets (113 new).\n"
     ]
    },
    {
     "name": "stdout",
     "output_type": "stream",
     "text": [
      "629  were retrieved for 2019-05-24 to 2019-05-31\n"
     ]
    },
    {
     "name": "stderr",
     "output_type": "stream",
     "text": [
      "INFO: queries: ['\"Barcelona\" AND \"violencia\" OR \"crimen\" OR \"inseguridad\" OR \"delincuencia\" OR \"agresion\" OR \"delito\" OR \"crim\" OR \"inseguretat\" OR \"delinqüència\" OR \"agressió\" OR \"delicte\") since:2019-05-17 until:2019-05-18', '\"Barcelona\" AND \"violencia\" OR \"crimen\" OR \"inseguridad\" OR \"delincuencia\" OR \"agresion\" OR \"delito\" OR \"crim\" OR \"inseguretat\" OR \"delinqüència\" OR \"agressió\" OR \"delicte\") since:2019-05-18 until:2019-05-19', '\"Barcelona\" AND \"violencia\" OR \"crimen\" OR \"inseguridad\" OR \"delincuencia\" OR \"agresion\" OR \"delito\" OR \"crim\" OR \"inseguretat\" OR \"delinqüència\" OR \"agressió\" OR \"delicte\") since:2019-05-19 until:2019-05-20', '\"Barcelona\" AND \"violencia\" OR \"crimen\" OR \"inseguridad\" OR \"delincuencia\" OR \"agresion\" OR \"delito\" OR \"crim\" OR \"inseguretat\" OR \"delinqüència\" OR \"agressió\" OR \"delicte\") since:2019-05-20 until:2019-05-21', '\"Barcelona\" AND \"violencia\" OR \"crimen\" OR \"inseguridad\" OR \"delincuencia\" OR \"agresion\" OR \"delito\" OR \"crim\" OR \"inseguretat\" OR \"delinqüència\" OR \"agressió\" OR \"delicte\") since:2019-05-21 until:2019-05-22', '\"Barcelona\" AND \"violencia\" OR \"crimen\" OR \"inseguridad\" OR \"delincuencia\" OR \"agresion\" OR \"delito\" OR \"crim\" OR \"inseguretat\" OR \"delinqüència\" OR \"agressió\" OR \"delicte\") since:2019-05-22 until:2019-05-23', '\"Barcelona\" AND \"violencia\" OR \"crimen\" OR \"inseguridad\" OR \"delincuencia\" OR \"agresion\" OR \"delito\" OR \"crim\" OR \"inseguretat\" OR \"delinqüència\" OR \"agressió\" OR \"delicte\") since:2019-05-23 until:2019-05-24']\n",
      "INFO: Got 94 tweets (94 new).\n",
      "INFO: Got 190 tweets (96 new).\n",
      "INFO: Got 295 tweets (105 new).\n",
      "INFO: Got 409 tweets (114 new).\n",
      "INFO: Got 550 tweets (141 new).\n",
      "INFO: Got 706 tweets (156 new).\n",
      "INFO: Got 859 tweets (153 new).\n"
     ]
    },
    {
     "name": "stdout",
     "output_type": "stream",
     "text": [
      "859  were retrieved for 2019-05-17 to 2019-05-24\n"
     ]
    },
    {
     "name": "stderr",
     "output_type": "stream",
     "text": [
      "INFO: queries: ['\"Barcelona\" AND \"violencia\" OR \"crimen\" OR \"inseguridad\" OR \"delincuencia\" OR \"agresion\" OR \"delito\" OR \"crim\" OR \"inseguretat\" OR \"delinqüència\" OR \"agressió\" OR \"delicte\") since:2019-05-10 until:2019-05-11', '\"Barcelona\" AND \"violencia\" OR \"crimen\" OR \"inseguridad\" OR \"delincuencia\" OR \"agresion\" OR \"delito\" OR \"crim\" OR \"inseguretat\" OR \"delinqüència\" OR \"agressió\" OR \"delicte\") since:2019-05-11 until:2019-05-12', '\"Barcelona\" AND \"violencia\" OR \"crimen\" OR \"inseguridad\" OR \"delincuencia\" OR \"agresion\" OR \"delito\" OR \"crim\" OR \"inseguretat\" OR \"delinqüència\" OR \"agressió\" OR \"delicte\") since:2019-05-12 until:2019-05-13', '\"Barcelona\" AND \"violencia\" OR \"crimen\" OR \"inseguridad\" OR \"delincuencia\" OR \"agresion\" OR \"delito\" OR \"crim\" OR \"inseguretat\" OR \"delinqüència\" OR \"agressió\" OR \"delicte\") since:2019-05-13 until:2019-05-14', '\"Barcelona\" AND \"violencia\" OR \"crimen\" OR \"inseguridad\" OR \"delincuencia\" OR \"agresion\" OR \"delito\" OR \"crim\" OR \"inseguretat\" OR \"delinqüència\" OR \"agressió\" OR \"delicte\") since:2019-05-14 until:2019-05-15', '\"Barcelona\" AND \"violencia\" OR \"crimen\" OR \"inseguridad\" OR \"delincuencia\" OR \"agresion\" OR \"delito\" OR \"crim\" OR \"inseguretat\" OR \"delinqüència\" OR \"agressió\" OR \"delicte\") since:2019-05-15 until:2019-05-16', '\"Barcelona\" AND \"violencia\" OR \"crimen\" OR \"inseguridad\" OR \"delincuencia\" OR \"agresion\" OR \"delito\" OR \"crim\" OR \"inseguretat\" OR \"delinqüència\" OR \"agressió\" OR \"delicte\") since:2019-05-16 until:2019-05-17']\n",
      "INFO: Got 76 tweets (76 new).\n",
      "INFO: Got 150 tweets (74 new).\n",
      "INFO: Got 225 tweets (75 new).\n",
      "INFO: Got 316 tweets (91 new).\n",
      "INFO: Got 405 tweets (89 new).\n",
      "INFO: Got 491 tweets (86 new).\n",
      "INFO: Got 590 tweets (99 new).\n"
     ]
    },
    {
     "name": "stdout",
     "output_type": "stream",
     "text": [
      "590  were retrieved for 2019-05-10 to 2019-05-17\n"
     ]
    },
    {
     "name": "stderr",
     "output_type": "stream",
     "text": [
      "INFO: queries: ['\"Barcelona\" AND \"violencia\" OR \"crimen\" OR \"inseguridad\" OR \"delincuencia\" OR \"agresion\" OR \"delito\" OR \"crim\" OR \"inseguretat\" OR \"delinqüència\" OR \"agressió\" OR \"delicte\") since:2019-05-03 until:2019-05-04', '\"Barcelona\" AND \"violencia\" OR \"crimen\" OR \"inseguridad\" OR \"delincuencia\" OR \"agresion\" OR \"delito\" OR \"crim\" OR \"inseguretat\" OR \"delinqüència\" OR \"agressió\" OR \"delicte\") since:2019-05-04 until:2019-05-05', '\"Barcelona\" AND \"violencia\" OR \"crimen\" OR \"inseguridad\" OR \"delincuencia\" OR \"agresion\" OR \"delito\" OR \"crim\" OR \"inseguretat\" OR \"delinqüència\" OR \"agressió\" OR \"delicte\") since:2019-05-05 until:2019-05-06', '\"Barcelona\" AND \"violencia\" OR \"crimen\" OR \"inseguridad\" OR \"delincuencia\" OR \"agresion\" OR \"delito\" OR \"crim\" OR \"inseguretat\" OR \"delinqüència\" OR \"agressió\" OR \"delicte\") since:2019-05-06 until:2019-05-07', '\"Barcelona\" AND \"violencia\" OR \"crimen\" OR \"inseguridad\" OR \"delincuencia\" OR \"agresion\" OR \"delito\" OR \"crim\" OR \"inseguretat\" OR \"delinqüència\" OR \"agressió\" OR \"delicte\") since:2019-05-07 until:2019-05-08', '\"Barcelona\" AND \"violencia\" OR \"crimen\" OR \"inseguridad\" OR \"delincuencia\" OR \"agresion\" OR \"delito\" OR \"crim\" OR \"inseguretat\" OR \"delinqüència\" OR \"agressió\" OR \"delicte\") since:2019-05-08 until:2019-05-09', '\"Barcelona\" AND \"violencia\" OR \"crimen\" OR \"inseguridad\" OR \"delincuencia\" OR \"agresion\" OR \"delito\" OR \"crim\" OR \"inseguretat\" OR \"delinqüència\" OR \"agressió\" OR \"delicte\") since:2019-05-09 until:2019-05-10']\n",
      "INFO: Got 50 tweets (50 new).\n",
      "INFO: Got 101 tweets (51 new).\n",
      "INFO: Got 166 tweets (65 new).\n",
      "INFO: Got 251 tweets (85 new).\n",
      "INFO: Got 355 tweets (104 new).\n",
      "INFO: Got 487 tweets (132 new).\n",
      "INFO: Got 625 tweets (138 new).\n"
     ]
    },
    {
     "name": "stdout",
     "output_type": "stream",
     "text": [
      "625  were retrieved for 2019-05-03 to 2019-05-10\n"
     ]
    },
    {
     "name": "stderr",
     "output_type": "stream",
     "text": [
      "INFO: queries: ['\"Barcelona\" AND \"violencia\" OR \"crimen\" OR \"inseguridad\" OR \"delincuencia\" OR \"agresion\" OR \"delito\" OR \"crim\" OR \"inseguretat\" OR \"delinqüència\" OR \"agressió\" OR \"delicte\") since:2019-04-26 until:2019-04-27', '\"Barcelona\" AND \"violencia\" OR \"crimen\" OR \"inseguridad\" OR \"delincuencia\" OR \"agresion\" OR \"delito\" OR \"crim\" OR \"inseguretat\" OR \"delinqüència\" OR \"agressió\" OR \"delicte\") since:2019-04-27 until:2019-04-28', '\"Barcelona\" AND \"violencia\" OR \"crimen\" OR \"inseguridad\" OR \"delincuencia\" OR \"agresion\" OR \"delito\" OR \"crim\" OR \"inseguretat\" OR \"delinqüència\" OR \"agressió\" OR \"delicte\") since:2019-04-28 until:2019-04-29', '\"Barcelona\" AND \"violencia\" OR \"crimen\" OR \"inseguridad\" OR \"delincuencia\" OR \"agresion\" OR \"delito\" OR \"crim\" OR \"inseguretat\" OR \"delinqüència\" OR \"agressió\" OR \"delicte\") since:2019-04-29 until:2019-04-30', '\"Barcelona\" AND \"violencia\" OR \"crimen\" OR \"inseguridad\" OR \"delincuencia\" OR \"agresion\" OR \"delito\" OR \"crim\" OR \"inseguretat\" OR \"delinqüència\" OR \"agressió\" OR \"delicte\") since:2019-04-30 until:2019-05-01', '\"Barcelona\" AND \"violencia\" OR \"crimen\" OR \"inseguridad\" OR \"delincuencia\" OR \"agresion\" OR \"delito\" OR \"crim\" OR \"inseguretat\" OR \"delinqüència\" OR \"agressió\" OR \"delicte\") since:2019-05-01 until:2019-05-02', '\"Barcelona\" AND \"violencia\" OR \"crimen\" OR \"inseguridad\" OR \"delincuencia\" OR \"agresion\" OR \"delito\" OR \"crim\" OR \"inseguretat\" OR \"delinqüència\" OR \"agressió\" OR \"delicte\") since:2019-05-02 until:2019-05-03']\n",
      "INFO: Got 56 tweets (56 new).\n",
      "INFO: Got 106 tweets (50 new).\n",
      "INFO: Got 156 tweets (50 new).\n",
      "INFO: Got 225 tweets (69 new).\n",
      "INFO: Got 300 tweets (75 new).\n",
      "INFO: Got 395 tweets (95 new).\n",
      "INFO: Got 509 tweets (114 new).\n"
     ]
    },
    {
     "name": "stdout",
     "output_type": "stream",
     "text": [
      "509  were retrieved for 2019-04-26 to 2019-05-03\n"
     ]
    },
    {
     "name": "stderr",
     "output_type": "stream",
     "text": [
      "INFO: queries: ['\"Barcelona\" AND \"violencia\" OR \"crimen\" OR \"inseguridad\" OR \"delincuencia\" OR \"agresion\" OR \"delito\" OR \"crim\" OR \"inseguretat\" OR \"delinqüència\" OR \"agressió\" OR \"delicte\") since:2019-04-19 until:2019-04-20', '\"Barcelona\" AND \"violencia\" OR \"crimen\" OR \"inseguridad\" OR \"delincuencia\" OR \"agresion\" OR \"delito\" OR \"crim\" OR \"inseguretat\" OR \"delinqüència\" OR \"agressió\" OR \"delicte\") since:2019-04-20 until:2019-04-21', '\"Barcelona\" AND \"violencia\" OR \"crimen\" OR \"inseguridad\" OR \"delincuencia\" OR \"agresion\" OR \"delito\" OR \"crim\" OR \"inseguretat\" OR \"delinqüència\" OR \"agressió\" OR \"delicte\") since:2019-04-21 until:2019-04-22', '\"Barcelona\" AND \"violencia\" OR \"crimen\" OR \"inseguridad\" OR \"delincuencia\" OR \"agresion\" OR \"delito\" OR \"crim\" OR \"inseguretat\" OR \"delinqüència\" OR \"agressió\" OR \"delicte\") since:2019-04-22 until:2019-04-23', '\"Barcelona\" AND \"violencia\" OR \"crimen\" OR \"inseguridad\" OR \"delincuencia\" OR \"agresion\" OR \"delito\" OR \"crim\" OR \"inseguretat\" OR \"delinqüència\" OR \"agressió\" OR \"delicte\") since:2019-04-23 until:2019-04-24', '\"Barcelona\" AND \"violencia\" OR \"crimen\" OR \"inseguridad\" OR \"delincuencia\" OR \"agresion\" OR \"delito\" OR \"crim\" OR \"inseguretat\" OR \"delinqüència\" OR \"agressió\" OR \"delicte\") since:2019-04-24 until:2019-04-25', '\"Barcelona\" AND \"violencia\" OR \"crimen\" OR \"inseguridad\" OR \"delincuencia\" OR \"agresion\" OR \"delito\" OR \"crim\" OR \"inseguretat\" OR \"delinqüència\" OR \"agressió\" OR \"delicte\") since:2019-04-25 until:2019-04-26']\n",
      "INFO: Got 61 tweets (61 new).\n",
      "INFO: Got 135 tweets (74 new).\n",
      "INFO: Got 221 tweets (86 new).\n",
      "INFO: Got 301 tweets (80 new).\n",
      "INFO: Got 484 tweets (183 new).\n",
      "INFO: Got 665 tweets (181 new).\n",
      "INFO: Got 1005 tweets (340 new).\n"
     ]
    },
    {
     "name": "stdout",
     "output_type": "stream",
     "text": [
      "1005  were retrieved for 2019-04-19 to 2019-04-26\n"
     ]
    },
    {
     "name": "stderr",
     "output_type": "stream",
     "text": [
      "INFO: queries: ['\"Barcelona\" AND \"violencia\" OR \"crimen\" OR \"inseguridad\" OR \"delincuencia\" OR \"agresion\" OR \"delito\" OR \"crim\" OR \"inseguretat\" OR \"delinqüència\" OR \"agressió\" OR \"delicte\") since:2019-04-12 until:2019-04-13', '\"Barcelona\" AND \"violencia\" OR \"crimen\" OR \"inseguridad\" OR \"delincuencia\" OR \"agresion\" OR \"delito\" OR \"crim\" OR \"inseguretat\" OR \"delinqüència\" OR \"agressió\" OR \"delicte\") since:2019-04-13 until:2019-04-14', '\"Barcelona\" AND \"violencia\" OR \"crimen\" OR \"inseguridad\" OR \"delincuencia\" OR \"agresion\" OR \"delito\" OR \"crim\" OR \"inseguretat\" OR \"delinqüència\" OR \"agressió\" OR \"delicte\") since:2019-04-14 until:2019-04-15', '\"Barcelona\" AND \"violencia\" OR \"crimen\" OR \"inseguridad\" OR \"delincuencia\" OR \"agresion\" OR \"delito\" OR \"crim\" OR \"inseguretat\" OR \"delinqüència\" OR \"agressió\" OR \"delicte\") since:2019-04-15 until:2019-04-16', '\"Barcelona\" AND \"violencia\" OR \"crimen\" OR \"inseguridad\" OR \"delincuencia\" OR \"agresion\" OR \"delito\" OR \"crim\" OR \"inseguretat\" OR \"delinqüència\" OR \"agressió\" OR \"delicte\") since:2019-04-16 until:2019-04-17', '\"Barcelona\" AND \"violencia\" OR \"crimen\" OR \"inseguridad\" OR \"delincuencia\" OR \"agresion\" OR \"delito\" OR \"crim\" OR \"inseguretat\" OR \"delinqüència\" OR \"agressió\" OR \"delicte\") since:2019-04-17 until:2019-04-18', '\"Barcelona\" AND \"violencia\" OR \"crimen\" OR \"inseguridad\" OR \"delincuencia\" OR \"agresion\" OR \"delito\" OR \"crim\" OR \"inseguretat\" OR \"delinqüència\" OR \"agressió\" OR \"delicte\") since:2019-04-18 until:2019-04-19']\n",
      "INFO: Got 49 tweets (49 new).\n",
      "INFO: Got 110 tweets (61 new).\n",
      "INFO: Got 176 tweets (66 new).\n",
      "INFO: Got 251 tweets (75 new).\n",
      "INFO: Got 323 tweets (72 new).\n",
      "INFO: Got 404 tweets (81 new).\n",
      "INFO: Got 614 tweets (210 new).\n"
     ]
    },
    {
     "name": "stdout",
     "output_type": "stream",
     "text": [
      "614  were retrieved for 2019-04-12 to 2019-04-19\n"
     ]
    },
    {
     "name": "stderr",
     "output_type": "stream",
     "text": [
      "INFO: queries: ['\"Barcelona\" AND \"violencia\" OR \"crimen\" OR \"inseguridad\" OR \"delincuencia\" OR \"agresion\" OR \"delito\" OR \"crim\" OR \"inseguretat\" OR \"delinqüència\" OR \"agressió\" OR \"delicte\") since:2019-04-05 until:2019-04-06', '\"Barcelona\" AND \"violencia\" OR \"crimen\" OR \"inseguridad\" OR \"delincuencia\" OR \"agresion\" OR \"delito\" OR \"crim\" OR \"inseguretat\" OR \"delinqüència\" OR \"agressió\" OR \"delicte\") since:2019-04-06 until:2019-04-07', '\"Barcelona\" AND \"violencia\" OR \"crimen\" OR \"inseguridad\" OR \"delincuencia\" OR \"agresion\" OR \"delito\" OR \"crim\" OR \"inseguretat\" OR \"delinqüència\" OR \"agressió\" OR \"delicte\") since:2019-04-07 until:2019-04-08', '\"Barcelona\" AND \"violencia\" OR \"crimen\" OR \"inseguridad\" OR \"delincuencia\" OR \"agresion\" OR \"delito\" OR \"crim\" OR \"inseguretat\" OR \"delinqüència\" OR \"agressió\" OR \"delicte\") since:2019-04-08 until:2019-04-09', '\"Barcelona\" AND \"violencia\" OR \"crimen\" OR \"inseguridad\" OR \"delincuencia\" OR \"agresion\" OR \"delito\" OR \"crim\" OR \"inseguretat\" OR \"delinqüència\" OR \"agressió\" OR \"delicte\") since:2019-04-09 until:2019-04-10', '\"Barcelona\" AND \"violencia\" OR \"crimen\" OR \"inseguridad\" OR \"delincuencia\" OR \"agresion\" OR \"delito\" OR \"crim\" OR \"inseguretat\" OR \"delinqüència\" OR \"agressió\" OR \"delicte\") since:2019-04-10 until:2019-04-11', '\"Barcelona\" AND \"violencia\" OR \"crimen\" OR \"inseguridad\" OR \"delincuencia\" OR \"agresion\" OR \"delito\" OR \"crim\" OR \"inseguretat\" OR \"delinqüència\" OR \"agressió\" OR \"delicte\") since:2019-04-11 until:2019-04-12']\n",
      "INFO: Got 44 tweets (44 new).\n",
      "INFO: Got 94 tweets (50 new).\n",
      "INFO: Got 153 tweets (59 new).\n",
      "INFO: Got 224 tweets (71 new).\n",
      "INFO: Got 297 tweets (73 new).\n",
      "INFO: Got 388 tweets (91 new).\n",
      "INFO: Got 609 tweets (221 new).\n"
     ]
    },
    {
     "name": "stdout",
     "output_type": "stream",
     "text": [
      "609  were retrieved for 2019-04-05 to 2019-04-12\n"
     ]
    },
    {
     "name": "stderr",
     "output_type": "stream",
     "text": [
      "INFO: queries: ['\"Barcelona\" AND \"violencia\" OR \"crimen\" OR \"inseguridad\" OR \"delincuencia\" OR \"agresion\" OR \"delito\" OR \"crim\" OR \"inseguretat\" OR \"delinqüència\" OR \"agressió\" OR \"delicte\") since:2019-03-29 until:2019-03-30', '\"Barcelona\" AND \"violencia\" OR \"crimen\" OR \"inseguridad\" OR \"delincuencia\" OR \"agresion\" OR \"delito\" OR \"crim\" OR \"inseguretat\" OR \"delinqüència\" OR \"agressió\" OR \"delicte\") since:2019-03-30 until:2019-03-31', '\"Barcelona\" AND \"violencia\" OR \"crimen\" OR \"inseguridad\" OR \"delincuencia\" OR \"agresion\" OR \"delito\" OR \"crim\" OR \"inseguretat\" OR \"delinqüència\" OR \"agressió\" OR \"delicte\") since:2019-03-31 until:2019-04-01', '\"Barcelona\" AND \"violencia\" OR \"crimen\" OR \"inseguridad\" OR \"delincuencia\" OR \"agresion\" OR \"delito\" OR \"crim\" OR \"inseguretat\" OR \"delinqüència\" OR \"agressió\" OR \"delicte\") since:2019-04-01 until:2019-04-02', '\"Barcelona\" AND \"violencia\" OR \"crimen\" OR \"inseguridad\" OR \"delincuencia\" OR \"agresion\" OR \"delito\" OR \"crim\" OR \"inseguretat\" OR \"delinqüència\" OR \"agressió\" OR \"delicte\") since:2019-04-02 until:2019-04-03', '\"Barcelona\" AND \"violencia\" OR \"crimen\" OR \"inseguridad\" OR \"delincuencia\" OR \"agresion\" OR \"delito\" OR \"crim\" OR \"inseguretat\" OR \"delinqüència\" OR \"agressió\" OR \"delicte\") since:2019-04-03 until:2019-04-04', '\"Barcelona\" AND \"violencia\" OR \"crimen\" OR \"inseguridad\" OR \"delincuencia\" OR \"agresion\" OR \"delito\" OR \"crim\" OR \"inseguretat\" OR \"delinqüència\" OR \"agressió\" OR \"delicte\") since:2019-04-04 until:2019-04-05']\n",
      "INFO: Got 54 tweets (54 new).\n",
      "INFO: Got 122 tweets (68 new).\n",
      "INFO: Got 191 tweets (69 new).\n",
      "INFO: Got 275 tweets (84 new).\n",
      "INFO: Got 437 tweets (162 new).\n",
      "INFO: Got 729 tweets (292 new).\n",
      "INFO: Got 1292 tweets (563 new).\n"
     ]
    },
    {
     "name": "stdout",
     "output_type": "stream",
     "text": [
      "1292  were retrieved for 2019-03-29 to 2019-04-05\n"
     ]
    },
    {
     "name": "stderr",
     "output_type": "stream",
     "text": [
      "INFO: queries: ['\"Barcelona\" AND \"violencia\" OR \"crimen\" OR \"inseguridad\" OR \"delincuencia\" OR \"agresion\" OR \"delito\" OR \"crim\" OR \"inseguretat\" OR \"delinqüència\" OR \"agressió\" OR \"delicte\") since:2019-03-22 until:2019-03-23', '\"Barcelona\" AND \"violencia\" OR \"crimen\" OR \"inseguridad\" OR \"delincuencia\" OR \"agresion\" OR \"delito\" OR \"crim\" OR \"inseguretat\" OR \"delinqüència\" OR \"agressió\" OR \"delicte\") since:2019-03-23 until:2019-03-24', '\"Barcelona\" AND \"violencia\" OR \"crimen\" OR \"inseguridad\" OR \"delincuencia\" OR \"agresion\" OR \"delito\" OR \"crim\" OR \"inseguretat\" OR \"delinqüència\" OR \"agressió\" OR \"delicte\") since:2019-03-24 until:2019-03-25', '\"Barcelona\" AND \"violencia\" OR \"crimen\" OR \"inseguridad\" OR \"delincuencia\" OR \"agresion\" OR \"delito\" OR \"crim\" OR \"inseguretat\" OR \"delinqüència\" OR \"agressió\" OR \"delicte\") since:2019-03-25 until:2019-03-26', '\"Barcelona\" AND \"violencia\" OR \"crimen\" OR \"inseguridad\" OR \"delincuencia\" OR \"agresion\" OR \"delito\" OR \"crim\" OR \"inseguretat\" OR \"delinqüència\" OR \"agressió\" OR \"delicte\") since:2019-03-26 until:2019-03-27', '\"Barcelona\" AND \"violencia\" OR \"crimen\" OR \"inseguridad\" OR \"delincuencia\" OR \"agresion\" OR \"delito\" OR \"crim\" OR \"inseguretat\" OR \"delinqüència\" OR \"agressió\" OR \"delicte\") since:2019-03-27 until:2019-03-28', '\"Barcelona\" AND \"violencia\" OR \"crimen\" OR \"inseguridad\" OR \"delincuencia\" OR \"agresion\" OR \"delito\" OR \"crim\" OR \"inseguretat\" OR \"delinqüència\" OR \"agressió\" OR \"delicte\") since:2019-03-28 until:2019-03-29']\n",
      "INFO: Got 36 tweets (36 new).\n",
      "INFO: Got 81 tweets (45 new).\n",
      "INFO: Got 123 tweets (42 new).\n",
      "INFO: Got 161 tweets (38 new).\n",
      "INFO: Got 218 tweets (57 new).\n",
      "INFO: Got 273 tweets (55 new).\n",
      "INFO: Got 387 tweets (114 new).\n"
     ]
    },
    {
     "name": "stdout",
     "output_type": "stream",
     "text": [
      "387  were retrieved for 2019-03-22 to 2019-03-29\n"
     ]
    },
    {
     "name": "stderr",
     "output_type": "stream",
     "text": [
      "INFO: queries: ['\"Barcelona\" AND \"violencia\" OR \"crimen\" OR \"inseguridad\" OR \"delincuencia\" OR \"agresion\" OR \"delito\" OR \"crim\" OR \"inseguretat\" OR \"delinqüència\" OR \"agressió\" OR \"delicte\") since:2019-03-15 until:2019-03-16', '\"Barcelona\" AND \"violencia\" OR \"crimen\" OR \"inseguridad\" OR \"delincuencia\" OR \"agresion\" OR \"delito\" OR \"crim\" OR \"inseguretat\" OR \"delinqüència\" OR \"agressió\" OR \"delicte\") since:2019-03-16 until:2019-03-17', '\"Barcelona\" AND \"violencia\" OR \"crimen\" OR \"inseguridad\" OR \"delincuencia\" OR \"agresion\" OR \"delito\" OR \"crim\" OR \"inseguretat\" OR \"delinqüència\" OR \"agressió\" OR \"delicte\") since:2019-03-17 until:2019-03-18', '\"Barcelona\" AND \"violencia\" OR \"crimen\" OR \"inseguridad\" OR \"delincuencia\" OR \"agresion\" OR \"delito\" OR \"crim\" OR \"inseguretat\" OR \"delinqüència\" OR \"agressió\" OR \"delicte\") since:2019-03-18 until:2019-03-19', '\"Barcelona\" AND \"violencia\" OR \"crimen\" OR \"inseguridad\" OR \"delincuencia\" OR \"agresion\" OR \"delito\" OR \"crim\" OR \"inseguretat\" OR \"delinqüència\" OR \"agressió\" OR \"delicte\") since:2019-03-19 until:2019-03-20', '\"Barcelona\" AND \"violencia\" OR \"crimen\" OR \"inseguridad\" OR \"delincuencia\" OR \"agresion\" OR \"delito\" OR \"crim\" OR \"inseguretat\" OR \"delinqüència\" OR \"agressió\" OR \"delicte\") since:2019-03-20 until:2019-03-21', '\"Barcelona\" AND \"violencia\" OR \"crimen\" OR \"inseguridad\" OR \"delincuencia\" OR \"agresion\" OR \"delito\" OR \"crim\" OR \"inseguretat\" OR \"delinqüència\" OR \"agressió\" OR \"delicte\") since:2019-03-21 until:2019-03-22']\n",
      "INFO: Got 47 tweets (47 new).\n",
      "INFO: Got 90 tweets (43 new).\n",
      "INFO: Got 139 tweets (49 new).\n",
      "INFO: Got 178 tweets (39 new).\n",
      "INFO: Got 238 tweets (60 new).\n",
      "INFO: Got 330 tweets (92 new).\n",
      "INFO: Got 426 tweets (96 new).\n"
     ]
    },
    {
     "name": "stdout",
     "output_type": "stream",
     "text": [
      "426  were retrieved for 2019-03-15 to 2019-03-22\n"
     ]
    },
    {
     "name": "stderr",
     "output_type": "stream",
     "text": [
      "INFO: queries: ['\"Barcelona\" AND \"violencia\" OR \"crimen\" OR \"inseguridad\" OR \"delincuencia\" OR \"agresion\" OR \"delito\" OR \"crim\" OR \"inseguretat\" OR \"delinqüència\" OR \"agressió\" OR \"delicte\") since:2019-03-08 until:2019-03-09', '\"Barcelona\" AND \"violencia\" OR \"crimen\" OR \"inseguridad\" OR \"delincuencia\" OR \"agresion\" OR \"delito\" OR \"crim\" OR \"inseguretat\" OR \"delinqüència\" OR \"agressió\" OR \"delicte\") since:2019-03-09 until:2019-03-10', '\"Barcelona\" AND \"violencia\" OR \"crimen\" OR \"inseguridad\" OR \"delincuencia\" OR \"agresion\" OR \"delito\" OR \"crim\" OR \"inseguretat\" OR \"delinqüència\" OR \"agressió\" OR \"delicte\") since:2019-03-10 until:2019-03-11', '\"Barcelona\" AND \"violencia\" OR \"crimen\" OR \"inseguridad\" OR \"delincuencia\" OR \"agresion\" OR \"delito\" OR \"crim\" OR \"inseguretat\" OR \"delinqüència\" OR \"agressió\" OR \"delicte\") since:2019-03-11 until:2019-03-12', '\"Barcelona\" AND \"violencia\" OR \"crimen\" OR \"inseguridad\" OR \"delincuencia\" OR \"agresion\" OR \"delito\" OR \"crim\" OR \"inseguretat\" OR \"delinqüència\" OR \"agressió\" OR \"delicte\") since:2019-03-12 until:2019-03-13', '\"Barcelona\" AND \"violencia\" OR \"crimen\" OR \"inseguridad\" OR \"delincuencia\" OR \"agresion\" OR \"delito\" OR \"crim\" OR \"inseguretat\" OR \"delinqüència\" OR \"agressió\" OR \"delicte\") since:2019-03-13 until:2019-03-14', '\"Barcelona\" AND \"violencia\" OR \"crimen\" OR \"inseguridad\" OR \"delincuencia\" OR \"agresion\" OR \"delito\" OR \"crim\" OR \"inseguretat\" OR \"delinqüència\" OR \"agressió\" OR \"delicte\") since:2019-03-14 until:2019-03-15']\n",
      "INFO: Got 66 tweets (66 new).\n",
      "INFO: Got 120 tweets (54 new).\n",
      "INFO: Got 183 tweets (63 new).\n",
      "INFO: Got 244 tweets (61 new).\n",
      "INFO: Got 326 tweets (82 new).\n",
      "INFO: Got 404 tweets (78 new).\n",
      "INFO: Got 560 tweets (156 new).\n"
     ]
    },
    {
     "name": "stdout",
     "output_type": "stream",
     "text": [
      "560  were retrieved for 2019-03-08 to 2019-03-15\n"
     ]
    },
    {
     "name": "stderr",
     "output_type": "stream",
     "text": [
      "INFO: queries: ['\"Barcelona\" AND \"violencia\" OR \"crimen\" OR \"inseguridad\" OR \"delincuencia\" OR \"agresion\" OR \"delito\" OR \"crim\" OR \"inseguretat\" OR \"delinqüència\" OR \"agressió\" OR \"delicte\") since:2019-03-01 until:2019-03-02', '\"Barcelona\" AND \"violencia\" OR \"crimen\" OR \"inseguridad\" OR \"delincuencia\" OR \"agresion\" OR \"delito\" OR \"crim\" OR \"inseguretat\" OR \"delinqüència\" OR \"agressió\" OR \"delicte\") since:2019-03-02 until:2019-03-03', '\"Barcelona\" AND \"violencia\" OR \"crimen\" OR \"inseguridad\" OR \"delincuencia\" OR \"agresion\" OR \"delito\" OR \"crim\" OR \"inseguretat\" OR \"delinqüència\" OR \"agressió\" OR \"delicte\") since:2019-03-03 until:2019-03-04', '\"Barcelona\" AND \"violencia\" OR \"crimen\" OR \"inseguridad\" OR \"delincuencia\" OR \"agresion\" OR \"delito\" OR \"crim\" OR \"inseguretat\" OR \"delinqüència\" OR \"agressió\" OR \"delicte\") since:2019-03-04 until:2019-03-05', '\"Barcelona\" AND \"violencia\" OR \"crimen\" OR \"inseguridad\" OR \"delincuencia\" OR \"agresion\" OR \"delito\" OR \"crim\" OR \"inseguretat\" OR \"delinqüència\" OR \"agressió\" OR \"delicte\") since:2019-03-05 until:2019-03-06', '\"Barcelona\" AND \"violencia\" OR \"crimen\" OR \"inseguridad\" OR \"delincuencia\" OR \"agresion\" OR \"delito\" OR \"crim\" OR \"inseguretat\" OR \"delinqüència\" OR \"agressió\" OR \"delicte\") since:2019-03-06 until:2019-03-07', '\"Barcelona\" AND \"violencia\" OR \"crimen\" OR \"inseguridad\" OR \"delincuencia\" OR \"agresion\" OR \"delito\" OR \"crim\" OR \"inseguretat\" OR \"delinqüència\" OR \"agressió\" OR \"delicte\") since:2019-03-07 until:2019-03-08']\n",
      "INFO: Got 61 tweets (61 new).\n",
      "INFO: Got 129 tweets (68 new).\n",
      "INFO: Got 213 tweets (84 new).\n",
      "INFO: Got 289 tweets (76 new).\n",
      "INFO: Got 399 tweets (110 new).\n",
      "INFO: Got 579 tweets (180 new).\n",
      "INFO: Got 968 tweets (389 new).\n"
     ]
    },
    {
     "name": "stdout",
     "output_type": "stream",
     "text": [
      "968  were retrieved for 2019-03-01 to 2019-03-08\n"
     ]
    },
    {
     "name": "stderr",
     "output_type": "stream",
     "text": [
      "INFO: queries: ['\"Barcelona\" AND \"violencia\" OR \"crimen\" OR \"inseguridad\" OR \"delincuencia\" OR \"agresion\" OR \"delito\" OR \"crim\" OR \"inseguretat\" OR \"delinqüència\" OR \"agressió\" OR \"delicte\") since:2019-02-22 until:2019-02-23', '\"Barcelona\" AND \"violencia\" OR \"crimen\" OR \"inseguridad\" OR \"delincuencia\" OR \"agresion\" OR \"delito\" OR \"crim\" OR \"inseguretat\" OR \"delinqüència\" OR \"agressió\" OR \"delicte\") since:2019-02-23 until:2019-02-24', '\"Barcelona\" AND \"violencia\" OR \"crimen\" OR \"inseguridad\" OR \"delincuencia\" OR \"agresion\" OR \"delito\" OR \"crim\" OR \"inseguretat\" OR \"delinqüència\" OR \"agressió\" OR \"delicte\") since:2019-02-24 until:2019-02-25', '\"Barcelona\" AND \"violencia\" OR \"crimen\" OR \"inseguridad\" OR \"delincuencia\" OR \"agresion\" OR \"delito\" OR \"crim\" OR \"inseguretat\" OR \"delinqüència\" OR \"agressió\" OR \"delicte\") since:2019-02-25 until:2019-02-26', '\"Barcelona\" AND \"violencia\" OR \"crimen\" OR \"inseguridad\" OR \"delincuencia\" OR \"agresion\" OR \"delito\" OR \"crim\" OR \"inseguretat\" OR \"delinqüència\" OR \"agressió\" OR \"delicte\") since:2019-02-26 until:2019-02-27', '\"Barcelona\" AND \"violencia\" OR \"crimen\" OR \"inseguridad\" OR \"delincuencia\" OR \"agresion\" OR \"delito\" OR \"crim\" OR \"inseguretat\" OR \"delinqüència\" OR \"agressió\" OR \"delicte\") since:2019-02-27 until:2019-02-28', '\"Barcelona\" AND \"violencia\" OR \"crimen\" OR \"inseguridad\" OR \"delincuencia\" OR \"agresion\" OR \"delito\" OR \"crim\" OR \"inseguretat\" OR \"delinqüència\" OR \"agressió\" OR \"delicte\") since:2019-02-28 until:2019-03-01']\n",
      "INFO: Got 52 tweets (52 new).\n",
      "INFO: Got 99 tweets (47 new).\n",
      "INFO: Got 148 tweets (49 new).\n",
      "INFO: Got 207 tweets (59 new).\n",
      "INFO: Got 261 tweets (54 new).\n",
      "INFO: Got 329 tweets (68 new).\n",
      "INFO: Got 412 tweets (83 new).\n"
     ]
    },
    {
     "name": "stdout",
     "output_type": "stream",
     "text": [
      "412  were retrieved for 2019-02-22 to 2019-03-01\n"
     ]
    },
    {
     "name": "stderr",
     "output_type": "stream",
     "text": [
      "INFO: queries: ['\"Barcelona\" AND \"violencia\" OR \"crimen\" OR \"inseguridad\" OR \"delincuencia\" OR \"agresion\" OR \"delito\" OR \"crim\" OR \"inseguretat\" OR \"delinqüència\" OR \"agressió\" OR \"delicte\") since:2019-02-15 until:2019-02-16', '\"Barcelona\" AND \"violencia\" OR \"crimen\" OR \"inseguridad\" OR \"delincuencia\" OR \"agresion\" OR \"delito\" OR \"crim\" OR \"inseguretat\" OR \"delinqüència\" OR \"agressió\" OR \"delicte\") since:2019-02-16 until:2019-02-17', '\"Barcelona\" AND \"violencia\" OR \"crimen\" OR \"inseguridad\" OR \"delincuencia\" OR \"agresion\" OR \"delito\" OR \"crim\" OR \"inseguretat\" OR \"delinqüència\" OR \"agressió\" OR \"delicte\") since:2019-02-17 until:2019-02-18', '\"Barcelona\" AND \"violencia\" OR \"crimen\" OR \"inseguridad\" OR \"delincuencia\" OR \"agresion\" OR \"delito\" OR \"crim\" OR \"inseguretat\" OR \"delinqüència\" OR \"agressió\" OR \"delicte\") since:2019-02-18 until:2019-02-19', '\"Barcelona\" AND \"violencia\" OR \"crimen\" OR \"inseguridad\" OR \"delincuencia\" OR \"agresion\" OR \"delito\" OR \"crim\" OR \"inseguretat\" OR \"delinqüència\" OR \"agressió\" OR \"delicte\") since:2019-02-19 until:2019-02-20', '\"Barcelona\" AND \"violencia\" OR \"crimen\" OR \"inseguridad\" OR \"delincuencia\" OR \"agresion\" OR \"delito\" OR \"crim\" OR \"inseguretat\" OR \"delinqüència\" OR \"agressió\" OR \"delicte\") since:2019-02-20 until:2019-02-21', '\"Barcelona\" AND \"violencia\" OR \"crimen\" OR \"inseguridad\" OR \"delincuencia\" OR \"agresion\" OR \"delito\" OR \"crim\" OR \"inseguretat\" OR \"delinqüència\" OR \"agressió\" OR \"delicte\") since:2019-02-21 until:2019-02-22']\n",
      "INFO: Got 101 tweets (101 new).\n",
      "INFO: Got 209 tweets (108 new).\n",
      "INFO: Got 318 tweets (109 new).\n",
      "INFO: Got 445 tweets (127 new).\n",
      "INFO: Got 595 tweets (150 new).\n",
      "INFO: Got 757 tweets (162 new).\n",
      "INFO: Got 1114 tweets (357 new).\n"
     ]
    },
    {
     "name": "stdout",
     "output_type": "stream",
     "text": [
      "1114  were retrieved for 2019-02-15 to 2019-02-22\n"
     ]
    },
    {
     "name": "stderr",
     "output_type": "stream",
     "text": [
      "INFO: queries: ['\"Barcelona\" AND \"violencia\" OR \"crimen\" OR \"inseguridad\" OR \"delincuencia\" OR \"agresion\" OR \"delito\" OR \"crim\" OR \"inseguretat\" OR \"delinqüència\" OR \"agressió\" OR \"delicte\") since:2019-02-08 until:2019-02-09', '\"Barcelona\" AND \"violencia\" OR \"crimen\" OR \"inseguridad\" OR \"delincuencia\" OR \"agresion\" OR \"delito\" OR \"crim\" OR \"inseguretat\" OR \"delinqüència\" OR \"agressió\" OR \"delicte\") since:2019-02-09 until:2019-02-10', '\"Barcelona\" AND \"violencia\" OR \"crimen\" OR \"inseguridad\" OR \"delincuencia\" OR \"agresion\" OR \"delito\" OR \"crim\" OR \"inseguretat\" OR \"delinqüència\" OR \"agressió\" OR \"delicte\") since:2019-02-10 until:2019-02-11', '\"Barcelona\" AND \"violencia\" OR \"crimen\" OR \"inseguridad\" OR \"delincuencia\" OR \"agresion\" OR \"delito\" OR \"crim\" OR \"inseguretat\" OR \"delinqüència\" OR \"agressió\" OR \"delicte\") since:2019-02-11 until:2019-02-12', '\"Barcelona\" AND \"violencia\" OR \"crimen\" OR \"inseguridad\" OR \"delincuencia\" OR \"agresion\" OR \"delito\" OR \"crim\" OR \"inseguretat\" OR \"delinqüència\" OR \"agressió\" OR \"delicte\") since:2019-02-12 until:2019-02-13', '\"Barcelona\" AND \"violencia\" OR \"crimen\" OR \"inseguridad\" OR \"delincuencia\" OR \"agresion\" OR \"delito\" OR \"crim\" OR \"inseguretat\" OR \"delinqüència\" OR \"agressió\" OR \"delicte\") since:2019-02-13 until:2019-02-14', '\"Barcelona\" AND \"violencia\" OR \"crimen\" OR \"inseguridad\" OR \"delincuencia\" OR \"agresion\" OR \"delito\" OR \"crim\" OR \"inseguretat\" OR \"delinqüència\" OR \"agressió\" OR \"delicte\") since:2019-02-14 until:2019-02-15']\n",
      "INFO: Got 63 tweets (63 new).\n",
      "INFO: Got 135 tweets (72 new).\n",
      "INFO: Got 207 tweets (72 new).\n",
      "INFO: Got 279 tweets (72 new).\n",
      "INFO: Got 365 tweets (86 new).\n",
      "INFO: Got 479 tweets (114 new).\n",
      "INFO: Got 628 tweets (149 new).\n"
     ]
    },
    {
     "name": "stdout",
     "output_type": "stream",
     "text": [
      "628  were retrieved for 2019-02-08 to 2019-02-15\n"
     ]
    },
    {
     "name": "stderr",
     "output_type": "stream",
     "text": [
      "INFO: queries: ['\"Barcelona\" AND \"violencia\" OR \"crimen\" OR \"inseguridad\" OR \"delincuencia\" OR \"agresion\" OR \"delito\" OR \"crim\" OR \"inseguretat\" OR \"delinqüència\" OR \"agressió\" OR \"delicte\") since:2019-02-01 until:2019-02-02', '\"Barcelona\" AND \"violencia\" OR \"crimen\" OR \"inseguridad\" OR \"delincuencia\" OR \"agresion\" OR \"delito\" OR \"crim\" OR \"inseguretat\" OR \"delinqüència\" OR \"agressió\" OR \"delicte\") since:2019-02-02 until:2019-02-03', '\"Barcelona\" AND \"violencia\" OR \"crimen\" OR \"inseguridad\" OR \"delincuencia\" OR \"agresion\" OR \"delito\" OR \"crim\" OR \"inseguretat\" OR \"delinqüència\" OR \"agressió\" OR \"delicte\") since:2019-02-03 until:2019-02-04', '\"Barcelona\" AND \"violencia\" OR \"crimen\" OR \"inseguridad\" OR \"delincuencia\" OR \"agresion\" OR \"delito\" OR \"crim\" OR \"inseguretat\" OR \"delinqüència\" OR \"agressió\" OR \"delicte\") since:2019-02-04 until:2019-02-05', '\"Barcelona\" AND \"violencia\" OR \"crimen\" OR \"inseguridad\" OR \"delincuencia\" OR \"agresion\" OR \"delito\" OR \"crim\" OR \"inseguretat\" OR \"delinqüència\" OR \"agressió\" OR \"delicte\") since:2019-02-05 until:2019-02-06', '\"Barcelona\" AND \"violencia\" OR \"crimen\" OR \"inseguridad\" OR \"delincuencia\" OR \"agresion\" OR \"delito\" OR \"crim\" OR \"inseguretat\" OR \"delinqüència\" OR \"agressió\" OR \"delicte\") since:2019-02-06 until:2019-02-07', '\"Barcelona\" AND \"violencia\" OR \"crimen\" OR \"inseguridad\" OR \"delincuencia\" OR \"agresion\" OR \"delito\" OR \"crim\" OR \"inseguretat\" OR \"delinqüència\" OR \"agressió\" OR \"delicte\") since:2019-02-07 until:2019-02-08']\n",
      "INFO: Got 60 tweets (60 new).\n",
      "INFO: Got 128 tweets (68 new).\n",
      "INFO: Got 191 tweets (63 new).\n",
      "INFO: Got 254 tweets (63 new).\n",
      "INFO: Got 335 tweets (81 new).\n",
      "INFO: Got 448 tweets (113 new).\n",
      "INFO: Got 628 tweets (180 new).\n"
     ]
    },
    {
     "name": "stdout",
     "output_type": "stream",
     "text": [
      "628  were retrieved for 2019-02-01 to 2019-02-08\n"
     ]
    },
    {
     "name": "stderr",
     "output_type": "stream",
     "text": [
      "INFO: queries: ['\"Barcelona\" AND \"violencia\" OR \"crimen\" OR \"inseguridad\" OR \"delincuencia\" OR \"agresion\" OR \"delito\" OR \"crim\" OR \"inseguretat\" OR \"delinqüència\" OR \"agressió\" OR \"delicte\") since:2019-01-25 until:2019-01-26', '\"Barcelona\" AND \"violencia\" OR \"crimen\" OR \"inseguridad\" OR \"delincuencia\" OR \"agresion\" OR \"delito\" OR \"crim\" OR \"inseguretat\" OR \"delinqüència\" OR \"agressió\" OR \"delicte\") since:2019-01-26 until:2019-01-27', '\"Barcelona\" AND \"violencia\" OR \"crimen\" OR \"inseguridad\" OR \"delincuencia\" OR \"agresion\" OR \"delito\" OR \"crim\" OR \"inseguretat\" OR \"delinqüència\" OR \"agressió\" OR \"delicte\") since:2019-01-27 until:2019-01-28', '\"Barcelona\" AND \"violencia\" OR \"crimen\" OR \"inseguridad\" OR \"delincuencia\" OR \"agresion\" OR \"delito\" OR \"crim\" OR \"inseguretat\" OR \"delinqüència\" OR \"agressió\" OR \"delicte\") since:2019-01-28 until:2019-01-29', '\"Barcelona\" AND \"violencia\" OR \"crimen\" OR \"inseguridad\" OR \"delincuencia\" OR \"agresion\" OR \"delito\" OR \"crim\" OR \"inseguretat\" OR \"delinqüència\" OR \"agressió\" OR \"delicte\") since:2019-01-29 until:2019-01-30', '\"Barcelona\" AND \"violencia\" OR \"crimen\" OR \"inseguridad\" OR \"delincuencia\" OR \"agresion\" OR \"delito\" OR \"crim\" OR \"inseguretat\" OR \"delinqüència\" OR \"agressió\" OR \"delicte\") since:2019-01-30 until:2019-01-31', '\"Barcelona\" AND \"violencia\" OR \"crimen\" OR \"inseguridad\" OR \"delincuencia\" OR \"agresion\" OR \"delito\" OR \"crim\" OR \"inseguretat\" OR \"delinqüència\" OR \"agressió\" OR \"delicte\") since:2019-01-31 until:2019-02-01']\n",
      "INFO: Got 47 tweets (47 new).\n",
      "INFO: Got 112 tweets (65 new).\n",
      "INFO: Got 170 tweets (58 new).\n",
      "INFO: Got 226 tweets (56 new).\n",
      "INFO: Got 317 tweets (91 new).\n",
      "INFO: Got 415 tweets (98 new).\n",
      "INFO: Got 544 tweets (129 new).\n"
     ]
    },
    {
     "name": "stdout",
     "output_type": "stream",
     "text": [
      "544  were retrieved for 2019-01-25 to 2019-02-01\n"
     ]
    },
    {
     "name": "stderr",
     "output_type": "stream",
     "text": [
      "INFO: queries: ['\"Barcelona\" AND \"violencia\" OR \"crimen\" OR \"inseguridad\" OR \"delincuencia\" OR \"agresion\" OR \"delito\" OR \"crim\" OR \"inseguretat\" OR \"delinqüència\" OR \"agressió\" OR \"delicte\") since:2019-01-18 until:2019-01-19', '\"Barcelona\" AND \"violencia\" OR \"crimen\" OR \"inseguridad\" OR \"delincuencia\" OR \"agresion\" OR \"delito\" OR \"crim\" OR \"inseguretat\" OR \"delinqüència\" OR \"agressió\" OR \"delicte\") since:2019-01-19 until:2019-01-20', '\"Barcelona\" AND \"violencia\" OR \"crimen\" OR \"inseguridad\" OR \"delincuencia\" OR \"agresion\" OR \"delito\" OR \"crim\" OR \"inseguretat\" OR \"delinqüència\" OR \"agressió\" OR \"delicte\") since:2019-01-20 until:2019-01-21', '\"Barcelona\" AND \"violencia\" OR \"crimen\" OR \"inseguridad\" OR \"delincuencia\" OR \"agresion\" OR \"delito\" OR \"crim\" OR \"inseguretat\" OR \"delinqüència\" OR \"agressió\" OR \"delicte\") since:2019-01-21 until:2019-01-22', '\"Barcelona\" AND \"violencia\" OR \"crimen\" OR \"inseguridad\" OR \"delincuencia\" OR \"agresion\" OR \"delito\" OR \"crim\" OR \"inseguretat\" OR \"delinqüència\" OR \"agressió\" OR \"delicte\") since:2019-01-22 until:2019-01-23', '\"Barcelona\" AND \"violencia\" OR \"crimen\" OR \"inseguridad\" OR \"delincuencia\" OR \"agresion\" OR \"delito\" OR \"crim\" OR \"inseguretat\" OR \"delinqüència\" OR \"agressió\" OR \"delicte\") since:2019-01-23 until:2019-01-24', '\"Barcelona\" AND \"violencia\" OR \"crimen\" OR \"inseguridad\" OR \"delincuencia\" OR \"agresion\" OR \"delito\" OR \"crim\" OR \"inseguretat\" OR \"delinqüència\" OR \"agressió\" OR \"delicte\") since:2019-01-24 until:2019-01-25']\n",
      "INFO: Got 70 tweets (70 new).\n",
      "INFO: Got 172 tweets (102 new).\n",
      "INFO: Got 296 tweets (124 new).\n",
      "INFO: Got 429 tweets (133 new).\n",
      "INFO: Got 605 tweets (176 new).\n",
      "INFO: Got 807 tweets (202 new).\n",
      "INFO: Got 1042 tweets (235 new).\n"
     ]
    },
    {
     "name": "stdout",
     "output_type": "stream",
     "text": [
      "1042  were retrieved for 2019-01-18 to 2019-01-25\n"
     ]
    },
    {
     "name": "stderr",
     "output_type": "stream",
     "text": [
      "INFO: queries: ['\"Barcelona\" AND \"violencia\" OR \"crimen\" OR \"inseguridad\" OR \"delincuencia\" OR \"agresion\" OR \"delito\" OR \"crim\" OR \"inseguretat\" OR \"delinqüència\" OR \"agressió\" OR \"delicte\") since:2019-01-11 until:2019-01-12', '\"Barcelona\" AND \"violencia\" OR \"crimen\" OR \"inseguridad\" OR \"delincuencia\" OR \"agresion\" OR \"delito\" OR \"crim\" OR \"inseguretat\" OR \"delinqüència\" OR \"agressió\" OR \"delicte\") since:2019-01-12 until:2019-01-13', '\"Barcelona\" AND \"violencia\" OR \"crimen\" OR \"inseguridad\" OR \"delincuencia\" OR \"agresion\" OR \"delito\" OR \"crim\" OR \"inseguretat\" OR \"delinqüència\" OR \"agressió\" OR \"delicte\") since:2019-01-13 until:2019-01-14', '\"Barcelona\" AND \"violencia\" OR \"crimen\" OR \"inseguridad\" OR \"delincuencia\" OR \"agresion\" OR \"delito\" OR \"crim\" OR \"inseguretat\" OR \"delinqüència\" OR \"agressió\" OR \"delicte\") since:2019-01-14 until:2019-01-15', '\"Barcelona\" AND \"violencia\" OR \"crimen\" OR \"inseguridad\" OR \"delincuencia\" OR \"agresion\" OR \"delito\" OR \"crim\" OR \"inseguretat\" OR \"delinqüència\" OR \"agressió\" OR \"delicte\") since:2019-01-15 until:2019-01-16', '\"Barcelona\" AND \"violencia\" OR \"crimen\" OR \"inseguridad\" OR \"delincuencia\" OR \"agresion\" OR \"delito\" OR \"crim\" OR \"inseguretat\" OR \"delinqüència\" OR \"agressió\" OR \"delicte\") since:2019-01-16 until:2019-01-17', '\"Barcelona\" AND \"violencia\" OR \"crimen\" OR \"inseguridad\" OR \"delincuencia\" OR \"agresion\" OR \"delito\" OR \"crim\" OR \"inseguretat\" OR \"delinqüència\" OR \"agressió\" OR \"delicte\") since:2019-01-17 until:2019-01-18']\n",
      "INFO: Got 59 tweets (59 new).\n",
      "INFO: Got 149 tweets (90 new).\n",
      "INFO: Got 246 tweets (97 new).\n",
      "INFO: Got 359 tweets (113 new).\n",
      "INFO: Got 586 tweets (227 new).\n",
      "INFO: Got 1055 tweets (469 new).\n",
      "INFO: Got 1612 tweets (557 new).\n"
     ]
    },
    {
     "name": "stdout",
     "output_type": "stream",
     "text": [
      "1612  were retrieved for 2019-01-11 to 2019-01-18\n"
     ]
    },
    {
     "name": "stderr",
     "output_type": "stream",
     "text": [
      "INFO: queries: ['\"Barcelona\" AND \"violencia\" OR \"crimen\" OR \"inseguridad\" OR \"delincuencia\" OR \"agresion\" OR \"delito\" OR \"crim\" OR \"inseguretat\" OR \"delinqüència\" OR \"agressió\" OR \"delicte\") since:2019-01-04 until:2019-01-05', '\"Barcelona\" AND \"violencia\" OR \"crimen\" OR \"inseguridad\" OR \"delincuencia\" OR \"agresion\" OR \"delito\" OR \"crim\" OR \"inseguretat\" OR \"delinqüència\" OR \"agressió\" OR \"delicte\") since:2019-01-05 until:2019-01-06', '\"Barcelona\" AND \"violencia\" OR \"crimen\" OR \"inseguridad\" OR \"delincuencia\" OR \"agresion\" OR \"delito\" OR \"crim\" OR \"inseguretat\" OR \"delinqüència\" OR \"agressió\" OR \"delicte\") since:2019-01-06 until:2019-01-07', '\"Barcelona\" AND \"violencia\" OR \"crimen\" OR \"inseguridad\" OR \"delincuencia\" OR \"agresion\" OR \"delito\" OR \"crim\" OR \"inseguretat\" OR \"delinqüència\" OR \"agressió\" OR \"delicte\") since:2019-01-07 until:2019-01-08', '\"Barcelona\" AND \"violencia\" OR \"crimen\" OR \"inseguridad\" OR \"delincuencia\" OR \"agresion\" OR \"delito\" OR \"crim\" OR \"inseguretat\" OR \"delinqüència\" OR \"agressió\" OR \"delicte\") since:2019-01-08 until:2019-01-09', '\"Barcelona\" AND \"violencia\" OR \"crimen\" OR \"inseguridad\" OR \"delincuencia\" OR \"agresion\" OR \"delito\" OR \"crim\" OR \"inseguretat\" OR \"delinqüència\" OR \"agressió\" OR \"delicte\") since:2019-01-09 until:2019-01-10', '\"Barcelona\" AND \"violencia\" OR \"crimen\" OR \"inseguridad\" OR \"delincuencia\" OR \"agresion\" OR \"delito\" OR \"crim\" OR \"inseguretat\" OR \"delinqüència\" OR \"agressió\" OR \"delicte\") since:2019-01-10 until:2019-01-11']\n",
      "INFO: Got 57 tweets (57 new).\n",
      "INFO: Got 103 tweets (46 new).\n",
      "INFO: Got 171 tweets (68 new).\n",
      "INFO: Got 246 tweets (75 new).\n",
      "INFO: Got 319 tweets (73 new).\n",
      "INFO: Got 416 tweets (97 new).\n",
      "INFO: Got 560 tweets (144 new).\n"
     ]
    },
    {
     "name": "stdout",
     "output_type": "stream",
     "text": [
      "560  were retrieved for 2019-01-04 to 2019-01-11\n"
     ]
    }
   ],
   "source": [
    "day_delta = dt.timedelta(days=1)\n",
    "\n",
    "start_date = dt.date(2020, 1, 24)\n",
    "final_date = dt.date(2019, 1, 4)\n",
    "# print(start_date)\n",
    "# print(end_date == (start_date - 14*day_delta ))\n",
    "while start_date > final_date:\n",
    "    begin_date = start_date - 7*day_delta\n",
    "    end_date = start_date\n",
    "    query = '\"Barcelona\" AND \"violencia\" OR \"crimen\" OR \"inseguridad\" OR \"delincuencia\" OR \"agresion\" OR \"delito\" OR \"crim\" OR \"inseguretat\" OR \"delinqüència\" OR \"agressió\" OR \"delicte\")'\n",
    "    tweets = query_tweets(query=query, begindate = begin_date, enddate = end_date)\n",
    "    print(len(tweets), f' were retrieved for {begin_date} to {end_date}')\n",
    "    df = pd.DataFrame(t.__dict__ for t in tweets)\n",
    "    df.to_csv(f'Tweets_{begin_date}_{end_date}.csv')\n",
    "    start_date -= 7*day_delta\n",
    "    time.sleep(120)"
   ]
  },
  {
   "cell_type": "code",
   "execution_count": 29,
   "metadata": {},
   "outputs": [
    {
     "data": {
      "text/html": [
       "<div>\n",
       "<style scoped>\n",
       "    .dataframe tbody tr th:only-of-type {\n",
       "        vertical-align: middle;\n",
       "    }\n",
       "\n",
       "    .dataframe tbody tr th {\n",
       "        vertical-align: top;\n",
       "    }\n",
       "\n",
       "    .dataframe thead th {\n",
       "        text-align: right;\n",
       "    }\n",
       "</style>\n",
       "<table border=\"1\" class=\"dataframe\">\n",
       "  <thead>\n",
       "    <tr style=\"text-align: right;\">\n",
       "      <th></th>\n",
       "      <th>Unnamed: 0</th>\n",
       "      <th>screen_name</th>\n",
       "      <th>username</th>\n",
       "      <th>user_id</th>\n",
       "      <th>tweet_id</th>\n",
       "      <th>tweet_url</th>\n",
       "      <th>timestamp</th>\n",
       "      <th>timestamp_epochs</th>\n",
       "      <th>text</th>\n",
       "      <th>text_html</th>\n",
       "      <th>...</th>\n",
       "      <th>has_media</th>\n",
       "      <th>img_urls</th>\n",
       "      <th>video_url</th>\n",
       "      <th>likes</th>\n",
       "      <th>retweets</th>\n",
       "      <th>replies</th>\n",
       "      <th>is_replied</th>\n",
       "      <th>is_reply_to</th>\n",
       "      <th>parent_tweet_id</th>\n",
       "      <th>reply_to_users</th>\n",
       "    </tr>\n",
       "  </thead>\n",
       "  <tbody>\n",
       "    <tr>\n",
       "      <td>0</td>\n",
       "      <td>0</td>\n",
       "      <td>AlmelaBenito</td>\n",
       "      <td>Pasalabola</td>\n",
       "      <td>976838803930406912</td>\n",
       "      <td>1224095116467605504</td>\n",
       "      <td>/AlmelaBenito/status/1224095116467605504</td>\n",
       "      <td>2020-02-02 22:19:53</td>\n",
       "      <td>1580681993</td>\n",
       "      <td>Sí, en Alemania es delito, y en Barcelona, le ...</td>\n",
       "      <td>&lt;p class=\"TweetTextSize js-tweet-text tweet-te...</td>\n",
       "      <td>...</td>\n",
       "      <td>False</td>\n",
       "      <td>[]</td>\n",
       "      <td>NaN</td>\n",
       "      <td>1</td>\n",
       "      <td>0</td>\n",
       "      <td>0</td>\n",
       "      <td>False</td>\n",
       "      <td>True</td>\n",
       "      <td>1.224042e+18</td>\n",
       "      <td>[{'screen_name': 'gabrielrufian', 'user_id': '...</td>\n",
       "    </tr>\n",
       "    <tr>\n",
       "      <td>1</td>\n",
       "      <td>1</td>\n",
       "      <td>Medusobcn</td>\n",
       "      <td>Meduso</td>\n",
       "      <td>1032904833370652673</td>\n",
       "      <td>1224094985861115904</td>\n",
       "      <td>/Medusobcn/status/1224094985861115904</td>\n",
       "      <td>2020-02-02 22:19:21</td>\n",
       "      <td>1580681961</td>\n",
       "      <td>Companys mandó fusilar a 8.000 personas en tod...</td>\n",
       "      <td>&lt;p class=\"TweetTextSize js-tweet-text tweet-te...</td>\n",
       "      <td>...</td>\n",
       "      <td>False</td>\n",
       "      <td>[]</td>\n",
       "      <td>NaN</td>\n",
       "      <td>539</td>\n",
       "      <td>237</td>\n",
       "      <td>17</td>\n",
       "      <td>True</td>\n",
       "      <td>False</td>\n",
       "      <td>NaN</td>\n",
       "      <td>[]</td>\n",
       "    </tr>\n",
       "    <tr>\n",
       "      <td>2</td>\n",
       "      <td>2</td>\n",
       "      <td>SoulaymanSbai</td>\n",
       "      <td>soulayman SBAI</td>\n",
       "      <td>1190692662061469696</td>\n",
       "      <td>1224091007777746945</td>\n",
       "      <td>/SoulaymanSbai/status/1224091007777746945</td>\n",
       "      <td>2020-02-02 22:03:33</td>\n",
       "      <td>1580681013</td>\n",
       "      <td>@QSetien rakitic es un crimen en el centro del...</td>\n",
       "      <td>&lt;p class=\"TweetTextSize js-tweet-text tweet-te...</td>\n",
       "      <td>...</td>\n",
       "      <td>False</td>\n",
       "      <td>[]</td>\n",
       "      <td>NaN</td>\n",
       "      <td>0</td>\n",
       "      <td>0</td>\n",
       "      <td>0</td>\n",
       "      <td>False</td>\n",
       "      <td>False</td>\n",
       "      <td>NaN</td>\n",
       "      <td>[]</td>\n",
       "    </tr>\n",
       "    <tr>\n",
       "      <td>3</td>\n",
       "      <td>3</td>\n",
       "      <td>GNB_D311</td>\n",
       "      <td>GNB_D-311 (Guanare)</td>\n",
       "      <td>712744654895230976</td>\n",
       "      <td>1224082435220168704</td>\n",
       "      <td>/GNB_D311/status/1224082435220168704</td>\n",
       "      <td>2020-02-02 21:29:29</td>\n",
       "      <td>1580678969</td>\n",
       "      <td>#2Feb | Efectivos adscritos a la 5ta CIA (Guan...</td>\n",
       "      <td>&lt;p class=\"TweetTextSize js-tweet-text tweet-te...</td>\n",
       "      <td>...</td>\n",
       "      <td>True</td>\n",
       "      <td>['https://pbs.twimg.com/media/EPzQeJyU8AAeOg6....</td>\n",
       "      <td>NaN</td>\n",
       "      <td>2</td>\n",
       "      <td>2</td>\n",
       "      <td>0</td>\n",
       "      <td>False</td>\n",
       "      <td>False</td>\n",
       "      <td>NaN</td>\n",
       "      <td>[]</td>\n",
       "    </tr>\n",
       "    <tr>\n",
       "      <td>4</td>\n",
       "      <td>4</td>\n",
       "      <td>Gre_asRules</td>\n",
       "      <td>G.Rules 🔻</td>\n",
       "      <td>1216317963156017152</td>\n",
       "      <td>1224074429765967872</td>\n",
       "      <td>/Gre_asRules/status/1224074429765967872</td>\n",
       "      <td>2020-02-02 20:57:40</td>\n",
       "      <td>1580677060</td>\n",
       "      <td>pero además... me refería a que se podría habe...</td>\n",
       "      <td>&lt;p class=\"TweetTextSize js-tweet-text tweet-te...</td>\n",
       "      <td>...</td>\n",
       "      <td>False</td>\n",
       "      <td>[]</td>\n",
       "      <td>NaN</td>\n",
       "      <td>0</td>\n",
       "      <td>0</td>\n",
       "      <td>1</td>\n",
       "      <td>True</td>\n",
       "      <td>True</td>\n",
       "      <td>1.223747e+18</td>\n",
       "      <td>[{'screen_name': 'soyferminespin', 'user_id': ...</td>\n",
       "    </tr>\n",
       "    <tr>\n",
       "      <td>...</td>\n",
       "      <td>...</td>\n",
       "      <td>...</td>\n",
       "      <td>...</td>\n",
       "      <td>...</td>\n",
       "      <td>...</td>\n",
       "      <td>...</td>\n",
       "      <td>...</td>\n",
       "      <td>...</td>\n",
       "      <td>...</td>\n",
       "      <td>...</td>\n",
       "      <td>...</td>\n",
       "      <td>...</td>\n",
       "      <td>...</td>\n",
       "      <td>...</td>\n",
       "      <td>...</td>\n",
       "      <td>...</td>\n",
       "      <td>...</td>\n",
       "      <td>...</td>\n",
       "      <td>...</td>\n",
       "      <td>...</td>\n",
       "      <td>...</td>\n",
       "    </tr>\n",
       "    <tr>\n",
       "      <td>1622</td>\n",
       "      <td>863</td>\n",
       "      <td>silviacasorran</td>\n",
       "      <td>Sílvia Casorrán</td>\n",
       "      <td>283669214</td>\n",
       "      <td>1227762288570097664</td>\n",
       "      <td>/silviacasorran/status/1227762288570097664</td>\n",
       "      <td>2020-02-13 01:11:54</td>\n",
       "      <td>1581556314</td>\n",
       "      <td>El carril bus té línia discontínua, i una bici...</td>\n",
       "      <td>&lt;p class=\"TweetTextSize js-tweet-text tweet-te...</td>\n",
       "      <td>...</td>\n",
       "      <td>False</td>\n",
       "      <td>[]</td>\n",
       "      <td>NaN</td>\n",
       "      <td>5</td>\n",
       "      <td>2</td>\n",
       "      <td>1</td>\n",
       "      <td>True</td>\n",
       "      <td>True</td>\n",
       "      <td>1.227645e+18</td>\n",
       "      <td>[{'screen_name': 'HBurghardtColl', 'user_id': ...</td>\n",
       "    </tr>\n",
       "    <tr>\n",
       "      <td>1623</td>\n",
       "      <td>864</td>\n",
       "      <td>HDannyR16</td>\n",
       "      <td>Danny Rodriguez®</td>\n",
       "      <td>941294615252086784</td>\n",
       "      <td>1227761314832867328</td>\n",
       "      <td>/HDannyR16/status/1227761314832867328</td>\n",
       "      <td>2020-02-13 01:08:02</td>\n",
       "      <td>1581556082</td>\n",
       "      <td>Mentiras, manipulaciones y toxicidad: las pasi...</td>\n",
       "      <td>&lt;p class=\"TweetTextSize js-tweet-text tweet-te...</td>\n",
       "      <td>...</td>\n",
       "      <td>True</td>\n",
       "      <td>['https://pbs.twimg.com/media/EQniaNBVUAEyEHS....</td>\n",
       "      <td>NaN</td>\n",
       "      <td>0</td>\n",
       "      <td>0</td>\n",
       "      <td>0</td>\n",
       "      <td>False</td>\n",
       "      <td>False</td>\n",
       "      <td>NaN</td>\n",
       "      <td>[]</td>\n",
       "    </tr>\n",
       "    <tr>\n",
       "      <td>1624</td>\n",
       "      <td>865</td>\n",
       "      <td>Valtimor2</td>\n",
       "      <td>The green commander of the rainbow 🌈 ☘️</td>\n",
       "      <td>885874967019229184</td>\n",
       "      <td>1227760785901936640</td>\n",
       "      <td>/Valtimor2/status/1227760785901936640</td>\n",
       "      <td>2020-02-13 01:05:56</td>\n",
       "      <td>1581555956</td>\n",
       "      <td>Pues ejercer una profesión sin título cuando s...</td>\n",
       "      <td>&lt;p class=\"TweetTextSize js-tweet-text tweet-te...</td>\n",
       "      <td>...</td>\n",
       "      <td>False</td>\n",
       "      <td>[]</td>\n",
       "      <td>NaN</td>\n",
       "      <td>0</td>\n",
       "      <td>0</td>\n",
       "      <td>2</td>\n",
       "      <td>True</td>\n",
       "      <td>True</td>\n",
       "      <td>1.227654e+18</td>\n",
       "      <td>[{'screen_name': 'Slaanesh_Adria', 'user_id': ...</td>\n",
       "    </tr>\n",
       "    <tr>\n",
       "      <td>1625</td>\n",
       "      <td>866</td>\n",
       "      <td>JoseLuisdelRio9</td>\n",
       "      <td>Jose Luis del Rio</td>\n",
       "      <td>2512810447</td>\n",
       "      <td>1227754356587614208</td>\n",
       "      <td>/JoseLuisdelRio9/status/1227754356587614208</td>\n",
       "      <td>2020-02-13 00:40:23</td>\n",
       "      <td>1581554423</td>\n",
       "      <td>El GSMA cancela el #MobileWorldCongress2020 ...</td>\n",
       "      <td>&lt;p class=\"TweetTextSize js-tweet-text tweet-te...</td>\n",
       "      <td>...</td>\n",
       "      <td>False</td>\n",
       "      <td>[]</td>\n",
       "      <td>NaN</td>\n",
       "      <td>1</td>\n",
       "      <td>1</td>\n",
       "      <td>0</td>\n",
       "      <td>False</td>\n",
       "      <td>False</td>\n",
       "      <td>NaN</td>\n",
       "      <td>[]</td>\n",
       "    </tr>\n",
       "    <tr>\n",
       "      <td>1626</td>\n",
       "      <td>867</td>\n",
       "      <td>marclaescort</td>\n",
       "      <td>Marc La Escort</td>\n",
       "      <td>1203455824359776257</td>\n",
       "      <td>1227750792825843713</td>\n",
       "      <td>/marclaescort/status/1227750792825843713</td>\n",
       "      <td>2020-02-13 00:26:14</td>\n",
       "      <td>1581553574</td>\n",
       "      <td>Lo cierto de la anulación del Mobile es que Ba...</td>\n",
       "      <td>&lt;p class=\"TweetTextSize js-tweet-text tweet-te...</td>\n",
       "      <td>...</td>\n",
       "      <td>False</td>\n",
       "      <td>[]</td>\n",
       "      <td>NaN</td>\n",
       "      <td>0</td>\n",
       "      <td>0</td>\n",
       "      <td>0</td>\n",
       "      <td>False</td>\n",
       "      <td>False</td>\n",
       "      <td>NaN</td>\n",
       "      <td>[]</td>\n",
       "    </tr>\n",
       "  </tbody>\n",
       "</table>\n",
       "<p>1627 rows × 22 columns</p>\n",
       "</div>"
      ],
      "text/plain": [
       "      Unnamed: 0      screen_name                                 username  \\\n",
       "0              0     AlmelaBenito                               Pasalabola   \n",
       "1              1        Medusobcn                                   Meduso   \n",
       "2              2    SoulaymanSbai                           soulayman SBAI   \n",
       "3              3         GNB_D311                      GNB_D-311 (Guanare)   \n",
       "4              4      Gre_asRules                                G.Rules 🔻   \n",
       "...          ...              ...                                      ...   \n",
       "1622         863   silviacasorran                          Sílvia Casorrán   \n",
       "1623         864        HDannyR16                         Danny Rodriguez®   \n",
       "1624         865        Valtimor2  The green commander of the rainbow 🌈 ☘️   \n",
       "1625         866  JoseLuisdelRio9                        Jose Luis del Rio   \n",
       "1626         867     marclaescort                           Marc La Escort   \n",
       "\n",
       "                  user_id             tweet_id  \\\n",
       "0      976838803930406912  1224095116467605504   \n",
       "1     1032904833370652673  1224094985861115904   \n",
       "2     1190692662061469696  1224091007777746945   \n",
       "3      712744654895230976  1224082435220168704   \n",
       "4     1216317963156017152  1224074429765967872   \n",
       "...                   ...                  ...   \n",
       "1622            283669214  1227762288570097664   \n",
       "1623   941294615252086784  1227761314832867328   \n",
       "1624   885874967019229184  1227760785901936640   \n",
       "1625           2512810447  1227754356587614208   \n",
       "1626  1203455824359776257  1227750792825843713   \n",
       "\n",
       "                                        tweet_url            timestamp  \\\n",
       "0        /AlmelaBenito/status/1224095116467605504  2020-02-02 22:19:53   \n",
       "1           /Medusobcn/status/1224094985861115904  2020-02-02 22:19:21   \n",
       "2       /SoulaymanSbai/status/1224091007777746945  2020-02-02 22:03:33   \n",
       "3            /GNB_D311/status/1224082435220168704  2020-02-02 21:29:29   \n",
       "4         /Gre_asRules/status/1224074429765967872  2020-02-02 20:57:40   \n",
       "...                                           ...                  ...   \n",
       "1622   /silviacasorran/status/1227762288570097664  2020-02-13 01:11:54   \n",
       "1623        /HDannyR16/status/1227761314832867328  2020-02-13 01:08:02   \n",
       "1624        /Valtimor2/status/1227760785901936640  2020-02-13 01:05:56   \n",
       "1625  /JoseLuisdelRio9/status/1227754356587614208  2020-02-13 00:40:23   \n",
       "1626     /marclaescort/status/1227750792825843713  2020-02-13 00:26:14   \n",
       "\n",
       "      timestamp_epochs                                               text  \\\n",
       "0           1580681993  Sí, en Alemania es delito, y en Barcelona, le ...   \n",
       "1           1580681961  Companys mandó fusilar a 8.000 personas en tod...   \n",
       "2           1580681013  @QSetien rakitic es un crimen en el centro del...   \n",
       "3           1580678969  #2Feb | Efectivos adscritos a la 5ta CIA (Guan...   \n",
       "4           1580677060  pero además... me refería a que se podría habe...   \n",
       "...                ...                                                ...   \n",
       "1622        1581556314  El carril bus té línia discontínua, i una bici...   \n",
       "1623        1581556082  Mentiras, manipulaciones y toxicidad: las pasi...   \n",
       "1624        1581555956  Pues ejercer una profesión sin título cuando s...   \n",
       "1625        1581554423    El GSMA cancela el #MobileWorldCongress2020 ...   \n",
       "1626        1581553574  Lo cierto de la anulación del Mobile es que Ba...   \n",
       "\n",
       "                                              text_html  ... has_media  \\\n",
       "0     <p class=\"TweetTextSize js-tweet-text tweet-te...  ...     False   \n",
       "1     <p class=\"TweetTextSize js-tweet-text tweet-te...  ...     False   \n",
       "2     <p class=\"TweetTextSize js-tweet-text tweet-te...  ...     False   \n",
       "3     <p class=\"TweetTextSize js-tweet-text tweet-te...  ...      True   \n",
       "4     <p class=\"TweetTextSize js-tweet-text tweet-te...  ...     False   \n",
       "...                                                 ...  ...       ...   \n",
       "1622  <p class=\"TweetTextSize js-tweet-text tweet-te...  ...     False   \n",
       "1623  <p class=\"TweetTextSize js-tweet-text tweet-te...  ...      True   \n",
       "1624  <p class=\"TweetTextSize js-tweet-text tweet-te...  ...     False   \n",
       "1625  <p class=\"TweetTextSize js-tweet-text tweet-te...  ...     False   \n",
       "1626  <p class=\"TweetTextSize js-tweet-text tweet-te...  ...     False   \n",
       "\n",
       "                                               img_urls  video_url likes  \\\n",
       "0                                                    []        NaN     1   \n",
       "1                                                    []        NaN   539   \n",
       "2                                                    []        NaN     0   \n",
       "3     ['https://pbs.twimg.com/media/EPzQeJyU8AAeOg6....        NaN     2   \n",
       "4                                                    []        NaN     0   \n",
       "...                                                 ...        ...   ...   \n",
       "1622                                                 []        NaN     5   \n",
       "1623  ['https://pbs.twimg.com/media/EQniaNBVUAEyEHS....        NaN     0   \n",
       "1624                                                 []        NaN     0   \n",
       "1625                                                 []        NaN     1   \n",
       "1626                                                 []        NaN     0   \n",
       "\n",
       "      retweets  replies  is_replied  is_reply_to  parent_tweet_id  \\\n",
       "0            0        0       False         True     1.224042e+18   \n",
       "1          237       17        True        False              NaN   \n",
       "2            0        0       False        False              NaN   \n",
       "3            2        0       False        False              NaN   \n",
       "4            0        1        True         True     1.223747e+18   \n",
       "...        ...      ...         ...          ...              ...   \n",
       "1622         2        1        True         True     1.227645e+18   \n",
       "1623         0        0       False        False              NaN   \n",
       "1624         0        2        True         True     1.227654e+18   \n",
       "1625         1        0       False        False              NaN   \n",
       "1626         0        0       False        False              NaN   \n",
       "\n",
       "                                         reply_to_users  \n",
       "0     [{'screen_name': 'gabrielrufian', 'user_id': '...  \n",
       "1                                                    []  \n",
       "2                                                    []  \n",
       "3                                                    []  \n",
       "4     [{'screen_name': 'soyferminespin', 'user_id': ...  \n",
       "...                                                 ...  \n",
       "1622  [{'screen_name': 'HBurghardtColl', 'user_id': ...  \n",
       "1623                                                 []  \n",
       "1624  [{'screen_name': 'Slaanesh_Adria', 'user_id': ...  \n",
       "1625                                                 []  \n",
       "1626                                                 []  \n",
       "\n",
       "[1627 rows x 22 columns]"
      ]
     },
     "execution_count": 29,
     "metadata": {},
     "output_type": "execute_result"
    }
   ],
   "source": [
    "df_all = pd.concat([pd.read_csv(f) for f in glob.glob('*.csv')], ignore_index = True)\n",
    "df_all"
   ]
  },
  {
   "cell_type": "code",
   "execution_count": null,
   "metadata": {},
   "outputs": [],
   "source": []
  }
 ],
 "metadata": {
  "kernelspec": {
   "display_name": "Python 3",
   "language": "python",
   "name": "python3"
  },
  "language_info": {
   "codemirror_mode": {
    "name": "ipython",
    "version": 3
   },
   "file_extension": ".py",
   "mimetype": "text/x-python",
   "name": "python",
   "nbconvert_exporter": "python",
   "pygments_lexer": "ipython3",
   "version": "3.7.4"
  }
 },
 "nbformat": 4,
 "nbformat_minor": 2
}
