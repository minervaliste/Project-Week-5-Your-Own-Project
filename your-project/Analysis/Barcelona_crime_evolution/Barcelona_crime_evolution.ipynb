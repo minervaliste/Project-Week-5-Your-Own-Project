{
 "cells": [
  {
   "cell_type": "code",
   "execution_count": 48,
   "metadata": {},
   "outputs": [],
   "source": [
    "# Libraries\n",
    "import numpy as np\n",
    "import pandas as pd\n",
    "import seaborn as sns\n",
    "import matplotlib.pyplot as plt\n",
    "# from sqlalchemy import create_engine\n",
    "# import pymysql\n",
    "# import glob\n"
   ]
  },
  {
   "cell_type": "code",
   "execution_count": 29,
   "metadata": {},
   "outputs": [],
   "source": [
    "all_crime = pd.read_csv('all_mossos_crimes.csv')"
   ]
  },
  {
   "cell_type": "code",
   "execution_count": 30,
   "metadata": {},
   "outputs": [],
   "source": [
    "all_crime.drop(columns=['Unnamed: 0', 'Unnamed: 0.1', 'Resolts', 'Detencions'], inplace=True)"
   ]
  },
  {
   "cell_type": "code",
   "execution_count": 31,
   "metadata": {},
   "outputs": [
    {
     "data": {
      "text/html": [
       "<div>\n",
       "<style scoped>\n",
       "    .dataframe tbody tr th:only-of-type {\n",
       "        vertical-align: middle;\n",
       "    }\n",
       "\n",
       "    .dataframe tbody tr th {\n",
       "        vertical-align: top;\n",
       "    }\n",
       "\n",
       "    .dataframe thead th {\n",
       "        text-align: right;\n",
       "    }\n",
       "</style>\n",
       "<table border=\"1\" class=\"dataframe\">\n",
       "  <thead>\n",
       "    <tr style=\"text-align: right;\">\n",
       "      <th></th>\n",
       "      <th>Mes</th>\n",
       "      <th>Nom mes</th>\n",
       "      <th>Any</th>\n",
       "      <th>Regió Policial (RP)</th>\n",
       "      <th>Àrea Bàsica Policial (ABP)</th>\n",
       "      <th>Títol Codi Penal</th>\n",
       "      <th>Tipus de fet</th>\n",
       "      <th>Coneguts</th>\n",
       "    </tr>\n",
       "  </thead>\n",
       "  <tbody>\n",
       "    <tr>\n",
       "      <td>0</td>\n",
       "      <td>1</td>\n",
       "      <td>gener</td>\n",
       "      <td>2019</td>\n",
       "      <td>RP  Metropolitana Nord</td>\n",
       "      <td>ABP Arenys de Mar</td>\n",
       "      <td>De l’homicidi i les seves formes</td>\n",
       "      <td>Homicidi consumat</td>\n",
       "      <td>1.0</td>\n",
       "    </tr>\n",
       "    <tr>\n",
       "      <td>1</td>\n",
       "      <td>1</td>\n",
       "      <td>gener</td>\n",
       "      <td>2019</td>\n",
       "      <td>RP  Metropolitana Nord</td>\n",
       "      <td>ABP Arenys de Mar</td>\n",
       "      <td>De l’homicidi i les seves formes</td>\n",
       "      <td>Homicidi temptativa</td>\n",
       "      <td>1.0</td>\n",
       "    </tr>\n",
       "    <tr>\n",
       "      <td>2</td>\n",
       "      <td>1</td>\n",
       "      <td>gener</td>\n",
       "      <td>2019</td>\n",
       "      <td>RP  Metropolitana Nord</td>\n",
       "      <td>ABP Arenys de Mar</td>\n",
       "      <td>De les falsedats</td>\n",
       "      <td>De la usurpació de l'estat civil</td>\n",
       "      <td>2.0</td>\n",
       "    </tr>\n",
       "    <tr>\n",
       "      <td>3</td>\n",
       "      <td>1</td>\n",
       "      <td>gener</td>\n",
       "      <td>2019</td>\n",
       "      <td>RP  Metropolitana Nord</td>\n",
       "      <td>ABP Arenys de Mar</td>\n",
       "      <td>De les falsedats</td>\n",
       "      <td>Falsedats documentals</td>\n",
       "      <td>2.0</td>\n",
       "    </tr>\n",
       "    <tr>\n",
       "      <td>4</td>\n",
       "      <td>1</td>\n",
       "      <td>gener</td>\n",
       "      <td>2019</td>\n",
       "      <td>RP  Metropolitana Nord</td>\n",
       "      <td>ABP Arenys de Mar</td>\n",
       "      <td>De les falsedats</td>\n",
       "      <td>Falsificació de moneda i efectes timbrats</td>\n",
       "      <td>2.0</td>\n",
       "    </tr>\n",
       "  </tbody>\n",
       "</table>\n",
       "</div>"
      ],
      "text/plain": [
       "   Mes Nom mes   Any     Regió Policial (RP) Àrea Bàsica Policial (ABP)  \\\n",
       "0    1   gener  2019  RP  Metropolitana Nord          ABP Arenys de Mar   \n",
       "1    1   gener  2019  RP  Metropolitana Nord          ABP Arenys de Mar   \n",
       "2    1   gener  2019  RP  Metropolitana Nord          ABP Arenys de Mar   \n",
       "3    1   gener  2019  RP  Metropolitana Nord          ABP Arenys de Mar   \n",
       "4    1   gener  2019  RP  Metropolitana Nord          ABP Arenys de Mar   \n",
       "\n",
       "                   Títol Codi Penal  \\\n",
       "0  De l’homicidi i les seves formes   \n",
       "1  De l’homicidi i les seves formes   \n",
       "2                  De les falsedats   \n",
       "3                  De les falsedats   \n",
       "4                  De les falsedats   \n",
       "\n",
       "                                Tipus de fet  Coneguts  \n",
       "0                          Homicidi consumat       1.0  \n",
       "1                        Homicidi temptativa       1.0  \n",
       "2           De la usurpació de l'estat civil       2.0  \n",
       "3                      Falsedats documentals       2.0  \n",
       "4  Falsificació de moneda i efectes timbrats       2.0  "
      ]
     },
     "execution_count": 31,
     "metadata": {},
     "output_type": "execute_result"
    }
   ],
   "source": [
    "all_crime.head()"
   ]
  },
  {
   "cell_type": "code",
   "execution_count": 32,
   "metadata": {},
   "outputs": [],
   "source": [
    "all_crime_barcelona = all_crime[all_crime['Regió Policial (RP)'] == 'RP Metropolitana Barcelona']"
   ]
  },
  {
   "cell_type": "code",
   "execution_count": 33,
   "metadata": {},
   "outputs": [
    {
     "name": "stdout",
     "output_type": "stream",
     "text": [
      "<class 'pandas.core.frame.DataFrame'>\n",
      "Int64Index: 35591 entries, 759 to 172796\n",
      "Data columns (total 8 columns):\n",
      "Mes                           35591 non-null int64\n",
      "Nom mes                       35591 non-null object\n",
      "Any                           35591 non-null int64\n",
      "Regió Policial (RP)           35591 non-null object\n",
      "Àrea Bàsica Policial (ABP)    35591 non-null object\n",
      "Títol Codi Penal              35591 non-null object\n",
      "Tipus de fet                  35591 non-null object\n",
      "Coneguts                      32976 non-null float64\n",
      "dtypes: float64(1), int64(2), object(5)\n",
      "memory usage: 2.4+ MB\n"
     ]
    }
   ],
   "source": [
    "all_crime_barcelona.info()"
   ]
  },
  {
   "cell_type": "code",
   "execution_count": 34,
   "metadata": {},
   "outputs": [],
   "source": [
    "all_crime_barcelona = all_crime_barcelona.fillna(0)"
   ]
  },
  {
   "cell_type": "code",
   "execution_count": 35,
   "metadata": {},
   "outputs": [],
   "source": [
    "all_crime_barcelona.Coneguts = all_crime_barcelona.Coneguts.astype(int)"
   ]
  },
  {
   "cell_type": "code",
   "execution_count": 36,
   "metadata": {},
   "outputs": [
    {
     "name": "stdout",
     "output_type": "stream",
     "text": [
      "<class 'pandas.core.frame.DataFrame'>\n",
      "Int64Index: 35591 entries, 759 to 172796\n",
      "Data columns (total 8 columns):\n",
      "Mes                           35591 non-null int64\n",
      "Nom mes                       35591 non-null object\n",
      "Any                           35591 non-null int64\n",
      "Regió Policial (RP)           35591 non-null object\n",
      "Àrea Bàsica Policial (ABP)    35591 non-null object\n",
      "Títol Codi Penal              35591 non-null object\n",
      "Tipus de fet                  35591 non-null object\n",
      "Coneguts                      35591 non-null int32\n",
      "dtypes: int32(1), int64(2), object(5)\n",
      "memory usage: 2.3+ MB\n"
     ]
    }
   ],
   "source": [
    "all_crime_barcelona.info()"
   ]
  },
  {
   "cell_type": "code",
   "execution_count": 38,
   "metadata": {},
   "outputs": [],
   "source": [
    "all_crime_barcelona_original = all_crime_barcelona.copy()"
   ]
  },
  {
   "cell_type": "code",
   "execution_count": 45,
   "metadata": {},
   "outputs": [
    {
     "data": {
      "text/html": [
       "<div>\n",
       "<style scoped>\n",
       "    .dataframe tbody tr th:only-of-type {\n",
       "        vertical-align: middle;\n",
       "    }\n",
       "\n",
       "    .dataframe tbody tr th {\n",
       "        vertical-align: top;\n",
       "    }\n",
       "\n",
       "    .dataframe thead th {\n",
       "        text-align: right;\n",
       "    }\n",
       "</style>\n",
       "<table border=\"1\" class=\"dataframe\">\n",
       "  <thead>\n",
       "    <tr style=\"text-align: right;\">\n",
       "      <th></th>\n",
       "      <th>Mes</th>\n",
       "      <th>Nom mes</th>\n",
       "      <th>Any</th>\n",
       "      <th>Regió Policial (RP)</th>\n",
       "      <th>Àrea Bàsica Policial (ABP)</th>\n",
       "      <th>Títol Codi Penal</th>\n",
       "      <th>Tipus de fet</th>\n",
       "      <th>Coneguts</th>\n",
       "    </tr>\n",
       "  </thead>\n",
       "  <tbody>\n",
       "    <tr>\n",
       "      <td>759</td>\n",
       "      <td>1</td>\n",
       "      <td>gener</td>\n",
       "      <td>2019</td>\n",
       "      <td>RP Metropolitana Barcelona</td>\n",
       "      <td>ABP Barcelona</td>\n",
       "      <td>De les falsedats</td>\n",
       "      <td>Falsedats documentals</td>\n",
       "      <td>2</td>\n",
       "    </tr>\n",
       "    <tr>\n",
       "      <td>760</td>\n",
       "      <td>1</td>\n",
       "      <td>gener</td>\n",
       "      <td>2019</td>\n",
       "      <td>RP Metropolitana Barcelona</td>\n",
       "      <td>ABP Barcelona</td>\n",
       "      <td>De les lesions</td>\n",
       "      <td>Lesions</td>\n",
       "      <td>2</td>\n",
       "    </tr>\n",
       "    <tr>\n",
       "      <td>761</td>\n",
       "      <td>1</td>\n",
       "      <td>gener</td>\n",
       "      <td>2019</td>\n",
       "      <td>RP Metropolitana Barcelona</td>\n",
       "      <td>ABP Barcelona</td>\n",
       "      <td>Delictes contra el patrimoni i contra l’ordre ...</td>\n",
       "      <td>Danys</td>\n",
       "      <td>10</td>\n",
       "    </tr>\n",
       "    <tr>\n",
       "      <td>762</td>\n",
       "      <td>1</td>\n",
       "      <td>gener</td>\n",
       "      <td>2019</td>\n",
       "      <td>RP Metropolitana Barcelona</td>\n",
       "      <td>ABP Barcelona</td>\n",
       "      <td>Delictes contra el patrimoni i contra l’ordre ...</td>\n",
       "      <td>Estafes</td>\n",
       "      <td>8</td>\n",
       "    </tr>\n",
       "    <tr>\n",
       "      <td>763</td>\n",
       "      <td>1</td>\n",
       "      <td>gener</td>\n",
       "      <td>2019</td>\n",
       "      <td>RP Metropolitana Barcelona</td>\n",
       "      <td>ABP Barcelona</td>\n",
       "      <td>Delictes contra el patrimoni i contra l’ordre ...</td>\n",
       "      <td>Furt</td>\n",
       "      <td>123</td>\n",
       "    </tr>\n",
       "  </tbody>\n",
       "</table>\n",
       "</div>"
      ],
      "text/plain": [
       "     Mes Nom mes   Any         Regió Policial (RP) Àrea Bàsica Policial (ABP)  \\\n",
       "759    1   gener  2019  RP Metropolitana Barcelona              ABP Barcelona   \n",
       "760    1   gener  2019  RP Metropolitana Barcelona              ABP Barcelona   \n",
       "761    1   gener  2019  RP Metropolitana Barcelona              ABP Barcelona   \n",
       "762    1   gener  2019  RP Metropolitana Barcelona              ABP Barcelona   \n",
       "763    1   gener  2019  RP Metropolitana Barcelona              ABP Barcelona   \n",
       "\n",
       "                                      Títol Codi Penal           Tipus de fet  \\\n",
       "759                                   De les falsedats  Falsedats documentals   \n",
       "760                                     De les lesions                Lesions   \n",
       "761  Delictes contra el patrimoni i contra l’ordre ...                  Danys   \n",
       "762  Delictes contra el patrimoni i contra l’ordre ...                Estafes   \n",
       "763  Delictes contra el patrimoni i contra l’ordre ...                   Furt   \n",
       "\n",
       "     Coneguts  \n",
       "759         2  \n",
       "760         2  \n",
       "761        10  \n",
       "762         8  \n",
       "763       123  "
      ]
     },
     "execution_count": 45,
     "metadata": {},
     "output_type": "execute_result"
    }
   ],
   "source": [
    "all_crime_barcelona.head()"
   ]
  },
  {
   "cell_type": "markdown",
   "metadata": {},
   "source": [
    "## Crime evolution per year"
   ]
  },
  {
   "cell_type": "code",
   "execution_count": 46,
   "metadata": {},
   "outputs": [],
   "source": [
    "##Crime evolution per year\n",
    "all_crime_barcelona_per_year = all_crime_barcelona.groupby(['Any'], as_index = False).sum()\n",
    "all_crime_barcelona_per_year.drop(['Mes'], axis=1)"
   ]
  },
  {
   "cell_type": "code",
   "execution_count": 51,
   "metadata": {},
   "outputs": [
    {
     "data": {
      "text/html": [
       "<div>\n",
       "<style scoped>\n",
       "    .dataframe tbody tr th:only-of-type {\n",
       "        vertical-align: middle;\n",
       "    }\n",
       "\n",
       "    .dataframe tbody tr th {\n",
       "        vertical-align: top;\n",
       "    }\n",
       "\n",
       "    .dataframe thead th {\n",
       "        text-align: right;\n",
       "    }\n",
       "</style>\n",
       "<table border=\"1\" class=\"dataframe\">\n",
       "  <thead>\n",
       "    <tr style=\"text-align: right;\">\n",
       "      <th></th>\n",
       "      <th>Any</th>\n",
       "      <th>Mes</th>\n",
       "      <th>Coneguts</th>\n",
       "    </tr>\n",
       "  </thead>\n",
       "  <tbody>\n",
       "    <tr>\n",
       "      <td>0</td>\n",
       "      <td>2011</td>\n",
       "      <td>27202</td>\n",
       "      <td>191654</td>\n",
       "    </tr>\n",
       "    <tr>\n",
       "      <td>1</td>\n",
       "      <td>2012</td>\n",
       "      <td>27080</td>\n",
       "      <td>183844</td>\n",
       "    </tr>\n",
       "    <tr>\n",
       "      <td>2</td>\n",
       "      <td>2013</td>\n",
       "      <td>26868</td>\n",
       "      <td>174274</td>\n",
       "    </tr>\n",
       "    <tr>\n",
       "      <td>3</td>\n",
       "      <td>2014</td>\n",
       "      <td>26746</td>\n",
       "      <td>171584</td>\n",
       "    </tr>\n",
       "    <tr>\n",
       "      <td>4</td>\n",
       "      <td>2015</td>\n",
       "      <td>25631</td>\n",
       "      <td>171721</td>\n",
       "    </tr>\n",
       "    <tr>\n",
       "      <td>5</td>\n",
       "      <td>2016</td>\n",
       "      <td>24721</td>\n",
       "      <td>173284</td>\n",
       "    </tr>\n",
       "    <tr>\n",
       "      <td>6</td>\n",
       "      <td>2017</td>\n",
       "      <td>23820</td>\n",
       "      <td>186829</td>\n",
       "    </tr>\n",
       "    <tr>\n",
       "      <td>7</td>\n",
       "      <td>2018</td>\n",
       "      <td>23985</td>\n",
       "      <td>219521</td>\n",
       "    </tr>\n",
       "    <tr>\n",
       "      <td>8</td>\n",
       "      <td>2019</td>\n",
       "      <td>24133</td>\n",
       "      <td>226150</td>\n",
       "    </tr>\n",
       "  </tbody>\n",
       "</table>\n",
       "</div>"
      ],
      "text/plain": [
       "    Any    Mes  Coneguts\n",
       "0  2011  27202    191654\n",
       "1  2012  27080    183844\n",
       "2  2013  26868    174274\n",
       "3  2014  26746    171584\n",
       "4  2015  25631    171721\n",
       "5  2016  24721    173284\n",
       "6  2017  23820    186829\n",
       "7  2018  23985    219521\n",
       "8  2019  24133    226150"
      ]
     },
     "execution_count": 51,
     "metadata": {},
     "output_type": "execute_result"
    }
   ],
   "source": [
    "all_crime_barcelona_per_year"
   ]
  },
  {
   "cell_type": "code",
   "execution_count": 50,
   "metadata": {
    "scrolled": true
   },
   "outputs": [
    {
     "data": {
      "text/plain": [
       "Text(0.5, 1.0, 'Number of crimes per year')"
      ]
     },
     "execution_count": 50,
     "metadata": {},
     "output_type": "execute_result"
    },
    {
     "data": {
      "image/png": "[encoded data removed]",
      "text/plain": [
       "<Figure size 1224x288 with 1 Axes>"
      ]
     },
     "metadata": {
      "needs_background": "light"
     },
     "output_type": "display_data"
    }
   ],
   "source": [
    "x = all_crime_barcelona_per_year['Any']\n",
    "y = all_crime_barcelona_per_year['Coneguts']\n",
    "plt.figure(figsize=(17, 4))\n",
    "plt.plot(x, y, color='red')\n",
    "plt.xlabel('Year')\n",
    "plt.ylabel('Number of crimes')\n",
    "plt.title('Number of crimes per year')"
   ]
  },
  {
   "cell_type": "markdown",
   "metadata": {},
   "source": [
    "## Crime evolution per month"
   ]
  },
  {
   "cell_type": "code",
   "execution_count": null,
   "metadata": {},
   "outputs": [],
   "source": [
    "##Crime evolution per month"
   ]
  },
  {
   "cell_type": "code",
   "execution_count": 57,
   "metadata": {},
   "outputs": [],
   "source": [
    "all_crime_barcelona = all_crime_barcelona_original.copy()"
   ]
  },
  {
   "cell_type": "code",
   "execution_count": 58,
   "metadata": {},
   "outputs": [],
   "source": [
    "all_crime_barcelona_per_month = all_crime_barcelona.groupby(['Any', 'Mes'], as_index = False).sum()"
   ]
  },
  {
   "cell_type": "code",
   "execution_count": 62,
   "metadata": {},
   "outputs": [],
   "source": [
    "all_crime_barcelona_per_month_2018_2019 = all_crime_barcelona_per_month[(all_crime_barcelona_per_month['Any'] == 2019) | (all_crime_barcelona_per_month['Any'] == 2018)]"
   ]
  },
  {
   "cell_type": "code",
   "execution_count": 63,
   "metadata": {},
   "outputs": [
    {
     "data": {
      "text/html": [
       "<div>\n",
       "<style scoped>\n",
       "    .dataframe tbody tr th:only-of-type {\n",
       "        vertical-align: middle;\n",
       "    }\n",
       "\n",
       "    .dataframe tbody tr th {\n",
       "        vertical-align: top;\n",
       "    }\n",
       "\n",
       "    .dataframe thead th {\n",
       "        text-align: right;\n",
       "    }\n",
       "</style>\n",
       "<table border=\"1\" class=\"dataframe\">\n",
       "  <thead>\n",
       "    <tr style=\"text-align: right;\">\n",
       "      <th></th>\n",
       "      <th>Any</th>\n",
       "      <th>Mes</th>\n",
       "      <th>Coneguts</th>\n",
       "    </tr>\n",
       "  </thead>\n",
       "  <tbody>\n",
       "    <tr>\n",
       "      <td>84</td>\n",
       "      <td>2018</td>\n",
       "      <td>1</td>\n",
       "      <td>16768</td>\n",
       "    </tr>\n",
       "    <tr>\n",
       "      <td>85</td>\n",
       "      <td>2018</td>\n",
       "      <td>2</td>\n",
       "      <td>15353</td>\n",
       "    </tr>\n",
       "    <tr>\n",
       "      <td>86</td>\n",
       "      <td>2018</td>\n",
       "      <td>3</td>\n",
       "      <td>17271</td>\n",
       "    </tr>\n",
       "    <tr>\n",
       "      <td>87</td>\n",
       "      <td>2018</td>\n",
       "      <td>4</td>\n",
       "      <td>17228</td>\n",
       "    </tr>\n",
       "    <tr>\n",
       "      <td>88</td>\n",
       "      <td>2018</td>\n",
       "      <td>5</td>\n",
       "      <td>18143</td>\n",
       "    </tr>\n",
       "    <tr>\n",
       "      <td>89</td>\n",
       "      <td>2018</td>\n",
       "      <td>6</td>\n",
       "      <td>19094</td>\n",
       "    </tr>\n",
       "    <tr>\n",
       "      <td>90</td>\n",
       "      <td>2018</td>\n",
       "      <td>7</td>\n",
       "      <td>20583</td>\n",
       "    </tr>\n",
       "    <tr>\n",
       "      <td>91</td>\n",
       "      <td>2018</td>\n",
       "      <td>8</td>\n",
       "      <td>19855</td>\n",
       "    </tr>\n",
       "    <tr>\n",
       "      <td>92</td>\n",
       "      <td>2018</td>\n",
       "      <td>9</td>\n",
       "      <td>18821</td>\n",
       "    </tr>\n",
       "    <tr>\n",
       "      <td>93</td>\n",
       "      <td>2018</td>\n",
       "      <td>10</td>\n",
       "      <td>19300</td>\n",
       "    </tr>\n",
       "    <tr>\n",
       "      <td>94</td>\n",
       "      <td>2018</td>\n",
       "      <td>11</td>\n",
       "      <td>18642</td>\n",
       "    </tr>\n",
       "    <tr>\n",
       "      <td>95</td>\n",
       "      <td>2018</td>\n",
       "      <td>12</td>\n",
       "      <td>18463</td>\n",
       "    </tr>\n",
       "    <tr>\n",
       "      <td>96</td>\n",
       "      <td>2019</td>\n",
       "      <td>1</td>\n",
       "      <td>18645</td>\n",
       "    </tr>\n",
       "    <tr>\n",
       "      <td>97</td>\n",
       "      <td>2019</td>\n",
       "      <td>2</td>\n",
       "      <td>17798</td>\n",
       "    </tr>\n",
       "    <tr>\n",
       "      <td>98</td>\n",
       "      <td>2019</td>\n",
       "      <td>3</td>\n",
       "      <td>19483</td>\n",
       "    </tr>\n",
       "    <tr>\n",
       "      <td>99</td>\n",
       "      <td>2019</td>\n",
       "      <td>4</td>\n",
       "      <td>19598</td>\n",
       "    </tr>\n",
       "    <tr>\n",
       "      <td>100</td>\n",
       "      <td>2019</td>\n",
       "      <td>5</td>\n",
       "      <td>19355</td>\n",
       "    </tr>\n",
       "    <tr>\n",
       "      <td>101</td>\n",
       "      <td>2019</td>\n",
       "      <td>6</td>\n",
       "      <td>18679</td>\n",
       "    </tr>\n",
       "    <tr>\n",
       "      <td>102</td>\n",
       "      <td>2019</td>\n",
       "      <td>7</td>\n",
       "      <td>20750</td>\n",
       "    </tr>\n",
       "    <tr>\n",
       "      <td>103</td>\n",
       "      <td>2019</td>\n",
       "      <td>8</td>\n",
       "      <td>19790</td>\n",
       "    </tr>\n",
       "    <tr>\n",
       "      <td>104</td>\n",
       "      <td>2019</td>\n",
       "      <td>9</td>\n",
       "      <td>18425</td>\n",
       "    </tr>\n",
       "    <tr>\n",
       "      <td>105</td>\n",
       "      <td>2019</td>\n",
       "      <td>10</td>\n",
       "      <td>17857</td>\n",
       "    </tr>\n",
       "    <tr>\n",
       "      <td>106</td>\n",
       "      <td>2019</td>\n",
       "      <td>11</td>\n",
       "      <td>17481</td>\n",
       "    </tr>\n",
       "    <tr>\n",
       "      <td>107</td>\n",
       "      <td>2019</td>\n",
       "      <td>12</td>\n",
       "      <td>18289</td>\n",
       "    </tr>\n",
       "  </tbody>\n",
       "</table>\n",
       "</div>"
      ],
      "text/plain": [
       "      Any  Mes  Coneguts\n",
       "84   2018    1     16768\n",
       "85   2018    2     15353\n",
       "86   2018    3     17271\n",
       "87   2018    4     17228\n",
       "88   2018    5     18143\n",
       "89   2018    6     19094\n",
       "90   2018    7     20583\n",
       "91   2018    8     19855\n",
       "92   2018    9     18821\n",
       "93   2018   10     19300\n",
       "94   2018   11     18642\n",
       "95   2018   12     18463\n",
       "96   2019    1     18645\n",
       "97   2019    2     17798\n",
       "98   2019    3     19483\n",
       "99   2019    4     19598\n",
       "100  2019    5     19355\n",
       "101  2019    6     18679\n",
       "102  2019    7     20750\n",
       "103  2019    8     19790\n",
       "104  2019    9     18425\n",
       "105  2019   10     17857\n",
       "106  2019   11     17481\n",
       "107  2019   12     18289"
      ]
     },
     "execution_count": 63,
     "metadata": {},
     "output_type": "execute_result"
    }
   ],
   "source": [
    "all_crime_barcelona_per_month_2018_2019"
   ]
  },
  {
   "cell_type": "code",
   "execution_count": null,
   "metadata": {},
   "outputs": [],
   "source": [
    "## How to put it together??"
   ]
  },
  {
   "cell_type": "markdown",
   "metadata": {},
   "source": [
    "## Crime evolution per month in the last three years\n",
    "\n",
    "Try to see a monthly pattern\n"
   ]
  },
  {
   "cell_type": "code",
   "execution_count": 64,
   "metadata": {},
   "outputs": [],
   "source": [
    "crime_per_month_2019 = all_crime_barcelona_per_month[(all_crime_barcelona_per_month['Any'] == 2019)]\n",
    "crime_per_month_2018 = all_crime_barcelona_per_month[(all_crime_barcelona_per_month['Any'] == 2018)]\n",
    "crime_per_month_2017 = all_crime_barcelona_per_month[(all_crime_barcelona_per_month['Any'] == 2017)]"
   ]
  },
  {
   "cell_type": "code",
   "execution_count": 66,
   "metadata": {},
   "outputs": [
    {
     "data": {
      "text/plain": [
       "<matplotlib.legend.Legend at 0x1693dca0388>"
      ]
     },
     "execution_count": 66,
     "metadata": {},
     "output_type": "execute_result"
    },
    {
     "data": {
      "image/png": "[encoded data removed]",
      "text/plain": [
       "<Figure size 1224x288 with 1 Axes>"
      ]
     },
     "metadata": {
      "needs_background": "light"
     },
     "output_type": "display_data"
    }
   ],
   "source": [
    "x = all_crime_barcelona_per_year['Any']\n",
    "y = all_crime_barcelona_per_year['Coneguts']\n",
    "plt.figure(figsize=(17, 4))\n",
    "plt.plot(crime_per_month_2019['Mes'], crime_per_month_2019['Coneguts'], color='red', label = 2019)\n",
    "plt.plot(crime_per_month_2018['Mes'], crime_per_month_2018['Coneguts'], color='blue', label = 2018)\n",
    "plt.plot(crime_per_month_2017['Mes'], crime_per_month_2017['Coneguts'], color='green', label = 2017)\n",
    "plt.xlabel('Month')\n",
    "plt.ylabel('Number of crimes')\n",
    "plt.title('Number of crimes per month')\n",
    "plt.legend()"
   ]
  },
  {
   "cell_type": "markdown",
   "metadata": {},
   "source": [
    "\n",
    "First conclusion: every year criminality grows during summer months. In fact, in 2018 a similar amount of criminality was reached. And the grouth was even bigger (how to show the grouth percentage?)"
   ]
  },
  {
   "cell_type": "markdown",
   "metadata": {},
   "source": [
    "## Crime evolution per neighbourhood in the last 3 years\n",
    "\n",
    "Try to see if there are differences in the neighbourhoods with a higher criminality rate"
   ]
  },
  {
   "cell_type": "code",
   "execution_count": 74,
   "metadata": {},
   "outputs": [],
   "source": [
    "crime_per_neighborhood = all_crime_barcelona_original.copy()"
   ]
  },
  {
   "cell_type": "code",
   "execution_count": 75,
   "metadata": {},
   "outputs": [
    {
     "data": {
      "text/plain": [
       "ABP Eixample               4049\n",
       "ABP Ciutat Vella           3888\n",
       "ABP Sants-Montjuïc         3833\n",
       "ABP Sant Martí             3673\n",
       "ABP Nou Barris             3367\n",
       "ABP Sant Andreu            3127\n",
       "ABP Horta-Guinardó         3086\n",
       "ABP Gràcia                 2925\n",
       "ABP Sarrià-Sant Gervasi    2890\n",
       "ABP Les Corts              2819\n",
       "ABP Barcelona              1934\n",
       "Name: Àrea Bàsica Policial (ABP), dtype: int64"
      ]
     },
     "execution_count": 75,
     "metadata": {},
     "output_type": "execute_result"
    }
   ],
   "source": [
    "crime_per_neighborhood['Àrea Bàsica Policial (ABP)'].value_counts()"
   ]
  },
  {
   "cell_type": "code",
   "execution_count": 76,
   "metadata": {
    "scrolled": true
   },
   "outputs": [],
   "source": [
    "crime_per_neighborhood = crime_per_neighborhood.groupby(['Any', 'Àrea Bàsica Policial (ABP)'], as_index = False).sum()"
   ]
  },
  {
   "cell_type": "code",
   "execution_count": 78,
   "metadata": {},
   "outputs": [
    {
     "data": {
      "text/html": [
       "<div>\n",
       "<style scoped>\n",
       "    .dataframe tbody tr th:only-of-type {\n",
       "        vertical-align: middle;\n",
       "    }\n",
       "\n",
       "    .dataframe tbody tr th {\n",
       "        vertical-align: top;\n",
       "    }\n",
       "\n",
       "    .dataframe thead th {\n",
       "        text-align: right;\n",
       "    }\n",
       "</style>\n",
       "<table border=\"1\" class=\"dataframe\">\n",
       "  <thead>\n",
       "    <tr style=\"text-align: right;\">\n",
       "      <th></th>\n",
       "      <th>Any</th>\n",
       "      <th>Àrea Bàsica Policial (ABP)</th>\n",
       "      <th>Coneguts</th>\n",
       "    </tr>\n",
       "  </thead>\n",
       "  <tbody>\n",
       "    <tr>\n",
       "      <td>0</td>\n",
       "      <td>2011</td>\n",
       "      <td>ABP Barcelona</td>\n",
       "      <td>3981</td>\n",
       "    </tr>\n",
       "    <tr>\n",
       "      <td>1</td>\n",
       "      <td>2011</td>\n",
       "      <td>ABP Ciutat Vella</td>\n",
       "      <td>49382</td>\n",
       "    </tr>\n",
       "    <tr>\n",
       "      <td>2</td>\n",
       "      <td>2011</td>\n",
       "      <td>ABP Eixample</td>\n",
       "      <td>45644</td>\n",
       "    </tr>\n",
       "    <tr>\n",
       "      <td>3</td>\n",
       "      <td>2011</td>\n",
       "      <td>ABP Gràcia</td>\n",
       "      <td>7439</td>\n",
       "    </tr>\n",
       "    <tr>\n",
       "      <td>4</td>\n",
       "      <td>2011</td>\n",
       "      <td>ABP Horta-Guinardó</td>\n",
       "      <td>7380</td>\n",
       "    </tr>\n",
       "    <tr>\n",
       "      <td>...</td>\n",
       "      <td>...</td>\n",
       "      <td>...</td>\n",
       "      <td>...</td>\n",
       "    </tr>\n",
       "    <tr>\n",
       "      <td>94</td>\n",
       "      <td>2019</td>\n",
       "      <td>ABP Nou Barris</td>\n",
       "      <td>9226</td>\n",
       "    </tr>\n",
       "    <tr>\n",
       "      <td>95</td>\n",
       "      <td>2019</td>\n",
       "      <td>ABP Sant Andreu</td>\n",
       "      <td>12017</td>\n",
       "    </tr>\n",
       "    <tr>\n",
       "      <td>96</td>\n",
       "      <td>2019</td>\n",
       "      <td>ABP Sant Martí</td>\n",
       "      <td>27481</td>\n",
       "    </tr>\n",
       "    <tr>\n",
       "      <td>97</td>\n",
       "      <td>2019</td>\n",
       "      <td>ABP Sants-Montjuïc</td>\n",
       "      <td>25658</td>\n",
       "    </tr>\n",
       "    <tr>\n",
       "      <td>98</td>\n",
       "      <td>2019</td>\n",
       "      <td>ABP Sarrià-Sant Gervasi</td>\n",
       "      <td>11118</td>\n",
       "    </tr>\n",
       "  </tbody>\n",
       "</table>\n",
       "<p>99 rows × 3 columns</p>\n",
       "</div>"
      ],
      "text/plain": [
       "     Any Àrea Bàsica Policial (ABP)  Coneguts\n",
       "0   2011              ABP Barcelona      3981\n",
       "1   2011           ABP Ciutat Vella     49382\n",
       "2   2011               ABP Eixample     45644\n",
       "3   2011                 ABP Gràcia      7439\n",
       "4   2011         ABP Horta-Guinardó      7380\n",
       "..   ...                        ...       ...\n",
       "94  2019             ABP Nou Barris      9226\n",
       "95  2019            ABP Sant Andreu     12017\n",
       "96  2019             ABP Sant Martí     27481\n",
       "97  2019         ABP Sants-Montjuïc     25658\n",
       "98  2019    ABP Sarrià-Sant Gervasi     11118\n",
       "\n",
       "[99 rows x 3 columns]"
      ]
     },
     "execution_count": 78,
     "metadata": {},
     "output_type": "execute_result"
    }
   ],
   "source": [
    "crime_per_neighborhood.drop(['Mes'], axis=1)"
   ]
  },
  {
   "cell_type": "code",
   "execution_count": 84,
   "metadata": {},
   "outputs": [
    {
     "data": {
      "text/plain": [
       "(array([ 0,  1,  2,  3,  4,  5,  6,  7,  8,  9, 10]),\n",
       " <a list of 11 Text xticklabel objects>)"
      ]
     },
     "execution_count": 84,
     "metadata": {},
     "output_type": "execute_result"
    },
    {
     "data": {
      "text/plain": [
       "<Figure size 2016x432 with 0 Axes>"
      ]
     },
     "metadata": {},
     "output_type": "display_data"
    },
    {
     "data": {
      "image/png": "[encoded data removed]",
      "text/plain": [
       "<Figure size 421.375x360 with 1 Axes>"
      ]
     },
     "metadata": {
      "needs_background": "light"
     },
     "output_type": "display_data"
    }
   ],
   "source": [
    "crime_per_neighborhood_2017_2019 = crime_per_neighborhood[(crime_per_neighborhood['Any'] == 2019) | (crime_per_neighborhood['Any'] == 2018) | (crime_per_neighborhood['Any'] == 2017)]\n",
    "\n",
    "\n",
    "# Draw a nested barplot to show survival for class and sex\n",
    "plt.figure(figsize=(28,6))\n",
    "sns.catplot(x=\"Àrea Bàsica Policial (ABP)\", y=\"Coneguts\", hue=\"Any\", data=crime_per_neighborhood_2017_2019, kind=\"bar\")\n",
    "plt.xticks(rotation=45)"
   ]
  },
  {
   "cell_type": "markdown",
   "metadata": {},
   "source": [
    "Though the increase exists, it is not significative compared to last year's increase."
   ]
  },
  {
   "cell_type": "markdown",
   "metadata": {},
   "source": [
    "## Crime evolution per type of crime in the last 3 years\n",
    "\n",
    "Try to see if crimes become more violent"
   ]
  },
  {
   "cell_type": "code",
   "execution_count": 85,
   "metadata": {},
   "outputs": [],
   "source": [
    "violent_crimes = ['Homicidi consumat', 'Homicidi temptativa', 'Lesions', 'Robatori amb força', 'Robatori amb força interior vehicle',\n",
    "'Robatori amb violència i/o intimidació', 'Abusos sexuals', 'Agressions sexuals', 'Assassinat consumat', 'Segrest', 'Assassinat temptativa', 'Tortures'] \n",
    "\n",
    "violent_crimes_evolution = all_crime_barcelona_original.copy()"
   ]
  },
  {
   "cell_type": "code",
   "execution_count": 86,
   "metadata": {},
   "outputs": [
    {
     "ename": "KeyError",
     "evalue": "\"None of [Index(['Homicidi consumat', 'Homicidi temptativa', 'Lesions',\\n       'Robatori amb força', 'Robatori amb força interior vehicle',\\n       'Robatori amb violència i/o intimidació', 'Abusos sexuals',\\n       'Agressions sexuals', 'Assassinat consumat', 'Segrest',\\n       'Assassinat temptativa', 'Tortures'],\\n      dtype='object')] are in the [columns]\"",
     "output_type": "error",
     "traceback": [
      "\u001b[1;31m---------------------------------------------------------------------------\u001b[0m",
      "\u001b[1;31mKeyError\u001b[0m                                  Traceback (most recent call last)",
      "\u001b[1;32m<ipython-input-86-b623bb6d6f44>\u001b[0m in \u001b[0;36m<module>\u001b[1;34m\u001b[0m\n\u001b[1;32m----> 1\u001b[1;33m \u001b[0mviolent_crimes_evolution\u001b[0m \u001b[1;33m=\u001b[0m \u001b[0mviolent_crimes_evolution\u001b[0m\u001b[1;33m[\u001b[0m\u001b[0mviolent_crimes_evolution\u001b[0m\u001b[1;33m[\u001b[0m\u001b[0mviolent_crimes\u001b[0m\u001b[1;33m]\u001b[0m\u001b[1;33m]\u001b[0m\u001b[1;33m\u001b[0m\u001b[1;33m\u001b[0m\u001b[0m\n\u001b[0m",
      "\u001b[1;32m~\\Anaconda3\\lib\\site-packages\\pandas\\core\\frame.py\u001b[0m in \u001b[0;36m__getitem__\u001b[1;34m(self, key)\u001b[0m\n\u001b[0;32m   2984\u001b[0m             \u001b[1;32mif\u001b[0m \u001b[0mis_iterator\u001b[0m\u001b[1;33m(\u001b[0m\u001b[0mkey\u001b[0m\u001b[1;33m)\u001b[0m\u001b[1;33m:\u001b[0m\u001b[1;33m\u001b[0m\u001b[1;33m\u001b[0m\u001b[0m\n\u001b[0;32m   2985\u001b[0m                 \u001b[0mkey\u001b[0m \u001b[1;33m=\u001b[0m \u001b[0mlist\u001b[0m\u001b[1;33m(\u001b[0m\u001b[0mkey\u001b[0m\u001b[1;33m)\u001b[0m\u001b[1;33m\u001b[0m\u001b[1;33m\u001b[0m\u001b[0m\n\u001b[1;32m-> 2986\u001b[1;33m             \u001b[0mindexer\u001b[0m \u001b[1;33m=\u001b[0m \u001b[0mself\u001b[0m\u001b[1;33m.\u001b[0m\u001b[0mloc\u001b[0m\u001b[1;33m.\u001b[0m\u001b[0m_convert_to_indexer\u001b[0m\u001b[1;33m(\u001b[0m\u001b[0mkey\u001b[0m\u001b[1;33m,\u001b[0m \u001b[0maxis\u001b[0m\u001b[1;33m=\u001b[0m\u001b[1;36m1\u001b[0m\u001b[1;33m,\u001b[0m \u001b[0mraise_missing\u001b[0m\u001b[1;33m=\u001b[0m\u001b[1;32mTrue\u001b[0m\u001b[1;33m)\u001b[0m\u001b[1;33m\u001b[0m\u001b[1;33m\u001b[0m\u001b[0m\n\u001b[0m\u001b[0;32m   2987\u001b[0m \u001b[1;33m\u001b[0m\u001b[0m\n\u001b[0;32m   2988\u001b[0m         \u001b[1;31m# take() does not accept boolean indexers\u001b[0m\u001b[1;33m\u001b[0m\u001b[1;33m\u001b[0m\u001b[1;33m\u001b[0m\u001b[0m\n",
      "\u001b[1;32m~\\Anaconda3\\lib\\site-packages\\pandas\\core\\indexing.py\u001b[0m in \u001b[0;36m_convert_to_indexer\u001b[1;34m(self, obj, axis, is_setter, raise_missing)\u001b[0m\n\u001b[0;32m   1283\u001b[0m                 \u001b[1;31m# When setting, missing keys are not allowed, even with .loc:\u001b[0m\u001b[1;33m\u001b[0m\u001b[1;33m\u001b[0m\u001b[1;33m\u001b[0m\u001b[0m\n\u001b[0;32m   1284\u001b[0m                 \u001b[0mkwargs\u001b[0m \u001b[1;33m=\u001b[0m \u001b[1;33m{\u001b[0m\u001b[1;34m\"raise_missing\"\u001b[0m\u001b[1;33m:\u001b[0m \u001b[1;32mTrue\u001b[0m \u001b[1;32mif\u001b[0m \u001b[0mis_setter\u001b[0m \u001b[1;32melse\u001b[0m \u001b[0mraise_missing\u001b[0m\u001b[1;33m}\u001b[0m\u001b[1;33m\u001b[0m\u001b[1;33m\u001b[0m\u001b[0m\n\u001b[1;32m-> 1285\u001b[1;33m                 \u001b[1;32mreturn\u001b[0m \u001b[0mself\u001b[0m\u001b[1;33m.\u001b[0m\u001b[0m_get_listlike_indexer\u001b[0m\u001b[1;33m(\u001b[0m\u001b[0mobj\u001b[0m\u001b[1;33m,\u001b[0m \u001b[0maxis\u001b[0m\u001b[1;33m,\u001b[0m \u001b[1;33m**\u001b[0m\u001b[0mkwargs\u001b[0m\u001b[1;33m)\u001b[0m\u001b[1;33m[\u001b[0m\u001b[1;36m1\u001b[0m\u001b[1;33m]\u001b[0m\u001b[1;33m\u001b[0m\u001b[1;33m\u001b[0m\u001b[0m\n\u001b[0m\u001b[0;32m   1286\u001b[0m         \u001b[1;32melse\u001b[0m\u001b[1;33m:\u001b[0m\u001b[1;33m\u001b[0m\u001b[1;33m\u001b[0m\u001b[0m\n\u001b[0;32m   1287\u001b[0m             \u001b[1;32mtry\u001b[0m\u001b[1;33m:\u001b[0m\u001b[1;33m\u001b[0m\u001b[1;33m\u001b[0m\u001b[0m\n",
      "\u001b[1;32m~\\Anaconda3\\lib\\site-packages\\pandas\\core\\indexing.py\u001b[0m in \u001b[0;36m_get_listlike_indexer\u001b[1;34m(self, key, axis, raise_missing)\u001b[0m\n\u001b[0;32m   1090\u001b[0m \u001b[1;33m\u001b[0m\u001b[0m\n\u001b[0;32m   1091\u001b[0m         self._validate_read_indexer(\n\u001b[1;32m-> 1092\u001b[1;33m             \u001b[0mkeyarr\u001b[0m\u001b[1;33m,\u001b[0m \u001b[0mindexer\u001b[0m\u001b[1;33m,\u001b[0m \u001b[0mo\u001b[0m\u001b[1;33m.\u001b[0m\u001b[0m_get_axis_number\u001b[0m\u001b[1;33m(\u001b[0m\u001b[0maxis\u001b[0m\u001b[1;33m)\u001b[0m\u001b[1;33m,\u001b[0m \u001b[0mraise_missing\u001b[0m\u001b[1;33m=\u001b[0m\u001b[0mraise_missing\u001b[0m\u001b[1;33m\u001b[0m\u001b[1;33m\u001b[0m\u001b[0m\n\u001b[0m\u001b[0;32m   1093\u001b[0m         )\n\u001b[0;32m   1094\u001b[0m         \u001b[1;32mreturn\u001b[0m \u001b[0mkeyarr\u001b[0m\u001b[1;33m,\u001b[0m \u001b[0mindexer\u001b[0m\u001b[1;33m\u001b[0m\u001b[1;33m\u001b[0m\u001b[0m\n",
      "\u001b[1;32m~\\Anaconda3\\lib\\site-packages\\pandas\\core\\indexing.py\u001b[0m in \u001b[0;36m_validate_read_indexer\u001b[1;34m(self, key, indexer, axis, raise_missing)\u001b[0m\n\u001b[0;32m   1175\u001b[0m                 raise KeyError(\n\u001b[0;32m   1176\u001b[0m                     \"None of [{key}] are in the [{axis}]\".format(\n\u001b[1;32m-> 1177\u001b[1;33m                         \u001b[0mkey\u001b[0m\u001b[1;33m=\u001b[0m\u001b[0mkey\u001b[0m\u001b[1;33m,\u001b[0m \u001b[0maxis\u001b[0m\u001b[1;33m=\u001b[0m\u001b[0mself\u001b[0m\u001b[1;33m.\u001b[0m\u001b[0mobj\u001b[0m\u001b[1;33m.\u001b[0m\u001b[0m_get_axis_name\u001b[0m\u001b[1;33m(\u001b[0m\u001b[0maxis\u001b[0m\u001b[1;33m)\u001b[0m\u001b[1;33m\u001b[0m\u001b[1;33m\u001b[0m\u001b[0m\n\u001b[0m\u001b[0;32m   1178\u001b[0m                     )\n\u001b[0;32m   1179\u001b[0m                 )\n",
      "\u001b[1;31mKeyError\u001b[0m: \"None of [Index(['Homicidi consumat', 'Homicidi temptativa', 'Lesions',\\n       'Robatori amb força', 'Robatori amb força interior vehicle',\\n       'Robatori amb violència i/o intimidació', 'Abusos sexuals',\\n       'Agressions sexuals', 'Assassinat consumat', 'Segrest',\\n       'Assassinat temptativa', 'Tortures'],\\n      dtype='object')] are in the [columns]\""
     ]
    }
   ],
   "source": [
    "violent_crimes_evolution = violent_crimes_evolution[violent_crimes_evolution[violent_crimes]]"
   ]
  },
  {
   "cell_type": "code",
   "execution_count": null,
   "metadata": {},
   "outputs": [],
   "source": []
  }
 ],
 "metadata": {
  "kernelspec": {
   "display_name": "Python 3",
   "language": "python",
   "name": "python3"
  },
  "language_info": {
   "codemirror_mode": {
    "name": "ipython",
    "version": 3
   },
   "file_extension": ".py",
   "mimetype": "text/x-python",
   "name": "python",
   "nbconvert_exporter": "python",
   "pygments_lexer": "ipython3",
   "version": "3.7.4"
  }
 },
 "nbformat": 4,
 "nbformat_minor": 2
}
