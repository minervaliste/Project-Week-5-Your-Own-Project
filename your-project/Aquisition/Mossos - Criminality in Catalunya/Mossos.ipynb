{
 "cells": [
  {
   "cell_type": "code",
   "execution_count": 1,
   "metadata": {},
   "outputs": [],
   "source": [
    "# Libraries\n",
    "import pandas as pd\n",
    "import glob\n",
    "# # from sqlalchemy import create_engine\n",
    "# # import pymysql\n",
    "\n",
    "# Connect to DB\n",
    "# driver   = 'mysql+pymysql:'\n",
    "# user     =  \n",
    "# password =  \n",
    "# ip       =  \n",
    "# database =\n",
    "\n",
    "# connection_string = f'{driver}//{user}:{password}@{ip}/{database}'\n",
    "# engine = create_engine(connection_string)"
   ]
  },
  {
   "cell_type": "markdown",
   "metadata": {},
   "source": [
    "## Import crime stats from Catalunya"
   ]
  },
  {
   "cell_type": "code",
   "execution_count": 2,
   "metadata": {},
   "outputs": [],
   "source": [
    "##List of JSONS for the different years\n",
    "list_jsons = ['https://mossos.gencat.cat/web/.content/home/01_els_mossos_desquadra/indicadors_i_qualitat/Dades_obertes/fitxers/json/Fets_2019.json', 'https://mossos.gencat.cat/web/.content/home/01_els_mossos_desquadra/indicadors_i_qualitat/Dades_obertes/fitxers/json/Fets_2018.json', 'https://mossos.gencat.cat/web/.content/home/01_els_mossos_desquadra/indicadors_i_qualitat/Dades_obertes/fitxers/json/Fets_2017.json', 'https://mossos.gencat.cat/web/.content/home/01_els_mossos_desquadra/indicadors_i_qualitat/Dades_obertes/fitxers/json/Fets_2016.json', 'https://mossos.gencat.cat/web/.content/home/01_els_mossos_desquadra/indicadors_i_qualitat/Dades_obertes/fitxers/json/Fets_2015.json', 'https://mossos.gencat.cat/web/.content/home/01_els_mossos_desquadra/indicadors_i_qualitat/Dades_obertes/fitxers/json/Fets_2014.json', 'https://mossos.gencat.cat/web/.content/home/01_els_mossos_desquadra/indicadors_i_qualitat/Dades_obertes/fitxers/json/Fets_2013.json', 'https://mossos.gencat.cat/web/.content/home/01_els_mossos_desquadra/indicadors_i_qualitat/Dades_obertes/fitxers/json/Fets_2012.json', 'https://mossos.gencat.cat/web/.content/home/01_els_mossos_desquadra/indicadors_i_qualitat/Dades_obertes/fitxers/json/Fets_2011.json']"
   ]
  },
  {
   "cell_type": "code",
   "execution_count": null,
   "metadata": {},
   "outputs": [],
   "source": []
  },
  {
   "cell_type": "code",
   "execution_count": 3,
   "metadata": {},
   "outputs": [],
   "source": [
    "##Create CSVs with the info\n",
    "index_csv = 1\n",
    "for i in list_jsons:\n",
    "    data = pd.read_json(i)\n",
    "    data.to_csv(f'Mossos_crimes_{index_csv}.csv')\n",
    "    index_csv +=1"
   ]
  },
  {
   "cell_type": "code",
   "execution_count": 4,
   "metadata": {
    "scrolled": true
   },
   "outputs": [
    {
     "data": {
      "text/html": [
       "<div>\n",
       "<style scoped>\n",
       "    .dataframe tbody tr th:only-of-type {\n",
       "        vertical-align: middle;\n",
       "    }\n",
       "\n",
       "    .dataframe tbody tr th {\n",
       "        vertical-align: top;\n",
       "    }\n",
       "\n",
       "    .dataframe thead th {\n",
       "        text-align: right;\n",
       "    }\n",
       "</style>\n",
       "<table border=\"1\" class=\"dataframe\">\n",
       "  <thead>\n",
       "    <tr style=\"text-align: right;\">\n",
       "      <th></th>\n",
       "      <th>Unnamed: 0</th>\n",
       "      <th>Mes</th>\n",
       "      <th>Nom mes</th>\n",
       "      <th>Any</th>\n",
       "      <th>Regió Policial (RP)</th>\n",
       "      <th>Àrea Bàsica Policial (ABP)</th>\n",
       "      <th>Títol Codi Penal</th>\n",
       "      <th>Tipus de fet</th>\n",
       "      <th>Coneguts</th>\n",
       "      <th>Resolts</th>\n",
       "      <th>Detencions</th>\n",
       "    </tr>\n",
       "  </thead>\n",
       "  <tbody>\n",
       "    <tr>\n",
       "      <td>0</td>\n",
       "      <td>0</td>\n",
       "      <td>1</td>\n",
       "      <td>gener</td>\n",
       "      <td>2019</td>\n",
       "      <td>RP  Metropolitana Nord</td>\n",
       "      <td>ABP Arenys de Mar</td>\n",
       "      <td>De l’homicidi i les seves formes</td>\n",
       "      <td>Homicidi consumat</td>\n",
       "      <td>1.0</td>\n",
       "      <td>1.0</td>\n",
       "      <td>NaN</td>\n",
       "    </tr>\n",
       "    <tr>\n",
       "      <td>1</td>\n",
       "      <td>1</td>\n",
       "      <td>1</td>\n",
       "      <td>gener</td>\n",
       "      <td>2019</td>\n",
       "      <td>RP  Metropolitana Nord</td>\n",
       "      <td>ABP Arenys de Mar</td>\n",
       "      <td>De l’homicidi i les seves formes</td>\n",
       "      <td>Homicidi temptativa</td>\n",
       "      <td>1.0</td>\n",
       "      <td>1.0</td>\n",
       "      <td>1.0</td>\n",
       "    </tr>\n",
       "    <tr>\n",
       "      <td>2</td>\n",
       "      <td>2</td>\n",
       "      <td>1</td>\n",
       "      <td>gener</td>\n",
       "      <td>2019</td>\n",
       "      <td>RP  Metropolitana Nord</td>\n",
       "      <td>ABP Arenys de Mar</td>\n",
       "      <td>De les falsedats</td>\n",
       "      <td>De la usurpació de l'estat civil</td>\n",
       "      <td>2.0</td>\n",
       "      <td>NaN</td>\n",
       "      <td>NaN</td>\n",
       "    </tr>\n",
       "    <tr>\n",
       "      <td>3</td>\n",
       "      <td>3</td>\n",
       "      <td>1</td>\n",
       "      <td>gener</td>\n",
       "      <td>2019</td>\n",
       "      <td>RP  Metropolitana Nord</td>\n",
       "      <td>ABP Arenys de Mar</td>\n",
       "      <td>De les falsedats</td>\n",
       "      <td>Falsedats documentals</td>\n",
       "      <td>2.0</td>\n",
       "      <td>1.0</td>\n",
       "      <td>NaN</td>\n",
       "    </tr>\n",
       "    <tr>\n",
       "      <td>4</td>\n",
       "      <td>4</td>\n",
       "      <td>1</td>\n",
       "      <td>gener</td>\n",
       "      <td>2019</td>\n",
       "      <td>RP  Metropolitana Nord</td>\n",
       "      <td>ABP Arenys de Mar</td>\n",
       "      <td>De les falsedats</td>\n",
       "      <td>Falsificació de moneda i efectes timbrats</td>\n",
       "      <td>2.0</td>\n",
       "      <td>1.0</td>\n",
       "      <td>NaN</td>\n",
       "    </tr>\n",
       "    <tr>\n",
       "      <td>...</td>\n",
       "      <td>...</td>\n",
       "      <td>...</td>\n",
       "      <td>...</td>\n",
       "      <td>...</td>\n",
       "      <td>...</td>\n",
       "      <td>...</td>\n",
       "      <td>...</td>\n",
       "      <td>...</td>\n",
       "      <td>...</td>\n",
       "      <td>...</td>\n",
       "      <td>...</td>\n",
       "    </tr>\n",
       "    <tr>\n",
       "      <td>173260</td>\n",
       "      <td>19898</td>\n",
       "      <td>12</td>\n",
       "      <td>desembre</td>\n",
       "      <td>2011</td>\n",
       "      <td>RP Terres de l'Ebre</td>\n",
       "      <td>ABP Terra Alta - Ribera d'Ebre</td>\n",
       "      <td>Delictes contra la llibertat i la indemnitat s...</td>\n",
       "      <td>Abusos sexuals</td>\n",
       "      <td>1.0</td>\n",
       "      <td>2.0</td>\n",
       "      <td>NaN</td>\n",
       "    </tr>\n",
       "    <tr>\n",
       "      <td>173261</td>\n",
       "      <td>19899</td>\n",
       "      <td>12</td>\n",
       "      <td>desembre</td>\n",
       "      <td>2011</td>\n",
       "      <td>RP Terres de l'Ebre</td>\n",
       "      <td>ABP Terra Alta - Ribera d'Ebre</td>\n",
       "      <td>Delictes contra l'ordre públic</td>\n",
       "      <td>Altres delictes contra l'ordre públic</td>\n",
       "      <td>NaN</td>\n",
       "      <td>NaN</td>\n",
       "      <td>1.0</td>\n",
       "    </tr>\n",
       "    <tr>\n",
       "      <td>173262</td>\n",
       "      <td>19900</td>\n",
       "      <td>12</td>\n",
       "      <td>desembre</td>\n",
       "      <td>2011</td>\n",
       "      <td>RP Terres de l'Ebre</td>\n",
       "      <td>ABP Terra Alta - Ribera d'Ebre</td>\n",
       "      <td>Dels delictes relatius a l’ordenació del terri...</td>\n",
       "      <td>Contra els recursos naturals i el medi ambient</td>\n",
       "      <td>NaN</td>\n",
       "      <td>1.0</td>\n",
       "      <td>NaN</td>\n",
       "    </tr>\n",
       "    <tr>\n",
       "      <td>173263</td>\n",
       "      <td>19901</td>\n",
       "      <td>12</td>\n",
       "      <td>desembre</td>\n",
       "      <td>2011</td>\n",
       "      <td>RP Terres de l'Ebre</td>\n",
       "      <td>ABP Terra Alta - Ribera d'Ebre</td>\n",
       "      <td>Faltes contra el patrimoni</td>\n",
       "      <td>Faltes contra el patrimoni</td>\n",
       "      <td>30.0</td>\n",
       "      <td>4.0</td>\n",
       "      <td>NaN</td>\n",
       "    </tr>\n",
       "    <tr>\n",
       "      <td>173264</td>\n",
       "      <td>19902</td>\n",
       "      <td>12</td>\n",
       "      <td>desembre</td>\n",
       "      <td>2011</td>\n",
       "      <td>RP Terres de l'Ebre</td>\n",
       "      <td>ABP Terra Alta - Ribera d'Ebre</td>\n",
       "      <td>Faltes contra les persones</td>\n",
       "      <td>Faltes contra les persones</td>\n",
       "      <td>7.0</td>\n",
       "      <td>7.0</td>\n",
       "      <td>NaN</td>\n",
       "    </tr>\n",
       "  </tbody>\n",
       "</table>\n",
       "<p>173265 rows × 11 columns</p>\n",
       "</div>"
      ],
      "text/plain": [
       "        Unnamed: 0  Mes   Nom mes   Any     Regió Policial (RP)  \\\n",
       "0                0    1     gener  2019  RP  Metropolitana Nord   \n",
       "1                1    1     gener  2019  RP  Metropolitana Nord   \n",
       "2                2    1     gener  2019  RP  Metropolitana Nord   \n",
       "3                3    1     gener  2019  RP  Metropolitana Nord   \n",
       "4                4    1     gener  2019  RP  Metropolitana Nord   \n",
       "...            ...  ...       ...   ...                     ...   \n",
       "173260       19898   12  desembre  2011     RP Terres de l'Ebre   \n",
       "173261       19899   12  desembre  2011     RP Terres de l'Ebre   \n",
       "173262       19900   12  desembre  2011     RP Terres de l'Ebre   \n",
       "173263       19901   12  desembre  2011     RP Terres de l'Ebre   \n",
       "173264       19902   12  desembre  2011     RP Terres de l'Ebre   \n",
       "\n",
       "            Àrea Bàsica Policial (ABP)  \\\n",
       "0                    ABP Arenys de Mar   \n",
       "1                    ABP Arenys de Mar   \n",
       "2                    ABP Arenys de Mar   \n",
       "3                    ABP Arenys de Mar   \n",
       "4                    ABP Arenys de Mar   \n",
       "...                                ...   \n",
       "173260  ABP Terra Alta - Ribera d'Ebre   \n",
       "173261  ABP Terra Alta - Ribera d'Ebre   \n",
       "173262  ABP Terra Alta - Ribera d'Ebre   \n",
       "173263  ABP Terra Alta - Ribera d'Ebre   \n",
       "173264  ABP Terra Alta - Ribera d'Ebre   \n",
       "\n",
       "                                         Títol Codi Penal  \\\n",
       "0                        De l’homicidi i les seves formes   \n",
       "1                        De l’homicidi i les seves formes   \n",
       "2                                        De les falsedats   \n",
       "3                                        De les falsedats   \n",
       "4                                        De les falsedats   \n",
       "...                                                   ...   \n",
       "173260  Delictes contra la llibertat i la indemnitat s...   \n",
       "173261                     Delictes contra l'ordre públic   \n",
       "173262  Dels delictes relatius a l’ordenació del terri...   \n",
       "173263                         Faltes contra el patrimoni   \n",
       "173264                         Faltes contra les persones   \n",
       "\n",
       "                                          Tipus de fet  Coneguts  Resolts  \\\n",
       "0                                    Homicidi consumat       1.0      1.0   \n",
       "1                                  Homicidi temptativa       1.0      1.0   \n",
       "2                     De la usurpació de l'estat civil       2.0      NaN   \n",
       "3                                Falsedats documentals       2.0      1.0   \n",
       "4            Falsificació de moneda i efectes timbrats       2.0      1.0   \n",
       "...                                                ...       ...      ...   \n",
       "173260                                  Abusos sexuals       1.0      2.0   \n",
       "173261           Altres delictes contra l'ordre públic       NaN      NaN   \n",
       "173262  Contra els recursos naturals i el medi ambient       NaN      1.0   \n",
       "173263                      Faltes contra el patrimoni      30.0      4.0   \n",
       "173264                      Faltes contra les persones       7.0      7.0   \n",
       "\n",
       "        Detencions  \n",
       "0              NaN  \n",
       "1              1.0  \n",
       "2              NaN  \n",
       "3              NaN  \n",
       "4              NaN  \n",
       "...            ...  \n",
       "173260         NaN  \n",
       "173261         1.0  \n",
       "173262         NaN  \n",
       "173263         NaN  \n",
       "173264         NaN  \n",
       "\n",
       "[173265 rows x 11 columns]"
      ]
     },
     "execution_count": 4,
     "metadata": {},
     "output_type": "execute_result"
    }
   ],
   "source": [
    "##Import all CSVs in one DF\n",
    "mossos_crimes_2011_2019 = pd.concat([pd.read_csv(f) for f in glob.glob('*.csv')], ignore_index = True)\n",
    "mossos_crimes_2011_2019"
   ]
  },
  {
   "cell_type": "markdown",
   "metadata": {},
   "source": [
    "## Clean dataframe"
   ]
  },
  {
   "cell_type": "code",
   "execution_count": 5,
   "metadata": {},
   "outputs": [],
   "source": [
    "##Drop unwanted columns\n",
    "mossos_crimes_2011_2019 = mossos_crimes_2011_2019.drop(['Unnamed: 0', 'Resolts', 'Detencions', 'Títol Codi Penal'], axis=1)"
   ]
  },
  {
   "cell_type": "code",
   "execution_count": 6,
   "metadata": {},
   "outputs": [],
   "source": [
    "##Change columns name\n",
    "mossos_crimes_2011_2019.columns = ['month', 'month_name', 'year', 'RP', 'ABP', 'type_of_crime', 'number_of_crimes']"
   ]
  },
  {
   "cell_type": "code",
   "execution_count": 7,
   "metadata": {},
   "outputs": [
    {
     "name": "stdout",
     "output_type": "stream",
     "text": [
      "<class 'pandas.core.frame.DataFrame'>\n",
      "RangeIndex: 173265 entries, 0 to 173264\n",
      "Data columns (total 7 columns):\n",
      "month               173265 non-null int64\n",
      "month_name          173265 non-null object\n",
      "year                173265 non-null int64\n",
      "RP                  173265 non-null object\n",
      "ABP                 173265 non-null object\n",
      "type_of_crime       173265 non-null object\n",
      "number_of_crimes    162582 non-null float64\n",
      "dtypes: float64(1), int64(2), object(4)\n",
      "memory usage: 9.3+ MB\n"
     ]
    }
   ],
   "source": [
    "mossos_crimes_2011_2019.info()"
   ]
  },
  {
   "cell_type": "code",
   "execution_count": 8,
   "metadata": {},
   "outputs": [],
   "source": [
    "##Replace NaNs -- we replace it with 0 for aggregation purposes -- it does not make sense to replace it for another value and\n",
    "##it is better than dropping the row because this way we know it was originally consider. Moreover, since there are no values\n",
    "##on that column to 0, it makes sense to think that NaN values are actually equal to 0 values.\n",
    "\n",
    "mossos_crimes_2011_2019[(mossos_crimes_2011_2019.number_of_crimes.isna() == True)]\n",
    "mossos_crimes_2011_2019[(mossos_crimes_2011_2019.number_of_crimes == 0)]\n",
    "mossos_crimes_2011_2019 = mossos_crimes_2011_2019.fillna(0)"
   ]
  },
  {
   "cell_type": "code",
   "execution_count": 9,
   "metadata": {},
   "outputs": [
    {
     "name": "stdout",
     "output_type": "stream",
     "text": [
      "<class 'pandas.core.frame.DataFrame'>\n",
      "RangeIndex: 173265 entries, 0 to 173264\n",
      "Data columns (total 7 columns):\n",
      "month               173265 non-null int64\n",
      "month_name          173265 non-null object\n",
      "year                173265 non-null int64\n",
      "RP                  173265 non-null object\n",
      "ABP                 173265 non-null object\n",
      "type_of_crime       173265 non-null object\n",
      "number_of_crimes    173265 non-null float64\n",
      "dtypes: float64(1), int64(2), object(4)\n",
      "memory usage: 9.3+ MB\n"
     ]
    }
   ],
   "source": [
    "mossos_crimes_2011_2019.info()"
   ]
  },
  {
   "cell_type": "code",
   "execution_count": 10,
   "metadata": {},
   "outputs": [],
   "source": [
    "#Change number_of_crimes data type\n",
    "mossos_crimes_2011_2019.number_of_crimes = mossos_crimes_2011_2019.number_of_crimes.astype(int)"
   ]
  },
  {
   "cell_type": "code",
   "execution_count": 11,
   "metadata": {},
   "outputs": [
    {
     "name": "stdout",
     "output_type": "stream",
     "text": [
      "<class 'pandas.core.frame.DataFrame'>\n",
      "RangeIndex: 173265 entries, 0 to 173264\n",
      "Data columns (total 7 columns):\n",
      "month               173265 non-null int64\n",
      "month_name          173265 non-null object\n",
      "year                173265 non-null int64\n",
      "RP                  173265 non-null object\n",
      "ABP                 173265 non-null object\n",
      "type_of_crime       173265 non-null object\n",
      "number_of_crimes    173265 non-null int32\n",
      "dtypes: int32(1), int64(2), object(4)\n",
      "memory usage: 8.6+ MB\n"
     ]
    }
   ],
   "source": [
    "mossos_crimes_2011_2019.info()"
   ]
  },
  {
   "cell_type": "markdown",
   "metadata": {},
   "source": [
    "## Create CSV for analysis"
   ]
  },
  {
   "cell_type": "code",
   "execution_count": 12,
   "metadata": {},
   "outputs": [],
   "source": [
    "mossos_crimes_2011_2019.to_csv('../../Analysis/crimes_barcelona.csv')"
   ]
  },
  {
   "cell_type": "markdown",
   "metadata": {},
   "source": [
    "## Export to DB"
   ]
  },
  {
   "cell_type": "code",
   "execution_count": null,
   "metadata": {},
   "outputs": [],
   "source": []
  }
 ],
 "metadata": {
  "kernelspec": {
   "display_name": "Python 3",
   "language": "python",
   "name": "python3"
  },
  "language_info": {
   "codemirror_mode": {
    "name": "ipython",
    "version": 3
   },
   "file_extension": ".py",
   "mimetype": "text/x-python",
   "name": "python",
   "nbconvert_exporter": "python",
   "pygments_lexer": "ipython3",
   "version": "3.7.4"
  }
 },
 "nbformat": 4,
 "nbformat_minor": 2
}
