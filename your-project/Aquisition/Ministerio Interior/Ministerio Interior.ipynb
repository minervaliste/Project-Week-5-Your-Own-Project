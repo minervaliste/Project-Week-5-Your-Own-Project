{
 "cells": [
  {
   "cell_type": "code",
   "execution_count": 1,
   "metadata": {},
   "outputs": [],
   "source": [
    "# Libraries\n",
    "import numpy as np\n",
    "import pandas as pd\n",
    "from sqlalchemy import create_engine\n",
    "import pymysql\n",
    "\n",
    "Connect to local DB\n",
    "driver   = 'mysql+pymysql:'\n",
    "user     = 'root' \n",
    "password = 'ML_LI_04'\n",
    "ip       = '127.0.0.1' \n",
    "\n",
    "database = 'fitbit' \n",
    "\n",
    "connection_string = f'{driver}//{user}:{password}@{ip}/{database}'\n",
    "engine = create_engine(connection_string)\n"
   ]
  },
  {
   "cell_type": "markdown",
   "metadata": {},
   "source": [
    "## Check most populated cities in Spain"
   ]
  },
  {
   "cell_type": "code",
   "execution_count": 5,
   "metadata": {},
   "outputs": [],
   "source": [
    "cities = pd.read_html('https://es.wikipedia.org/wiki/Anexo:Municipios_de_Espa%C3%B1a_por_poblaci%C3%B3n',header=0)[1]"
   ]
  },
  {
   "cell_type": "code",
   "execution_count": 6,
   "metadata": {},
   "outputs": [
    {
     "data": {
      "text/html": [
       "<div>\n",
       "<style scoped>\n",
       "    .dataframe tbody tr th:only-of-type {\n",
       "        vertical-align: middle;\n",
       "    }\n",
       "\n",
       "    .dataframe tbody tr th {\n",
       "        vertical-align: top;\n",
       "    }\n",
       "\n",
       "    .dataframe thead th {\n",
       "        text-align: right;\n",
       "    }\n",
       "</style>\n",
       "<table border=\"1\" class=\"dataframe\">\n",
       "  <thead>\n",
       "    <tr style=\"text-align: right;\">\n",
       "      <th></th>\n",
       "      <th>#</th>\n",
       "      <th>Nombre</th>\n",
       "      <th>Población(2019)</th>\n",
       "      <th>Provincia</th>\n",
       "      <th>Comunidad autónoma</th>\n",
       "    </tr>\n",
       "  </thead>\n",
       "  <tbody>\n",
       "    <tr>\n",
       "      <td>0</td>\n",
       "      <td>1</td>\n",
       "      <td>Madrid</td>\n",
       "      <td>3 266 126</td>\n",
       "      <td>Madrid</td>\n",
       "      <td>Comunidad de Madrid</td>\n",
       "    </tr>\n",
       "    <tr>\n",
       "      <td>1</td>\n",
       "      <td>2</td>\n",
       "      <td>Barcelona</td>\n",
       "      <td>1 636 762</td>\n",
       "      <td>Barcelona</td>\n",
       "      <td>Cataluña</td>\n",
       "    </tr>\n",
       "    <tr>\n",
       "      <td>2</td>\n",
       "      <td>3</td>\n",
       "      <td>Valencia</td>\n",
       "      <td>794 288</td>\n",
       "      <td>Valencia</td>\n",
       "      <td>Comunidad Valenciana</td>\n",
       "    </tr>\n",
       "    <tr>\n",
       "      <td>3</td>\n",
       "      <td>4</td>\n",
       "      <td>Sevilla</td>\n",
       "      <td>688 592</td>\n",
       "      <td>Sevilla</td>\n",
       "      <td>Andalucía</td>\n",
       "    </tr>\n",
       "    <tr>\n",
       "      <td>4</td>\n",
       "      <td>5</td>\n",
       "      <td>Zaragoza</td>\n",
       "      <td>674 997</td>\n",
       "      <td>Zaragoza</td>\n",
       "      <td>Aragón</td>\n",
       "    </tr>\n",
       "    <tr>\n",
       "      <td>...</td>\n",
       "      <td>...</td>\n",
       "      <td>...</td>\n",
       "      <td>...</td>\n",
       "      <td>...</td>\n",
       "      <td>...</td>\n",
       "    </tr>\n",
       "    <tr>\n",
       "      <td>58</td>\n",
       "      <td>59</td>\n",
       "      <td>Orense</td>\n",
       "      <td>105 233</td>\n",
       "      <td>Orense</td>\n",
       "      <td>Galicia</td>\n",
       "    </tr>\n",
       "    <tr>\n",
       "      <td>59</td>\n",
       "      <td>60</td>\n",
       "      <td>Reus</td>\n",
       "      <td>104 373</td>\n",
       "      <td>Tarragona</td>\n",
       "      <td>Cataluña</td>\n",
       "    </tr>\n",
       "    <tr>\n",
       "      <td>60</td>\n",
       "      <td>61</td>\n",
       "      <td>Telde</td>\n",
       "      <td>102 647</td>\n",
       "      <td>Las Palmas</td>\n",
       "      <td>Canarias</td>\n",
       "    </tr>\n",
       "    <tr>\n",
       "      <td>61</td>\n",
       "      <td>62</td>\n",
       "      <td>Gerona</td>\n",
       "      <td>101 852</td>\n",
       "      <td>Gerona</td>\n",
       "      <td>Cataluña</td>\n",
       "    </tr>\n",
       "    <tr>\n",
       "      <td>62</td>\n",
       "      <td>63</td>\n",
       "      <td>Baracaldo</td>\n",
       "      <td>100 881</td>\n",
       "      <td>Vizcaya</td>\n",
       "      <td>País Vasco</td>\n",
       "    </tr>\n",
       "  </tbody>\n",
       "</table>\n",
       "<p>63 rows × 5 columns</p>\n",
       "</div>"
      ],
      "text/plain": [
       "     #     Nombre Población(2019)   Provincia    Comunidad autónoma\n",
       "0    1     Madrid       3 266 126      Madrid   Comunidad de Madrid\n",
       "1    2  Barcelona       1 636 762   Barcelona              Cataluña\n",
       "2    3   Valencia         794 288    Valencia  Comunidad Valenciana\n",
       "3    4    Sevilla         688 592     Sevilla             Andalucía\n",
       "4    5   Zaragoza         674 997    Zaragoza                Aragón\n",
       "..  ..        ...             ...         ...                   ...\n",
       "58  59     Orense         105 233      Orense               Galicia\n",
       "59  60       Reus         104 373   Tarragona              Cataluña\n",
       "60  61      Telde         102 647  Las Palmas              Canarias\n",
       "61  62     Gerona         101 852      Gerona              Cataluña\n",
       "62  63  Baracaldo         100 881     Vizcaya            País Vasco\n",
       "\n",
       "[63 rows x 5 columns]"
      ]
     },
     "execution_count": 6,
     "metadata": {},
     "output_type": "execute_result"
    }
   ],
   "source": [
    "cities"
   ]
  },
  {
   "cell_type": "markdown",
   "metadata": {},
   "source": [
    "## Import crime stats from top 15 populated cities"
   ]
  },
  {
   "cell_type": "code",
   "execution_count": 69,
   "metadata": {
    "scrolled": true
   },
   "outputs": [],
   "source": [
    "excel_crimes = pd.read_excel('try_excel.xls')"
   ]
  },
  {
   "cell_type": "code",
   "execution_count": 70,
   "metadata": {},
   "outputs": [],
   "source": [
    "crimes = excel_crimes.iloc[6:231,].reset_index(drop=True)"
   ]
  },
  {
   "cell_type": "code",
   "execution_count": 71,
   "metadata": {},
   "outputs": [],
   "source": [
    "crimes.columns = ['crime', 'quantity']"
   ]
  },
  {
   "cell_type": "code",
   "execution_count": 72,
   "metadata": {},
   "outputs": [],
   "source": [
    "crimes['city'] = 'pending'"
   ]
  },
  {
   "cell_type": "code",
   "execution_count": 77,
   "metadata": {},
   "outputs": [
    {
     "ename": "SyntaxError",
     "evalue": "invalid syntax (<ipython-input-77-25f2c55a29f0>, line 2)",
     "output_type": "error",
     "traceback": [
      "\u001b[1;36m  File \u001b[1;32m\"<ipython-input-77-25f2c55a29f0>\"\u001b[1;36m, line \u001b[1;32m2\u001b[0m\n\u001b[1;33m    crimes['city'] = crimes.apply(lambda row: crimes.iloc[(row.index - 1), 2] if crimes['city'] == 'pending')\u001b[0m\n\u001b[1;37m                                                                                                            ^\u001b[0m\n\u001b[1;31mSyntaxError\u001b[0m\u001b[1;31m:\u001b[0m invalid syntax\n"
     ]
    }
   ],
   "source": [
    "crimes.loc[(crimes.quantity.isna()), 'city'] = crimes.crime.str.split('de')\n",
    "crimes['city'] = crimes.apply(lambda row: crimes.iloc[(row.index - 1), 2] if crimes['city'] == 'pending')"
   ]
  },
  {
   "cell_type": "markdown",
   "metadata": {},
   "source": [
    "## Match crime names from both DB"
   ]
  },
  {
   "cell_type": "code",
   "execution_count": 85,
   "metadata": {},
   "outputs": [],
   "source": [
    "crime_names = pd.read_excel('try_excel.xls')\n",
    "crime_names = crime_names.iloc[6:231,].reset_index(drop=True)\n",
    "crime_names.columns = ['crime', 'quantity']\n",
    "crime_names = crime_names.dropna()\n",
    "crime_names = crime_names.groupby('crime').sum().reset_index()\n",
    "crime_names.to_csv('crims_interior.csv')"
   ]
  },
  {
   "cell_type": "code",
   "execution_count": null,
   "metadata": {},
   "outputs": [],
   "source": []
  },
  {
   "cell_type": "code",
   "execution_count": null,
   "metadata": {},
   "outputs": [],
   "source": []
  },
  {
   "cell_type": "code",
   "execution_count": null,
   "metadata": {},
   "outputs": [],
   "source": []
  },
  {
   "cell_type": "code",
   "execution_count": null,
   "metadata": {},
   "outputs": [],
   "source": []
  },
  {
   "cell_type": "code",
   "execution_count": null,
   "metadata": {},
   "outputs": [],
   "source": []
  }
 ],
 "metadata": {
  "kernelspec": {
   "display_name": "Python 3",
   "language": "python",
   "name": "python3"
  },
  "language_info": {
   "codemirror_mode": {
    "name": "ipython",
    "version": 3
   },
   "file_extension": ".py",
   "mimetype": "text/x-python",
   "name": "python",
   "nbconvert_exporter": "python",
   "pygments_lexer": "ipython3",
   "version": "3.7.4"
  }
 },
 "nbformat": 4,
 "nbformat_minor": 2
}
