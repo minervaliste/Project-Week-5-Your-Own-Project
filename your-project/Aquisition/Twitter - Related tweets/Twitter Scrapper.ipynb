{
 "cells": [
  {
   "cell_type": "code",
   "execution_count": 1,
   "metadata": {},
   "outputs": [
    {
     "name": "stderr",
     "output_type": "stream",
     "text": [
      "INFO: {'User-Agent': 'Mozilla/5.0 (Windows; U; Windows NT 6.1; x64; fr; rv:1.9.2.13) Gecko/20101203 Firebird/3.6.13'}\n"
     ]
    }
   ],
   "source": [
    "from twitterscraper import query_tweets\n",
    "import datetime as dt\n",
    "import pandas as pd\n",
    "import glob\n",
    "import time"
   ]
  },
  {
   "cell_type": "markdown",
   "metadata": {},
   "source": [
    "## Parse Twitter feed\n",
    "\n",
    "The query is constructed to obtain all tweets that where published between the selected dates and that contained the words:\n",
    "\"Barcelona\" AND \"violencia\" OR \"crimen\" OR \"inseguridad\" OR \"delincuencia\" OR \"agresion\" OR \"delito\" OR \"crim\" OR \"inseguretat\" OR \"delinqüència\" OR \"agressió\" OR \"delicte\"\n"
   ]
  },
  {
   "cell_type": "code",
   "execution_count": 2,
   "metadata": {},
   "outputs": [
    {
     "data": {
      "text/plain": [
       "'\\nwhile start_date > final_date:\\n    begin_date = start_date - 7*day_delta\\n    end_date = start_date\\n    query = \\'\"Barcelona\" AND \"violencia\" OR \"crimen\" OR \"inseguridad\" OR \"delincuencia\" OR \"agresion\" OR \"delito\" OR \"crim\" OR \"inseguretat\" OR \"delinqüència\" OR \"agressió\" OR \"delicte\"\\'\\n    tweets = query_tweets(query=query, begindate = begin_date, enddate = end_date)\\n    print(len(tweets), f\\' were retrieved for {begin_date} to {end_date}\\')\\n    df = pd.DataFrame(t.__dict__ for t in tweets)\\n    df.to_csv(f\\'Tweets_{begin_date}_{end_date}.csv\\')\\n    start_date -= 7*day_delta\\n    time.sleep(60)\\n'"
      ]
     },
     "execution_count": 2,
     "metadata": {},
     "output_type": "execute_result"
    }
   ],
   "source": [
    "day_delta = dt.timedelta(days=1)\n",
    "\n",
    "start_date = dt.date(2018, 1, 5)\n",
    "final_date = dt.date(2017, 1, 6)\n",
    "\n",
    "##Remove comment below to run the Twitter parser!\n",
    "'''\n",
    "while start_date > final_date:\n",
    "    begin_date = start_date - 7*day_delta\n",
    "    end_date = start_date\n",
    "    query = '\"Barcelona\" AND \"violencia\" OR \"crimen\" OR \"inseguridad\" OR \"delincuencia\" OR \"agresion\" OR \"delito\" OR \"crim\" OR \"inseguretat\" OR \"delinqüència\" OR \"agressió\" OR \"delicte\"'\n",
    "    tweets = query_tweets(query=query, begindate = begin_date, enddate = end_date)\n",
    "    print(len(tweets), f' were retrieved for {begin_date} to {end_date}')\n",
    "    df = pd.DataFrame(t.__dict__ for t in tweets)\n",
    "    df.to_csv(f'Tweets_{begin_date}_{end_date}.csv')\n",
    "    start_date -= 7*day_delta\n",
    "    time.sleep(60)\n",
    "'''"
   ]
  },
  {
   "cell_type": "markdown",
   "metadata": {},
   "source": [
    "## Create master DataFrame\n",
    "\n",
    "All the CSV created by the Twitter parser are concatenated in one single DataFrame"
   ]
  },
  {
   "cell_type": "code",
   "execution_count": 3,
   "metadata": {},
   "outputs": [
    {
     "name": "stderr",
     "output_type": "stream",
     "text": [
      "C:\\Users\\miner\\Anaconda3\\lib\\site-packages\\ipykernel_launcher.py:1: FutureWarning: Sorting because non-concatenation axis is not aligned. A future version\n",
      "of pandas will change to not sort by default.\n",
      "\n",
      "To accept the future behavior, pass 'sort=False'.\n",
      "\n",
      "To retain the current behavior and silence the warning, pass 'sort=True'.\n",
      "\n",
      "  \"\"\"Entry point for launching an IPython kernel.\n"
     ]
    },
    {
     "data": {
      "text/html": [
       "<div>\n",
       "<style scoped>\n",
       "    .dataframe tbody tr th:only-of-type {\n",
       "        vertical-align: middle;\n",
       "    }\n",
       "\n",
       "    .dataframe tbody tr th {\n",
       "        vertical-align: top;\n",
       "    }\n",
       "\n",
       "    .dataframe thead th {\n",
       "        text-align: right;\n",
       "    }\n",
       "</style>\n",
       "<table border=\"1\" class=\"dataframe\">\n",
       "  <thead>\n",
       "    <tr style=\"text-align: right;\">\n",
       "      <th></th>\n",
       "      <th>Unnamed: 0</th>\n",
       "      <th>has_media</th>\n",
       "      <th>hashtags</th>\n",
       "      <th>img_urls</th>\n",
       "      <th>is_replied</th>\n",
       "      <th>is_reply_to</th>\n",
       "      <th>likes</th>\n",
       "      <th>links</th>\n",
       "      <th>parent_tweet_id</th>\n",
       "      <th>replies</th>\n",
       "      <th>...</th>\n",
       "      <th>screen_name</th>\n",
       "      <th>text</th>\n",
       "      <th>text_html</th>\n",
       "      <th>timestamp</th>\n",
       "      <th>timestamp_epochs</th>\n",
       "      <th>tweet_id</th>\n",
       "      <th>tweet_url</th>\n",
       "      <th>user_id</th>\n",
       "      <th>username</th>\n",
       "      <th>video_url</th>\n",
       "    </tr>\n",
       "  </thead>\n",
       "  <tbody>\n",
       "    <tr>\n",
       "      <td>0</td>\n",
       "      <td>0</td>\n",
       "      <td>False</td>\n",
       "      <td>['Barcelona', 'Hospitalet']</td>\n",
       "      <td>[]</td>\n",
       "      <td>False</td>\n",
       "      <td>False</td>\n",
       "      <td>0.0</td>\n",
       "      <td>['http://ow.ly/l045307S1dW']</td>\n",
       "      <td>NaN</td>\n",
       "      <td>0.0</td>\n",
       "      <td>...</td>\n",
       "      <td>elperiodicoLH</td>\n",
       "      <td>.@mossos investiguen si el tiroteig de #Barcel...</td>\n",
       "      <td>&lt;p class=\"TweetTextSize js-tweet-text tweet-te...</td>\n",
       "      <td>2017-01-10 17:47:59</td>\n",
       "      <td>1.484070e+09</td>\n",
       "      <td>8.188771e+17</td>\n",
       "      <td>/elperiodicoLH/status/818877057178468352</td>\n",
       "      <td>6.190110e+08</td>\n",
       "      <td>EL PERIÓDICO L’Hospitalet</td>\n",
       "      <td>NaN</td>\n",
       "    </tr>\n",
       "    <tr>\n",
       "      <td>1</td>\n",
       "      <td>1</td>\n",
       "      <td>False</td>\n",
       "      <td>['Barcelona', 'Hospitalet']</td>\n",
       "      <td>[]</td>\n",
       "      <td>False</td>\n",
       "      <td>False</td>\n",
       "      <td>0.0</td>\n",
       "      <td>['http://ow.ly/Zw8Q307RYTT']</td>\n",
       "      <td>NaN</td>\n",
       "      <td>0.0</td>\n",
       "      <td>...</td>\n",
       "      <td>elperiodicoLH</td>\n",
       "      <td>.@Mossos investigan si el tiroteo de #Barcelon...</td>\n",
       "      <td>&lt;p class=\"TweetTextSize js-tweet-text tweet-te...</td>\n",
       "      <td>2017-01-10 17:32:03</td>\n",
       "      <td>1.484070e+09</td>\n",
       "      <td>8.188730e+17</td>\n",
       "      <td>/elperiodicoLH/status/818873047318929408</td>\n",
       "      <td>6.190110e+08</td>\n",
       "      <td>EL PERIÓDICO L’Hospitalet</td>\n",
       "      <td>NaN</td>\n",
       "    </tr>\n",
       "    <tr>\n",
       "      <td>2</td>\n",
       "      <td>2</td>\n",
       "      <td>False</td>\n",
       "      <td>[]</td>\n",
       "      <td>[]</td>\n",
       "      <td>False</td>\n",
       "      <td>False</td>\n",
       "      <td>0.0</td>\n",
       "      <td>['http://ww.abc.es/pXWB307RGLV']</td>\n",
       "      <td>NaN</td>\n",
       "      <td>0.0</td>\n",
       "      <td>...</td>\n",
       "      <td>ABC_Barcelona</td>\n",
       "      <td>El juez cita a declarar a los padres de Nadia ...</td>\n",
       "      <td>&lt;p class=\"TweetTextSize js-tweet-text tweet-te...</td>\n",
       "      <td>2017-01-10 15:50:13</td>\n",
       "      <td>1.484063e+09</td>\n",
       "      <td>8.188474e+17</td>\n",
       "      <td>/ABC_Barcelona/status/818847421941870592</td>\n",
       "      <td>2.123097e+08</td>\n",
       "      <td>ABC Barcelona</td>\n",
       "      <td>NaN</td>\n",
       "    </tr>\n",
       "    <tr>\n",
       "      <td>3</td>\n",
       "      <td>3</td>\n",
       "      <td>False</td>\n",
       "      <td>[]</td>\n",
       "      <td>[]</td>\n",
       "      <td>False</td>\n",
       "      <td>False</td>\n",
       "      <td>0.0</td>\n",
       "      <td>['http://fb.me/5F0pNnHHU']</td>\n",
       "      <td>NaN</td>\n",
       "      <td>0.0</td>\n",
       "      <td>...</td>\n",
       "      <td>10demin</td>\n",
       "      <td>Agresion Luis Suarez a Asenjo. Barcelona Villa...</td>\n",
       "      <td>&lt;p class=\"TweetTextSize js-tweet-text tweet-te...</td>\n",
       "      <td>2017-01-10 15:28:21</td>\n",
       "      <td>1.484062e+09</td>\n",
       "      <td>8.188419e+17</td>\n",
       "      <td>/10demin/status/818841919681941504</td>\n",
       "      <td>3.754254e+08</td>\n",
       "      <td>javier herrera</td>\n",
       "      <td>NaN</td>\n",
       "    </tr>\n",
       "    <tr>\n",
       "      <td>4</td>\n",
       "      <td>4</td>\n",
       "      <td>False</td>\n",
       "      <td>[]</td>\n",
       "      <td>[]</td>\n",
       "      <td>True</td>\n",
       "      <td>True</td>\n",
       "      <td>1.0</td>\n",
       "      <td>['http://www.outono.net/elentir/2016/06/06/el-...</td>\n",
       "      <td>8.163982e+17</td>\n",
       "      <td>1.0</td>\n",
       "      <td>...</td>\n",
       "      <td>DeGalinsoga</td>\n",
       "      <td>Una agresión condenada por todo el mundo, cosa...</td>\n",
       "      <td>&lt;p class=\"TweetTextSize js-tweet-text tweet-te...</td>\n",
       "      <td>2017-01-10 14:41:37</td>\n",
       "      <td>1.484059e+09</td>\n",
       "      <td>8.188302e+17</td>\n",
       "      <td>/DeGalinsoga/status/818830159381860352</td>\n",
       "      <td>3.187796e+09</td>\n",
       "      <td>Julio Camba</td>\n",
       "      <td>NaN</td>\n",
       "    </tr>\n",
       "  </tbody>\n",
       "</table>\n",
       "<p>5 rows × 22 columns</p>\n",
       "</div>"
      ],
      "text/plain": [
       "  Unnamed: 0 has_media                     hashtags img_urls is_replied  \\\n",
       "0          0     False  ['Barcelona', 'Hospitalet']       []      False   \n",
       "1          1     False  ['Barcelona', 'Hospitalet']       []      False   \n",
       "2          2     False                           []       []      False   \n",
       "3          3     False                           []       []      False   \n",
       "4          4     False                           []       []       True   \n",
       "\n",
       "  is_reply_to  likes                                              links  \\\n",
       "0       False    0.0                       ['http://ow.ly/l045307S1dW']   \n",
       "1       False    0.0                       ['http://ow.ly/Zw8Q307RYTT']   \n",
       "2       False    0.0                   ['http://ww.abc.es/pXWB307RGLV']   \n",
       "3       False    0.0                         ['http://fb.me/5F0pNnHHU']   \n",
       "4        True    1.0  ['http://www.outono.net/elentir/2016/06/06/el-...   \n",
       "\n",
       "   parent_tweet_id  replies  ...    screen_name  \\\n",
       "0              NaN      0.0  ...  elperiodicoLH   \n",
       "1              NaN      0.0  ...  elperiodicoLH   \n",
       "2              NaN      0.0  ...  ABC_Barcelona   \n",
       "3              NaN      0.0  ...        10demin   \n",
       "4     8.163982e+17      1.0  ...    DeGalinsoga   \n",
       "\n",
       "                                                text  \\\n",
       "0  .@mossos investiguen si el tiroteig de #Barcel...   \n",
       "1  .@Mossos investigan si el tiroteo de #Barcelon...   \n",
       "2  El juez cita a declarar a los padres de Nadia ...   \n",
       "3  Agresion Luis Suarez a Asenjo. Barcelona Villa...   \n",
       "4  Una agresión condenada por todo el mundo, cosa...   \n",
       "\n",
       "                                           text_html            timestamp  \\\n",
       "0  <p class=\"TweetTextSize js-tweet-text tweet-te...  2017-01-10 17:47:59   \n",
       "1  <p class=\"TweetTextSize js-tweet-text tweet-te...  2017-01-10 17:32:03   \n",
       "2  <p class=\"TweetTextSize js-tweet-text tweet-te...  2017-01-10 15:50:13   \n",
       "3  <p class=\"TweetTextSize js-tweet-text tweet-te...  2017-01-10 15:28:21   \n",
       "4  <p class=\"TweetTextSize js-tweet-text tweet-te...  2017-01-10 14:41:37   \n",
       "\n",
       "  timestamp_epochs      tweet_id                                 tweet_url  \\\n",
       "0     1.484070e+09  8.188771e+17  /elperiodicoLH/status/818877057178468352   \n",
       "1     1.484070e+09  8.188730e+17  /elperiodicoLH/status/818873047318929408   \n",
       "2     1.484063e+09  8.188474e+17  /ABC_Barcelona/status/818847421941870592   \n",
       "3     1.484062e+09  8.188419e+17        /10demin/status/818841919681941504   \n",
       "4     1.484059e+09  8.188302e+17    /DeGalinsoga/status/818830159381860352   \n",
       "\n",
       "        user_id                   username  video_url  \n",
       "0  6.190110e+08  EL PERIÓDICO L’Hospitalet        NaN  \n",
       "1  6.190110e+08  EL PERIÓDICO L’Hospitalet        NaN  \n",
       "2  2.123097e+08              ABC Barcelona        NaN  \n",
       "3  3.754254e+08             javier herrera        NaN  \n",
       "4  3.187796e+09                Julio Camba        NaN  \n",
       "\n",
       "[5 rows x 22 columns]"
      ]
     },
     "execution_count": 3,
     "metadata": {},
     "output_type": "execute_result"
    }
   ],
   "source": [
    "tweets = pd.concat([pd.read_csv(f) for f in glob.glob('*.csv')], ignore_index = True)\n",
    "tweets.head()"
   ]
  },
  {
   "cell_type": "markdown",
   "metadata": {},
   "source": [
    "## Clean data\n"
   ]
  },
  {
   "cell_type": "code",
   "execution_count": 4,
   "metadata": {
    "scrolled": true
   },
   "outputs": [
    {
     "name": "stdout",
     "output_type": "stream",
     "text": [
      "<class 'pandas.core.frame.DataFrame'>\n",
      "RangeIndex: 119972 entries, 0 to 119971\n",
      "Data columns (total 22 columns):\n",
      "Unnamed: 0          119972 non-null object\n",
      "has_media           119972 non-null object\n",
      "hashtags            119972 non-null object\n",
      "img_urls            119972 non-null object\n",
      "is_replied          119972 non-null object\n",
      "is_reply_to         119972 non-null object\n",
      "likes               119972 non-null float64\n",
      "links               119972 non-null object\n",
      "parent_tweet_id     30585 non-null float64\n",
      "replies             119972 non-null float64\n",
      "reply_to_users      119972 non-null object\n",
      "retweets            119972 non-null float64\n",
      "screen_name         119972 non-null object\n",
      "text                119972 non-null object\n",
      "text_html           119972 non-null object\n",
      "timestamp           119972 non-null object\n",
      "timestamp_epochs    119972 non-null float64\n",
      "tweet_id            119972 non-null float64\n",
      "tweet_url           119972 non-null object\n",
      "user_id             119972 non-null float64\n",
      "username            119972 non-null object\n",
      "video_url           0 non-null float64\n",
      "dtypes: float64(8), object(14)\n",
      "memory usage: 20.1+ MB\n"
     ]
    }
   ],
   "source": [
    "tweets.info()"
   ]
  },
  {
   "cell_type": "code",
   "execution_count": 5,
   "metadata": {},
   "outputs": [],
   "source": [
    "##Drop unwanted columns\n",
    "tweets = tweets.drop(['Unnamed: 0', 'timestamp_epochs', 'has_media', 'img_urls', 'video_url', 'is_replied', 'is_reply_to', 'reply_to_users', 'parent_tweet_id' ], axis=1)"
   ]
  },
  {
   "cell_type": "code",
   "execution_count": 6,
   "metadata": {},
   "outputs": [],
   "source": [
    "##Delete possible duplicates\n",
    "tweets = tweets.drop_duplicates().copy()"
   ]
  },
  {
   "cell_type": "code",
   "execution_count": 7,
   "metadata": {
    "scrolled": true
   },
   "outputs": [],
   "source": [
    "##Parse date to have a Year, Month and Day column\n",
    "tweets['year'] = tweets.apply(lambda x: x.timestamp.split('-')[0], axis = 1)\n",
    "tweets['month'] = tweets.apply(lambda x: x.timestamp.split('-')[1], axis = 1)\n",
    "tweets['day'] = tweets.apply(lambda x: x.timestamp.split('-')[2], axis = 1)\n",
    "tweets['day'] = tweets.apply(lambda x: x.day.split(' ')[0], axis = 1)"
   ]
  },
  {
   "cell_type": "code",
   "execution_count": 8,
   "metadata": {},
   "outputs": [
    {
     "name": "stdout",
     "output_type": "stream",
     "text": [
      "<class 'pandas.core.frame.DataFrame'>\n",
      "Int64Index: 100528 entries, 0 to 119971\n",
      "Data columns (total 16 columns):\n",
      "hashtags       100528 non-null object\n",
      "likes          100528 non-null float64\n",
      "links          100528 non-null object\n",
      "replies        100528 non-null float64\n",
      "retweets       100528 non-null float64\n",
      "screen_name    100528 non-null object\n",
      "text           100528 non-null object\n",
      "text_html      100528 non-null object\n",
      "timestamp      100528 non-null object\n",
      "tweet_id       100528 non-null float64\n",
      "tweet_url      100528 non-null object\n",
      "user_id        100528 non-null float64\n",
      "username       100528 non-null object\n",
      "year           100528 non-null object\n",
      "month          100528 non-null object\n",
      "day            100528 non-null object\n",
      "dtypes: float64(5), object(11)\n",
      "memory usage: 13.0+ MB\n"
     ]
    }
   ],
   "source": [
    "tweets.info()"
   ]
  },
  {
   "cell_type": "code",
   "execution_count": 9,
   "metadata": {},
   "outputs": [],
   "source": [
    "tweets['year'] = tweets['year'].astype(int)\n",
    "tweets['month'] = tweets['month'].astype(int)\n",
    "tweets['day'] = tweets['day'].astype(int)"
   ]
  },
  {
   "cell_type": "code",
   "execution_count": 10,
   "metadata": {
    "scrolled": true
   },
   "outputs": [
    {
     "name": "stdout",
     "output_type": "stream",
     "text": [
      "<class 'pandas.core.frame.DataFrame'>\n",
      "Int64Index: 100528 entries, 0 to 119971\n",
      "Data columns (total 16 columns):\n",
      "hashtags       100528 non-null object\n",
      "likes          100528 non-null float64\n",
      "links          100528 non-null object\n",
      "replies        100528 non-null float64\n",
      "retweets       100528 non-null float64\n",
      "screen_name    100528 non-null object\n",
      "text           100528 non-null object\n",
      "text_html      100528 non-null object\n",
      "timestamp      100528 non-null object\n",
      "tweet_id       100528 non-null float64\n",
      "tweet_url      100528 non-null object\n",
      "user_id        100528 non-null float64\n",
      "username       100528 non-null object\n",
      "year           100528 non-null int32\n",
      "month          100528 non-null int32\n",
      "day            100528 non-null int32\n",
      "dtypes: float64(5), int32(3), object(8)\n",
      "memory usage: 11.9+ MB\n"
     ]
    }
   ],
   "source": [
    "tweets.info()"
   ]
  },
  {
   "cell_type": "markdown",
   "metadata": {},
   "source": [
    "## Create CSV for analysis"
   ]
  },
  {
   "cell_type": "code",
   "execution_count": 11,
   "metadata": {},
   "outputs": [],
   "source": [
    "tweets1 = tweets[:50000].copy()\n",
    "tweets2 = tweets[50000:].copy()"
   ]
  },
  {
   "cell_type": "code",
   "execution_count": 12,
   "metadata": {},
   "outputs": [
    {
     "data": {
      "text/plain": [
       "(50000, 16)"
      ]
     },
     "execution_count": 12,
     "metadata": {},
     "output_type": "execute_result"
    }
   ],
   "source": [
    "tweets1.shape"
   ]
  },
  {
   "cell_type": "code",
   "execution_count": 13,
   "metadata": {},
   "outputs": [
    {
     "data": {
      "text/plain": [
       "(50528, 16)"
      ]
     },
     "execution_count": 13,
     "metadata": {},
     "output_type": "execute_result"
    }
   ],
   "source": [
    "tweets2.shape"
   ]
  },
  {
   "cell_type": "code",
   "execution_count": 14,
   "metadata": {},
   "outputs": [
    {
     "data": {
      "text/plain": [
       "(100528, 16)"
      ]
     },
     "execution_count": 14,
     "metadata": {},
     "output_type": "execute_result"
    }
   ],
   "source": [
    "tweets.shape"
   ]
  },
  {
   "cell_type": "code",
   "execution_count": 15,
   "metadata": {},
   "outputs": [],
   "source": [
    "tweets1.to_csv('../../Analysis/tweets1.csv')\n",
    "tweets2.to_csv('../../Analysis/tweets2.csv')"
   ]
  }
 ],
 "metadata": {
  "kernelspec": {
   "display_name": "Python 3",
   "language": "python",
   "name": "python3"
  },
  "language_info": {
   "codemirror_mode": {
    "name": "ipython",
    "version": 3
   },
   "file_extension": ".py",
   "mimetype": "text/x-python",
   "name": "python",
   "nbconvert_exporter": "python",
   "pygments_lexer": "ipython3",
   "version": "3.7.4"
  }
 },
 "nbformat": 4,
 "nbformat_minor": 2
}
