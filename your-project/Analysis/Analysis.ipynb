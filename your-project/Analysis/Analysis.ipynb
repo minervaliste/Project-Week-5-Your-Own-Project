{
 "cells": [
  {
   "cell_type": "code",
   "execution_count": 1,
   "metadata": {},
   "outputs": [],
   "source": [
    "## Import libraries\n",
    "import numpy as np\n",
    "import pandas as pd\n",
    "import seaborn as sns\n",
    "import matplotlib.pyplot as plt\n",
    "from datetime import datetime\n",
    "from sklearn import preprocessing"
   ]
  },
  {
   "cell_type": "markdown",
   "metadata": {},
   "source": [
    "## Import datasets"
   ]
  },
  {
   "cell_type": "markdown",
   "metadata": {},
   "source": [
    "### Barcelona criminality (Mossos)"
   ]
  },
  {
   "cell_type": "code",
   "execution_count": 2,
   "metadata": {},
   "outputs": [],
   "source": [
    "bcn_crime = pd.read_csv('crimes_barcelona.csv')"
   ]
  },
  {
   "cell_type": "code",
   "execution_count": 3,
   "metadata": {},
   "outputs": [
    {
     "data": {
      "text/html": [
       "<div>\n",
       "<style scoped>\n",
       "    .dataframe tbody tr th:only-of-type {\n",
       "        vertical-align: middle;\n",
       "    }\n",
       "\n",
       "    .dataframe tbody tr th {\n",
       "        vertical-align: top;\n",
       "    }\n",
       "\n",
       "    .dataframe thead th {\n",
       "        text-align: right;\n",
       "    }\n",
       "</style>\n",
       "<table border=\"1\" class=\"dataframe\">\n",
       "  <thead>\n",
       "    <tr style=\"text-align: right;\">\n",
       "      <th></th>\n",
       "      <th>Unnamed: 0</th>\n",
       "      <th>month</th>\n",
       "      <th>month_name</th>\n",
       "      <th>year</th>\n",
       "      <th>RP</th>\n",
       "      <th>ABP</th>\n",
       "      <th>type_of_crime</th>\n",
       "      <th>number_of_crimes</th>\n",
       "    </tr>\n",
       "  </thead>\n",
       "  <tbody>\n",
       "    <tr>\n",
       "      <td>0</td>\n",
       "      <td>0</td>\n",
       "      <td>1</td>\n",
       "      <td>gener</td>\n",
       "      <td>2019</td>\n",
       "      <td>RP  Metropolitana Nord</td>\n",
       "      <td>ABP Arenys de Mar</td>\n",
       "      <td>Homicidi consumat</td>\n",
       "      <td>1</td>\n",
       "    </tr>\n",
       "    <tr>\n",
       "      <td>1</td>\n",
       "      <td>1</td>\n",
       "      <td>1</td>\n",
       "      <td>gener</td>\n",
       "      <td>2019</td>\n",
       "      <td>RP  Metropolitana Nord</td>\n",
       "      <td>ABP Arenys de Mar</td>\n",
       "      <td>Homicidi temptativa</td>\n",
       "      <td>1</td>\n",
       "    </tr>\n",
       "    <tr>\n",
       "      <td>2</td>\n",
       "      <td>2</td>\n",
       "      <td>1</td>\n",
       "      <td>gener</td>\n",
       "      <td>2019</td>\n",
       "      <td>RP  Metropolitana Nord</td>\n",
       "      <td>ABP Arenys de Mar</td>\n",
       "      <td>De la usurpació de l'estat civil</td>\n",
       "      <td>2</td>\n",
       "    </tr>\n",
       "  </tbody>\n",
       "</table>\n",
       "</div>"
      ],
      "text/plain": [
       "   Unnamed: 0  month month_name  year                      RP  \\\n",
       "0           0      1      gener  2019  RP  Metropolitana Nord   \n",
       "1           1      1      gener  2019  RP  Metropolitana Nord   \n",
       "2           2      1      gener  2019  RP  Metropolitana Nord   \n",
       "\n",
       "                 ABP                     type_of_crime  number_of_crimes  \n",
       "0  ABP Arenys de Mar                 Homicidi consumat                 1  \n",
       "1  ABP Arenys de Mar               Homicidi temptativa                 1  \n",
       "2  ABP Arenys de Mar  De la usurpació de l'estat civil                 2  "
      ]
     },
     "execution_count": 3,
     "metadata": {},
     "output_type": "execute_result"
    }
   ],
   "source": [
    "bcn_crime.head(3)"
   ]
  },
  {
   "cell_type": "code",
   "execution_count": 4,
   "metadata": {},
   "outputs": [],
   "source": [
    "##Remove unwanted columns\n",
    "bcn_crime = bcn_crime.drop(['Unnamed: 0', 'month_name'], axis=1)"
   ]
  },
  {
   "cell_type": "code",
   "execution_count": 5,
   "metadata": {},
   "outputs": [],
   "source": [
    "##Create \"fake\" day and date columns\n",
    "bcn_crime['day'] = 1"
   ]
  },
  {
   "cell_type": "code",
   "execution_count": 6,
   "metadata": {},
   "outputs": [],
   "source": [
    "bcn_crime['date'] = bcn_crime.apply(lambda x : str(x.year)+'-'+str(x.month)+'-'+str(x.day), axis=1)\n",
    "bcn_crime['date'] = pd.to_datetime(bcn_crime.date, format='%Y/%m/%d')"
   ]
  },
  {
   "cell_type": "code",
   "execution_count": 7,
   "metadata": {
    "scrolled": true
   },
   "outputs": [],
   "source": [
    "##Change columns order\n",
    "bcn_crime = bcn_crime[['RP', 'ABP', 'type_of_crime', 'number_of_crimes', 'year', 'month', 'day', 'date']]"
   ]
  },
  {
   "cell_type": "code",
   "execution_count": 8,
   "metadata": {},
   "outputs": [],
   "source": [
    "##Filter only Barcelona\n",
    "bcn_crime = bcn_crime[bcn_crime.RP == 'RP Metropolitana Barcelona']"
   ]
  },
  {
   "cell_type": "code",
   "execution_count": 9,
   "metadata": {},
   "outputs": [],
   "source": [
    "##Create a dataset copy for backup\n",
    "bcn_crime_original = bcn_crime.copy()\n",
    "bcn_crime_original.to_csv('bcn_crime_clean.csv')"
   ]
  },
  {
   "cell_type": "code",
   "execution_count": 10,
   "metadata": {},
   "outputs": [
    {
     "data": {
      "text/plain": [
       "RP                  RP Metropolitana BarcelonaRP Metropolitana Bar...\n",
       "ABP                 ABP BarcelonaABP Ciutat VellaABP EixampleABP G...\n",
       "type_of_crime       FurtFurtFurtFurtFurtFurtFurtFurtFurtFurtFurtFu...\n",
       "number_of_crimes                                               676626\n",
       "year                                                          2393820\n",
       "month                                                            7722\n",
       "day                                                              1188\n",
       "dtype: object"
      ]
     },
     "execution_count": 10,
     "metadata": {},
     "output_type": "execute_result"
    }
   ],
   "source": [
    "bcn_crime.loc[bcn_crime[\"type_of_crime\"] == \"Furt\"].sum()"
   ]
  },
  {
   "cell_type": "code",
   "execution_count": 11,
   "metadata": {},
   "outputs": [
    {
     "data": {
      "text/html": [
       "<div>\n",
       "<style scoped>\n",
       "    .dataframe tbody tr th:only-of-type {\n",
       "        vertical-align: middle;\n",
       "    }\n",
       "\n",
       "    .dataframe tbody tr th {\n",
       "        vertical-align: top;\n",
       "    }\n",
       "\n",
       "    .dataframe thead th {\n",
       "        text-align: right;\n",
       "    }\n",
       "</style>\n",
       "<table border=\"1\" class=\"dataframe\">\n",
       "  <thead>\n",
       "    <tr style=\"text-align: right;\">\n",
       "      <th></th>\n",
       "      <th>RP</th>\n",
       "      <th>ABP</th>\n",
       "      <th>type_of_crime</th>\n",
       "      <th>number_of_crimes</th>\n",
       "      <th>year</th>\n",
       "      <th>month</th>\n",
       "      <th>day</th>\n",
       "      <th>date</th>\n",
       "    </tr>\n",
       "  </thead>\n",
       "  <tbody>\n",
       "    <tr>\n",
       "      <td>759</td>\n",
       "      <td>RP Metropolitana Barcelona</td>\n",
       "      <td>ABP Barcelona</td>\n",
       "      <td>Falsedats documentals</td>\n",
       "      <td>2</td>\n",
       "      <td>2019</td>\n",
       "      <td>1</td>\n",
       "      <td>1</td>\n",
       "      <td>2019-01-01</td>\n",
       "    </tr>\n",
       "    <tr>\n",
       "      <td>760</td>\n",
       "      <td>RP Metropolitana Barcelona</td>\n",
       "      <td>ABP Barcelona</td>\n",
       "      <td>Lesions</td>\n",
       "      <td>2</td>\n",
       "      <td>2019</td>\n",
       "      <td>1</td>\n",
       "      <td>1</td>\n",
       "      <td>2019-01-01</td>\n",
       "    </tr>\n",
       "    <tr>\n",
       "      <td>761</td>\n",
       "      <td>RP Metropolitana Barcelona</td>\n",
       "      <td>ABP Barcelona</td>\n",
       "      <td>Danys</td>\n",
       "      <td>10</td>\n",
       "      <td>2019</td>\n",
       "      <td>1</td>\n",
       "      <td>1</td>\n",
       "      <td>2019-01-01</td>\n",
       "    </tr>\n",
       "    <tr>\n",
       "      <td>762</td>\n",
       "      <td>RP Metropolitana Barcelona</td>\n",
       "      <td>ABP Barcelona</td>\n",
       "      <td>Estafes</td>\n",
       "      <td>8</td>\n",
       "      <td>2019</td>\n",
       "      <td>1</td>\n",
       "      <td>1</td>\n",
       "      <td>2019-01-01</td>\n",
       "    </tr>\n",
       "    <tr>\n",
       "      <td>763</td>\n",
       "      <td>RP Metropolitana Barcelona</td>\n",
       "      <td>ABP Barcelona</td>\n",
       "      <td>Furt</td>\n",
       "      <td>123</td>\n",
       "      <td>2019</td>\n",
       "      <td>1</td>\n",
       "      <td>1</td>\n",
       "      <td>2019-01-01</td>\n",
       "    </tr>\n",
       "    <tr>\n",
       "      <td>...</td>\n",
       "      <td>...</td>\n",
       "      <td>...</td>\n",
       "      <td>...</td>\n",
       "      <td>...</td>\n",
       "      <td>...</td>\n",
       "      <td>...</td>\n",
       "      <td>...</td>\n",
       "      <td>...</td>\n",
       "    </tr>\n",
       "    <tr>\n",
       "      <td>172792</td>\n",
       "      <td>RP Metropolitana Barcelona</td>\n",
       "      <td>ABP Sarrià-Sant Gervasi</td>\n",
       "      <td>Contra els drets i deures familiars</td>\n",
       "      <td>1</td>\n",
       "      <td>2011</td>\n",
       "      <td>12</td>\n",
       "      <td>1</td>\n",
       "      <td>2011-12-01</td>\n",
       "    </tr>\n",
       "    <tr>\n",
       "      <td>172793</td>\n",
       "      <td>RP Metropolitana Barcelona</td>\n",
       "      <td>ABP Sarrià-Sant Gervasi</td>\n",
       "      <td>Altres delictes contra l'ordre públic</td>\n",
       "      <td>3</td>\n",
       "      <td>2011</td>\n",
       "      <td>12</td>\n",
       "      <td>1</td>\n",
       "      <td>2011-12-01</td>\n",
       "    </tr>\n",
       "    <tr>\n",
       "      <td>172794</td>\n",
       "      <td>RP Metropolitana Barcelona</td>\n",
       "      <td>ABP Sarrià-Sant Gervasi</td>\n",
       "      <td>Faltes contra el patrimoni</td>\n",
       "      <td>274</td>\n",
       "      <td>2011</td>\n",
       "      <td>12</td>\n",
       "      <td>1</td>\n",
       "      <td>2011-12-01</td>\n",
       "    </tr>\n",
       "    <tr>\n",
       "      <td>172795</td>\n",
       "      <td>RP Metropolitana Barcelona</td>\n",
       "      <td>ABP Sarrià-Sant Gervasi</td>\n",
       "      <td>Faltes contra les persones</td>\n",
       "      <td>35</td>\n",
       "      <td>2011</td>\n",
       "      <td>12</td>\n",
       "      <td>1</td>\n",
       "      <td>2011-12-01</td>\n",
       "    </tr>\n",
       "    <tr>\n",
       "      <td>172796</td>\n",
       "      <td>RP Metropolitana Barcelona</td>\n",
       "      <td>ABP Sarrià-Sant Gervasi</td>\n",
       "      <td>Faltes contra l'ordre públic</td>\n",
       "      <td>1</td>\n",
       "      <td>2011</td>\n",
       "      <td>12</td>\n",
       "      <td>1</td>\n",
       "      <td>2011-12-01</td>\n",
       "    </tr>\n",
       "  </tbody>\n",
       "</table>\n",
       "<p>35591 rows × 8 columns</p>\n",
       "</div>"
      ],
      "text/plain": [
       "                                RP                      ABP  \\\n",
       "759     RP Metropolitana Barcelona            ABP Barcelona   \n",
       "760     RP Metropolitana Barcelona            ABP Barcelona   \n",
       "761     RP Metropolitana Barcelona            ABP Barcelona   \n",
       "762     RP Metropolitana Barcelona            ABP Barcelona   \n",
       "763     RP Metropolitana Barcelona            ABP Barcelona   \n",
       "...                            ...                      ...   \n",
       "172792  RP Metropolitana Barcelona  ABP Sarrià-Sant Gervasi   \n",
       "172793  RP Metropolitana Barcelona  ABP Sarrià-Sant Gervasi   \n",
       "172794  RP Metropolitana Barcelona  ABP Sarrià-Sant Gervasi   \n",
       "172795  RP Metropolitana Barcelona  ABP Sarrià-Sant Gervasi   \n",
       "172796  RP Metropolitana Barcelona  ABP Sarrià-Sant Gervasi   \n",
       "\n",
       "                                type_of_crime  number_of_crimes  year  month  \\\n",
       "759                     Falsedats documentals                 2  2019      1   \n",
       "760                                   Lesions                 2  2019      1   \n",
       "761                                     Danys                10  2019      1   \n",
       "762                                   Estafes                 8  2019      1   \n",
       "763                                      Furt               123  2019      1   \n",
       "...                                       ...               ...   ...    ...   \n",
       "172792    Contra els drets i deures familiars                 1  2011     12   \n",
       "172793  Altres delictes contra l'ordre públic                 3  2011     12   \n",
       "172794             Faltes contra el patrimoni               274  2011     12   \n",
       "172795             Faltes contra les persones                35  2011     12   \n",
       "172796           Faltes contra l'ordre públic                 1  2011     12   \n",
       "\n",
       "        day       date  \n",
       "759       1 2019-01-01  \n",
       "760       1 2019-01-01  \n",
       "761       1 2019-01-01  \n",
       "762       1 2019-01-01  \n",
       "763       1 2019-01-01  \n",
       "...     ...        ...  \n",
       "172792    1 2011-12-01  \n",
       "172793    1 2011-12-01  \n",
       "172794    1 2011-12-01  \n",
       "172795    1 2011-12-01  \n",
       "172796    1 2011-12-01  \n",
       "\n",
       "[35591 rows x 8 columns]"
      ]
     },
     "execution_count": 11,
     "metadata": {},
     "output_type": "execute_result"
    }
   ],
   "source": [
    "bcn_crime"
   ]
  },
  {
   "cell_type": "markdown",
   "metadata": {},
   "source": [
    "### Twitter mentions"
   ]
  },
  {
   "cell_type": "code",
   "execution_count": 12,
   "metadata": {},
   "outputs": [],
   "source": [
    "## Import Twitter data\n",
    "tweets1 = pd.read_csv('tweets1.csv')\n",
    "tweets2 = pd.read_csv('tweets2.csv')\n",
    "tweets = pd.concat([tweets1, tweets2], axis=0)"
   ]
  },
  {
   "cell_type": "code",
   "execution_count": 13,
   "metadata": {},
   "outputs": [
    {
     "data": {
      "text/html": [
       "<div>\n",
       "<style scoped>\n",
       "    .dataframe tbody tr th:only-of-type {\n",
       "        vertical-align: middle;\n",
       "    }\n",
       "\n",
       "    .dataframe tbody tr th {\n",
       "        vertical-align: top;\n",
       "    }\n",
       "\n",
       "    .dataframe thead th {\n",
       "        text-align: right;\n",
       "    }\n",
       "</style>\n",
       "<table border=\"1\" class=\"dataframe\">\n",
       "  <thead>\n",
       "    <tr style=\"text-align: right;\">\n",
       "      <th></th>\n",
       "      <th>Unnamed: 0</th>\n",
       "      <th>hashtags</th>\n",
       "      <th>likes</th>\n",
       "      <th>links</th>\n",
       "      <th>replies</th>\n",
       "      <th>retweets</th>\n",
       "      <th>screen_name</th>\n",
       "      <th>text</th>\n",
       "      <th>text_html</th>\n",
       "      <th>timestamp</th>\n",
       "      <th>tweet_id</th>\n",
       "      <th>tweet_url</th>\n",
       "      <th>user_id</th>\n",
       "      <th>username</th>\n",
       "      <th>year</th>\n",
       "      <th>month</th>\n",
       "      <th>day</th>\n",
       "    </tr>\n",
       "  </thead>\n",
       "  <tbody>\n",
       "    <tr>\n",
       "      <td>0</td>\n",
       "      <td>0</td>\n",
       "      <td>['Barcelona', 'Hospitalet']</td>\n",
       "      <td>0.0</td>\n",
       "      <td>['http://ow.ly/l045307S1dW']</td>\n",
       "      <td>0.0</td>\n",
       "      <td>0.0</td>\n",
       "      <td>elperiodicoLH</td>\n",
       "      <td>.@mossos investiguen si el tiroteig de #Barcel...</td>\n",
       "      <td>&lt;p class=\"TweetTextSize js-tweet-text tweet-te...</td>\n",
       "      <td>2017-01-10 17:47:59</td>\n",
       "      <td>8.188771e+17</td>\n",
       "      <td>/elperiodicoLH/status/818877057178468352</td>\n",
       "      <td>619011019.0</td>\n",
       "      <td>EL PERIÓDICO L’Hospitalet</td>\n",
       "      <td>2017</td>\n",
       "      <td>1</td>\n",
       "      <td>10</td>\n",
       "    </tr>\n",
       "    <tr>\n",
       "      <td>1</td>\n",
       "      <td>1</td>\n",
       "      <td>['Barcelona', 'Hospitalet']</td>\n",
       "      <td>0.0</td>\n",
       "      <td>['http://ow.ly/Zw8Q307RYTT']</td>\n",
       "      <td>0.0</td>\n",
       "      <td>0.0</td>\n",
       "      <td>elperiodicoLH</td>\n",
       "      <td>.@Mossos investigan si el tiroteo de #Barcelon...</td>\n",
       "      <td>&lt;p class=\"TweetTextSize js-tweet-text tweet-te...</td>\n",
       "      <td>2017-01-10 17:32:03</td>\n",
       "      <td>8.188730e+17</td>\n",
       "      <td>/elperiodicoLH/status/818873047318929408</td>\n",
       "      <td>619011019.0</td>\n",
       "      <td>EL PERIÓDICO L’Hospitalet</td>\n",
       "      <td>2017</td>\n",
       "      <td>1</td>\n",
       "      <td>10</td>\n",
       "    </tr>\n",
       "    <tr>\n",
       "      <td>2</td>\n",
       "      <td>2</td>\n",
       "      <td>[]</td>\n",
       "      <td>0.0</td>\n",
       "      <td>['http://ww.abc.es/pXWB307RGLV']</td>\n",
       "      <td>0.0</td>\n",
       "      <td>0.0</td>\n",
       "      <td>ABC_Barcelona</td>\n",
       "      <td>El juez cita a declarar a los padres de Nadia ...</td>\n",
       "      <td>&lt;p class=\"TweetTextSize js-tweet-text tweet-te...</td>\n",
       "      <td>2017-01-10 15:50:13</td>\n",
       "      <td>8.188474e+17</td>\n",
       "      <td>/ABC_Barcelona/status/818847421941870592</td>\n",
       "      <td>212309697.0</td>\n",
       "      <td>ABC Barcelona</td>\n",
       "      <td>2017</td>\n",
       "      <td>1</td>\n",
       "      <td>10</td>\n",
       "    </tr>\n",
       "  </tbody>\n",
       "</table>\n",
       "</div>"
      ],
      "text/plain": [
       "   Unnamed: 0                     hashtags  likes  \\\n",
       "0           0  ['Barcelona', 'Hospitalet']    0.0   \n",
       "1           1  ['Barcelona', 'Hospitalet']    0.0   \n",
       "2           2                           []    0.0   \n",
       "\n",
       "                              links  replies  retweets    screen_name  \\\n",
       "0      ['http://ow.ly/l045307S1dW']      0.0       0.0  elperiodicoLH   \n",
       "1      ['http://ow.ly/Zw8Q307RYTT']      0.0       0.0  elperiodicoLH   \n",
       "2  ['http://ww.abc.es/pXWB307RGLV']      0.0       0.0  ABC_Barcelona   \n",
       "\n",
       "                                                text  \\\n",
       "0  .@mossos investiguen si el tiroteig de #Barcel...   \n",
       "1  .@Mossos investigan si el tiroteo de #Barcelon...   \n",
       "2  El juez cita a declarar a los padres de Nadia ...   \n",
       "\n",
       "                                           text_html            timestamp  \\\n",
       "0  <p class=\"TweetTextSize js-tweet-text tweet-te...  2017-01-10 17:47:59   \n",
       "1  <p class=\"TweetTextSize js-tweet-text tweet-te...  2017-01-10 17:32:03   \n",
       "2  <p class=\"TweetTextSize js-tweet-text tweet-te...  2017-01-10 15:50:13   \n",
       "\n",
       "       tweet_id                                 tweet_url      user_id  \\\n",
       "0  8.188771e+17  /elperiodicoLH/status/818877057178468352  619011019.0   \n",
       "1  8.188730e+17  /elperiodicoLH/status/818873047318929408  619011019.0   \n",
       "2  8.188474e+17  /ABC_Barcelona/status/818847421941870592  212309697.0   \n",
       "\n",
       "                    username  year  month  day  \n",
       "0  EL PERIÓDICO L’Hospitalet  2017      1   10  \n",
       "1  EL PERIÓDICO L’Hospitalet  2017      1   10  \n",
       "2              ABC Barcelona  2017      1   10  "
      ]
     },
     "execution_count": 13,
     "metadata": {},
     "output_type": "execute_result"
    }
   ],
   "source": [
    "tweets.head(3)"
   ]
  },
  {
   "cell_type": "code",
   "execution_count": 14,
   "metadata": {},
   "outputs": [],
   "source": [
    "##Remove unwanted columns\n",
    "tweets = tweets.drop(['Unnamed: 0', 'screen_name', 'username', 'user_id', 'tweet_url', 'text', 'text_html', 'links', 'hashtags', 'likes', 'retweets', 'replies'], axis=1)"
   ]
  },
  {
   "cell_type": "code",
   "execution_count": 15,
   "metadata": {},
   "outputs": [],
   "source": [
    "##Create a dataset copy for backup\n",
    "tweets_original = tweets.copy()\n",
    "tweets_original.to_csv('tweets_clean.csv')"
   ]
  },
  {
   "cell_type": "markdown",
   "metadata": {},
   "source": [
    "### Spain criminality (Ministerio Interior)"
   ]
  },
  {
   "cell_type": "code",
   "execution_count": 16,
   "metadata": {},
   "outputs": [],
   "source": [
    "## Import data\n",
    "spain_crime = pd.read_csv('crimes_spain.csv')"
   ]
  },
  {
   "cell_type": "code",
   "execution_count": 17,
   "metadata": {},
   "outputs": [
    {
     "data": {
      "text/html": [
       "<div>\n",
       "<style scoped>\n",
       "    .dataframe tbody tr th:only-of-type {\n",
       "        vertical-align: middle;\n",
       "    }\n",
       "\n",
       "    .dataframe tbody tr th {\n",
       "        vertical-align: top;\n",
       "    }\n",
       "\n",
       "    .dataframe thead th {\n",
       "        text-align: right;\n",
       "    }\n",
       "</style>\n",
       "<table border=\"1\" class=\"dataframe\">\n",
       "  <thead>\n",
       "    <tr style=\"text-align: right;\">\n",
       "      <th></th>\n",
       "      <th>Unnamed: 0</th>\n",
       "      <th>crime</th>\n",
       "      <th>quantity</th>\n",
       "      <th>year</th>\n",
       "      <th>trimester</th>\n",
       "      <th>city</th>\n",
       "    </tr>\n",
       "  </thead>\n",
       "  <tbody>\n",
       "    <tr>\n",
       "      <td>0</td>\n",
       "      <td>0</td>\n",
       "      <td>1.-Homicidios dolosos y asesinatos consumados</td>\n",
       "      <td>0</td>\n",
       "      <td>2019</td>\n",
       "      <td>1</td>\n",
       "      <td>Córdoba</td>\n",
       "    </tr>\n",
       "    <tr>\n",
       "      <td>1</td>\n",
       "      <td>1</td>\n",
       "      <td>2.-Homicidios dolosos y asesinatos en grad...</td>\n",
       "      <td>0</td>\n",
       "      <td>2019</td>\n",
       "      <td>1</td>\n",
       "      <td>Córdoba</td>\n",
       "    </tr>\n",
       "    <tr>\n",
       "      <td>2</td>\n",
       "      <td>2</td>\n",
       "      <td>3.-Delitos graves y menos graves de lesion...</td>\n",
       "      <td>18</td>\n",
       "      <td>2019</td>\n",
       "      <td>1</td>\n",
       "      <td>Córdoba</td>\n",
       "    </tr>\n",
       "  </tbody>\n",
       "</table>\n",
       "</div>"
      ],
      "text/plain": [
       "   Unnamed: 0                                              crime  quantity  \\\n",
       "0           0      1.-Homicidios dolosos y asesinatos consumados         0   \n",
       "1           1      2.-Homicidios dolosos y asesinatos en grad...         0   \n",
       "2           2      3.-Delitos graves y menos graves de lesion...        18   \n",
       "\n",
       "   year  trimester     city  \n",
       "0  2019          1  Córdoba  \n",
       "1  2019          1  Córdoba  \n",
       "2  2019          1  Córdoba  "
      ]
     },
     "execution_count": 17,
     "metadata": {},
     "output_type": "execute_result"
    }
   ],
   "source": [
    "spain_crime.head(3)"
   ]
  },
  {
   "cell_type": "code",
   "execution_count": 18,
   "metadata": {},
   "outputs": [],
   "source": [
    "##Remove unwanted columns\n",
    "spain_crime = spain_crime.drop(['Unnamed: 0'], axis=1)"
   ]
  },
  {
   "cell_type": "code",
   "execution_count": 19,
   "metadata": {},
   "outputs": [],
   "source": [
    "##Create \"fake\" month, day and date columns\n",
    "def month_check(trimester):\n",
    "    month = 0\n",
    "    if trimester == 1:\n",
    "        month = 3\n",
    "    if trimester == 2:\n",
    "        month = 6      \n",
    "    if trimester == 3:\n",
    "        month = 9\n",
    "    if trimester == 4:\n",
    "        month = 12       \n",
    "    return month\n",
    "    \n",
    "spain_crime['month'] = spain_crime.apply(lambda x : month_check(x['trimester']), axis = 1)\n",
    "spain_crime['day'] = 1\n",
    "spain_crime['date'] = spain_crime.apply(lambda x : str(x.year)+'-'+str(x.month)+'-'+str(x.day), axis=1)\n",
    "spain_crime['date'] = pd.to_datetime(spain_crime.date, format='%Y/%m/%d')"
   ]
  },
  {
   "cell_type": "code",
   "execution_count": 20,
   "metadata": {},
   "outputs": [],
   "source": [
    "##Change columns order\n",
    "spain_crime = spain_crime[['crime', 'quantity', 'city', 'year', 'trimester', 'month', 'day', 'date']]"
   ]
  },
  {
   "cell_type": "code",
   "execution_count": 21,
   "metadata": {},
   "outputs": [],
   "source": [
    "##Create a dataset copy for backup\n",
    "spain_crime_original = spain_crime.copy()"
   ]
  },
  {
   "cell_type": "markdown",
   "metadata": {},
   "source": [
    "### Spain population (Wikipedia)"
   ]
  },
  {
   "cell_type": "code",
   "execution_count": 22,
   "metadata": {},
   "outputs": [],
   "source": [
    "## Import data\n",
    "spain_population = pd.read_csv('cities_population.csv')"
   ]
  },
  {
   "cell_type": "code",
   "execution_count": 23,
   "metadata": {},
   "outputs": [
    {
     "data": {
      "text/html": [
       "<div>\n",
       "<style scoped>\n",
       "    .dataframe tbody tr th:only-of-type {\n",
       "        vertical-align: middle;\n",
       "    }\n",
       "\n",
       "    .dataframe tbody tr th {\n",
       "        vertical-align: top;\n",
       "    }\n",
       "\n",
       "    .dataframe thead th {\n",
       "        text-align: right;\n",
       "    }\n",
       "</style>\n",
       "<table border=\"1\" class=\"dataframe\">\n",
       "  <thead>\n",
       "    <tr style=\"text-align: right;\">\n",
       "      <th></th>\n",
       "      <th>Unnamed: 0</th>\n",
       "      <th>city</th>\n",
       "      <th>population</th>\n",
       "      <th>provincia</th>\n",
       "      <th>ccaa</th>\n",
       "    </tr>\n",
       "  </thead>\n",
       "  <tbody>\n",
       "    <tr>\n",
       "      <td>0</td>\n",
       "      <td>0</td>\n",
       "      <td>Madrid</td>\n",
       "      <td>3266126</td>\n",
       "      <td>Madrid</td>\n",
       "      <td>Comunidad de Madrid</td>\n",
       "    </tr>\n",
       "    <tr>\n",
       "      <td>1</td>\n",
       "      <td>1</td>\n",
       "      <td>Barcelona</td>\n",
       "      <td>1636762</td>\n",
       "      <td>Barcelona</td>\n",
       "      <td>Cataluña</td>\n",
       "    </tr>\n",
       "    <tr>\n",
       "      <td>2</td>\n",
       "      <td>2</td>\n",
       "      <td>Valencia</td>\n",
       "      <td>794288</td>\n",
       "      <td>Valencia</td>\n",
       "      <td>Comunidad Valenciana</td>\n",
       "    </tr>\n",
       "    <tr>\n",
       "      <td>3</td>\n",
       "      <td>3</td>\n",
       "      <td>Sevilla</td>\n",
       "      <td>688592</td>\n",
       "      <td>Sevilla</td>\n",
       "      <td>Andalucía</td>\n",
       "    </tr>\n",
       "    <tr>\n",
       "      <td>4</td>\n",
       "      <td>4</td>\n",
       "      <td>Zaragoza</td>\n",
       "      <td>674997</td>\n",
       "      <td>Zaragoza</td>\n",
       "      <td>Aragón</td>\n",
       "    </tr>\n",
       "  </tbody>\n",
       "</table>\n",
       "</div>"
      ],
      "text/plain": [
       "   Unnamed: 0       city  population  provincia                  ccaa\n",
       "0           0     Madrid     3266126     Madrid   Comunidad de Madrid\n",
       "1           1  Barcelona     1636762  Barcelona              Cataluña\n",
       "2           2   Valencia      794288   Valencia  Comunidad Valenciana\n",
       "3           3    Sevilla      688592    Sevilla             Andalucía\n",
       "4           4   Zaragoza      674997   Zaragoza                Aragón"
      ]
     },
     "execution_count": 23,
     "metadata": {},
     "output_type": "execute_result"
    }
   ],
   "source": [
    "spain_population.head()"
   ]
  },
  {
   "cell_type": "code",
   "execution_count": 24,
   "metadata": {},
   "outputs": [],
   "source": [
    "##Remove unwanted columns\n",
    "spain_population = spain_population.drop(['Unnamed: 0'], axis=1)"
   ]
  },
  {
   "cell_type": "code",
   "execution_count": 25,
   "metadata": {},
   "outputs": [],
   "source": [
    "##Create a dataset copy for backup\n",
    "spain_population_original = spain_population.copy()"
   ]
  },
  {
   "cell_type": "markdown",
   "metadata": {},
   "source": [
    "## First exploratory analysis"
   ]
  },
  {
   "cell_type": "markdown",
   "metadata": {},
   "source": [
    "### BCN crime evolution 2011 - 2019"
   ]
  },
  {
   "cell_type": "code",
   "execution_count": 26,
   "metadata": {},
   "outputs": [
    {
     "data": {
      "text/html": [
       "<div>\n",
       "<style scoped>\n",
       "    .dataframe tbody tr th:only-of-type {\n",
       "        vertical-align: middle;\n",
       "    }\n",
       "\n",
       "    .dataframe tbody tr th {\n",
       "        vertical-align: top;\n",
       "    }\n",
       "\n",
       "    .dataframe thead th {\n",
       "        text-align: right;\n",
       "    }\n",
       "</style>\n",
       "<table border=\"1\" class=\"dataframe\">\n",
       "  <thead>\n",
       "    <tr style=\"text-align: right;\">\n",
       "      <th></th>\n",
       "      <th>RP</th>\n",
       "      <th>ABP</th>\n",
       "      <th>type_of_crime</th>\n",
       "      <th>number_of_crimes</th>\n",
       "      <th>year</th>\n",
       "      <th>month</th>\n",
       "      <th>day</th>\n",
       "      <th>date</th>\n",
       "    </tr>\n",
       "  </thead>\n",
       "  <tbody>\n",
       "    <tr>\n",
       "      <td>759</td>\n",
       "      <td>RP Metropolitana Barcelona</td>\n",
       "      <td>ABP Barcelona</td>\n",
       "      <td>Falsedats documentals</td>\n",
       "      <td>2</td>\n",
       "      <td>2019</td>\n",
       "      <td>1</td>\n",
       "      <td>1</td>\n",
       "      <td>2019-01-01</td>\n",
       "    </tr>\n",
       "    <tr>\n",
       "      <td>760</td>\n",
       "      <td>RP Metropolitana Barcelona</td>\n",
       "      <td>ABP Barcelona</td>\n",
       "      <td>Lesions</td>\n",
       "      <td>2</td>\n",
       "      <td>2019</td>\n",
       "      <td>1</td>\n",
       "      <td>1</td>\n",
       "      <td>2019-01-01</td>\n",
       "    </tr>\n",
       "    <tr>\n",
       "      <td>761</td>\n",
       "      <td>RP Metropolitana Barcelona</td>\n",
       "      <td>ABP Barcelona</td>\n",
       "      <td>Danys</td>\n",
       "      <td>10</td>\n",
       "      <td>2019</td>\n",
       "      <td>1</td>\n",
       "      <td>1</td>\n",
       "      <td>2019-01-01</td>\n",
       "    </tr>\n",
       "    <tr>\n",
       "      <td>762</td>\n",
       "      <td>RP Metropolitana Barcelona</td>\n",
       "      <td>ABP Barcelona</td>\n",
       "      <td>Estafes</td>\n",
       "      <td>8</td>\n",
       "      <td>2019</td>\n",
       "      <td>1</td>\n",
       "      <td>1</td>\n",
       "      <td>2019-01-01</td>\n",
       "    </tr>\n",
       "    <tr>\n",
       "      <td>763</td>\n",
       "      <td>RP Metropolitana Barcelona</td>\n",
       "      <td>ABP Barcelona</td>\n",
       "      <td>Furt</td>\n",
       "      <td>123</td>\n",
       "      <td>2019</td>\n",
       "      <td>1</td>\n",
       "      <td>1</td>\n",
       "      <td>2019-01-01</td>\n",
       "    </tr>\n",
       "  </tbody>\n",
       "</table>\n",
       "</div>"
      ],
      "text/plain": [
       "                             RP            ABP          type_of_crime  \\\n",
       "759  RP Metropolitana Barcelona  ABP Barcelona  Falsedats documentals   \n",
       "760  RP Metropolitana Barcelona  ABP Barcelona                Lesions   \n",
       "761  RP Metropolitana Barcelona  ABP Barcelona                  Danys   \n",
       "762  RP Metropolitana Barcelona  ABP Barcelona                Estafes   \n",
       "763  RP Metropolitana Barcelona  ABP Barcelona                   Furt   \n",
       "\n",
       "     number_of_crimes  year  month  day       date  \n",
       "759                 2  2019      1    1 2019-01-01  \n",
       "760                 2  2019      1    1 2019-01-01  \n",
       "761                10  2019      1    1 2019-01-01  \n",
       "762                 8  2019      1    1 2019-01-01  \n",
       "763               123  2019      1    1 2019-01-01  "
      ]
     },
     "execution_count": 26,
     "metadata": {},
     "output_type": "execute_result"
    }
   ],
   "source": [
    "bcn_crime.head()"
   ]
  },
  {
   "cell_type": "code",
   "execution_count": 27,
   "metadata": {},
   "outputs": [
    {
     "data": {
      "image/png": "[encoded data removed]",
      "text/plain": [
       "<Figure size 1224x288 with 1 Axes>"
      ]
     },
     "metadata": {
      "needs_background": "light"
     },
     "output_type": "display_data"
    }
   ],
   "source": [
    "##Crime evolution per year -- totals\n",
    "bcn_crime_per_year = bcn_crime.groupby(['year'], as_index = False).sum()\n",
    "\n",
    "x = bcn_crime_per_year['year']\n",
    "y = bcn_crime_per_year['number_of_crimes']\n",
    "plt.figure(figsize=(17, 4))\n",
    "plt.bar(x, y, color='red')\n",
    "plt.xlabel('Year')\n",
    "plt.ylabel('Number of crimes')\n",
    "plt.title('Number of crimes per year')\n",
    "plt.show()"
   ]
  },
  {
   "cell_type": "code",
   "execution_count": 28,
   "metadata": {},
   "outputs": [],
   "source": [
    "##Crime evolution per year -- % grouth\n",
    "\n",
    "bcn_crime_per_year_perc = bcn_crime_per_year.drop(['month', 'day'], axis=1).copy()\n",
    "bcn_crime_per_year_perc['#_previous_year'] = bcn_crime_per_year_perc.number_of_crimes.shift()\n",
    "bcn_crime_per_year_perc['%_grouth'] = bcn_crime_per_year_perc.apply(lambda x : (x['number_of_crimes'] - x['#_previous_year'])/x['#_previous_year'], axis=1)\n",
    "bcn_crime_per_year_perc['cum_sum'] = bcn_crime_per_year_perc['%_grouth'].cumsum()\n",
    "bcn_crime_per_year_perc = bcn_crime_per_year_perc[bcn_crime_per_year_perc.year != 2011]"
   ]
  },
  {
   "cell_type": "code",
   "execution_count": 29,
   "metadata": {
    "scrolled": true
   },
   "outputs": [
    {
     "data": {
      "text/html": [
       "<div>\n",
       "<style scoped>\n",
       "    .dataframe tbody tr th:only-of-type {\n",
       "        vertical-align: middle;\n",
       "    }\n",
       "\n",
       "    .dataframe tbody tr th {\n",
       "        vertical-align: top;\n",
       "    }\n",
       "\n",
       "    .dataframe thead th {\n",
       "        text-align: right;\n",
       "    }\n",
       "</style>\n",
       "<table border=\"1\" class=\"dataframe\">\n",
       "  <thead>\n",
       "    <tr style=\"text-align: right;\">\n",
       "      <th></th>\n",
       "      <th>year</th>\n",
       "      <th>number_of_crimes</th>\n",
       "      <th>#_previous_year</th>\n",
       "      <th>%_grouth</th>\n",
       "      <th>cum_sum</th>\n",
       "    </tr>\n",
       "  </thead>\n",
       "  <tbody>\n",
       "    <tr>\n",
       "      <td>1</td>\n",
       "      <td>2012</td>\n",
       "      <td>183844</td>\n",
       "      <td>191654.0</td>\n",
       "      <td>-0.040751</td>\n",
       "      <td>-0.040751</td>\n",
       "    </tr>\n",
       "    <tr>\n",
       "      <td>2</td>\n",
       "      <td>2013</td>\n",
       "      <td>174274</td>\n",
       "      <td>183844.0</td>\n",
       "      <td>-0.052055</td>\n",
       "      <td>-0.092806</td>\n",
       "    </tr>\n",
       "    <tr>\n",
       "      <td>3</td>\n",
       "      <td>2014</td>\n",
       "      <td>171584</td>\n",
       "      <td>174274.0</td>\n",
       "      <td>-0.015435</td>\n",
       "      <td>-0.108241</td>\n",
       "    </tr>\n",
       "    <tr>\n",
       "      <td>4</td>\n",
       "      <td>2015</td>\n",
       "      <td>171721</td>\n",
       "      <td>171584.0</td>\n",
       "      <td>0.000798</td>\n",
       "      <td>-0.107443</td>\n",
       "    </tr>\n",
       "    <tr>\n",
       "      <td>5</td>\n",
       "      <td>2016</td>\n",
       "      <td>173284</td>\n",
       "      <td>171721.0</td>\n",
       "      <td>0.009102</td>\n",
       "      <td>-0.098341</td>\n",
       "    </tr>\n",
       "    <tr>\n",
       "      <td>6</td>\n",
       "      <td>2017</td>\n",
       "      <td>186829</td>\n",
       "      <td>173284.0</td>\n",
       "      <td>0.078166</td>\n",
       "      <td>-0.020174</td>\n",
       "    </tr>\n",
       "    <tr>\n",
       "      <td>7</td>\n",
       "      <td>2018</td>\n",
       "      <td>219521</td>\n",
       "      <td>186829.0</td>\n",
       "      <td>0.174984</td>\n",
       "      <td>0.154809</td>\n",
       "    </tr>\n",
       "    <tr>\n",
       "      <td>8</td>\n",
       "      <td>2019</td>\n",
       "      <td>226150</td>\n",
       "      <td>219521.0</td>\n",
       "      <td>0.030198</td>\n",
       "      <td>0.185007</td>\n",
       "    </tr>\n",
       "  </tbody>\n",
       "</table>\n",
       "</div>"
      ],
      "text/plain": [
       "   year  number_of_crimes  #_previous_year  %_grouth   cum_sum\n",
       "1  2012            183844         191654.0 -0.040751 -0.040751\n",
       "2  2013            174274         183844.0 -0.052055 -0.092806\n",
       "3  2014            171584         174274.0 -0.015435 -0.108241\n",
       "4  2015            171721         171584.0  0.000798 -0.107443\n",
       "5  2016            173284         171721.0  0.009102 -0.098341\n",
       "6  2017            186829         173284.0  0.078166 -0.020174\n",
       "7  2018            219521         186829.0  0.174984  0.154809\n",
       "8  2019            226150         219521.0  0.030198  0.185007"
      ]
     },
     "execution_count": 29,
     "metadata": {},
     "output_type": "execute_result"
    }
   ],
   "source": [
    "bcn_crime_per_year_perc"
   ]
  },
  {
   "cell_type": "markdown",
   "metadata": {},
   "source": [
    "### BCN crime trends"
   ]
  },
  {
   "cell_type": "markdown",
   "metadata": {},
   "source": [
    "#### By month"
   ]
  },
  {
   "cell_type": "code",
   "execution_count": 30,
   "metadata": {},
   "outputs": [],
   "source": [
    "bcn_crime_per_month = bcn_crime_original.copy()"
   ]
  },
  {
   "cell_type": "code",
   "execution_count": 31,
   "metadata": {},
   "outputs": [],
   "source": [
    "bcn_crime_per_month = bcn_crime_per_month.groupby(['year', 'month'], as_index = False).sum().copy()\n",
    "bcn_crime_per_month = bcn_crime_per_month.drop(['day'], axis=1)"
   ]
  },
  {
   "cell_type": "code",
   "execution_count": 32,
   "metadata": {},
   "outputs": [],
   "source": [
    "crime_per_month_2019 = bcn_crime_per_month[(bcn_crime_per_month['year'] == 2019)]\n",
    "crime_per_month_2018 = bcn_crime_per_month[(bcn_crime_per_month['year'] == 2018)]\n",
    "crime_per_month_2017 = bcn_crime_per_month[(bcn_crime_per_month['year'] == 2017)]\n",
    "crime_per_month_2016 = bcn_crime_per_month[(bcn_crime_per_month['year'] == 2016)]\n",
    "crime_per_month_2015 = bcn_crime_per_month[(bcn_crime_per_month['year'] == 2015)]\n",
    "crime_per_month_2014 = bcn_crime_per_month[(bcn_crime_per_month['year'] == 2014)]"
   ]
  },
  {
   "cell_type": "code",
   "execution_count": 33,
   "metadata": {},
   "outputs": [
    {
     "data": {
      "image/png": "[encoded data removed]",
      "text/plain": [
       "<Figure size 1224x288 with 1 Axes>"
      ]
     },
     "metadata": {
      "needs_background": "light"
     },
     "output_type": "display_data"
    }
   ],
   "source": [
    "plt.figure(figsize=(17, 4))\n",
    "plt.plot(crime_per_month_2019['month'], crime_per_month_2019['number_of_crimes'], color='red', label = 2019)\n",
    "plt.plot(crime_per_month_2018['month'], crime_per_month_2018['number_of_crimes'], color='blue', label = 2018)\n",
    "plt.plot(crime_per_month_2017['month'], crime_per_month_2017['number_of_crimes'], color='green', label = 2017)\n",
    "plt.plot(crime_per_month_2016['month'], crime_per_month_2016['number_of_crimes'], color='orange', label = 2016)\n",
    "plt.xlabel('Month')\n",
    "plt.ylabel('Number of crimes')\n",
    "plt.title('Number of crimes per month')\n",
    "plt.legend()\n",
    "plt.show()"
   ]
  },
  {
   "cell_type": "markdown",
   "metadata": {},
   "source": [
    "#### By neighbourhood"
   ]
  },
  {
   "cell_type": "code",
   "execution_count": 34,
   "metadata": {},
   "outputs": [],
   "source": [
    "bcn_crime_per_neighbourhood = bcn_crime_original.copy()\n",
    "bcn_crime_per_neighbourhood = bcn_crime_per_neighbourhood.groupby(['year', 'ABP'], as_index = False).sum()\n",
    "bcn_crime_per_neighbourhood = bcn_crime_per_neighbourhood.drop(['month', 'day'], axis=1)\n",
    "bcn_crime_per_neighbourhood = bcn_crime_per_neighbourhood.drop((bcn_crime_per_neighbourhood[bcn_crime_per_neighbourhood.ABP == 'ABP Barcelona'].index))"
   ]
  },
  {
   "cell_type": "code",
   "execution_count": 35,
   "metadata": {},
   "outputs": [
    {
     "data": {
      "image/png": "[encoded data removed]",
      "text/plain": [
       "<Figure size 1141.38x360 with 1 Axes>"
      ]
     },
     "metadata": {
      "needs_background": "light"
     },
     "output_type": "display_data"
    }
   ],
   "source": [
    "bcn_crime_per_neighbourhood_2017_2019 = bcn_crime_per_neighbourhood[(bcn_crime_per_neighbourhood['year'] == 2019) | (bcn_crime_per_neighbourhood['year'] == 2018) | (bcn_crime_per_neighbourhood['year'] == 2017)]\n",
    "sns.set_palette(\"OrRd\", 3)\n",
    "sns.catplot(x='ABP', y=\"number_of_crimes\", hue=\"year\", height=5, aspect=3, data=bcn_crime_per_neighbourhood_2017_2019, kind=\"bar\")\n",
    "plt.title('Trend per neighbourhood')\n",
    "plt.xlabel('Number of crimes')\n",
    "plt.xticks(rotation=45)\n",
    "plt.show()"
   ]
  },
  {
   "cell_type": "markdown",
   "metadata": {},
   "source": [
    "#### By type of crime "
   ]
  },
  {
   "cell_type": "code",
   "execution_count": 36,
   "metadata": {},
   "outputs": [],
   "source": [
    "##Stablish the crimes considered violent\n",
    "\n",
    "violent_crimes = ['Homicidi consumat', 'Homicidi temptativa', 'Lesions', 'Robatori amb força', 'Robatori amb força interior vehicle',\n",
    "'Robatori amb violència i/o intimidació', 'Abusos sexuals', 'Agressions sexuals', 'Assassinat consumat', 'Segrest', 'Assassinat temptativa', 'Tortures'] "
   ]
  },
  {
   "cell_type": "markdown",
   "metadata": {},
   "source": [
    "#### Percentage grouth of violent crime vs total crime"
   ]
  },
  {
   "cell_type": "code",
   "execution_count": 37,
   "metadata": {},
   "outputs": [],
   "source": [
    "violent_vs_not_violent = bcn_crime_original.copy()"
   ]
  },
  {
   "cell_type": "code",
   "execution_count": 38,
   "metadata": {},
   "outputs": [],
   "source": [
    "violent_vs_not_violent.drop(['RP', 'ABP', 'month', 'day', 'date'], axis=1, inplace=True)"
   ]
  },
  {
   "cell_type": "code",
   "execution_count": 39,
   "metadata": {},
   "outputs": [],
   "source": [
    "violent_c_df = violent_vs_not_violent[violent_vs_not_violent['type_of_crime'].isin(violent_crimes)]\n",
    "non_violent_c_df = violent_vs_not_violent[~violent_vs_not_violent['type_of_crime'].isin(violent_crimes)]\n",
    "\n",
    "violent_c_df_year = violent_c_df.groupby(['year'], as_index=False).sum()\n",
    "non_violent_c_df_year = non_violent_c_df.groupby(['year'], as_index=False).sum()\n",
    "violent_non_violent_per_year = pd.merge(non_violent_c_df_year, violent_c_df_year, on='year')"
   ]
  },
  {
   "cell_type": "code",
   "execution_count": 40,
   "metadata": {},
   "outputs": [
    {
     "data": {
      "image/png": "[encoded data removed]",
      "text/plain": [
       "<Figure size 1440x576 with 1 Axes>"
      ]
     },
     "metadata": {
      "needs_background": "light"
     },
     "output_type": "display_data"
    }
   ],
   "source": [
    "plt.figure(figsize = (20,8))\n",
    "plt.bar(violent_non_violent_per_year['year'], violent_non_violent_per_year['number_of_crimes_x'], label = 'Non violent crimes')\n",
    "plt.bar(violent_non_violent_per_year['year'], violent_non_violent_per_year['number_of_crimes_y'], label = 'Violent crimes')\n",
    "plt.legend()\n",
    "plt.show()\n"
   ]
  },
  {
   "cell_type": "markdown",
   "metadata": {},
   "source": [
    "#### Percentage grouth per type of violent crime vs total crime"
   ]
  },
  {
   "cell_type": "code",
   "execution_count": 41,
   "metadata": {},
   "outputs": [],
   "source": [
    "violent_crimes_redux = ['Homicidi consumat', 'Homicidi temptativa', 'Lesions', 'Robatori amb força', 'Robatori amb força interior vehicle',\n",
    "'Robatori amb violència i/o intimidació', 'Abusos sexuals', 'Agressions sexuals'] "
   ]
  },
  {
   "cell_type": "code",
   "execution_count": 42,
   "metadata": {},
   "outputs": [],
   "source": [
    "type_of_crime = bcn_crime_original.copy()"
   ]
  },
  {
   "cell_type": "code",
   "execution_count": 43,
   "metadata": {},
   "outputs": [],
   "source": [
    "type_of_crime = type_of_crime.groupby(['type_of_crime', 'year'], as_index=False).sum()\n",
    "type_of_crime.drop(['month', 'day'], axis=1, inplace=True)\n",
    "##Change 0 by a very small number to avoid 0Division Error.\n",
    "type_of_crime.replace({\"number_of_crimes\":{0:0.0000000000000001}}, inplace=True)\n",
    "type_of_crime['#previous_year'] = type_of_crime.number_of_crimes.shift()\n",
    "type_of_crime['%growth'] = type_of_crime.apply(lambda x : (x['number_of_crimes'] - x['#previous_year'])/x['#previous_year'], axis=1)"
   ]
  },
  {
   "cell_type": "code",
   "execution_count": 44,
   "metadata": {},
   "outputs": [],
   "source": [
    "type_of_crime = type_of_crime[type_of_crime.year != 2011]"
   ]
  },
  {
   "cell_type": "code",
   "execution_count": 45,
   "metadata": {},
   "outputs": [],
   "source": [
    "def create_plot(crimetype, ax):\n",
    "    global type_of_crime\n",
    "    global bcn_crime_per_year_perc\n",
    "    temp_df = type_of_crime[type_of_crime.type_of_crime == crimetype]\n",
    "    temp_df['cum_sum'] = temp_df['%growth'].cumsum()\n",
    "    sns.lineplot(temp_df['year'], temp_df['cum_sum']*100, color = 'red', ax=ax)\n",
    "    sns.lineplot(bcn_crime_per_year_perc['year'], bcn_crime_per_year_perc['cum_sum']*100, color = 'black', ax=ax)\n",
    "    ax.set_title(crimetype)\n",
    "    #ax.set_ylim((-0.5, 1))\n"
   ]
  },
  {
   "cell_type": "code",
   "execution_count": 46,
   "metadata": {},
   "outputs": [
    {
     "name": "stderr",
     "output_type": "stream",
     "text": [
      "C:\\Users\\miner\\Anaconda3\\lib\\site-packages\\ipykernel_launcher.py:5: SettingWithCopyWarning: \n",
      "A value is trying to be set on a copy of a slice from a DataFrame.\n",
      "Try using .loc[row_indexer,col_indexer] = value instead\n",
      "\n",
      "See the caveats in the documentation: http://pandas.pydata.org/pandas-docs/stable/user_guide/indexing.html#returning-a-view-versus-a-copy\n",
      "  \"\"\"\n"
     ]
    },
    {
     "data": {
      "image/png": "[encoded data removed]",
      "text/plain": [
       "<Figure size 1440x720 with 8 Axes>"
      ]
     },
     "metadata": {
      "needs_background": "light"
     },
     "output_type": "display_data"
    }
   ],
   "source": [
    "fig, ax = plt.subplots(2, 4, figsize=(20, 10))\n",
    "for i, j in zip(violent_crimes_redux, ax.flatten()):\n",
    "    create_plot(i, j)"
   ]
  },
  {
   "cell_type": "markdown",
   "metadata": {},
   "source": [
    "### Spain crime vs population"
   ]
  },
  {
   "cell_type": "code",
   "execution_count": 50,
   "metadata": {},
   "outputs": [],
   "source": [
    "crime_vs_population = spain_crime.copy()\n",
    "crime_vs_population = crime_vs_population.drop(['month', 'day', 'trimester', 'date'], axis=1)\n",
    "crime_vs_population = crime_vs_population.groupby(['city', 'year'], as_index = False).sum()\n",
    "crime_vs_population = pd.merge(crime_vs_population, spain_population, on='city')\n",
    "crime_vs_population_2019 = crime_vs_population[crime_vs_population.year == 2019]"
   ]
  },
  {
   "cell_type": "code",
   "execution_count": 51,
   "metadata": {},
   "outputs": [
    {
     "data": {
      "image/png": "[encoded data removed]",
      "text/plain": [
       "<Figure size 1224x432 with 1 Axes>"
      ]
     },
     "metadata": {
      "needs_background": "light"
     },
     "output_type": "display_data"
    }
   ],
   "source": [
    "plt.figure(figsize=(17,6))\n",
    "sns.scatterplot(x=\"quantity\", y=\"population\", hue=\"city\", data=crime_vs_population_2019)\n",
    "plt.show()"
   ]
  },
  {
   "cell_type": "markdown",
   "metadata": {},
   "source": [
    "#### In perspective: calculate the ratio of criminality per 1000pax"
   ]
  },
  {
   "cell_type": "code",
   "execution_count": 52,
   "metadata": {},
   "outputs": [],
   "source": [
    "crime_vs_population= crime_vs_population.drop(['provincia', 'ccaa'], axis=1)"
   ]
  },
  {
   "cell_type": "code",
   "execution_count": 53,
   "metadata": {},
   "outputs": [],
   "source": [
    "crime_vs_population['crime_per_mil'] = crime_vs_population.apply(lambda x : x['quantity']/x['population'], axis=1)"
   ]
  },
  {
   "cell_type": "code",
   "execution_count": 54,
   "metadata": {},
   "outputs": [
    {
     "data": {
      "text/html": [
       "<div>\n",
       "<style scoped>\n",
       "    .dataframe tbody tr th:only-of-type {\n",
       "        vertical-align: middle;\n",
       "    }\n",
       "\n",
       "    .dataframe tbody tr th {\n",
       "        vertical-align: top;\n",
       "    }\n",
       "\n",
       "    .dataframe thead th {\n",
       "        text-align: right;\n",
       "    }\n",
       "</style>\n",
       "<table border=\"1\" class=\"dataframe\">\n",
       "  <thead>\n",
       "    <tr style=\"text-align: right;\">\n",
       "      <th></th>\n",
       "      <th>city</th>\n",
       "      <th>year</th>\n",
       "      <th>quantity</th>\n",
       "      <th>population</th>\n",
       "      <th>crime_per_mil</th>\n",
       "    </tr>\n",
       "  </thead>\n",
       "  <tbody>\n",
       "    <tr>\n",
       "      <td>0</td>\n",
       "      <td>Alicante</td>\n",
       "      <td>2016</td>\n",
       "      <td>11314</td>\n",
       "      <td>334887</td>\n",
       "      <td>0.033785</td>\n",
       "    </tr>\n",
       "    <tr>\n",
       "      <td>1</td>\n",
       "      <td>Alicante</td>\n",
       "      <td>2017</td>\n",
       "      <td>10740</td>\n",
       "      <td>334887</td>\n",
       "      <td>0.032071</td>\n",
       "    </tr>\n",
       "    <tr>\n",
       "      <td>2</td>\n",
       "      <td>Alicante</td>\n",
       "      <td>2018</td>\n",
       "      <td>19794</td>\n",
       "      <td>334887</td>\n",
       "      <td>0.059107</td>\n",
       "    </tr>\n",
       "  </tbody>\n",
       "</table>\n",
       "</div>"
      ],
      "text/plain": [
       "       city  year  quantity  population  crime_per_mil\n",
       "0  Alicante  2016     11314      334887       0.033785\n",
       "1  Alicante  2017     10740      334887       0.032071\n",
       "2  Alicante  2018     19794      334887       0.059107"
      ]
     },
     "execution_count": 54,
     "metadata": {},
     "output_type": "execute_result"
    }
   ],
   "source": [
    "crime_vs_population.head(3)"
   ]
  },
  {
   "cell_type": "code",
   "execution_count": 55,
   "metadata": {},
   "outputs": [
    {
     "data": {
      "image/png": "[encoded data removed]",
      "text/plain": [
       "<Figure size 1256.88x360 with 1 Axes>"
      ]
     },
     "metadata": {
      "needs_background": "light"
     },
     "output_type": "display_data"
    }
   ],
   "source": [
    "sns.set_palette(\"OrRd\", 3)\n",
    "sns.catplot(x='year', y=\"crime_per_mil\", hue=\"city\", height=5, aspect=3, data=crime_vs_population, kind=\"bar\")\n",
    "plt.title('Crimes per 1000 people in the 15 most populated cities')\n",
    "plt.ylabel('Crimes x 1000')\n",
    "plt.show()"
   ]
  },
  {
   "cell_type": "markdown",
   "metadata": {},
   "source": [
    "### Reality vs perception"
   ]
  },
  {
   "cell_type": "markdown",
   "metadata": {},
   "source": [
    "#### Compare deviation from the mean in comments and crimes"
   ]
  },
  {
   "cell_type": "code",
   "execution_count": 56,
   "metadata": {},
   "outputs": [],
   "source": [
    "### Get the total number of crimes from january to august 2019 and the total number of crimes for august 2019\n",
    "total_crimes_jan_aug_2019 = bcn_crime_original.copy()\n",
    "total_crimes_jan_aug_2019 = total_crimes_jan_aug_2019[total_crimes_jan_aug_2019.year == 2019]\n",
    "total_crimes_jan_aug_2019 = total_crimes_jan_aug_2019[(total_crimes_jan_aug_2019.month == 1) | (total_crimes_jan_aug_2019.month == 2) | (total_crimes_jan_aug_2019.month == 3) | (total_crimes_jan_aug_2019.month == 4) | (total_crimes_jan_aug_2019.month == 5) | (total_crimes_jan_aug_2019.month == 6) | (total_crimes_jan_aug_2019.month == 7) | (total_crimes_jan_aug_2019.month == 8)]\n",
    "total_crimes_aug_2019 = total_crimes_jan_aug_2019[(total_crimes_jan_aug_2019.month == 8)]"
   ]
  },
  {
   "cell_type": "code",
   "execution_count": 57,
   "metadata": {
    "scrolled": true
   },
   "outputs": [],
   "source": [
    "## Calculate the mean of crimes per month during january to august 2019  \n",
    "total_crimes_jan_aug_2019 = total_crimes_jan_aug_2019.groupby('month', as_index = False).sum()\n",
    "total_crimes_jan_aug_2019.drop(['year', 'day'], axis=1, inplace=True)"
   ]
  },
  {
   "cell_type": "code",
   "execution_count": 58,
   "metadata": {},
   "outputs": [
    {
     "data": {
      "text/html": [
       "<div>\n",
       "<style scoped>\n",
       "    .dataframe tbody tr th:only-of-type {\n",
       "        vertical-align: middle;\n",
       "    }\n",
       "\n",
       "    .dataframe tbody tr th {\n",
       "        vertical-align: top;\n",
       "    }\n",
       "\n",
       "    .dataframe thead th {\n",
       "        text-align: right;\n",
       "    }\n",
       "</style>\n",
       "<table border=\"1\" class=\"dataframe\">\n",
       "  <thead>\n",
       "    <tr style=\"text-align: right;\">\n",
       "      <th></th>\n",
       "      <th>month</th>\n",
       "      <th>number_of_crimes</th>\n",
       "      <th>scaled_crimes</th>\n",
       "    </tr>\n",
       "  </thead>\n",
       "  <tbody>\n",
       "    <tr>\n",
       "      <td>0</td>\n",
       "      <td>1</td>\n",
       "      <td>18645</td>\n",
       "      <td>-0.742598</td>\n",
       "    </tr>\n",
       "    <tr>\n",
       "      <td>1</td>\n",
       "      <td>2</td>\n",
       "      <td>17798</td>\n",
       "      <td>-1.761603</td>\n",
       "    </tr>\n",
       "    <tr>\n",
       "      <td>2</td>\n",
       "      <td>3</td>\n",
       "      <td>19483</td>\n",
       "      <td>0.265579</td>\n",
       "    </tr>\n",
       "    <tr>\n",
       "      <td>3</td>\n",
       "      <td>4</td>\n",
       "      <td>19598</td>\n",
       "      <td>0.403933</td>\n",
       "    </tr>\n",
       "    <tr>\n",
       "      <td>4</td>\n",
       "      <td>5</td>\n",
       "      <td>19355</td>\n",
       "      <td>0.111585</td>\n",
       "    </tr>\n",
       "    <tr>\n",
       "      <td>5</td>\n",
       "      <td>6</td>\n",
       "      <td>18679</td>\n",
       "      <td>-0.701694</td>\n",
       "    </tr>\n",
       "    <tr>\n",
       "      <td>6</td>\n",
       "      <td>7</td>\n",
       "      <td>20750</td>\n",
       "      <td>1.789876</td>\n",
       "    </tr>\n",
       "    <tr>\n",
       "      <td>7</td>\n",
       "      <td>8</td>\n",
       "      <td>19790</td>\n",
       "      <td>0.634923</td>\n",
       "    </tr>\n",
       "  </tbody>\n",
       "</table>\n",
       "</div>"
      ],
      "text/plain": [
       "   month  number_of_crimes  scaled_crimes\n",
       "0      1             18645      -0.742598\n",
       "1      2             17798      -1.761603\n",
       "2      3             19483       0.265579\n",
       "3      4             19598       0.403933\n",
       "4      5             19355       0.111585\n",
       "5      6             18679      -0.701694\n",
       "6      7             20750       1.789876\n",
       "7      8             19790       0.634923"
      ]
     },
     "execution_count": 58,
     "metadata": {},
     "output_type": "execute_result"
    }
   ],
   "source": [
    "# Create the Scaler object\n",
    "scaler = preprocessing.StandardScaler()\n",
    "# Fit your data on the scaler object\n",
    "array_crimes = np.array(total_crimes_jan_aug_2019.number_of_crimes).reshape(-1, 1)\n",
    "scaled_df = scaler.fit_transform(array_crimes)\n",
    "total_crimes_jan_aug_2019['scaled_crimes'] = scaled_df\n",
    "total_crimes_jan_aug_2019"
   ]
  },
  {
   "cell_type": "code",
   "execution_count": 59,
   "metadata": {},
   "outputs": [],
   "source": [
    "### Get the total number of tweets from january to august 2019 and the total number of tweets for august 2019\n",
    "total_tweets_jan_aug_2019 = tweets_original.copy()\n",
    "total_tweets_jan_aug_2019 = total_tweets_jan_aug_2019[total_tweets_jan_aug_2019.year == 2019]\n",
    "total_tweets_jan_aug_2019 = total_tweets_jan_aug_2019[(total_tweets_jan_aug_2019.month == 1) | (total_tweets_jan_aug_2019.month == 2) | (total_tweets_jan_aug_2019.month == 3) | (total_tweets_jan_aug_2019.month == 4) | (total_tweets_jan_aug_2019.month == 5) | (total_tweets_jan_aug_2019.month == 6) | (total_tweets_jan_aug_2019.month == 7) | (total_tweets_jan_aug_2019.month == 8)]\n",
    "total_tweets_aug_2019 = total_tweets_jan_aug_2019[(total_tweets_jan_aug_2019.month == 8)]"
   ]
  },
  {
   "cell_type": "code",
   "execution_count": 60,
   "metadata": {},
   "outputs": [],
   "source": [
    "## Calculate the mean of crimes per month during january to august 2019  \n",
    "total_tweets_jan_aug_2019 = total_tweets_jan_aug_2019.groupby('month', as_index = False).count()\n",
    "total_tweets_jan_aug_2019.drop(['year', 'day', 'timestamp'], axis=1, inplace=True)\n"
   ]
  },
  {
   "cell_type": "code",
   "execution_count": 61,
   "metadata": {},
   "outputs": [
    {
     "data": {
      "text/html": [
       "<div>\n",
       "<style scoped>\n",
       "    .dataframe tbody tr th:only-of-type {\n",
       "        vertical-align: middle;\n",
       "    }\n",
       "\n",
       "    .dataframe tbody tr th {\n",
       "        vertical-align: top;\n",
       "    }\n",
       "\n",
       "    .dataframe thead th {\n",
       "        text-align: right;\n",
       "    }\n",
       "</style>\n",
       "<table border=\"1\" class=\"dataframe\">\n",
       "  <thead>\n",
       "    <tr style=\"text-align: right;\">\n",
       "      <th></th>\n",
       "      <th>month</th>\n",
       "      <th>tweet_id</th>\n",
       "      <th>scaled_tweets</th>\n",
       "    </tr>\n",
       "  </thead>\n",
       "  <tbody>\n",
       "    <tr>\n",
       "      <td>0</td>\n",
       "      <td>1</td>\n",
       "      <td>3366</td>\n",
       "      <td>-0.156930</td>\n",
       "    </tr>\n",
       "    <tr>\n",
       "      <td>1</td>\n",
       "      <td>2</td>\n",
       "      <td>2262</td>\n",
       "      <td>-0.672364</td>\n",
       "    </tr>\n",
       "    <tr>\n",
       "      <td>2</td>\n",
       "      <td>3</td>\n",
       "      <td>2703</td>\n",
       "      <td>-0.466471</td>\n",
       "    </tr>\n",
       "    <tr>\n",
       "      <td>3</td>\n",
       "      <td>4</td>\n",
       "      <td>2361</td>\n",
       "      <td>-0.626143</td>\n",
       "    </tr>\n",
       "    <tr>\n",
       "      <td>4</td>\n",
       "      <td>5</td>\n",
       "      <td>2377</td>\n",
       "      <td>-0.618673</td>\n",
       "    </tr>\n",
       "    <tr>\n",
       "      <td>5</td>\n",
       "      <td>6</td>\n",
       "      <td>2413</td>\n",
       "      <td>-0.601866</td>\n",
       "    </tr>\n",
       "    <tr>\n",
       "      <td>6</td>\n",
       "      <td>7</td>\n",
       "      <td>5387</td>\n",
       "      <td>0.786633</td>\n",
       "    </tr>\n",
       "    <tr>\n",
       "      <td>7</td>\n",
       "      <td>8</td>\n",
       "      <td>8748</td>\n",
       "      <td>2.355814</td>\n",
       "    </tr>\n",
       "  </tbody>\n",
       "</table>\n",
       "</div>"
      ],
      "text/plain": [
       "   month  tweet_id  scaled_tweets\n",
       "0      1      3366      -0.156930\n",
       "1      2      2262      -0.672364\n",
       "2      3      2703      -0.466471\n",
       "3      4      2361      -0.626143\n",
       "4      5      2377      -0.618673\n",
       "5      6      2413      -0.601866\n",
       "6      7      5387       0.786633\n",
       "7      8      8748       2.355814"
      ]
     },
     "execution_count": 61,
     "metadata": {},
     "output_type": "execute_result"
    }
   ],
   "source": [
    "# Create the Scaler object\n",
    "scaler = preprocessing.StandardScaler()\n",
    "# Fit your data on the scaler object\n",
    "array_tweets = np.array(total_tweets_jan_aug_2019.tweet_id).reshape(-1, 1)\n",
    "scaled_df = scaler.fit_transform(array_tweets)\n",
    "total_tweets_jan_aug_2019['scaled_tweets'] = scaled_df\n",
    "total_tweets_jan_aug_2019"
   ]
  }
 ],
 "metadata": {
  "kernelspec": {
   "display_name": "Python 3",
   "language": "python",
   "name": "python3"
  },
  "language_info": {
   "codemirror_mode": {
    "name": "ipython",
    "version": 3
   },
   "file_extension": ".py",
   "mimetype": "text/x-python",
   "name": "python",
   "nbconvert_exporter": "python",
   "pygments_lexer": "ipython3",
   "version": "3.7.4"
  }
 },
 "nbformat": 4,
 "nbformat_minor": 2
}
