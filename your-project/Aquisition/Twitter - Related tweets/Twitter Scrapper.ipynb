{
 "cells": [
  {
   "cell_type": "code",
   "execution_count": 1,
   "metadata": {},
   "outputs": [
    {
     "name": "stderr",
     "output_type": "stream",
     "text": [
      "INFO: {'User-Agent': 'Opera/9.80 (X11; Linux i686; Ubuntu/14.10) Presto/2.12.388 Version/12.16'}\n"
     ]
    }
   ],
   "source": [
    "from twitterscraper import query_tweets\n",
    "import datetime as dt\n",
    "import pandas as pd\n",
    "import glob\n",
    "import time"
   ]
  },
  {
   "cell_type": "markdown",
   "metadata": {},
   "source": [
    "## Parse Twitter feed\n",
    "\n",
    "The query is constructed to obtain all tweets that where published between the selected dates and that contained the words:\n",
    "\"Barcelona\" AND \"violencia\" OR \"crimen\" OR \"inseguridad\" OR \"delincuencia\" OR \"agresion\" OR \"delito\" OR \"crim\" OR \"inseguretat\" OR \"delinqüència\" OR \"agressió\" OR \"delicte\"\n"
   ]
  },
  {
   "cell_type": "code",
   "execution_count": 22,
   "metadata": {},
   "outputs": [
    {
     "name": "stderr",
     "output_type": "stream",
     "text": [
      "INFO: queries: ['\"Barcelona\" AND \"violencia\" OR \"crimen\" OR \"inseguridad\" OR \"delincuencia\" OR \"agresion\" OR \"delito\" OR \"crim\" OR \"inseguretat\" OR \"delinqüència\" OR \"agressió\" OR \"delicte\" since:2017-12-29 until:2017-12-30', '\"Barcelona\" AND \"violencia\" OR \"crimen\" OR \"inseguridad\" OR \"delincuencia\" OR \"agresion\" OR \"delito\" OR \"crim\" OR \"inseguretat\" OR \"delinqüència\" OR \"agressió\" OR \"delicte\" since:2017-12-30 until:2017-12-31', '\"Barcelona\" AND \"violencia\" OR \"crimen\" OR \"inseguridad\" OR \"delincuencia\" OR \"agresion\" OR \"delito\" OR \"crim\" OR \"inseguretat\" OR \"delinqüència\" OR \"agressió\" OR \"delicte\" since:2017-12-31 until:2018-01-01', '\"Barcelona\" AND \"violencia\" OR \"crimen\" OR \"inseguridad\" OR \"delincuencia\" OR \"agresion\" OR \"delito\" OR \"crim\" OR \"inseguretat\" OR \"delinqüència\" OR \"agressió\" OR \"delicte\" since:2018-01-01 until:2018-01-02', '\"Barcelona\" AND \"violencia\" OR \"crimen\" OR \"inseguridad\" OR \"delincuencia\" OR \"agresion\" OR \"delito\" OR \"crim\" OR \"inseguretat\" OR \"delinqüència\" OR \"agressió\" OR \"delicte\" since:2018-01-02 until:2018-01-03', '\"Barcelona\" AND \"violencia\" OR \"crimen\" OR \"inseguridad\" OR \"delincuencia\" OR \"agresion\" OR \"delito\" OR \"crim\" OR \"inseguretat\" OR \"delinqüència\" OR \"agressió\" OR \"delicte\" since:2018-01-03 until:2018-01-04', '\"Barcelona\" AND \"violencia\" OR \"crimen\" OR \"inseguridad\" OR \"delincuencia\" OR \"agresion\" OR \"delito\" OR \"crim\" OR \"inseguretat\" OR \"delinqüència\" OR \"agressió\" OR \"delicte\" since:2018-01-04 until:2018-01-05']\n",
      "INFO: Got 16 tweets (16 new).\n",
      "INFO: Got 32 tweets (16 new).\n",
      "INFO: Got 72 tweets (40 new).\n",
      "INFO: Got 104 tweets (32 new).\n",
      "INFO: Got 147 tweets (43 new).\n",
      "INFO: Got 192 tweets (45 new).\n",
      "INFO: Got 240 tweets (48 new).\n"
     ]
    },
    {
     "name": "stdout",
     "output_type": "stream",
     "text": [
      "240  were retrieved for 2017-12-29 to 2018-01-05\n"
     ]
    },
    {
     "name": "stderr",
     "output_type": "stream",
     "text": [
      "INFO: queries: ['\"Barcelona\" AND \"violencia\" OR \"crimen\" OR \"inseguridad\" OR \"delincuencia\" OR \"agresion\" OR \"delito\" OR \"crim\" OR \"inseguretat\" OR \"delinqüència\" OR \"agressió\" OR \"delicte\" since:2017-12-22 until:2017-12-23', '\"Barcelona\" AND \"violencia\" OR \"crimen\" OR \"inseguridad\" OR \"delincuencia\" OR \"agresion\" OR \"delito\" OR \"crim\" OR \"inseguretat\" OR \"delinqüència\" OR \"agressió\" OR \"delicte\" since:2017-12-23 until:2017-12-24', '\"Barcelona\" AND \"violencia\" OR \"crimen\" OR \"inseguridad\" OR \"delincuencia\" OR \"agresion\" OR \"delito\" OR \"crim\" OR \"inseguretat\" OR \"delinqüència\" OR \"agressió\" OR \"delicte\" since:2017-12-24 until:2017-12-25', '\"Barcelona\" AND \"violencia\" OR \"crimen\" OR \"inseguridad\" OR \"delincuencia\" OR \"agresion\" OR \"delito\" OR \"crim\" OR \"inseguretat\" OR \"delinqüència\" OR \"agressió\" OR \"delicte\" since:2017-12-25 until:2017-12-26', '\"Barcelona\" AND \"violencia\" OR \"crimen\" OR \"inseguridad\" OR \"delincuencia\" OR \"agresion\" OR \"delito\" OR \"crim\" OR \"inseguretat\" OR \"delinqüència\" OR \"agressió\" OR \"delicte\" since:2017-12-26 until:2017-12-27', '\"Barcelona\" AND \"violencia\" OR \"crimen\" OR \"inseguridad\" OR \"delincuencia\" OR \"agresion\" OR \"delito\" OR \"crim\" OR \"inseguretat\" OR \"delinqüència\" OR \"agressió\" OR \"delicte\" since:2017-12-27 until:2017-12-28', '\"Barcelona\" AND \"violencia\" OR \"crimen\" OR \"inseguridad\" OR \"delincuencia\" OR \"agresion\" OR \"delito\" OR \"crim\" OR \"inseguretat\" OR \"delinqüència\" OR \"agressió\" OR \"delicte\" since:2017-12-28 until:2017-12-29']\n",
      "INFO: Got 32 tweets (32 new).\n",
      "INFO: Got 84 tweets (52 new).\n",
      "INFO: Got 126 tweets (42 new).\n",
      "INFO: Got 168 tweets (42 new).\n",
      "INFO: Got 229 tweets (61 new).\n",
      "INFO: Got 291 tweets (62 new).\n",
      "INFO: Got 395 tweets (104 new).\n"
     ]
    },
    {
     "name": "stdout",
     "output_type": "stream",
     "text": [
      "395  were retrieved for 2017-12-22 to 2017-12-29\n"
     ]
    },
    {
     "name": "stderr",
     "output_type": "stream",
     "text": [
      "INFO: queries: ['\"Barcelona\" AND \"violencia\" OR \"crimen\" OR \"inseguridad\" OR \"delincuencia\" OR \"agresion\" OR \"delito\" OR \"crim\" OR \"inseguretat\" OR \"delinqüència\" OR \"agressió\" OR \"delicte\" since:2017-12-15 until:2017-12-16', '\"Barcelona\" AND \"violencia\" OR \"crimen\" OR \"inseguridad\" OR \"delincuencia\" OR \"agresion\" OR \"delito\" OR \"crim\" OR \"inseguretat\" OR \"delinqüència\" OR \"agressió\" OR \"delicte\" since:2017-12-16 until:2017-12-17', '\"Barcelona\" AND \"violencia\" OR \"crimen\" OR \"inseguridad\" OR \"delincuencia\" OR \"agresion\" OR \"delito\" OR \"crim\" OR \"inseguretat\" OR \"delinqüència\" OR \"agressió\" OR \"delicte\" since:2017-12-17 until:2017-12-18', '\"Barcelona\" AND \"violencia\" OR \"crimen\" OR \"inseguridad\" OR \"delincuencia\" OR \"agresion\" OR \"delito\" OR \"crim\" OR \"inseguretat\" OR \"delinqüència\" OR \"agressió\" OR \"delicte\" since:2017-12-18 until:2017-12-19', '\"Barcelona\" AND \"violencia\" OR \"crimen\" OR \"inseguridad\" OR \"delincuencia\" OR \"agresion\" OR \"delito\" OR \"crim\" OR \"inseguretat\" OR \"delinqüència\" OR \"agressió\" OR \"delicte\" since:2017-12-19 until:2017-12-20', '\"Barcelona\" AND \"violencia\" OR \"crimen\" OR \"inseguridad\" OR \"delincuencia\" OR \"agresion\" OR \"delito\" OR \"crim\" OR \"inseguretat\" OR \"delinqüència\" OR \"agressió\" OR \"delicte\" since:2017-12-20 until:2017-12-21', '\"Barcelona\" AND \"violencia\" OR \"crimen\" OR \"inseguridad\" OR \"delincuencia\" OR \"agresion\" OR \"delito\" OR \"crim\" OR \"inseguretat\" OR \"delinqüència\" OR \"agressió\" OR \"delicte\" since:2017-12-21 until:2017-12-22']\n",
      "INFO: Got 32 tweets (32 new).\n",
      "INFO: Got 74 tweets (42 new).\n",
      "INFO: Got 121 tweets (47 new).\n",
      "INFO: Got 167 tweets (46 new).\n",
      "INFO: Got 216 tweets (49 new).\n",
      "INFO: Got 259 tweets (43 new).\n",
      "INFO: Got 335 tweets (76 new).\n"
     ]
    },
    {
     "name": "stdout",
     "output_type": "stream",
     "text": [
      "335  were retrieved for 2017-12-15 to 2017-12-22\n"
     ]
    },
    {
     "name": "stderr",
     "output_type": "stream",
     "text": [
      "INFO: queries: ['\"Barcelona\" AND \"violencia\" OR \"crimen\" OR \"inseguridad\" OR \"delincuencia\" OR \"agresion\" OR \"delito\" OR \"crim\" OR \"inseguretat\" OR \"delinqüència\" OR \"agressió\" OR \"delicte\" since:2017-12-08 until:2017-12-09', '\"Barcelona\" AND \"violencia\" OR \"crimen\" OR \"inseguridad\" OR \"delincuencia\" OR \"agresion\" OR \"delito\" OR \"crim\" OR \"inseguretat\" OR \"delinqüència\" OR \"agressió\" OR \"delicte\" since:2017-12-09 until:2017-12-10', '\"Barcelona\" AND \"violencia\" OR \"crimen\" OR \"inseguridad\" OR \"delincuencia\" OR \"agresion\" OR \"delito\" OR \"crim\" OR \"inseguretat\" OR \"delinqüència\" OR \"agressió\" OR \"delicte\" since:2017-12-10 until:2017-12-11', '\"Barcelona\" AND \"violencia\" OR \"crimen\" OR \"inseguridad\" OR \"delincuencia\" OR \"agresion\" OR \"delito\" OR \"crim\" OR \"inseguretat\" OR \"delinqüència\" OR \"agressió\" OR \"delicte\" since:2017-12-11 until:2017-12-12', '\"Barcelona\" AND \"violencia\" OR \"crimen\" OR \"inseguridad\" OR \"delincuencia\" OR \"agresion\" OR \"delito\" OR \"crim\" OR \"inseguretat\" OR \"delinqüència\" OR \"agressió\" OR \"delicte\" since:2017-12-12 until:2017-12-13', '\"Barcelona\" AND \"violencia\" OR \"crimen\" OR \"inseguridad\" OR \"delincuencia\" OR \"agresion\" OR \"delito\" OR \"crim\" OR \"inseguretat\" OR \"delinqüència\" OR \"agressió\" OR \"delicte\" since:2017-12-13 until:2017-12-14', '\"Barcelona\" AND \"violencia\" OR \"crimen\" OR \"inseguridad\" OR \"delincuencia\" OR \"agresion\" OR \"delito\" OR \"crim\" OR \"inseguretat\" OR \"delinqüència\" OR \"agressió\" OR \"delicte\" since:2017-12-14 until:2017-12-15']\n",
      "INFO: Got 30 tweets (30 new).\n",
      "INFO: Got 74 tweets (44 new).\n",
      "INFO: Got 143 tweets (69 new).\n",
      "INFO: Got 205 tweets (62 new).\n",
      "INFO: Got 317 tweets (112 new).\n",
      "INFO: Got 409 tweets (92 new).\n",
      "INFO: Got 495 tweets (86 new).\n"
     ]
    },
    {
     "name": "stdout",
     "output_type": "stream",
     "text": [
      "495  were retrieved for 2017-12-08 to 2017-12-15\n"
     ]
    },
    {
     "name": "stderr",
     "output_type": "stream",
     "text": [
      "INFO: queries: ['\"Barcelona\" AND \"violencia\" OR \"crimen\" OR \"inseguridad\" OR \"delincuencia\" OR \"agresion\" OR \"delito\" OR \"crim\" OR \"inseguretat\" OR \"delinqüència\" OR \"agressió\" OR \"delicte\" since:2017-12-01 until:2017-12-02', '\"Barcelona\" AND \"violencia\" OR \"crimen\" OR \"inseguridad\" OR \"delincuencia\" OR \"agresion\" OR \"delito\" OR \"crim\" OR \"inseguretat\" OR \"delinqüència\" OR \"agressió\" OR \"delicte\" since:2017-12-02 until:2017-12-03', '\"Barcelona\" AND \"violencia\" OR \"crimen\" OR \"inseguridad\" OR \"delincuencia\" OR \"agresion\" OR \"delito\" OR \"crim\" OR \"inseguretat\" OR \"delinqüència\" OR \"agressió\" OR \"delicte\" since:2017-12-03 until:2017-12-04', '\"Barcelona\" AND \"violencia\" OR \"crimen\" OR \"inseguridad\" OR \"delincuencia\" OR \"agresion\" OR \"delito\" OR \"crim\" OR \"inseguretat\" OR \"delinqüència\" OR \"agressió\" OR \"delicte\" since:2017-12-04 until:2017-12-05', '\"Barcelona\" AND \"violencia\" OR \"crimen\" OR \"inseguridad\" OR \"delincuencia\" OR \"agresion\" OR \"delito\" OR \"crim\" OR \"inseguretat\" OR \"delinqüència\" OR \"agressió\" OR \"delicte\" since:2017-12-05 until:2017-12-06', '\"Barcelona\" AND \"violencia\" OR \"crimen\" OR \"inseguridad\" OR \"delincuencia\" OR \"agresion\" OR \"delito\" OR \"crim\" OR \"inseguretat\" OR \"delinqüència\" OR \"agressió\" OR \"delicte\" since:2017-12-06 until:2017-12-07', '\"Barcelona\" AND \"violencia\" OR \"crimen\" OR \"inseguridad\" OR \"delincuencia\" OR \"agresion\" OR \"delito\" OR \"crim\" OR \"inseguretat\" OR \"delinqüència\" OR \"agressió\" OR \"delicte\" since:2017-12-07 until:2017-12-08']\n",
      "INFO: Got 28 tweets (28 new).\n",
      "INFO: Got 66 tweets (38 new).\n",
      "INFO: Got 116 tweets (50 new).\n",
      "INFO: Got 172 tweets (56 new).\n",
      "INFO: Got 253 tweets (81 new).\n",
      "INFO: Got 349 tweets (96 new).\n",
      "INFO: Got 486 tweets (137 new).\n"
     ]
    },
    {
     "name": "stdout",
     "output_type": "stream",
     "text": [
      "486  were retrieved for 2017-12-01 to 2017-12-08\n"
     ]
    },
    {
     "name": "stderr",
     "output_type": "stream",
     "text": [
      "INFO: queries: ['\"Barcelona\" AND \"violencia\" OR \"crimen\" OR \"inseguridad\" OR \"delincuencia\" OR \"agresion\" OR \"delito\" OR \"crim\" OR \"inseguretat\" OR \"delinqüència\" OR \"agressió\" OR \"delicte\" since:2017-11-24 until:2017-11-25', '\"Barcelona\" AND \"violencia\" OR \"crimen\" OR \"inseguridad\" OR \"delincuencia\" OR \"agresion\" OR \"delito\" OR \"crim\" OR \"inseguretat\" OR \"delinqüència\" OR \"agressió\" OR \"delicte\" since:2017-11-25 until:2017-11-26', '\"Barcelona\" AND \"violencia\" OR \"crimen\" OR \"inseguridad\" OR \"delincuencia\" OR \"agresion\" OR \"delito\" OR \"crim\" OR \"inseguretat\" OR \"delinqüència\" OR \"agressió\" OR \"delicte\" since:2017-11-26 until:2017-11-27', '\"Barcelona\" AND \"violencia\" OR \"crimen\" OR \"inseguridad\" OR \"delincuencia\" OR \"agresion\" OR \"delito\" OR \"crim\" OR \"inseguretat\" OR \"delinqüència\" OR \"agressió\" OR \"delicte\" since:2017-11-27 until:2017-11-28', '\"Barcelona\" AND \"violencia\" OR \"crimen\" OR \"inseguridad\" OR \"delincuencia\" OR \"agresion\" OR \"delito\" OR \"crim\" OR \"inseguretat\" OR \"delinqüència\" OR \"agressió\" OR \"delicte\" since:2017-11-28 until:2017-11-29', '\"Barcelona\" AND \"violencia\" OR \"crimen\" OR \"inseguridad\" OR \"delincuencia\" OR \"agresion\" OR \"delito\" OR \"crim\" OR \"inseguretat\" OR \"delinqüència\" OR \"agressió\" OR \"delicte\" since:2017-11-29 until:2017-11-30', '\"Barcelona\" AND \"violencia\" OR \"crimen\" OR \"inseguridad\" OR \"delincuencia\" OR \"agresion\" OR \"delito\" OR \"crim\" OR \"inseguretat\" OR \"delinqüència\" OR \"agressió\" OR \"delicte\" since:2017-11-30 until:2017-12-01']\n",
      "INFO: Got 46 tweets (46 new).\n",
      "INFO: Got 116 tweets (70 new).\n",
      "INFO: Got 194 tweets (78 new).\n",
      "INFO: Got 303 tweets (109 new).\n",
      "INFO: Got 398 tweets (95 new).\n",
      "INFO: Got 521 tweets (123 new).\n",
      "INFO: Got 743 tweets (222 new).\n"
     ]
    },
    {
     "name": "stdout",
     "output_type": "stream",
     "text": [
      "743  were retrieved for 2017-11-24 to 2017-12-01\n"
     ]
    },
    {
     "name": "stderr",
     "output_type": "stream",
     "text": [
      "INFO: queries: ['\"Barcelona\" AND \"violencia\" OR \"crimen\" OR \"inseguridad\" OR \"delincuencia\" OR \"agresion\" OR \"delito\" OR \"crim\" OR \"inseguretat\" OR \"delinqüència\" OR \"agressió\" OR \"delicte\" since:2017-11-17 until:2017-11-18', '\"Barcelona\" AND \"violencia\" OR \"crimen\" OR \"inseguridad\" OR \"delincuencia\" OR \"agresion\" OR \"delito\" OR \"crim\" OR \"inseguretat\" OR \"delinqüència\" OR \"agressió\" OR \"delicte\" since:2017-11-18 until:2017-11-19', '\"Barcelona\" AND \"violencia\" OR \"crimen\" OR \"inseguridad\" OR \"delincuencia\" OR \"agresion\" OR \"delito\" OR \"crim\" OR \"inseguretat\" OR \"delinqüència\" OR \"agressió\" OR \"delicte\" since:2017-11-19 until:2017-11-20', '\"Barcelona\" AND \"violencia\" OR \"crimen\" OR \"inseguridad\" OR \"delincuencia\" OR \"agresion\" OR \"delito\" OR \"crim\" OR \"inseguretat\" OR \"delinqüència\" OR \"agressió\" OR \"delicte\" since:2017-11-20 until:2017-11-21', '\"Barcelona\" AND \"violencia\" OR \"crimen\" OR \"inseguridad\" OR \"delincuencia\" OR \"agresion\" OR \"delito\" OR \"crim\" OR \"inseguretat\" OR \"delinqüència\" OR \"agressió\" OR \"delicte\" since:2017-11-21 until:2017-11-22', '\"Barcelona\" AND \"violencia\" OR \"crimen\" OR \"inseguridad\" OR \"delincuencia\" OR \"agresion\" OR \"delito\" OR \"crim\" OR \"inseguretat\" OR \"delinqüència\" OR \"agressió\" OR \"delicte\" since:2017-11-22 until:2017-11-23', '\"Barcelona\" AND \"violencia\" OR \"crimen\" OR \"inseguridad\" OR \"delincuencia\" OR \"agresion\" OR \"delito\" OR \"crim\" OR \"inseguretat\" OR \"delinqüència\" OR \"agressió\" OR \"delicte\" since:2017-11-23 until:2017-11-24']\n",
      "INFO: Got 39 tweets (39 new).\n",
      "INFO: Got 101 tweets (62 new).\n",
      "INFO: Got 175 tweets (74 new).\n",
      "INFO: Got 270 tweets (95 new).\n",
      "INFO: Got 366 tweets (96 new).\n",
      "INFO: Got 494 tweets (128 new).\n",
      "INFO: Got 784 tweets (290 new).\n"
     ]
    },
    {
     "name": "stdout",
     "output_type": "stream",
     "text": [
      "784  were retrieved for 2017-11-17 to 2017-11-24\n"
     ]
    },
    {
     "name": "stderr",
     "output_type": "stream",
     "text": [
      "INFO: queries: ['\"Barcelona\" AND \"violencia\" OR \"crimen\" OR \"inseguridad\" OR \"delincuencia\" OR \"agresion\" OR \"delito\" OR \"crim\" OR \"inseguretat\" OR \"delinqüència\" OR \"agressió\" OR \"delicte\" since:2017-11-10 until:2017-11-11', '\"Barcelona\" AND \"violencia\" OR \"crimen\" OR \"inseguridad\" OR \"delincuencia\" OR \"agresion\" OR \"delito\" OR \"crim\" OR \"inseguretat\" OR \"delinqüència\" OR \"agressió\" OR \"delicte\" since:2017-11-11 until:2017-11-12', '\"Barcelona\" AND \"violencia\" OR \"crimen\" OR \"inseguridad\" OR \"delincuencia\" OR \"agresion\" OR \"delito\" OR \"crim\" OR \"inseguretat\" OR \"delinqüència\" OR \"agressió\" OR \"delicte\" since:2017-11-12 until:2017-11-13', '\"Barcelona\" AND \"violencia\" OR \"crimen\" OR \"inseguridad\" OR \"delincuencia\" OR \"agresion\" OR \"delito\" OR \"crim\" OR \"inseguretat\" OR \"delinqüència\" OR \"agressió\" OR \"delicte\" since:2017-11-13 until:2017-11-14', '\"Barcelona\" AND \"violencia\" OR \"crimen\" OR \"inseguridad\" OR \"delincuencia\" OR \"agresion\" OR \"delito\" OR \"crim\" OR \"inseguretat\" OR \"delinqüència\" OR \"agressió\" OR \"delicte\" since:2017-11-14 until:2017-11-15', '\"Barcelona\" AND \"violencia\" OR \"crimen\" OR \"inseguridad\" OR \"delincuencia\" OR \"agresion\" OR \"delito\" OR \"crim\" OR \"inseguretat\" OR \"delinqüència\" OR \"agressió\" OR \"delicte\" since:2017-11-15 until:2017-11-16', '\"Barcelona\" AND \"violencia\" OR \"crimen\" OR \"inseguridad\" OR \"delincuencia\" OR \"agresion\" OR \"delito\" OR \"crim\" OR \"inseguretat\" OR \"delinqüència\" OR \"agressió\" OR \"delicte\" since:2017-11-16 until:2017-11-17']\n",
      "INFO: Got 45 tweets (45 new).\n",
      "INFO: Got 103 tweets (58 new).\n",
      "INFO: Got 162 tweets (59 new).\n",
      "INFO: Got 224 tweets (62 new).\n",
      "INFO: Got 292 tweets (68 new).\n",
      "INFO: Got 364 tweets (72 new).\n",
      "INFO: Got 445 tweets (81 new).\n"
     ]
    },
    {
     "name": "stdout",
     "output_type": "stream",
     "text": [
      "445  were retrieved for 2017-11-10 to 2017-11-17\n"
     ]
    },
    {
     "name": "stderr",
     "output_type": "stream",
     "text": [
      "INFO: queries: ['\"Barcelona\" AND \"violencia\" OR \"crimen\" OR \"inseguridad\" OR \"delincuencia\" OR \"agresion\" OR \"delito\" OR \"crim\" OR \"inseguretat\" OR \"delinqüència\" OR \"agressió\" OR \"delicte\" since:2017-11-03 until:2017-11-04', '\"Barcelona\" AND \"violencia\" OR \"crimen\" OR \"inseguridad\" OR \"delincuencia\" OR \"agresion\" OR \"delito\" OR \"crim\" OR \"inseguretat\" OR \"delinqüència\" OR \"agressió\" OR \"delicte\" since:2017-11-04 until:2017-11-05', '\"Barcelona\" AND \"violencia\" OR \"crimen\" OR \"inseguridad\" OR \"delincuencia\" OR \"agresion\" OR \"delito\" OR \"crim\" OR \"inseguretat\" OR \"delinqüència\" OR \"agressió\" OR \"delicte\" since:2017-11-05 until:2017-11-06', '\"Barcelona\" AND \"violencia\" OR \"crimen\" OR \"inseguridad\" OR \"delincuencia\" OR \"agresion\" OR \"delito\" OR \"crim\" OR \"inseguretat\" OR \"delinqüència\" OR \"agressió\" OR \"delicte\" since:2017-11-06 until:2017-11-07', '\"Barcelona\" AND \"violencia\" OR \"crimen\" OR \"inseguridad\" OR \"delincuencia\" OR \"agresion\" OR \"delito\" OR \"crim\" OR \"inseguretat\" OR \"delinqüència\" OR \"agressió\" OR \"delicte\" since:2017-11-07 until:2017-11-08', '\"Barcelona\" AND \"violencia\" OR \"crimen\" OR \"inseguridad\" OR \"delincuencia\" OR \"agresion\" OR \"delito\" OR \"crim\" OR \"inseguretat\" OR \"delinqüència\" OR \"agressió\" OR \"delicte\" since:2017-11-08 until:2017-11-09', '\"Barcelona\" AND \"violencia\" OR \"crimen\" OR \"inseguridad\" OR \"delincuencia\" OR \"agresion\" OR \"delito\" OR \"crim\" OR \"inseguretat\" OR \"delinqüència\" OR \"agressió\" OR \"delicte\" since:2017-11-09 until:2017-11-10']\n",
      "INFO: Got 30 tweets (30 new).\n",
      "INFO: Got 62 tweets (32 new).\n",
      "INFO: Got 82 tweets (20 new).\n",
      "INFO: Got 125 tweets (43 new).\n",
      "INFO: Got 175 tweets (50 new).\n",
      "INFO: Got 245 tweets (70 new).\n",
      "INFO: Got 311 tweets (66 new).\n"
     ]
    },
    {
     "name": "stdout",
     "output_type": "stream",
     "text": [
      "311  were retrieved for 2017-11-03 to 2017-11-10\n"
     ]
    },
    {
     "name": "stderr",
     "output_type": "stream",
     "text": [
      "INFO: queries: ['\"Barcelona\" AND \"violencia\" OR \"crimen\" OR \"inseguridad\" OR \"delincuencia\" OR \"agresion\" OR \"delito\" OR \"crim\" OR \"inseguretat\" OR \"delinqüència\" OR \"agressió\" OR \"delicte\" since:2017-10-27 until:2017-10-28', '\"Barcelona\" AND \"violencia\" OR \"crimen\" OR \"inseguridad\" OR \"delincuencia\" OR \"agresion\" OR \"delito\" OR \"crim\" OR \"inseguretat\" OR \"delinqüència\" OR \"agressió\" OR \"delicte\" since:2017-10-28 until:2017-10-29', '\"Barcelona\" AND \"violencia\" OR \"crimen\" OR \"inseguridad\" OR \"delincuencia\" OR \"agresion\" OR \"delito\" OR \"crim\" OR \"inseguretat\" OR \"delinqüència\" OR \"agressió\" OR \"delicte\" since:2017-10-29 until:2017-10-30', '\"Barcelona\" AND \"violencia\" OR \"crimen\" OR \"inseguridad\" OR \"delincuencia\" OR \"agresion\" OR \"delito\" OR \"crim\" OR \"inseguretat\" OR \"delinqüència\" OR \"agressió\" OR \"delicte\" since:2017-10-30 until:2017-10-31', '\"Barcelona\" AND \"violencia\" OR \"crimen\" OR \"inseguridad\" OR \"delincuencia\" OR \"agresion\" OR \"delito\" OR \"crim\" OR \"inseguretat\" OR \"delinqüència\" OR \"agressió\" OR \"delicte\" since:2017-10-31 until:2017-11-01', '\"Barcelona\" AND \"violencia\" OR \"crimen\" OR \"inseguridad\" OR \"delincuencia\" OR \"agresion\" OR \"delito\" OR \"crim\" OR \"inseguretat\" OR \"delinqüència\" OR \"agressió\" OR \"delicte\" since:2017-11-01 until:2017-11-02', '\"Barcelona\" AND \"violencia\" OR \"crimen\" OR \"inseguridad\" OR \"delincuencia\" OR \"agresion\" OR \"delito\" OR \"crim\" OR \"inseguretat\" OR \"delinqüència\" OR \"agressió\" OR \"delicte\" since:2017-11-02 until:2017-11-03']\n",
      "INFO: Got 43 tweets (43 new).\n",
      "INFO: Got 100 tweets (57 new).\n",
      "INFO: Got 166 tweets (66 new).\n",
      "INFO: Got 257 tweets (91 new).\n",
      "INFO: Got 328 tweets (71 new).\n",
      "INFO: Got 464 tweets (136 new).\n",
      "INFO: Got 629 tweets (165 new).\n"
     ]
    },
    {
     "name": "stdout",
     "output_type": "stream",
     "text": [
      "629  were retrieved for 2017-10-27 to 2017-11-03\n"
     ]
    },
    {
     "name": "stderr",
     "output_type": "stream",
     "text": [
      "INFO: queries: ['\"Barcelona\" AND \"violencia\" OR \"crimen\" OR \"inseguridad\" OR \"delincuencia\" OR \"agresion\" OR \"delito\" OR \"crim\" OR \"inseguretat\" OR \"delinqüència\" OR \"agressió\" OR \"delicte\" since:2017-10-20 until:2017-10-21', '\"Barcelona\" AND \"violencia\" OR \"crimen\" OR \"inseguridad\" OR \"delincuencia\" OR \"agresion\" OR \"delito\" OR \"crim\" OR \"inseguretat\" OR \"delinqüència\" OR \"agressió\" OR \"delicte\" since:2017-10-21 until:2017-10-22', '\"Barcelona\" AND \"violencia\" OR \"crimen\" OR \"inseguridad\" OR \"delincuencia\" OR \"agresion\" OR \"delito\" OR \"crim\" OR \"inseguretat\" OR \"delinqüència\" OR \"agressió\" OR \"delicte\" since:2017-10-22 until:2017-10-23', '\"Barcelona\" AND \"violencia\" OR \"crimen\" OR \"inseguridad\" OR \"delincuencia\" OR \"agresion\" OR \"delito\" OR \"crim\" OR \"inseguretat\" OR \"delinqüència\" OR \"agressió\" OR \"delicte\" since:2017-10-23 until:2017-10-24', '\"Barcelona\" AND \"violencia\" OR \"crimen\" OR \"inseguridad\" OR \"delincuencia\" OR \"agresion\" OR \"delito\" OR \"crim\" OR \"inseguretat\" OR \"delinqüència\" OR \"agressió\" OR \"delicte\" since:2017-10-24 until:2017-10-25', '\"Barcelona\" AND \"violencia\" OR \"crimen\" OR \"inseguridad\" OR \"delincuencia\" OR \"agresion\" OR \"delito\" OR \"crim\" OR \"inseguretat\" OR \"delinqüència\" OR \"agressió\" OR \"delicte\" since:2017-10-25 until:2017-10-26', '\"Barcelona\" AND \"violencia\" OR \"crimen\" OR \"inseguridad\" OR \"delincuencia\" OR \"agresion\" OR \"delito\" OR \"crim\" OR \"inseguretat\" OR \"delinqüència\" OR \"agressió\" OR \"delicte\" since:2017-10-26 until:2017-10-27']\n",
      "INFO: Got 32 tweets (32 new).\n",
      "INFO: Got 85 tweets (53 new).\n",
      "INFO: Got 129 tweets (44 new).\n",
      "INFO: Got 174 tweets (45 new).\n",
      "INFO: Got 215 tweets (41 new).\n",
      "INFO: Got 262 tweets (47 new).\n",
      "INFO: Got 336 tweets (74 new).\n"
     ]
    },
    {
     "name": "stdout",
     "output_type": "stream",
     "text": [
      "336  were retrieved for 2017-10-20 to 2017-10-27\n"
     ]
    },
    {
     "name": "stderr",
     "output_type": "stream",
     "text": [
      "INFO: queries: ['\"Barcelona\" AND \"violencia\" OR \"crimen\" OR \"inseguridad\" OR \"delincuencia\" OR \"agresion\" OR \"delito\" OR \"crim\" OR \"inseguretat\" OR \"delinqüència\" OR \"agressió\" OR \"delicte\" since:2017-10-13 until:2017-10-14', '\"Barcelona\" AND \"violencia\" OR \"crimen\" OR \"inseguridad\" OR \"delincuencia\" OR \"agresion\" OR \"delito\" OR \"crim\" OR \"inseguretat\" OR \"delinqüència\" OR \"agressió\" OR \"delicte\" since:2017-10-14 until:2017-10-15', '\"Barcelona\" AND \"violencia\" OR \"crimen\" OR \"inseguridad\" OR \"delincuencia\" OR \"agresion\" OR \"delito\" OR \"crim\" OR \"inseguretat\" OR \"delinqüència\" OR \"agressió\" OR \"delicte\" since:2017-10-15 until:2017-10-16', '\"Barcelona\" AND \"violencia\" OR \"crimen\" OR \"inseguridad\" OR \"delincuencia\" OR \"agresion\" OR \"delito\" OR \"crim\" OR \"inseguretat\" OR \"delinqüència\" OR \"agressió\" OR \"delicte\" since:2017-10-16 until:2017-10-17', '\"Barcelona\" AND \"violencia\" OR \"crimen\" OR \"inseguridad\" OR \"delincuencia\" OR \"agresion\" OR \"delito\" OR \"crim\" OR \"inseguretat\" OR \"delinqüència\" OR \"agressió\" OR \"delicte\" since:2017-10-17 until:2017-10-18', '\"Barcelona\" AND \"violencia\" OR \"crimen\" OR \"inseguridad\" OR \"delincuencia\" OR \"agresion\" OR \"delito\" OR \"crim\" OR \"inseguretat\" OR \"delinqüència\" OR \"agressió\" OR \"delicte\" since:2017-10-18 until:2017-10-19', '\"Barcelona\" AND \"violencia\" OR \"crimen\" OR \"inseguridad\" OR \"delincuencia\" OR \"agresion\" OR \"delito\" OR \"crim\" OR \"inseguretat\" OR \"delinqüència\" OR \"agressió\" OR \"delicte\" since:2017-10-19 until:2017-10-20']\n",
      "INFO: Got 40 tweets (40 new).\n",
      "INFO: Got 94 tweets (54 new).\n",
      "INFO: Got 162 tweets (68 new).\n",
      "INFO: Got 225 tweets (63 new).\n",
      "INFO: Got 296 tweets (71 new).\n",
      "INFO: Got 382 tweets (86 new).\n",
      "INFO: Got 503 tweets (121 new).\n"
     ]
    },
    {
     "name": "stdout",
     "output_type": "stream",
     "text": [
      "503  were retrieved for 2017-10-13 to 2017-10-20\n"
     ]
    },
    {
     "name": "stderr",
     "output_type": "stream",
     "text": [
      "INFO: queries: ['\"Barcelona\" AND \"violencia\" OR \"crimen\" OR \"inseguridad\" OR \"delincuencia\" OR \"agresion\" OR \"delito\" OR \"crim\" OR \"inseguretat\" OR \"delinqüència\" OR \"agressió\" OR \"delicte\" since:2017-10-06 until:2017-10-07', '\"Barcelona\" AND \"violencia\" OR \"crimen\" OR \"inseguridad\" OR \"delincuencia\" OR \"agresion\" OR \"delito\" OR \"crim\" OR \"inseguretat\" OR \"delinqüència\" OR \"agressió\" OR \"delicte\" since:2017-10-07 until:2017-10-08', '\"Barcelona\" AND \"violencia\" OR \"crimen\" OR \"inseguridad\" OR \"delincuencia\" OR \"agresion\" OR \"delito\" OR \"crim\" OR \"inseguretat\" OR \"delinqüència\" OR \"agressió\" OR \"delicte\" since:2017-10-08 until:2017-10-09', '\"Barcelona\" AND \"violencia\" OR \"crimen\" OR \"inseguridad\" OR \"delincuencia\" OR \"agresion\" OR \"delito\" OR \"crim\" OR \"inseguretat\" OR \"delinqüència\" OR \"agressió\" OR \"delicte\" since:2017-10-09 until:2017-10-10', '\"Barcelona\" AND \"violencia\" OR \"crimen\" OR \"inseguridad\" OR \"delincuencia\" OR \"agresion\" OR \"delito\" OR \"crim\" OR \"inseguretat\" OR \"delinqüència\" OR \"agressió\" OR \"delicte\" since:2017-10-10 until:2017-10-11', '\"Barcelona\" AND \"violencia\" OR \"crimen\" OR \"inseguridad\" OR \"delincuencia\" OR \"agresion\" OR \"delito\" OR \"crim\" OR \"inseguretat\" OR \"delinqüència\" OR \"agressió\" OR \"delicte\" since:2017-10-11 until:2017-10-12', '\"Barcelona\" AND \"violencia\" OR \"crimen\" OR \"inseguridad\" OR \"delincuencia\" OR \"agresion\" OR \"delito\" OR \"crim\" OR \"inseguretat\" OR \"delinqüència\" OR \"agressió\" OR \"delicte\" since:2017-10-12 until:2017-10-13']\n",
      "INFO: Got 101 tweets (101 new).\n",
      "INFO: Got 206 tweets (105 new).\n",
      "INFO: Got 314 tweets (108 new).\n",
      "INFO: Got 437 tweets (123 new).\n",
      "INFO: Got 559 tweets (122 new).\n",
      "INFO: Got 708 tweets (149 new).\n",
      "INFO: Got 992 tweets (284 new).\n"
     ]
    },
    {
     "name": "stdout",
     "output_type": "stream",
     "text": [
      "992  were retrieved for 2017-10-06 to 2017-10-13\n"
     ]
    },
    {
     "name": "stderr",
     "output_type": "stream",
     "text": [
      "INFO: queries: ['\"Barcelona\" AND \"violencia\" OR \"crimen\" OR \"inseguridad\" OR \"delincuencia\" OR \"agresion\" OR \"delito\" OR \"crim\" OR \"inseguretat\" OR \"delinqüència\" OR \"agressió\" OR \"delicte\" since:2017-09-29 until:2017-09-30', '\"Barcelona\" AND \"violencia\" OR \"crimen\" OR \"inseguridad\" OR \"delincuencia\" OR \"agresion\" OR \"delito\" OR \"crim\" OR \"inseguretat\" OR \"delinqüència\" OR \"agressió\" OR \"delicte\" since:2017-09-30 until:2017-10-01', '\"Barcelona\" AND \"violencia\" OR \"crimen\" OR \"inseguridad\" OR \"delincuencia\" OR \"agresion\" OR \"delito\" OR \"crim\" OR \"inseguretat\" OR \"delinqüència\" OR \"agressió\" OR \"delicte\" since:2017-10-01 until:2017-10-02', '\"Barcelona\" AND \"violencia\" OR \"crimen\" OR \"inseguridad\" OR \"delincuencia\" OR \"agresion\" OR \"delito\" OR \"crim\" OR \"inseguretat\" OR \"delinqüència\" OR \"agressió\" OR \"delicte\" since:2017-10-02 until:2017-10-03', '\"Barcelona\" AND \"violencia\" OR \"crimen\" OR \"inseguridad\" OR \"delincuencia\" OR \"agresion\" OR \"delito\" OR \"crim\" OR \"inseguretat\" OR \"delinqüència\" OR \"agressió\" OR \"delicte\" since:2017-10-03 until:2017-10-04', '\"Barcelona\" AND \"violencia\" OR \"crimen\" OR \"inseguridad\" OR \"delincuencia\" OR \"agresion\" OR \"delito\" OR \"crim\" OR \"inseguretat\" OR \"delinqüència\" OR \"agressió\" OR \"delicte\" since:2017-10-04 until:2017-10-05', '\"Barcelona\" AND \"violencia\" OR \"crimen\" OR \"inseguridad\" OR \"delincuencia\" OR \"agresion\" OR \"delito\" OR \"crim\" OR \"inseguretat\" OR \"delinqüència\" OR \"agressió\" OR \"delicte\" since:2017-10-05 until:2017-10-06']\n",
      "INFO: Got 53 tweets (53 new).\n",
      "INFO: Got 123 tweets (70 new).\n",
      "INFO: Got 215 tweets (92 new).\n",
      "INFO: Got 401 tweets (186 new).\n",
      "INFO: Got 903 tweets (502 new).\n",
      "INFO: Got 1495 tweets (592 new).\n",
      "INFO: Got 2166 tweets (671 new).\n"
     ]
    },
    {
     "name": "stdout",
     "output_type": "stream",
     "text": [
      "2166  were retrieved for 2017-09-29 to 2017-10-06\n"
     ]
    },
    {
     "name": "stderr",
     "output_type": "stream",
     "text": [
      "INFO: queries: ['\"Barcelona\" AND \"violencia\" OR \"crimen\" OR \"inseguridad\" OR \"delincuencia\" OR \"agresion\" OR \"delito\" OR \"crim\" OR \"inseguretat\" OR \"delinqüència\" OR \"agressió\" OR \"delicte\" since:2017-09-22 until:2017-09-23', '\"Barcelona\" AND \"violencia\" OR \"crimen\" OR \"inseguridad\" OR \"delincuencia\" OR \"agresion\" OR \"delito\" OR \"crim\" OR \"inseguretat\" OR \"delinqüència\" OR \"agressió\" OR \"delicte\" since:2017-09-23 until:2017-09-24', '\"Barcelona\" AND \"violencia\" OR \"crimen\" OR \"inseguridad\" OR \"delincuencia\" OR \"agresion\" OR \"delito\" OR \"crim\" OR \"inseguretat\" OR \"delinqüència\" OR \"agressió\" OR \"delicte\" since:2017-09-24 until:2017-09-25', '\"Barcelona\" AND \"violencia\" OR \"crimen\" OR \"inseguridad\" OR \"delincuencia\" OR \"agresion\" OR \"delito\" OR \"crim\" OR \"inseguretat\" OR \"delinqüència\" OR \"agressió\" OR \"delicte\" since:2017-09-25 until:2017-09-26', '\"Barcelona\" AND \"violencia\" OR \"crimen\" OR \"inseguridad\" OR \"delincuencia\" OR \"agresion\" OR \"delito\" OR \"crim\" OR \"inseguretat\" OR \"delinqüència\" OR \"agressió\" OR \"delicte\" since:2017-09-26 until:2017-09-27', '\"Barcelona\" AND \"violencia\" OR \"crimen\" OR \"inseguridad\" OR \"delincuencia\" OR \"agresion\" OR \"delito\" OR \"crim\" OR \"inseguretat\" OR \"delinqüència\" OR \"agressió\" OR \"delicte\" since:2017-09-27 until:2017-09-28', '\"Barcelona\" AND \"violencia\" OR \"crimen\" OR \"inseguridad\" OR \"delincuencia\" OR \"agresion\" OR \"delito\" OR \"crim\" OR \"inseguretat\" OR \"delinqüència\" OR \"agressió\" OR \"delicte\" since:2017-09-28 until:2017-09-29']\n",
      "INFO: Got 52 tweets (52 new).\n",
      "INFO: Got 130 tweets (78 new).\n",
      "INFO: Got 225 tweets (95 new).\n",
      "INFO: Got 335 tweets (110 new).\n",
      "INFO: Got 422 tweets (87 new).\n",
      "INFO: Got 586 tweets (164 new).\n",
      "INFO: Got 818 tweets (232 new).\n"
     ]
    },
    {
     "name": "stdout",
     "output_type": "stream",
     "text": [
      "818  were retrieved for 2017-09-22 to 2017-09-29\n"
     ]
    },
    {
     "name": "stderr",
     "output_type": "stream",
     "text": [
      "INFO: queries: ['\"Barcelona\" AND \"violencia\" OR \"crimen\" OR \"inseguridad\" OR \"delincuencia\" OR \"agresion\" OR \"delito\" OR \"crim\" OR \"inseguretat\" OR \"delinqüència\" OR \"agressió\" OR \"delicte\" since:2017-09-15 until:2017-09-16', '\"Barcelona\" AND \"violencia\" OR \"crimen\" OR \"inseguridad\" OR \"delincuencia\" OR \"agresion\" OR \"delito\" OR \"crim\" OR \"inseguretat\" OR \"delinqüència\" OR \"agressió\" OR \"delicte\" since:2017-09-16 until:2017-09-17', '\"Barcelona\" AND \"violencia\" OR \"crimen\" OR \"inseguridad\" OR \"delincuencia\" OR \"agresion\" OR \"delito\" OR \"crim\" OR \"inseguretat\" OR \"delinqüència\" OR \"agressió\" OR \"delicte\" since:2017-09-17 until:2017-09-18', '\"Barcelona\" AND \"violencia\" OR \"crimen\" OR \"inseguridad\" OR \"delincuencia\" OR \"agresion\" OR \"delito\" OR \"crim\" OR \"inseguretat\" OR \"delinqüència\" OR \"agressió\" OR \"delicte\" since:2017-09-18 until:2017-09-19', '\"Barcelona\" AND \"violencia\" OR \"crimen\" OR \"inseguridad\" OR \"delincuencia\" OR \"agresion\" OR \"delito\" OR \"crim\" OR \"inseguretat\" OR \"delinqüència\" OR \"agressió\" OR \"delicte\" since:2017-09-19 until:2017-09-20', '\"Barcelona\" AND \"violencia\" OR \"crimen\" OR \"inseguridad\" OR \"delincuencia\" OR \"agresion\" OR \"delito\" OR \"crim\" OR \"inseguretat\" OR \"delinqüència\" OR \"agressió\" OR \"delicte\" since:2017-09-20 until:2017-09-21', '\"Barcelona\" AND \"violencia\" OR \"crimen\" OR \"inseguridad\" OR \"delincuencia\" OR \"agresion\" OR \"delito\" OR \"crim\" OR \"inseguretat\" OR \"delinqüència\" OR \"agressió\" OR \"delicte\" since:2017-09-21 until:2017-09-22']\n",
      "INFO: Got 8 tweets (8 new).\n",
      "INFO: Got 28 tweets (20 new).\n",
      "INFO: Got 48 tweets (20 new).\n",
      "INFO: Got 70 tweets (22 new).\n",
      "INFO: Got 110 tweets (40 new).\n",
      "INFO: Got 176 tweets (66 new).\n",
      "INFO: Got 269 tweets (93 new).\n"
     ]
    },
    {
     "name": "stdout",
     "output_type": "stream",
     "text": [
      "269  were retrieved for 2017-09-15 to 2017-09-22\n"
     ]
    },
    {
     "name": "stderr",
     "output_type": "stream",
     "text": [
      "INFO: queries: ['\"Barcelona\" AND \"violencia\" OR \"crimen\" OR \"inseguridad\" OR \"delincuencia\" OR \"agresion\" OR \"delito\" OR \"crim\" OR \"inseguretat\" OR \"delinqüència\" OR \"agressió\" OR \"delicte\" since:2017-09-08 until:2017-09-09', '\"Barcelona\" AND \"violencia\" OR \"crimen\" OR \"inseguridad\" OR \"delincuencia\" OR \"agresion\" OR \"delito\" OR \"crim\" OR \"inseguretat\" OR \"delinqüència\" OR \"agressió\" OR \"delicte\" since:2017-09-09 until:2017-09-10', '\"Barcelona\" AND \"violencia\" OR \"crimen\" OR \"inseguridad\" OR \"delincuencia\" OR \"agresion\" OR \"delito\" OR \"crim\" OR \"inseguretat\" OR \"delinqüència\" OR \"agressió\" OR \"delicte\" since:2017-09-10 until:2017-09-11', '\"Barcelona\" AND \"violencia\" OR \"crimen\" OR \"inseguridad\" OR \"delincuencia\" OR \"agresion\" OR \"delito\" OR \"crim\" OR \"inseguretat\" OR \"delinqüència\" OR \"agressió\" OR \"delicte\" since:2017-09-11 until:2017-09-12', '\"Barcelona\" AND \"violencia\" OR \"crimen\" OR \"inseguridad\" OR \"delincuencia\" OR \"agresion\" OR \"delito\" OR \"crim\" OR \"inseguretat\" OR \"delinqüència\" OR \"agressió\" OR \"delicte\" since:2017-09-12 until:2017-09-13', '\"Barcelona\" AND \"violencia\" OR \"crimen\" OR \"inseguridad\" OR \"delincuencia\" OR \"agresion\" OR \"delito\" OR \"crim\" OR \"inseguretat\" OR \"delinqüència\" OR \"agressió\" OR \"delicte\" since:2017-09-13 until:2017-09-14', '\"Barcelona\" AND \"violencia\" OR \"crimen\" OR \"inseguridad\" OR \"delincuencia\" OR \"agresion\" OR \"delito\" OR \"crim\" OR \"inseguretat\" OR \"delinqüència\" OR \"agressió\" OR \"delicte\" since:2017-09-14 until:2017-09-15']\n",
      "INFO: Got 14 tweets (14 new).\n",
      "INFO: Got 36 tweets (22 new).\n",
      "INFO: Got 60 tweets (24 new).\n",
      "INFO: Got 90 tweets (30 new).\n",
      "INFO: Got 126 tweets (36 new).\n",
      "INFO: Got 190 tweets (64 new).\n",
      "INFO: Got 259 tweets (69 new).\n"
     ]
    },
    {
     "name": "stdout",
     "output_type": "stream",
     "text": [
      "259  were retrieved for 2017-09-08 to 2017-09-15\n"
     ]
    },
    {
     "name": "stderr",
     "output_type": "stream",
     "text": [
      "INFO: queries: ['\"Barcelona\" AND \"violencia\" OR \"crimen\" OR \"inseguridad\" OR \"delincuencia\" OR \"agresion\" OR \"delito\" OR \"crim\" OR \"inseguretat\" OR \"delinqüència\" OR \"agressió\" OR \"delicte\" since:2017-09-01 until:2017-09-02', '\"Barcelona\" AND \"violencia\" OR \"crimen\" OR \"inseguridad\" OR \"delincuencia\" OR \"agresion\" OR \"delito\" OR \"crim\" OR \"inseguretat\" OR \"delinqüència\" OR \"agressió\" OR \"delicte\" since:2017-09-02 until:2017-09-03', '\"Barcelona\" AND \"violencia\" OR \"crimen\" OR \"inseguridad\" OR \"delincuencia\" OR \"agresion\" OR \"delito\" OR \"crim\" OR \"inseguretat\" OR \"delinqüència\" OR \"agressió\" OR \"delicte\" since:2017-09-03 until:2017-09-04', '\"Barcelona\" AND \"violencia\" OR \"crimen\" OR \"inseguridad\" OR \"delincuencia\" OR \"agresion\" OR \"delito\" OR \"crim\" OR \"inseguretat\" OR \"delinqüència\" OR \"agressió\" OR \"delicte\" since:2017-09-04 until:2017-09-05', '\"Barcelona\" AND \"violencia\" OR \"crimen\" OR \"inseguridad\" OR \"delincuencia\" OR \"agresion\" OR \"delito\" OR \"crim\" OR \"inseguretat\" OR \"delinqüència\" OR \"agressió\" OR \"delicte\" since:2017-09-05 until:2017-09-06', '\"Barcelona\" AND \"violencia\" OR \"crimen\" OR \"inseguridad\" OR \"delincuencia\" OR \"agresion\" OR \"delito\" OR \"crim\" OR \"inseguretat\" OR \"delinqüència\" OR \"agressió\" OR \"delicte\" since:2017-09-06 until:2017-09-07', '\"Barcelona\" AND \"violencia\" OR \"crimen\" OR \"inseguridad\" OR \"delincuencia\" OR \"agresion\" OR \"delito\" OR \"crim\" OR \"inseguretat\" OR \"delinqüència\" OR \"agressió\" OR \"delicte\" since:2017-09-07 until:2017-09-08']\n",
      "INFO: Got 14 tweets (14 new).\n",
      "INFO: Got 28 tweets (14 new).\n",
      "INFO: Got 40 tweets (12 new).\n",
      "INFO: Got 54 tweets (14 new).\n",
      "INFO: Got 68 tweets (14 new).\n",
      "INFO: Got 90 tweets (22 new).\n",
      "INFO: Got 128 tweets (38 new).\n"
     ]
    },
    {
     "name": "stdout",
     "output_type": "stream",
     "text": [
      "128  were retrieved for 2017-09-01 to 2017-09-08\n"
     ]
    },
    {
     "name": "stderr",
     "output_type": "stream",
     "text": [
      "INFO: queries: ['\"Barcelona\" AND \"violencia\" OR \"crimen\" OR \"inseguridad\" OR \"delincuencia\" OR \"agresion\" OR \"delito\" OR \"crim\" OR \"inseguretat\" OR \"delinqüència\" OR \"agressió\" OR \"delicte\" since:2017-08-25 until:2017-08-26', '\"Barcelona\" AND \"violencia\" OR \"crimen\" OR \"inseguridad\" OR \"delincuencia\" OR \"agresion\" OR \"delito\" OR \"crim\" OR \"inseguretat\" OR \"delinqüència\" OR \"agressió\" OR \"delicte\" since:2017-08-26 until:2017-08-27', '\"Barcelona\" AND \"violencia\" OR \"crimen\" OR \"inseguridad\" OR \"delincuencia\" OR \"agresion\" OR \"delito\" OR \"crim\" OR \"inseguretat\" OR \"delinqüència\" OR \"agressió\" OR \"delicte\" since:2017-08-27 until:2017-08-28', '\"Barcelona\" AND \"violencia\" OR \"crimen\" OR \"inseguridad\" OR \"delincuencia\" OR \"agresion\" OR \"delito\" OR \"crim\" OR \"inseguretat\" OR \"delinqüència\" OR \"agressió\" OR \"delicte\" since:2017-08-28 until:2017-08-29', '\"Barcelona\" AND \"violencia\" OR \"crimen\" OR \"inseguridad\" OR \"delincuencia\" OR \"agresion\" OR \"delito\" OR \"crim\" OR \"inseguretat\" OR \"delinqüència\" OR \"agressió\" OR \"delicte\" since:2017-08-29 until:2017-08-30', '\"Barcelona\" AND \"violencia\" OR \"crimen\" OR \"inseguridad\" OR \"delincuencia\" OR \"agresion\" OR \"delito\" OR \"crim\" OR \"inseguretat\" OR \"delinqüència\" OR \"agressió\" OR \"delicte\" since:2017-08-30 until:2017-08-31', '\"Barcelona\" AND \"violencia\" OR \"crimen\" OR \"inseguridad\" OR \"delincuencia\" OR \"agresion\" OR \"delito\" OR \"crim\" OR \"inseguretat\" OR \"delinqüència\" OR \"agressió\" OR \"delicte\" since:2017-08-31 until:2017-09-01']\n",
      "INFO: Got 24 tweets (24 new).\n",
      "INFO: Got 54 tweets (30 new).\n",
      "INFO: Got 94 tweets (40 new).\n",
      "INFO: Got 134 tweets (40 new).\n",
      "INFO: Got 212 tweets (78 new).\n",
      "INFO: Got 298 tweets (86 new).\n",
      "INFO: Got 505 tweets (207 new).\n"
     ]
    },
    {
     "name": "stdout",
     "output_type": "stream",
     "text": [
      "505  were retrieved for 2017-08-25 to 2017-09-01\n"
     ]
    },
    {
     "name": "stderr",
     "output_type": "stream",
     "text": [
      "INFO: queries: ['\"Barcelona\" AND \"violencia\" OR \"crimen\" OR \"inseguridad\" OR \"delincuencia\" OR \"agresion\" OR \"delito\" OR \"crim\" OR \"inseguretat\" OR \"delinqüència\" OR \"agressió\" OR \"delicte\" since:2017-08-18 until:2017-08-19', '\"Barcelona\" AND \"violencia\" OR \"crimen\" OR \"inseguridad\" OR \"delincuencia\" OR \"agresion\" OR \"delito\" OR \"crim\" OR \"inseguretat\" OR \"delinqüència\" OR \"agressió\" OR \"delicte\" since:2017-08-19 until:2017-08-20', '\"Barcelona\" AND \"violencia\" OR \"crimen\" OR \"inseguridad\" OR \"delincuencia\" OR \"agresion\" OR \"delito\" OR \"crim\" OR \"inseguretat\" OR \"delinqüència\" OR \"agressió\" OR \"delicte\" since:2017-08-20 until:2017-08-21', '\"Barcelona\" AND \"violencia\" OR \"crimen\" OR \"inseguridad\" OR \"delincuencia\" OR \"agresion\" OR \"delito\" OR \"crim\" OR \"inseguretat\" OR \"delinqüència\" OR \"agressió\" OR \"delicte\" since:2017-08-21 until:2017-08-22', '\"Barcelona\" AND \"violencia\" OR \"crimen\" OR \"inseguridad\" OR \"delincuencia\" OR \"agresion\" OR \"delito\" OR \"crim\" OR \"inseguretat\" OR \"delinqüència\" OR \"agressió\" OR \"delicte\" since:2017-08-22 until:2017-08-23', '\"Barcelona\" AND \"violencia\" OR \"crimen\" OR \"inseguridad\" OR \"delincuencia\" OR \"agresion\" OR \"delito\" OR \"crim\" OR \"inseguretat\" OR \"delinqüència\" OR \"agressió\" OR \"delicte\" since:2017-08-23 until:2017-08-24', '\"Barcelona\" AND \"violencia\" OR \"crimen\" OR \"inseguridad\" OR \"delincuencia\" OR \"agresion\" OR \"delito\" OR \"crim\" OR \"inseguretat\" OR \"delinqüència\" OR \"agressió\" OR \"delicte\" since:2017-08-24 until:2017-08-25']\n",
      "INFO: Got 68 tweets (68 new).\n",
      "INFO: Got 131 tweets (63 new).\n",
      "INFO: Got 207 tweets (76 new).\n",
      "INFO: Got 297 tweets (90 new).\n",
      "INFO: Got 411 tweets (114 new).\n",
      "INFO: Got 647 tweets (236 new).\n",
      "INFO: Got 2052 tweets (1405 new).\n"
     ]
    },
    {
     "name": "stdout",
     "output_type": "stream",
     "text": [
      "2052  were retrieved for 2017-08-18 to 2017-08-25\n"
     ]
    },
    {
     "name": "stderr",
     "output_type": "stream",
     "text": [
      "INFO: queries: ['\"Barcelona\" AND \"violencia\" OR \"crimen\" OR \"inseguridad\" OR \"delincuencia\" OR \"agresion\" OR \"delito\" OR \"crim\" OR \"inseguretat\" OR \"delinqüència\" OR \"agressió\" OR \"delicte\" since:2017-08-11 until:2017-08-12', '\"Barcelona\" AND \"violencia\" OR \"crimen\" OR \"inseguridad\" OR \"delincuencia\" OR \"agresion\" OR \"delito\" OR \"crim\" OR \"inseguretat\" OR \"delinqüència\" OR \"agressió\" OR \"delicte\" since:2017-08-12 until:2017-08-13', '\"Barcelona\" AND \"violencia\" OR \"crimen\" OR \"inseguridad\" OR \"delincuencia\" OR \"agresion\" OR \"delito\" OR \"crim\" OR \"inseguretat\" OR \"delinqüència\" OR \"agressió\" OR \"delicte\" since:2017-08-13 until:2017-08-14', '\"Barcelona\" AND \"violencia\" OR \"crimen\" OR \"inseguridad\" OR \"delincuencia\" OR \"agresion\" OR \"delito\" OR \"crim\" OR \"inseguretat\" OR \"delinqüència\" OR \"agressió\" OR \"delicte\" since:2017-08-14 until:2017-08-15', '\"Barcelona\" AND \"violencia\" OR \"crimen\" OR \"inseguridad\" OR \"delincuencia\" OR \"agresion\" OR \"delito\" OR \"crim\" OR \"inseguretat\" OR \"delinqüència\" OR \"agressió\" OR \"delicte\" since:2017-08-15 until:2017-08-16', '\"Barcelona\" AND \"violencia\" OR \"crimen\" OR \"inseguridad\" OR \"delincuencia\" OR \"agresion\" OR \"delito\" OR \"crim\" OR \"inseguretat\" OR \"delinqüència\" OR \"agressió\" OR \"delicte\" since:2017-08-16 until:2017-08-17', '\"Barcelona\" AND \"violencia\" OR \"crimen\" OR \"inseguridad\" OR \"delincuencia\" OR \"agresion\" OR \"delito\" OR \"crim\" OR \"inseguretat\" OR \"delinqüència\" OR \"agressió\" OR \"delicte\" since:2017-08-17 until:2017-08-18']\n",
      "INFO: Got 18 tweets (18 new).\n",
      "INFO: Got 36 tweets (18 new).\n",
      "INFO: Got 66 tweets (30 new).\n",
      "INFO: Got 90 tweets (24 new).\n",
      "INFO: Got 114 tweets (24 new).\n",
      "INFO: Got 138 tweets (24 new).\n",
      "INFO: Got 2425 tweets (2287 new).\n"
     ]
    },
    {
     "name": "stdout",
     "output_type": "stream",
     "text": [
      "2425  were retrieved for 2017-08-11 to 2017-08-18\n"
     ]
    },
    {
     "name": "stderr",
     "output_type": "stream",
     "text": [
      "INFO: queries: ['\"Barcelona\" AND \"violencia\" OR \"crimen\" OR \"inseguridad\" OR \"delincuencia\" OR \"agresion\" OR \"delito\" OR \"crim\" OR \"inseguretat\" OR \"delinqüència\" OR \"agressió\" OR \"delicte\" since:2017-08-04 until:2017-08-05', '\"Barcelona\" AND \"violencia\" OR \"crimen\" OR \"inseguridad\" OR \"delincuencia\" OR \"agresion\" OR \"delito\" OR \"crim\" OR \"inseguretat\" OR \"delinqüència\" OR \"agressió\" OR \"delicte\" since:2017-08-05 until:2017-08-06', '\"Barcelona\" AND \"violencia\" OR \"crimen\" OR \"inseguridad\" OR \"delincuencia\" OR \"agresion\" OR \"delito\" OR \"crim\" OR \"inseguretat\" OR \"delinqüència\" OR \"agressió\" OR \"delicte\" since:2017-08-06 until:2017-08-07', '\"Barcelona\" AND \"violencia\" OR \"crimen\" OR \"inseguridad\" OR \"delincuencia\" OR \"agresion\" OR \"delito\" OR \"crim\" OR \"inseguretat\" OR \"delinqüència\" OR \"agressió\" OR \"delicte\" since:2017-08-07 until:2017-08-08', '\"Barcelona\" AND \"violencia\" OR \"crimen\" OR \"inseguridad\" OR \"delincuencia\" OR \"agresion\" OR \"delito\" OR \"crim\" OR \"inseguretat\" OR \"delinqüència\" OR \"agressió\" OR \"delicte\" since:2017-08-08 until:2017-08-09', '\"Barcelona\" AND \"violencia\" OR \"crimen\" OR \"inseguridad\" OR \"delincuencia\" OR \"agresion\" OR \"delito\" OR \"crim\" OR \"inseguretat\" OR \"delinqüència\" OR \"agressió\" OR \"delicte\" since:2017-08-09 until:2017-08-10', '\"Barcelona\" AND \"violencia\" OR \"crimen\" OR \"inseguridad\" OR \"delincuencia\" OR \"agresion\" OR \"delito\" OR \"crim\" OR \"inseguretat\" OR \"delinqüència\" OR \"agressió\" OR \"delicte\" since:2017-08-10 until:2017-08-11']\n",
      "INFO: Got 6 tweets (6 new).\n",
      "INFO: Got 26 tweets (20 new).\n",
      "INFO: Got 46 tweets (20 new).\n",
      "INFO: Got 82 tweets (36 new).\n",
      "INFO: Got 104 tweets (22 new).\n",
      "INFO: Got 128 tweets (24 new).\n",
      "INFO: Got 169 tweets (41 new).\n"
     ]
    },
    {
     "name": "stdout",
     "output_type": "stream",
     "text": [
      "169  were retrieved for 2017-08-04 to 2017-08-11\n"
     ]
    },
    {
     "name": "stderr",
     "output_type": "stream",
     "text": [
      "INFO: queries: ['\"Barcelona\" AND \"violencia\" OR \"crimen\" OR \"inseguridad\" OR \"delincuencia\" OR \"agresion\" OR \"delito\" OR \"crim\" OR \"inseguretat\" OR \"delinqüència\" OR \"agressió\" OR \"delicte\" since:2017-07-28 until:2017-07-29', '\"Barcelona\" AND \"violencia\" OR \"crimen\" OR \"inseguridad\" OR \"delincuencia\" OR \"agresion\" OR \"delito\" OR \"crim\" OR \"inseguretat\" OR \"delinqüència\" OR \"agressió\" OR \"delicte\" since:2017-07-29 until:2017-07-30', '\"Barcelona\" AND \"violencia\" OR \"crimen\" OR \"inseguridad\" OR \"delincuencia\" OR \"agresion\" OR \"delito\" OR \"crim\" OR \"inseguretat\" OR \"delinqüència\" OR \"agressió\" OR \"delicte\" since:2017-07-30 until:2017-07-31', '\"Barcelona\" AND \"violencia\" OR \"crimen\" OR \"inseguridad\" OR \"delincuencia\" OR \"agresion\" OR \"delito\" OR \"crim\" OR \"inseguretat\" OR \"delinqüència\" OR \"agressió\" OR \"delicte\" since:2017-07-31 until:2017-08-01', '\"Barcelona\" AND \"violencia\" OR \"crimen\" OR \"inseguridad\" OR \"delincuencia\" OR \"agresion\" OR \"delito\" OR \"crim\" OR \"inseguretat\" OR \"delinqüència\" OR \"agressió\" OR \"delicte\" since:2017-08-01 until:2017-08-02', '\"Barcelona\" AND \"violencia\" OR \"crimen\" OR \"inseguridad\" OR \"delincuencia\" OR \"agresion\" OR \"delito\" OR \"crim\" OR \"inseguretat\" OR \"delinqüència\" OR \"agressió\" OR \"delicte\" since:2017-08-02 until:2017-08-03', '\"Barcelona\" AND \"violencia\" OR \"crimen\" OR \"inseguridad\" OR \"delincuencia\" OR \"agresion\" OR \"delito\" OR \"crim\" OR \"inseguretat\" OR \"delinqüència\" OR \"agressió\" OR \"delicte\" since:2017-08-03 until:2017-08-04']\n",
      "INFO: Got 14 tweets (14 new).\n",
      "INFO: Got 52 tweets (38 new).\n",
      "INFO: Got 74 tweets (22 new).\n",
      "INFO: Got 106 tweets (32 new).\n",
      "INFO: Got 149 tweets (43 new).\n",
      "INFO: Got 193 tweets (44 new).\n",
      "INFO: Got 234 tweets (41 new).\n"
     ]
    },
    {
     "name": "stdout",
     "output_type": "stream",
     "text": [
      "234  were retrieved for 2017-07-28 to 2017-08-04\n"
     ]
    },
    {
     "name": "stderr",
     "output_type": "stream",
     "text": [
      "INFO: queries: ['\"Barcelona\" AND \"violencia\" OR \"crimen\" OR \"inseguridad\" OR \"delincuencia\" OR \"agresion\" OR \"delito\" OR \"crim\" OR \"inseguretat\" OR \"delinqüència\" OR \"agressió\" OR \"delicte\" since:2017-07-21 until:2017-07-22', '\"Barcelona\" AND \"violencia\" OR \"crimen\" OR \"inseguridad\" OR \"delincuencia\" OR \"agresion\" OR \"delito\" OR \"crim\" OR \"inseguretat\" OR \"delinqüència\" OR \"agressió\" OR \"delicte\" since:2017-07-22 until:2017-07-23', '\"Barcelona\" AND \"violencia\" OR \"crimen\" OR \"inseguridad\" OR \"delincuencia\" OR \"agresion\" OR \"delito\" OR \"crim\" OR \"inseguretat\" OR \"delinqüència\" OR \"agressió\" OR \"delicte\" since:2017-07-23 until:2017-07-24', '\"Barcelona\" AND \"violencia\" OR \"crimen\" OR \"inseguridad\" OR \"delincuencia\" OR \"agresion\" OR \"delito\" OR \"crim\" OR \"inseguretat\" OR \"delinqüència\" OR \"agressió\" OR \"delicte\" since:2017-07-24 until:2017-07-25', '\"Barcelona\" AND \"violencia\" OR \"crimen\" OR \"inseguridad\" OR \"delincuencia\" OR \"agresion\" OR \"delito\" OR \"crim\" OR \"inseguretat\" OR \"delinqüència\" OR \"agressió\" OR \"delicte\" since:2017-07-25 until:2017-07-26', '\"Barcelona\" AND \"violencia\" OR \"crimen\" OR \"inseguridad\" OR \"delincuencia\" OR \"agresion\" OR \"delito\" OR \"crim\" OR \"inseguretat\" OR \"delinqüència\" OR \"agressió\" OR \"delicte\" since:2017-07-26 until:2017-07-27', '\"Barcelona\" AND \"violencia\" OR \"crimen\" OR \"inseguridad\" OR \"delincuencia\" OR \"agresion\" OR \"delito\" OR \"crim\" OR \"inseguretat\" OR \"delinqüència\" OR \"agressió\" OR \"delicte\" since:2017-07-27 until:2017-07-28']\n",
      "INFO: Got 12 tweets (12 new).\n",
      "INFO: Got 24 tweets (12 new).\n",
      "INFO: Got 50 tweets (26 new).\n",
      "INFO: Got 68 tweets (18 new).\n",
      "INFO: Got 78 tweets (10 new).\n",
      "INFO: Got 96 tweets (18 new).\n",
      "INFO: Got 118 tweets (22 new).\n"
     ]
    },
    {
     "name": "stdout",
     "output_type": "stream",
     "text": [
      "118  were retrieved for 2017-07-21 to 2017-07-28\n"
     ]
    },
    {
     "name": "stderr",
     "output_type": "stream",
     "text": [
      "INFO: queries: ['\"Barcelona\" AND \"violencia\" OR \"crimen\" OR \"inseguridad\" OR \"delincuencia\" OR \"agresion\" OR \"delito\" OR \"crim\" OR \"inseguretat\" OR \"delinqüència\" OR \"agressió\" OR \"delicte\" since:2017-07-14 until:2017-07-15', '\"Barcelona\" AND \"violencia\" OR \"crimen\" OR \"inseguridad\" OR \"delincuencia\" OR \"agresion\" OR \"delito\" OR \"crim\" OR \"inseguretat\" OR \"delinqüència\" OR \"agressió\" OR \"delicte\" since:2017-07-15 until:2017-07-16', '\"Barcelona\" AND \"violencia\" OR \"crimen\" OR \"inseguridad\" OR \"delincuencia\" OR \"agresion\" OR \"delito\" OR \"crim\" OR \"inseguretat\" OR \"delinqüència\" OR \"agressió\" OR \"delicte\" since:2017-07-16 until:2017-07-17', '\"Barcelona\" AND \"violencia\" OR \"crimen\" OR \"inseguridad\" OR \"delincuencia\" OR \"agresion\" OR \"delito\" OR \"crim\" OR \"inseguretat\" OR \"delinqüència\" OR \"agressió\" OR \"delicte\" since:2017-07-17 until:2017-07-18', '\"Barcelona\" AND \"violencia\" OR \"crimen\" OR \"inseguridad\" OR \"delincuencia\" OR \"agresion\" OR \"delito\" OR \"crim\" OR \"inseguretat\" OR \"delinqüència\" OR \"agressió\" OR \"delicte\" since:2017-07-18 until:2017-07-19', '\"Barcelona\" AND \"violencia\" OR \"crimen\" OR \"inseguridad\" OR \"delincuencia\" OR \"agresion\" OR \"delito\" OR \"crim\" OR \"inseguretat\" OR \"delinqüència\" OR \"agressió\" OR \"delicte\" since:2017-07-19 until:2017-07-20', '\"Barcelona\" AND \"violencia\" OR \"crimen\" OR \"inseguridad\" OR \"delincuencia\" OR \"agresion\" OR \"delito\" OR \"crim\" OR \"inseguretat\" OR \"delinqüència\" OR \"agressió\" OR \"delicte\" since:2017-07-20 until:2017-07-21']\n",
      "INFO: Got 8 tweets (8 new).\n",
      "INFO: Got 16 tweets (8 new).\n",
      "INFO: Got 30 tweets (14 new).\n",
      "INFO: Got 42 tweets (12 new).\n",
      "INFO: Got 56 tweets (14 new).\n",
      "INFO: Got 68 tweets (12 new).\n",
      "INFO: Got 74 tweets (6 new).\n"
     ]
    },
    {
     "name": "stdout",
     "output_type": "stream",
     "text": [
      "74  were retrieved for 2017-07-14 to 2017-07-21\n"
     ]
    },
    {
     "name": "stderr",
     "output_type": "stream",
     "text": [
      "INFO: queries: ['\"Barcelona\" AND \"violencia\" OR \"crimen\" OR \"inseguridad\" OR \"delincuencia\" OR \"agresion\" OR \"delito\" OR \"crim\" OR \"inseguretat\" OR \"delinqüència\" OR \"agressió\" OR \"delicte\" since:2017-07-07 until:2017-07-08', '\"Barcelona\" AND \"violencia\" OR \"crimen\" OR \"inseguridad\" OR \"delincuencia\" OR \"agresion\" OR \"delito\" OR \"crim\" OR \"inseguretat\" OR \"delinqüència\" OR \"agressió\" OR \"delicte\" since:2017-07-08 until:2017-07-09', '\"Barcelona\" AND \"violencia\" OR \"crimen\" OR \"inseguridad\" OR \"delincuencia\" OR \"agresion\" OR \"delito\" OR \"crim\" OR \"inseguretat\" OR \"delinqüència\" OR \"agressió\" OR \"delicte\" since:2017-07-09 until:2017-07-10', '\"Barcelona\" AND \"violencia\" OR \"crimen\" OR \"inseguridad\" OR \"delincuencia\" OR \"agresion\" OR \"delito\" OR \"crim\" OR \"inseguretat\" OR \"delinqüència\" OR \"agressió\" OR \"delicte\" since:2017-07-10 until:2017-07-11', '\"Barcelona\" AND \"violencia\" OR \"crimen\" OR \"inseguridad\" OR \"delincuencia\" OR \"agresion\" OR \"delito\" OR \"crim\" OR \"inseguretat\" OR \"delinqüència\" OR \"agressió\" OR \"delicte\" since:2017-07-11 until:2017-07-12', '\"Barcelona\" AND \"violencia\" OR \"crimen\" OR \"inseguridad\" OR \"delincuencia\" OR \"agresion\" OR \"delito\" OR \"crim\" OR \"inseguretat\" OR \"delinqüència\" OR \"agressió\" OR \"delicte\" since:2017-07-12 until:2017-07-13', '\"Barcelona\" AND \"violencia\" OR \"crimen\" OR \"inseguridad\" OR \"delincuencia\" OR \"agresion\" OR \"delito\" OR \"crim\" OR \"inseguretat\" OR \"delinqüència\" OR \"agressió\" OR \"delicte\" since:2017-07-13 until:2017-07-14']\n",
      "INFO: Got 2 tweets (2 new).\n",
      "INFO: Got 10 tweets (8 new).\n",
      "INFO: Got 30 tweets (20 new).\n",
      "INFO: Got 38 tweets (8 new).\n",
      "INFO: Got 52 tweets (14 new).\n",
      "INFO: Got 74 tweets (22 new).\n",
      "INFO: Got 98 tweets (24 new).\n"
     ]
    },
    {
     "name": "stdout",
     "output_type": "stream",
     "text": [
      "98  were retrieved for 2017-07-07 to 2017-07-14\n"
     ]
    },
    {
     "name": "stderr",
     "output_type": "stream",
     "text": [
      "INFO: queries: ['\"Barcelona\" AND \"violencia\" OR \"crimen\" OR \"inseguridad\" OR \"delincuencia\" OR \"agresion\" OR \"delito\" OR \"crim\" OR \"inseguretat\" OR \"delinqüència\" OR \"agressió\" OR \"delicte\" since:2017-06-30 until:2017-07-01', '\"Barcelona\" AND \"violencia\" OR \"crimen\" OR \"inseguridad\" OR \"delincuencia\" OR \"agresion\" OR \"delito\" OR \"crim\" OR \"inseguretat\" OR \"delinqüència\" OR \"agressió\" OR \"delicte\" since:2017-07-01 until:2017-07-02', '\"Barcelona\" AND \"violencia\" OR \"crimen\" OR \"inseguridad\" OR \"delincuencia\" OR \"agresion\" OR \"delito\" OR \"crim\" OR \"inseguretat\" OR \"delinqüència\" OR \"agressió\" OR \"delicte\" since:2017-07-02 until:2017-07-03', '\"Barcelona\" AND \"violencia\" OR \"crimen\" OR \"inseguridad\" OR \"delincuencia\" OR \"agresion\" OR \"delito\" OR \"crim\" OR \"inseguretat\" OR \"delinqüència\" OR \"agressió\" OR \"delicte\" since:2017-07-03 until:2017-07-04', '\"Barcelona\" AND \"violencia\" OR \"crimen\" OR \"inseguridad\" OR \"delincuencia\" OR \"agresion\" OR \"delito\" OR \"crim\" OR \"inseguretat\" OR \"delinqüència\" OR \"agressió\" OR \"delicte\" since:2017-07-04 until:2017-07-05', '\"Barcelona\" AND \"violencia\" OR \"crimen\" OR \"inseguridad\" OR \"delincuencia\" OR \"agresion\" OR \"delito\" OR \"crim\" OR \"inseguretat\" OR \"delinqüència\" OR \"agressió\" OR \"delicte\" since:2017-07-05 until:2017-07-06', '\"Barcelona\" AND \"violencia\" OR \"crimen\" OR \"inseguridad\" OR \"delincuencia\" OR \"agresion\" OR \"delito\" OR \"crim\" OR \"inseguretat\" OR \"delinqüència\" OR \"agressió\" OR \"delicte\" since:2017-07-06 until:2017-07-07']\n",
      "INFO: Got 22 tweets (22 new).\n",
      "INFO: Got 58 tweets (36 new).\n",
      "INFO: Got 86 tweets (28 new).\n",
      "INFO: Got 129 tweets (43 new).\n",
      "INFO: Got 172 tweets (43 new).\n",
      "INFO: Got 225 tweets (53 new).\n",
      "INFO: Got 292 tweets (67 new).\n"
     ]
    },
    {
     "name": "stdout",
     "output_type": "stream",
     "text": [
      "292  were retrieved for 2017-06-30 to 2017-07-07\n"
     ]
    },
    {
     "name": "stderr",
     "output_type": "stream",
     "text": [
      "INFO: queries: ['\"Barcelona\" AND \"violencia\" OR \"crimen\" OR \"inseguridad\" OR \"delincuencia\" OR \"agresion\" OR \"delito\" OR \"crim\" OR \"inseguretat\" OR \"delinqüència\" OR \"agressió\" OR \"delicte\" since:2017-06-23 until:2017-06-24', '\"Barcelona\" AND \"violencia\" OR \"crimen\" OR \"inseguridad\" OR \"delincuencia\" OR \"agresion\" OR \"delito\" OR \"crim\" OR \"inseguretat\" OR \"delinqüència\" OR \"agressió\" OR \"delicte\" since:2017-06-24 until:2017-06-25', '\"Barcelona\" AND \"violencia\" OR \"crimen\" OR \"inseguridad\" OR \"delincuencia\" OR \"agresion\" OR \"delito\" OR \"crim\" OR \"inseguretat\" OR \"delinqüència\" OR \"agressió\" OR \"delicte\" since:2017-06-25 until:2017-06-26', '\"Barcelona\" AND \"violencia\" OR \"crimen\" OR \"inseguridad\" OR \"delincuencia\" OR \"agresion\" OR \"delito\" OR \"crim\" OR \"inseguretat\" OR \"delinqüència\" OR \"agressió\" OR \"delicte\" since:2017-06-26 until:2017-06-27', '\"Barcelona\" AND \"violencia\" OR \"crimen\" OR \"inseguridad\" OR \"delincuencia\" OR \"agresion\" OR \"delito\" OR \"crim\" OR \"inseguretat\" OR \"delinqüència\" OR \"agressió\" OR \"delicte\" since:2017-06-27 until:2017-06-28', '\"Barcelona\" AND \"violencia\" OR \"crimen\" OR \"inseguridad\" OR \"delincuencia\" OR \"agresion\" OR \"delito\" OR \"crim\" OR \"inseguretat\" OR \"delinqüència\" OR \"agressió\" OR \"delicte\" since:2017-06-28 until:2017-06-29', '\"Barcelona\" AND \"violencia\" OR \"crimen\" OR \"inseguridad\" OR \"delincuencia\" OR \"agresion\" OR \"delito\" OR \"crim\" OR \"inseguretat\" OR \"delinqüència\" OR \"agressió\" OR \"delicte\" since:2017-06-29 until:2017-06-30']\n",
      "INFO: Got 30 tweets (30 new).\n",
      "INFO: Got 42 tweets (12 new).\n",
      "INFO: Got 74 tweets (32 new).\n",
      "INFO: Got 127 tweets (53 new).\n",
      "INFO: Got 176 tweets (49 new).\n",
      "INFO: Got 238 tweets (62 new).\n",
      "INFO: Got 321 tweets (83 new).\n"
     ]
    },
    {
     "name": "stdout",
     "output_type": "stream",
     "text": [
      "321  were retrieved for 2017-06-23 to 2017-06-30\n"
     ]
    },
    {
     "name": "stderr",
     "output_type": "stream",
     "text": [
      "INFO: queries: ['\"Barcelona\" AND \"violencia\" OR \"crimen\" OR \"inseguridad\" OR \"delincuencia\" OR \"agresion\" OR \"delito\" OR \"crim\" OR \"inseguretat\" OR \"delinqüència\" OR \"agressió\" OR \"delicte\" since:2017-06-16 until:2017-06-17', '\"Barcelona\" AND \"violencia\" OR \"crimen\" OR \"inseguridad\" OR \"delincuencia\" OR \"agresion\" OR \"delito\" OR \"crim\" OR \"inseguretat\" OR \"delinqüència\" OR \"agressió\" OR \"delicte\" since:2017-06-17 until:2017-06-18', '\"Barcelona\" AND \"violencia\" OR \"crimen\" OR \"inseguridad\" OR \"delincuencia\" OR \"agresion\" OR \"delito\" OR \"crim\" OR \"inseguretat\" OR \"delinqüència\" OR \"agressió\" OR \"delicte\" since:2017-06-18 until:2017-06-19', '\"Barcelona\" AND \"violencia\" OR \"crimen\" OR \"inseguridad\" OR \"delincuencia\" OR \"agresion\" OR \"delito\" OR \"crim\" OR \"inseguretat\" OR \"delinqüència\" OR \"agressió\" OR \"delicte\" since:2017-06-19 until:2017-06-20', '\"Barcelona\" AND \"violencia\" OR \"crimen\" OR \"inseguridad\" OR \"delincuencia\" OR \"agresion\" OR \"delito\" OR \"crim\" OR \"inseguretat\" OR \"delinqüència\" OR \"agressió\" OR \"delicte\" since:2017-06-20 until:2017-06-21', '\"Barcelona\" AND \"violencia\" OR \"crimen\" OR \"inseguridad\" OR \"delincuencia\" OR \"agresion\" OR \"delito\" OR \"crim\" OR \"inseguretat\" OR \"delinqüència\" OR \"agressió\" OR \"delicte\" since:2017-06-21 until:2017-06-22', '\"Barcelona\" AND \"violencia\" OR \"crimen\" OR \"inseguridad\" OR \"delincuencia\" OR \"agresion\" OR \"delito\" OR \"crim\" OR \"inseguretat\" OR \"delinqüència\" OR \"agressió\" OR \"delicte\" since:2017-06-22 until:2017-06-23']\n",
      "INFO: Got 6 tweets (6 new).\n",
      "INFO: Got 24 tweets (18 new).\n",
      "INFO: Got 60 tweets (36 new).\n",
      "INFO: Got 111 tweets (51 new).\n",
      "INFO: Got 161 tweets (50 new).\n",
      "INFO: Got 205 tweets (44 new).\n",
      "INFO: Got 262 tweets (57 new).\n"
     ]
    },
    {
     "name": "stdout",
     "output_type": "stream",
     "text": [
      "262  were retrieved for 2017-06-16 to 2017-06-23\n"
     ]
    },
    {
     "name": "stderr",
     "output_type": "stream",
     "text": [
      "INFO: queries: ['\"Barcelona\" AND \"violencia\" OR \"crimen\" OR \"inseguridad\" OR \"delincuencia\" OR \"agresion\" OR \"delito\" OR \"crim\" OR \"inseguretat\" OR \"delinqüència\" OR \"agressió\" OR \"delicte\" since:2017-06-09 until:2017-06-10', '\"Barcelona\" AND \"violencia\" OR \"crimen\" OR \"inseguridad\" OR \"delincuencia\" OR \"agresion\" OR \"delito\" OR \"crim\" OR \"inseguretat\" OR \"delinqüència\" OR \"agressió\" OR \"delicte\" since:2017-06-10 until:2017-06-11', '\"Barcelona\" AND \"violencia\" OR \"crimen\" OR \"inseguridad\" OR \"delincuencia\" OR \"agresion\" OR \"delito\" OR \"crim\" OR \"inseguretat\" OR \"delinqüència\" OR \"agressió\" OR \"delicte\" since:2017-06-11 until:2017-06-12', '\"Barcelona\" AND \"violencia\" OR \"crimen\" OR \"inseguridad\" OR \"delincuencia\" OR \"agresion\" OR \"delito\" OR \"crim\" OR \"inseguretat\" OR \"delinqüència\" OR \"agressió\" OR \"delicte\" since:2017-06-12 until:2017-06-13', '\"Barcelona\" AND \"violencia\" OR \"crimen\" OR \"inseguridad\" OR \"delincuencia\" OR \"agresion\" OR \"delito\" OR \"crim\" OR \"inseguretat\" OR \"delinqüència\" OR \"agressió\" OR \"delicte\" since:2017-06-13 until:2017-06-14', '\"Barcelona\" AND \"violencia\" OR \"crimen\" OR \"inseguridad\" OR \"delincuencia\" OR \"agresion\" OR \"delito\" OR \"crim\" OR \"inseguretat\" OR \"delinqüència\" OR \"agressió\" OR \"delicte\" since:2017-06-14 until:2017-06-15', '\"Barcelona\" AND \"violencia\" OR \"crimen\" OR \"inseguridad\" OR \"delincuencia\" OR \"agresion\" OR \"delito\" OR \"crim\" OR \"inseguretat\" OR \"delinqüència\" OR \"agressió\" OR \"delicte\" since:2017-06-15 until:2017-06-16']\n",
      "INFO: Got 10 tweets (10 new).\n",
      "INFO: Got 24 tweets (14 new).\n",
      "INFO: Got 42 tweets (18 new).\n",
      "INFO: Got 78 tweets (36 new).\n",
      "INFO: Got 137 tweets (59 new).\n",
      "INFO: Got 233 tweets (96 new).\n",
      "INFO: Got 353 tweets (120 new).\n"
     ]
    },
    {
     "name": "stdout",
     "output_type": "stream",
     "text": [
      "353  were retrieved for 2017-06-09 to 2017-06-16\n"
     ]
    },
    {
     "name": "stderr",
     "output_type": "stream",
     "text": [
      "INFO: queries: ['\"Barcelona\" AND \"violencia\" OR \"crimen\" OR \"inseguridad\" OR \"delincuencia\" OR \"agresion\" OR \"delito\" OR \"crim\" OR \"inseguretat\" OR \"delinqüència\" OR \"agressió\" OR \"delicte\" since:2017-06-02 until:2017-06-03', '\"Barcelona\" AND \"violencia\" OR \"crimen\" OR \"inseguridad\" OR \"delincuencia\" OR \"agresion\" OR \"delito\" OR \"crim\" OR \"inseguretat\" OR \"delinqüència\" OR \"agressió\" OR \"delicte\" since:2017-06-03 until:2017-06-04', '\"Barcelona\" AND \"violencia\" OR \"crimen\" OR \"inseguridad\" OR \"delincuencia\" OR \"agresion\" OR \"delito\" OR \"crim\" OR \"inseguretat\" OR \"delinqüència\" OR \"agressió\" OR \"delicte\" since:2017-06-04 until:2017-06-05', '\"Barcelona\" AND \"violencia\" OR \"crimen\" OR \"inseguridad\" OR \"delincuencia\" OR \"agresion\" OR \"delito\" OR \"crim\" OR \"inseguretat\" OR \"delinqüència\" OR \"agressió\" OR \"delicte\" since:2017-06-05 until:2017-06-06', '\"Barcelona\" AND \"violencia\" OR \"crimen\" OR \"inseguridad\" OR \"delincuencia\" OR \"agresion\" OR \"delito\" OR \"crim\" OR \"inseguretat\" OR \"delinqüència\" OR \"agressió\" OR \"delicte\" since:2017-06-06 until:2017-06-07', '\"Barcelona\" AND \"violencia\" OR \"crimen\" OR \"inseguridad\" OR \"delincuencia\" OR \"agresion\" OR \"delito\" OR \"crim\" OR \"inseguretat\" OR \"delinqüència\" OR \"agressió\" OR \"delicte\" since:2017-06-07 until:2017-06-08', '\"Barcelona\" AND \"violencia\" OR \"crimen\" OR \"inseguridad\" OR \"delincuencia\" OR \"agresion\" OR \"delito\" OR \"crim\" OR \"inseguretat\" OR \"delinqüència\" OR \"agressió\" OR \"delicte\" since:2017-06-08 until:2017-06-09']\n",
      "INFO: Got 18 tweets (18 new).\n",
      "INFO: Got 30 tweets (12 new).\n",
      "INFO: Got 42 tweets (12 new).\n",
      "INFO: Got 56 tweets (14 new).\n",
      "INFO: Got 78 tweets (22 new).\n",
      "INFO: Got 98 tweets (20 new).\n",
      "INFO: Got 148 tweets (50 new).\n"
     ]
    },
    {
     "name": "stdout",
     "output_type": "stream",
     "text": [
      "148  were retrieved for 2017-06-02 to 2017-06-09\n"
     ]
    },
    {
     "name": "stderr",
     "output_type": "stream",
     "text": [
      "INFO: queries: ['\"Barcelona\" AND \"violencia\" OR \"crimen\" OR \"inseguridad\" OR \"delincuencia\" OR \"agresion\" OR \"delito\" OR \"crim\" OR \"inseguretat\" OR \"delinqüència\" OR \"agressió\" OR \"delicte\" since:2017-05-26 until:2017-05-27', '\"Barcelona\" AND \"violencia\" OR \"crimen\" OR \"inseguridad\" OR \"delincuencia\" OR \"agresion\" OR \"delito\" OR \"crim\" OR \"inseguretat\" OR \"delinqüència\" OR \"agressió\" OR \"delicte\" since:2017-05-27 until:2017-05-28', '\"Barcelona\" AND \"violencia\" OR \"crimen\" OR \"inseguridad\" OR \"delincuencia\" OR \"agresion\" OR \"delito\" OR \"crim\" OR \"inseguretat\" OR \"delinqüència\" OR \"agressió\" OR \"delicte\" since:2017-05-28 until:2017-05-29', '\"Barcelona\" AND \"violencia\" OR \"crimen\" OR \"inseguridad\" OR \"delincuencia\" OR \"agresion\" OR \"delito\" OR \"crim\" OR \"inseguretat\" OR \"delinqüència\" OR \"agressió\" OR \"delicte\" since:2017-05-29 until:2017-05-30', '\"Barcelona\" AND \"violencia\" OR \"crimen\" OR \"inseguridad\" OR \"delincuencia\" OR \"agresion\" OR \"delito\" OR \"crim\" OR \"inseguretat\" OR \"delinqüència\" OR \"agressió\" OR \"delicte\" since:2017-05-30 until:2017-05-31', '\"Barcelona\" AND \"violencia\" OR \"crimen\" OR \"inseguridad\" OR \"delincuencia\" OR \"agresion\" OR \"delito\" OR \"crim\" OR \"inseguretat\" OR \"delinqüència\" OR \"agressió\" OR \"delicte\" since:2017-05-31 until:2017-06-01', '\"Barcelona\" AND \"violencia\" OR \"crimen\" OR \"inseguridad\" OR \"delincuencia\" OR \"agresion\" OR \"delito\" OR \"crim\" OR \"inseguretat\" OR \"delinqüència\" OR \"agressió\" OR \"delicte\" since:2017-06-01 until:2017-06-02']\n",
      "INFO: Got 6 tweets (6 new).\n",
      "INFO: Got 22 tweets (16 new).\n",
      "INFO: Got 42 tweets (20 new).\n",
      "INFO: Got 70 tweets (28 new).\n",
      "INFO: Got 96 tweets (26 new).\n",
      "INFO: Got 134 tweets (38 new).\n",
      "INFO: Got 150 tweets (16 new).\n"
     ]
    },
    {
     "name": "stdout",
     "output_type": "stream",
     "text": [
      "150  were retrieved for 2017-05-26 to 2017-06-02\n"
     ]
    },
    {
     "name": "stderr",
     "output_type": "stream",
     "text": [
      "INFO: queries: ['\"Barcelona\" AND \"violencia\" OR \"crimen\" OR \"inseguridad\" OR \"delincuencia\" OR \"agresion\" OR \"delito\" OR \"crim\" OR \"inseguretat\" OR \"delinqüència\" OR \"agressió\" OR \"delicte\" since:2017-05-19 until:2017-05-20', '\"Barcelona\" AND \"violencia\" OR \"crimen\" OR \"inseguridad\" OR \"delincuencia\" OR \"agresion\" OR \"delito\" OR \"crim\" OR \"inseguretat\" OR \"delinqüència\" OR \"agressió\" OR \"delicte\" since:2017-05-20 until:2017-05-21', '\"Barcelona\" AND \"violencia\" OR \"crimen\" OR \"inseguridad\" OR \"delincuencia\" OR \"agresion\" OR \"delito\" OR \"crim\" OR \"inseguretat\" OR \"delinqüència\" OR \"agressió\" OR \"delicte\" since:2017-05-21 until:2017-05-22', '\"Barcelona\" AND \"violencia\" OR \"crimen\" OR \"inseguridad\" OR \"delincuencia\" OR \"agresion\" OR \"delito\" OR \"crim\" OR \"inseguretat\" OR \"delinqüència\" OR \"agressió\" OR \"delicte\" since:2017-05-22 until:2017-05-23', '\"Barcelona\" AND \"violencia\" OR \"crimen\" OR \"inseguridad\" OR \"delincuencia\" OR \"agresion\" OR \"delito\" OR \"crim\" OR \"inseguretat\" OR \"delinqüència\" OR \"agressió\" OR \"delicte\" since:2017-05-23 until:2017-05-24', '\"Barcelona\" AND \"violencia\" OR \"crimen\" OR \"inseguridad\" OR \"delincuencia\" OR \"agresion\" OR \"delito\" OR \"crim\" OR \"inseguretat\" OR \"delinqüència\" OR \"agressió\" OR \"delicte\" since:2017-05-24 until:2017-05-25', '\"Barcelona\" AND \"violencia\" OR \"crimen\" OR \"inseguridad\" OR \"delincuencia\" OR \"agresion\" OR \"delito\" OR \"crim\" OR \"inseguretat\" OR \"delinqüència\" OR \"agressió\" OR \"delicte\" since:2017-05-25 until:2017-05-26']\n",
      "INFO: Got 16 tweets (16 new).\n",
      "INFO: Got 38 tweets (22 new).\n",
      "INFO: Got 64 tweets (26 new).\n",
      "INFO: Got 100 tweets (36 new).\n",
      "INFO: Got 140 tweets (40 new).\n",
      "INFO: Got 201 tweets (61 new).\n",
      "INFO: Got 271 tweets (70 new).\n"
     ]
    },
    {
     "name": "stdout",
     "output_type": "stream",
     "text": [
      "271  were retrieved for 2017-05-19 to 2017-05-26\n"
     ]
    },
    {
     "name": "stderr",
     "output_type": "stream",
     "text": [
      "INFO: queries: ['\"Barcelona\" AND \"violencia\" OR \"crimen\" OR \"inseguridad\" OR \"delincuencia\" OR \"agresion\" OR \"delito\" OR \"crim\" OR \"inseguretat\" OR \"delinqüència\" OR \"agressió\" OR \"delicte\" since:2017-05-12 until:2017-05-13', '\"Barcelona\" AND \"violencia\" OR \"crimen\" OR \"inseguridad\" OR \"delincuencia\" OR \"agresion\" OR \"delito\" OR \"crim\" OR \"inseguretat\" OR \"delinqüència\" OR \"agressió\" OR \"delicte\" since:2017-05-13 until:2017-05-14', '\"Barcelona\" AND \"violencia\" OR \"crimen\" OR \"inseguridad\" OR \"delincuencia\" OR \"agresion\" OR \"delito\" OR \"crim\" OR \"inseguretat\" OR \"delinqüència\" OR \"agressió\" OR \"delicte\" since:2017-05-14 until:2017-05-15', '\"Barcelona\" AND \"violencia\" OR \"crimen\" OR \"inseguridad\" OR \"delincuencia\" OR \"agresion\" OR \"delito\" OR \"crim\" OR \"inseguretat\" OR \"delinqüència\" OR \"agressió\" OR \"delicte\" since:2017-05-15 until:2017-05-16', '\"Barcelona\" AND \"violencia\" OR \"crimen\" OR \"inseguridad\" OR \"delincuencia\" OR \"agresion\" OR \"delito\" OR \"crim\" OR \"inseguretat\" OR \"delinqüència\" OR \"agressió\" OR \"delicte\" since:2017-05-16 until:2017-05-17', '\"Barcelona\" AND \"violencia\" OR \"crimen\" OR \"inseguridad\" OR \"delincuencia\" OR \"agresion\" OR \"delito\" OR \"crim\" OR \"inseguretat\" OR \"delinqüència\" OR \"agressió\" OR \"delicte\" since:2017-05-17 until:2017-05-18', '\"Barcelona\" AND \"violencia\" OR \"crimen\" OR \"inseguridad\" OR \"delincuencia\" OR \"agresion\" OR \"delito\" OR \"crim\" OR \"inseguretat\" OR \"delinqüència\" OR \"agressió\" OR \"delicte\" since:2017-05-18 until:2017-05-19']\n",
      "INFO: Got 16 tweets (16 new).\n",
      "INFO: Got 48 tweets (32 new).\n",
      "INFO: Got 89 tweets (41 new).\n",
      "INFO: Got 132 tweets (43 new).\n",
      "INFO: Got 179 tweets (47 new).\n",
      "INFO: Got 247 tweets (68 new).\n",
      "INFO: Got 332 tweets (85 new).\n"
     ]
    },
    {
     "name": "stdout",
     "output_type": "stream",
     "text": [
      "332  were retrieved for 2017-05-12 to 2017-05-19\n"
     ]
    },
    {
     "name": "stderr",
     "output_type": "stream",
     "text": [
      "INFO: queries: ['\"Barcelona\" AND \"violencia\" OR \"crimen\" OR \"inseguridad\" OR \"delincuencia\" OR \"agresion\" OR \"delito\" OR \"crim\" OR \"inseguretat\" OR \"delinqüència\" OR \"agressió\" OR \"delicte\" since:2017-05-05 until:2017-05-06', '\"Barcelona\" AND \"violencia\" OR \"crimen\" OR \"inseguridad\" OR \"delincuencia\" OR \"agresion\" OR \"delito\" OR \"crim\" OR \"inseguretat\" OR \"delinqüència\" OR \"agressió\" OR \"delicte\" since:2017-05-06 until:2017-05-07', '\"Barcelona\" AND \"violencia\" OR \"crimen\" OR \"inseguridad\" OR \"delincuencia\" OR \"agresion\" OR \"delito\" OR \"crim\" OR \"inseguretat\" OR \"delinqüència\" OR \"agressió\" OR \"delicte\" since:2017-05-07 until:2017-05-08', '\"Barcelona\" AND \"violencia\" OR \"crimen\" OR \"inseguridad\" OR \"delincuencia\" OR \"agresion\" OR \"delito\" OR \"crim\" OR \"inseguretat\" OR \"delinqüència\" OR \"agressió\" OR \"delicte\" since:2017-05-08 until:2017-05-09', '\"Barcelona\" AND \"violencia\" OR \"crimen\" OR \"inseguridad\" OR \"delincuencia\" OR \"agresion\" OR \"delito\" OR \"crim\" OR \"inseguretat\" OR \"delinqüència\" OR \"agressió\" OR \"delicte\" since:2017-05-09 until:2017-05-10', '\"Barcelona\" AND \"violencia\" OR \"crimen\" OR \"inseguridad\" OR \"delincuencia\" OR \"agresion\" OR \"delito\" OR \"crim\" OR \"inseguretat\" OR \"delinqüència\" OR \"agressió\" OR \"delicte\" since:2017-05-10 until:2017-05-11', '\"Barcelona\" AND \"violencia\" OR \"crimen\" OR \"inseguridad\" OR \"delincuencia\" OR \"agresion\" OR \"delito\" OR \"crim\" OR \"inseguretat\" OR \"delinqüència\" OR \"agressió\" OR \"delicte\" since:2017-05-11 until:2017-05-12']\n",
      "INFO: Got 12 tweets (12 new).\n",
      "INFO: Got 28 tweets (16 new).\n",
      "INFO: Got 54 tweets (26 new).\n",
      "INFO: Got 74 tweets (20 new).\n",
      "INFO: Got 116 tweets (42 new).\n",
      "INFO: Got 173 tweets (57 new).\n",
      "INFO: Got 218 tweets (45 new).\n"
     ]
    },
    {
     "name": "stdout",
     "output_type": "stream",
     "text": [
      "218  were retrieved for 2017-05-05 to 2017-05-12\n"
     ]
    },
    {
     "name": "stderr",
     "output_type": "stream",
     "text": [
      "INFO: queries: ['\"Barcelona\" AND \"violencia\" OR \"crimen\" OR \"inseguridad\" OR \"delincuencia\" OR \"agresion\" OR \"delito\" OR \"crim\" OR \"inseguretat\" OR \"delinqüència\" OR \"agressió\" OR \"delicte\" since:2017-04-28 until:2017-04-29', '\"Barcelona\" AND \"violencia\" OR \"crimen\" OR \"inseguridad\" OR \"delincuencia\" OR \"agresion\" OR \"delito\" OR \"crim\" OR \"inseguretat\" OR \"delinqüència\" OR \"agressió\" OR \"delicte\" since:2017-04-29 until:2017-04-30', '\"Barcelona\" AND \"violencia\" OR \"crimen\" OR \"inseguridad\" OR \"delincuencia\" OR \"agresion\" OR \"delito\" OR \"crim\" OR \"inseguretat\" OR \"delinqüència\" OR \"agressió\" OR \"delicte\" since:2017-04-30 until:2017-05-01', '\"Barcelona\" AND \"violencia\" OR \"crimen\" OR \"inseguridad\" OR \"delincuencia\" OR \"agresion\" OR \"delito\" OR \"crim\" OR \"inseguretat\" OR \"delinqüència\" OR \"agressió\" OR \"delicte\" since:2017-05-01 until:2017-05-02', '\"Barcelona\" AND \"violencia\" OR \"crimen\" OR \"inseguridad\" OR \"delincuencia\" OR \"agresion\" OR \"delito\" OR \"crim\" OR \"inseguretat\" OR \"delinqüència\" OR \"agressió\" OR \"delicte\" since:2017-05-02 until:2017-05-03', '\"Barcelona\" AND \"violencia\" OR \"crimen\" OR \"inseguridad\" OR \"delincuencia\" OR \"agresion\" OR \"delito\" OR \"crim\" OR \"inseguretat\" OR \"delinqüència\" OR \"agressió\" OR \"delicte\" since:2017-05-03 until:2017-05-04', '\"Barcelona\" AND \"violencia\" OR \"crimen\" OR \"inseguridad\" OR \"delincuencia\" OR \"agresion\" OR \"delito\" OR \"crim\" OR \"inseguretat\" OR \"delinqüència\" OR \"agressió\" OR \"delicte\" since:2017-05-04 until:2017-05-05']\n",
      "INFO: Got 22 tweets (22 new).\n",
      "INFO: Got 38 tweets (16 new).\n",
      "INFO: Got 70 tweets (32 new).\n",
      "INFO: Got 88 tweets (18 new).\n",
      "INFO: Got 142 tweets (54 new).\n",
      "INFO: Got 185 tweets (43 new).\n",
      "INFO: Got 284 tweets (99 new).\n"
     ]
    },
    {
     "name": "stdout",
     "output_type": "stream",
     "text": [
      "284  were retrieved for 2017-04-28 to 2017-05-05\n"
     ]
    },
    {
     "name": "stderr",
     "output_type": "stream",
     "text": [
      "INFO: queries: ['\"Barcelona\" AND \"violencia\" OR \"crimen\" OR \"inseguridad\" OR \"delincuencia\" OR \"agresion\" OR \"delito\" OR \"crim\" OR \"inseguretat\" OR \"delinqüència\" OR \"agressió\" OR \"delicte\" since:2017-04-21 until:2017-04-22', '\"Barcelona\" AND \"violencia\" OR \"crimen\" OR \"inseguridad\" OR \"delincuencia\" OR \"agresion\" OR \"delito\" OR \"crim\" OR \"inseguretat\" OR \"delinqüència\" OR \"agressió\" OR \"delicte\" since:2017-04-22 until:2017-04-23', '\"Barcelona\" AND \"violencia\" OR \"crimen\" OR \"inseguridad\" OR \"delincuencia\" OR \"agresion\" OR \"delito\" OR \"crim\" OR \"inseguretat\" OR \"delinqüència\" OR \"agressió\" OR \"delicte\" since:2017-04-23 until:2017-04-24', '\"Barcelona\" AND \"violencia\" OR \"crimen\" OR \"inseguridad\" OR \"delincuencia\" OR \"agresion\" OR \"delito\" OR \"crim\" OR \"inseguretat\" OR \"delinqüència\" OR \"agressió\" OR \"delicte\" since:2017-04-24 until:2017-04-25', '\"Barcelona\" AND \"violencia\" OR \"crimen\" OR \"inseguridad\" OR \"delincuencia\" OR \"agresion\" OR \"delito\" OR \"crim\" OR \"inseguretat\" OR \"delinqüència\" OR \"agressió\" OR \"delicte\" since:2017-04-25 until:2017-04-26', '\"Barcelona\" AND \"violencia\" OR \"crimen\" OR \"inseguridad\" OR \"delincuencia\" OR \"agresion\" OR \"delito\" OR \"crim\" OR \"inseguretat\" OR \"delinqüència\" OR \"agressió\" OR \"delicte\" since:2017-04-26 until:2017-04-27', '\"Barcelona\" AND \"violencia\" OR \"crimen\" OR \"inseguridad\" OR \"delincuencia\" OR \"agresion\" OR \"delito\" OR \"crim\" OR \"inseguretat\" OR \"delinqüència\" OR \"agressió\" OR \"delicte\" since:2017-04-27 until:2017-04-28']\n",
      "INFO: Got 14 tweets (14 new).\n",
      "INFO: Got 44 tweets (30 new).\n",
      "INFO: Got 87 tweets (43 new).\n",
      "INFO: Got 135 tweets (48 new).\n",
      "INFO: Got 192 tweets (57 new).\n",
      "INFO: Got 250 tweets (58 new).\n",
      "INFO: Got 346 tweets (96 new).\n"
     ]
    },
    {
     "name": "stdout",
     "output_type": "stream",
     "text": [
      "346  were retrieved for 2017-04-21 to 2017-04-28\n"
     ]
    },
    {
     "name": "stderr",
     "output_type": "stream",
     "text": [
      "INFO: queries: ['\"Barcelona\" AND \"violencia\" OR \"crimen\" OR \"inseguridad\" OR \"delincuencia\" OR \"agresion\" OR \"delito\" OR \"crim\" OR \"inseguretat\" OR \"delinqüència\" OR \"agressió\" OR \"delicte\" since:2017-04-14 until:2017-04-15', '\"Barcelona\" AND \"violencia\" OR \"crimen\" OR \"inseguridad\" OR \"delincuencia\" OR \"agresion\" OR \"delito\" OR \"crim\" OR \"inseguretat\" OR \"delinqüència\" OR \"agressió\" OR \"delicte\" since:2017-04-15 until:2017-04-16', '\"Barcelona\" AND \"violencia\" OR \"crimen\" OR \"inseguridad\" OR \"delincuencia\" OR \"agresion\" OR \"delito\" OR \"crim\" OR \"inseguretat\" OR \"delinqüència\" OR \"agressió\" OR \"delicte\" since:2017-04-16 until:2017-04-17', '\"Barcelona\" AND \"violencia\" OR \"crimen\" OR \"inseguridad\" OR \"delincuencia\" OR \"agresion\" OR \"delito\" OR \"crim\" OR \"inseguretat\" OR \"delinqüència\" OR \"agressió\" OR \"delicte\" since:2017-04-17 until:2017-04-18', '\"Barcelona\" AND \"violencia\" OR \"crimen\" OR \"inseguridad\" OR \"delincuencia\" OR \"agresion\" OR \"delito\" OR \"crim\" OR \"inseguretat\" OR \"delinqüència\" OR \"agressió\" OR \"delicte\" since:2017-04-18 until:2017-04-19', '\"Barcelona\" AND \"violencia\" OR \"crimen\" OR \"inseguridad\" OR \"delincuencia\" OR \"agresion\" OR \"delito\" OR \"crim\" OR \"inseguretat\" OR \"delinqüència\" OR \"agressió\" OR \"delicte\" since:2017-04-19 until:2017-04-20', '\"Barcelona\" AND \"violencia\" OR \"crimen\" OR \"inseguridad\" OR \"delincuencia\" OR \"agresion\" OR \"delito\" OR \"crim\" OR \"inseguretat\" OR \"delinqüència\" OR \"agressió\" OR \"delicte\" since:2017-04-20 until:2017-04-21']\n",
      "INFO: Got 26 tweets (26 new).\n",
      "INFO: Got 44 tweets (18 new).\n",
      "INFO: Got 80 tweets (36 new).\n",
      "INFO: Got 121 tweets (41 new).\n",
      "INFO: Got 168 tweets (47 new).\n",
      "INFO: Got 241 tweets (73 new).\n",
      "INFO: Got 344 tweets (103 new).\n"
     ]
    },
    {
     "name": "stdout",
     "output_type": "stream",
     "text": [
      "344  were retrieved for 2017-04-14 to 2017-04-21\n"
     ]
    },
    {
     "name": "stderr",
     "output_type": "stream",
     "text": [
      "INFO: queries: ['\"Barcelona\" AND \"violencia\" OR \"crimen\" OR \"inseguridad\" OR \"delincuencia\" OR \"agresion\" OR \"delito\" OR \"crim\" OR \"inseguretat\" OR \"delinqüència\" OR \"agressió\" OR \"delicte\" since:2017-04-07 until:2017-04-08', '\"Barcelona\" AND \"violencia\" OR \"crimen\" OR \"inseguridad\" OR \"delincuencia\" OR \"agresion\" OR \"delito\" OR \"crim\" OR \"inseguretat\" OR \"delinqüència\" OR \"agressió\" OR \"delicte\" since:2017-04-08 until:2017-04-09', '\"Barcelona\" AND \"violencia\" OR \"crimen\" OR \"inseguridad\" OR \"delincuencia\" OR \"agresion\" OR \"delito\" OR \"crim\" OR \"inseguretat\" OR \"delinqüència\" OR \"agressió\" OR \"delicte\" since:2017-04-09 until:2017-04-10', '\"Barcelona\" AND \"violencia\" OR \"crimen\" OR \"inseguridad\" OR \"delincuencia\" OR \"agresion\" OR \"delito\" OR \"crim\" OR \"inseguretat\" OR \"delinqüència\" OR \"agressió\" OR \"delicte\" since:2017-04-10 until:2017-04-11', '\"Barcelona\" AND \"violencia\" OR \"crimen\" OR \"inseguridad\" OR \"delincuencia\" OR \"agresion\" OR \"delito\" OR \"crim\" OR \"inseguretat\" OR \"delinqüència\" OR \"agressió\" OR \"delicte\" since:2017-04-11 until:2017-04-12', '\"Barcelona\" AND \"violencia\" OR \"crimen\" OR \"inseguridad\" OR \"delincuencia\" OR \"agresion\" OR \"delito\" OR \"crim\" OR \"inseguretat\" OR \"delinqüència\" OR \"agressió\" OR \"delicte\" since:2017-04-12 until:2017-04-13', '\"Barcelona\" AND \"violencia\" OR \"crimen\" OR \"inseguridad\" OR \"delincuencia\" OR \"agresion\" OR \"delito\" OR \"crim\" OR \"inseguretat\" OR \"delinqüència\" OR \"agressió\" OR \"delicte\" since:2017-04-13 until:2017-04-14']\n",
      "INFO: Got 20 tweets (20 new).\n",
      "INFO: Got 34 tweets (14 new).\n",
      "INFO: Got 54 tweets (20 new).\n",
      "INFO: Got 84 tweets (30 new).\n",
      "INFO: Got 110 tweets (26 new).\n",
      "INFO: Got 144 tweets (34 new).\n",
      "INFO: Got 186 tweets (42 new).\n"
     ]
    },
    {
     "name": "stdout",
     "output_type": "stream",
     "text": [
      "186  were retrieved for 2017-04-07 to 2017-04-14\n"
     ]
    },
    {
     "name": "stderr",
     "output_type": "stream",
     "text": [
      "INFO: queries: ['\"Barcelona\" AND \"violencia\" OR \"crimen\" OR \"inseguridad\" OR \"delincuencia\" OR \"agresion\" OR \"delito\" OR \"crim\" OR \"inseguretat\" OR \"delinqüència\" OR \"agressió\" OR \"delicte\" since:2017-03-31 until:2017-04-01', '\"Barcelona\" AND \"violencia\" OR \"crimen\" OR \"inseguridad\" OR \"delincuencia\" OR \"agresion\" OR \"delito\" OR \"crim\" OR \"inseguretat\" OR \"delinqüència\" OR \"agressió\" OR \"delicte\" since:2017-04-01 until:2017-04-02', '\"Barcelona\" AND \"violencia\" OR \"crimen\" OR \"inseguridad\" OR \"delincuencia\" OR \"agresion\" OR \"delito\" OR \"crim\" OR \"inseguretat\" OR \"delinqüència\" OR \"agressió\" OR \"delicte\" since:2017-04-02 until:2017-04-03', '\"Barcelona\" AND \"violencia\" OR \"crimen\" OR \"inseguridad\" OR \"delincuencia\" OR \"agresion\" OR \"delito\" OR \"crim\" OR \"inseguretat\" OR \"delinqüència\" OR \"agressió\" OR \"delicte\" since:2017-04-03 until:2017-04-04', '\"Barcelona\" AND \"violencia\" OR \"crimen\" OR \"inseguridad\" OR \"delincuencia\" OR \"agresion\" OR \"delito\" OR \"crim\" OR \"inseguretat\" OR \"delinqüència\" OR \"agressió\" OR \"delicte\" since:2017-04-04 until:2017-04-05', '\"Barcelona\" AND \"violencia\" OR \"crimen\" OR \"inseguridad\" OR \"delincuencia\" OR \"agresion\" OR \"delito\" OR \"crim\" OR \"inseguretat\" OR \"delinqüència\" OR \"agressió\" OR \"delicte\" since:2017-04-05 until:2017-04-06', '\"Barcelona\" AND \"violencia\" OR \"crimen\" OR \"inseguridad\" OR \"delincuencia\" OR \"agresion\" OR \"delito\" OR \"crim\" OR \"inseguretat\" OR \"delinqüència\" OR \"agressió\" OR \"delicte\" since:2017-04-06 until:2017-04-07']\n",
      "INFO: Got 4 tweets (4 new).\n",
      "INFO: Got 6 tweets (2 new).\n",
      "INFO: Got 18 tweets (12 new).\n",
      "INFO: Got 28 tweets (10 new).\n",
      "INFO: Got 44 tweets (16 new).\n",
      "INFO: Got 68 tweets (24 new).\n",
      "INFO: Got 109 tweets (41 new).\n"
     ]
    },
    {
     "name": "stdout",
     "output_type": "stream",
     "text": [
      "109  were retrieved for 2017-03-31 to 2017-04-07\n"
     ]
    },
    {
     "name": "stderr",
     "output_type": "stream",
     "text": [
      "INFO: queries: ['\"Barcelona\" AND \"violencia\" OR \"crimen\" OR \"inseguridad\" OR \"delincuencia\" OR \"agresion\" OR \"delito\" OR \"crim\" OR \"inseguretat\" OR \"delinqüència\" OR \"agressió\" OR \"delicte\" since:2017-03-24 until:2017-03-25', '\"Barcelona\" AND \"violencia\" OR \"crimen\" OR \"inseguridad\" OR \"delincuencia\" OR \"agresion\" OR \"delito\" OR \"crim\" OR \"inseguretat\" OR \"delinqüència\" OR \"agressió\" OR \"delicte\" since:2017-03-25 until:2017-03-26', '\"Barcelona\" AND \"violencia\" OR \"crimen\" OR \"inseguridad\" OR \"delincuencia\" OR \"agresion\" OR \"delito\" OR \"crim\" OR \"inseguretat\" OR \"delinqüència\" OR \"agressió\" OR \"delicte\" since:2017-03-26 until:2017-03-27', '\"Barcelona\" AND \"violencia\" OR \"crimen\" OR \"inseguridad\" OR \"delincuencia\" OR \"agresion\" OR \"delito\" OR \"crim\" OR \"inseguretat\" OR \"delinqüència\" OR \"agressió\" OR \"delicte\" since:2017-03-27 until:2017-03-28', '\"Barcelona\" AND \"violencia\" OR \"crimen\" OR \"inseguridad\" OR \"delincuencia\" OR \"agresion\" OR \"delito\" OR \"crim\" OR \"inseguretat\" OR \"delinqüència\" OR \"agressió\" OR \"delicte\" since:2017-03-28 until:2017-03-29', '\"Barcelona\" AND \"violencia\" OR \"crimen\" OR \"inseguridad\" OR \"delincuencia\" OR \"agresion\" OR \"delito\" OR \"crim\" OR \"inseguretat\" OR \"delinqüència\" OR \"agressió\" OR \"delicte\" since:2017-03-29 until:2017-03-30', '\"Barcelona\" AND \"violencia\" OR \"crimen\" OR \"inseguridad\" OR \"delincuencia\" OR \"agresion\" OR \"delito\" OR \"crim\" OR \"inseguretat\" OR \"delinqüència\" OR \"agressió\" OR \"delicte\" since:2017-03-30 until:2017-03-31']\n",
      "INFO: Got 8 tweets (8 new).\n",
      "INFO: Got 22 tweets (14 new).\n",
      "INFO: Got 38 tweets (16 new).\n",
      "INFO: Got 62 tweets (24 new).\n",
      "INFO: Got 94 tweets (32 new).\n",
      "INFO: Got 126 tweets (32 new).\n",
      "INFO: Got 167 tweets (41 new).\n"
     ]
    },
    {
     "name": "stdout",
     "output_type": "stream",
     "text": [
      "167  were retrieved for 2017-03-24 to 2017-03-31\n"
     ]
    },
    {
     "name": "stderr",
     "output_type": "stream",
     "text": [
      "INFO: queries: ['\"Barcelona\" AND \"violencia\" OR \"crimen\" OR \"inseguridad\" OR \"delincuencia\" OR \"agresion\" OR \"delito\" OR \"crim\" OR \"inseguretat\" OR \"delinqüència\" OR \"agressió\" OR \"delicte\" since:2017-03-17 until:2017-03-18', '\"Barcelona\" AND \"violencia\" OR \"crimen\" OR \"inseguridad\" OR \"delincuencia\" OR \"agresion\" OR \"delito\" OR \"crim\" OR \"inseguretat\" OR \"delinqüència\" OR \"agressió\" OR \"delicte\" since:2017-03-18 until:2017-03-19', '\"Barcelona\" AND \"violencia\" OR \"crimen\" OR \"inseguridad\" OR \"delincuencia\" OR \"agresion\" OR \"delito\" OR \"crim\" OR \"inseguretat\" OR \"delinqüència\" OR \"agressió\" OR \"delicte\" since:2017-03-19 until:2017-03-20', '\"Barcelona\" AND \"violencia\" OR \"crimen\" OR \"inseguridad\" OR \"delincuencia\" OR \"agresion\" OR \"delito\" OR \"crim\" OR \"inseguretat\" OR \"delinqüència\" OR \"agressió\" OR \"delicte\" since:2017-03-20 until:2017-03-21', '\"Barcelona\" AND \"violencia\" OR \"crimen\" OR \"inseguridad\" OR \"delincuencia\" OR \"agresion\" OR \"delito\" OR \"crim\" OR \"inseguretat\" OR \"delinqüència\" OR \"agressió\" OR \"delicte\" since:2017-03-21 until:2017-03-22', '\"Barcelona\" AND \"violencia\" OR \"crimen\" OR \"inseguridad\" OR \"delincuencia\" OR \"agresion\" OR \"delito\" OR \"crim\" OR \"inseguretat\" OR \"delinqüència\" OR \"agressió\" OR \"delicte\" since:2017-03-22 until:2017-03-23', '\"Barcelona\" AND \"violencia\" OR \"crimen\" OR \"inseguridad\" OR \"delincuencia\" OR \"agresion\" OR \"delito\" OR \"crim\" OR \"inseguretat\" OR \"delinqüència\" OR \"agressió\" OR \"delicte\" since:2017-03-23 until:2017-03-24']\n",
      "INFO: Got 34 tweets (34 new).\n",
      "INFO: Got 77 tweets (43 new).\n",
      "INFO: Got 105 tweets (28 new).\n",
      "INFO: Got 143 tweets (38 new).\n",
      "INFO: Got 191 tweets (48 new).\n",
      "INFO: Got 245 tweets (54 new).\n",
      "INFO: Got 291 tweets (46 new).\n"
     ]
    },
    {
     "name": "stdout",
     "output_type": "stream",
     "text": [
      "291  were retrieved for 2017-03-17 to 2017-03-24\n"
     ]
    },
    {
     "name": "stderr",
     "output_type": "stream",
     "text": [
      "INFO: queries: ['\"Barcelona\" AND \"violencia\" OR \"crimen\" OR \"inseguridad\" OR \"delincuencia\" OR \"agresion\" OR \"delito\" OR \"crim\" OR \"inseguretat\" OR \"delinqüència\" OR \"agressió\" OR \"delicte\" since:2017-03-10 until:2017-03-11', '\"Barcelona\" AND \"violencia\" OR \"crimen\" OR \"inseguridad\" OR \"delincuencia\" OR \"agresion\" OR \"delito\" OR \"crim\" OR \"inseguretat\" OR \"delinqüència\" OR \"agressió\" OR \"delicte\" since:2017-03-11 until:2017-03-12', '\"Barcelona\" AND \"violencia\" OR \"crimen\" OR \"inseguridad\" OR \"delincuencia\" OR \"agresion\" OR \"delito\" OR \"crim\" OR \"inseguretat\" OR \"delinqüència\" OR \"agressió\" OR \"delicte\" since:2017-03-12 until:2017-03-13', '\"Barcelona\" AND \"violencia\" OR \"crimen\" OR \"inseguridad\" OR \"delincuencia\" OR \"agresion\" OR \"delito\" OR \"crim\" OR \"inseguretat\" OR \"delinqüència\" OR \"agressió\" OR \"delicte\" since:2017-03-13 until:2017-03-14', '\"Barcelona\" AND \"violencia\" OR \"crimen\" OR \"inseguridad\" OR \"delincuencia\" OR \"agresion\" OR \"delito\" OR \"crim\" OR \"inseguretat\" OR \"delinqüència\" OR \"agressió\" OR \"delicte\" since:2017-03-14 until:2017-03-15', '\"Barcelona\" AND \"violencia\" OR \"crimen\" OR \"inseguridad\" OR \"delincuencia\" OR \"agresion\" OR \"delito\" OR \"crim\" OR \"inseguretat\" OR \"delinqüència\" OR \"agressió\" OR \"delicte\" since:2017-03-15 until:2017-03-16', '\"Barcelona\" AND \"violencia\" OR \"crimen\" OR \"inseguridad\" OR \"delincuencia\" OR \"agresion\" OR \"delito\" OR \"crim\" OR \"inseguretat\" OR \"delinqüència\" OR \"agressió\" OR \"delicte\" since:2017-03-16 until:2017-03-17']\n",
      "INFO: Got 24 tweets (24 new).\n",
      "INFO: Got 65 tweets (41 new).\n",
      "INFO: Got 108 tweets (43 new).\n",
      "INFO: Got 134 tweets (26 new).\n",
      "INFO: Got 190 tweets (56 new).\n",
      "INFO: Got 275 tweets (85 new).\n",
      "INFO: Got 378 tweets (103 new).\n"
     ]
    },
    {
     "name": "stdout",
     "output_type": "stream",
     "text": [
      "378  were retrieved for 2017-03-10 to 2017-03-17\n"
     ]
    },
    {
     "name": "stderr",
     "output_type": "stream",
     "text": [
      "INFO: queries: ['\"Barcelona\" AND \"violencia\" OR \"crimen\" OR \"inseguridad\" OR \"delincuencia\" OR \"agresion\" OR \"delito\" OR \"crim\" OR \"inseguretat\" OR \"delinqüència\" OR \"agressió\" OR \"delicte\" since:2017-03-03 until:2017-03-04', '\"Barcelona\" AND \"violencia\" OR \"crimen\" OR \"inseguridad\" OR \"delincuencia\" OR \"agresion\" OR \"delito\" OR \"crim\" OR \"inseguretat\" OR \"delinqüència\" OR \"agressió\" OR \"delicte\" since:2017-03-04 until:2017-03-05', '\"Barcelona\" AND \"violencia\" OR \"crimen\" OR \"inseguridad\" OR \"delincuencia\" OR \"agresion\" OR \"delito\" OR \"crim\" OR \"inseguretat\" OR \"delinqüència\" OR \"agressió\" OR \"delicte\" since:2017-03-05 until:2017-03-06', '\"Barcelona\" AND \"violencia\" OR \"crimen\" OR \"inseguridad\" OR \"delincuencia\" OR \"agresion\" OR \"delito\" OR \"crim\" OR \"inseguretat\" OR \"delinqüència\" OR \"agressió\" OR \"delicte\" since:2017-03-06 until:2017-03-07', '\"Barcelona\" AND \"violencia\" OR \"crimen\" OR \"inseguridad\" OR \"delincuencia\" OR \"agresion\" OR \"delito\" OR \"crim\" OR \"inseguretat\" OR \"delinqüència\" OR \"agressió\" OR \"delicte\" since:2017-03-07 until:2017-03-08', '\"Barcelona\" AND \"violencia\" OR \"crimen\" OR \"inseguridad\" OR \"delincuencia\" OR \"agresion\" OR \"delito\" OR \"crim\" OR \"inseguretat\" OR \"delinqüència\" OR \"agressió\" OR \"delicte\" since:2017-03-08 until:2017-03-09', '\"Barcelona\" AND \"violencia\" OR \"crimen\" OR \"inseguridad\" OR \"delincuencia\" OR \"agresion\" OR \"delito\" OR \"crim\" OR \"inseguretat\" OR \"delinqüència\" OR \"agressió\" OR \"delicte\" since:2017-03-09 until:2017-03-10']\n",
      "INFO: Got 4 tweets (4 new).\n",
      "INFO: Got 24 tweets (20 new).\n",
      "INFO: Got 40 tweets (16 new).\n",
      "INFO: Got 60 tweets (20 new).\n",
      "INFO: Got 86 tweets (26 new).\n",
      "INFO: Got 141 tweets (55 new).\n",
      "INFO: Got 224 tweets (83 new).\n"
     ]
    },
    {
     "name": "stdout",
     "output_type": "stream",
     "text": [
      "224  were retrieved for 2017-03-03 to 2017-03-10\n"
     ]
    },
    {
     "name": "stderr",
     "output_type": "stream",
     "text": [
      "INFO: queries: ['\"Barcelona\" AND \"violencia\" OR \"crimen\" OR \"inseguridad\" OR \"delincuencia\" OR \"agresion\" OR \"delito\" OR \"crim\" OR \"inseguretat\" OR \"delinqüència\" OR \"agressió\" OR \"delicte\" since:2017-02-24 until:2017-02-25', '\"Barcelona\" AND \"violencia\" OR \"crimen\" OR \"inseguridad\" OR \"delincuencia\" OR \"agresion\" OR \"delito\" OR \"crim\" OR \"inseguretat\" OR \"delinqüència\" OR \"agressió\" OR \"delicte\" since:2017-02-25 until:2017-02-26', '\"Barcelona\" AND \"violencia\" OR \"crimen\" OR \"inseguridad\" OR \"delincuencia\" OR \"agresion\" OR \"delito\" OR \"crim\" OR \"inseguretat\" OR \"delinqüència\" OR \"agressió\" OR \"delicte\" since:2017-02-26 until:2017-02-27', '\"Barcelona\" AND \"violencia\" OR \"crimen\" OR \"inseguridad\" OR \"delincuencia\" OR \"agresion\" OR \"delito\" OR \"crim\" OR \"inseguretat\" OR \"delinqüència\" OR \"agressió\" OR \"delicte\" since:2017-02-27 until:2017-02-28', '\"Barcelona\" AND \"violencia\" OR \"crimen\" OR \"inseguridad\" OR \"delincuencia\" OR \"agresion\" OR \"delito\" OR \"crim\" OR \"inseguretat\" OR \"delinqüència\" OR \"agressió\" OR \"delicte\" since:2017-02-28 until:2017-03-01', '\"Barcelona\" AND \"violencia\" OR \"crimen\" OR \"inseguridad\" OR \"delincuencia\" OR \"agresion\" OR \"delito\" OR \"crim\" OR \"inseguretat\" OR \"delinqüència\" OR \"agressió\" OR \"delicte\" since:2017-03-01 until:2017-03-02', '\"Barcelona\" AND \"violencia\" OR \"crimen\" OR \"inseguridad\" OR \"delincuencia\" OR \"agresion\" OR \"delito\" OR \"crim\" OR \"inseguretat\" OR \"delinqüència\" OR \"agressió\" OR \"delicte\" since:2017-03-02 until:2017-03-03']\n",
      "INFO: Got 10 tweets (10 new).\n",
      "INFO: Got 20 tweets (10 new).\n",
      "INFO: Got 38 tweets (18 new).\n",
      "INFO: Got 54 tweets (16 new).\n",
      "INFO: Got 74 tweets (20 new).\n",
      "INFO: Got 115 tweets (41 new).\n",
      "INFO: Got 168 tweets (53 new).\n"
     ]
    },
    {
     "name": "stdout",
     "output_type": "stream",
     "text": [
      "168  were retrieved for 2017-02-24 to 2017-03-03\n"
     ]
    },
    {
     "name": "stderr",
     "output_type": "stream",
     "text": [
      "INFO: queries: ['\"Barcelona\" AND \"violencia\" OR \"crimen\" OR \"inseguridad\" OR \"delincuencia\" OR \"agresion\" OR \"delito\" OR \"crim\" OR \"inseguretat\" OR \"delinqüència\" OR \"agressió\" OR \"delicte\" since:2017-02-17 until:2017-02-18', '\"Barcelona\" AND \"violencia\" OR \"crimen\" OR \"inseguridad\" OR \"delincuencia\" OR \"agresion\" OR \"delito\" OR \"crim\" OR \"inseguretat\" OR \"delinqüència\" OR \"agressió\" OR \"delicte\" since:2017-02-18 until:2017-02-19', '\"Barcelona\" AND \"violencia\" OR \"crimen\" OR \"inseguridad\" OR \"delincuencia\" OR \"agresion\" OR \"delito\" OR \"crim\" OR \"inseguretat\" OR \"delinqüència\" OR \"agressió\" OR \"delicte\" since:2017-02-19 until:2017-02-20', '\"Barcelona\" AND \"violencia\" OR \"crimen\" OR \"inseguridad\" OR \"delincuencia\" OR \"agresion\" OR \"delito\" OR \"crim\" OR \"inseguretat\" OR \"delinqüència\" OR \"agressió\" OR \"delicte\" since:2017-02-20 until:2017-02-21', '\"Barcelona\" AND \"violencia\" OR \"crimen\" OR \"inseguridad\" OR \"delincuencia\" OR \"agresion\" OR \"delito\" OR \"crim\" OR \"inseguretat\" OR \"delinqüència\" OR \"agressió\" OR \"delicte\" since:2017-02-21 until:2017-02-22', '\"Barcelona\" AND \"violencia\" OR \"crimen\" OR \"inseguridad\" OR \"delincuencia\" OR \"agresion\" OR \"delito\" OR \"crim\" OR \"inseguretat\" OR \"delinqüència\" OR \"agressió\" OR \"delicte\" since:2017-02-22 until:2017-02-23', '\"Barcelona\" AND \"violencia\" OR \"crimen\" OR \"inseguridad\" OR \"delincuencia\" OR \"agresion\" OR \"delito\" OR \"crim\" OR \"inseguretat\" OR \"delinqüència\" OR \"agressió\" OR \"delicte\" since:2017-02-23 until:2017-02-24']\n",
      "INFO: Got 20 tweets (20 new).\n",
      "INFO: Got 50 tweets (30 new).\n",
      "INFO: Got 82 tweets (32 new).\n",
      "INFO: Got 118 tweets (36 new).\n",
      "INFO: Got 136 tweets (18 new).\n",
      "INFO: Got 168 tweets (32 new).\n",
      "INFO: Got 239 tweets (71 new).\n"
     ]
    },
    {
     "name": "stdout",
     "output_type": "stream",
     "text": [
      "239  were retrieved for 2017-02-17 to 2017-02-24\n"
     ]
    },
    {
     "name": "stderr",
     "output_type": "stream",
     "text": [
      "INFO: queries: ['\"Barcelona\" AND \"violencia\" OR \"crimen\" OR \"inseguridad\" OR \"delincuencia\" OR \"agresion\" OR \"delito\" OR \"crim\" OR \"inseguretat\" OR \"delinqüència\" OR \"agressió\" OR \"delicte\" since:2017-02-10 until:2017-02-11', '\"Barcelona\" AND \"violencia\" OR \"crimen\" OR \"inseguridad\" OR \"delincuencia\" OR \"agresion\" OR \"delito\" OR \"crim\" OR \"inseguretat\" OR \"delinqüència\" OR \"agressió\" OR \"delicte\" since:2017-02-11 until:2017-02-12', '\"Barcelona\" AND \"violencia\" OR \"crimen\" OR \"inseguridad\" OR \"delincuencia\" OR \"agresion\" OR \"delito\" OR \"crim\" OR \"inseguretat\" OR \"delinqüència\" OR \"agressió\" OR \"delicte\" since:2017-02-12 until:2017-02-13', '\"Barcelona\" AND \"violencia\" OR \"crimen\" OR \"inseguridad\" OR \"delincuencia\" OR \"agresion\" OR \"delito\" OR \"crim\" OR \"inseguretat\" OR \"delinqüència\" OR \"agressió\" OR \"delicte\" since:2017-02-13 until:2017-02-14', '\"Barcelona\" AND \"violencia\" OR \"crimen\" OR \"inseguridad\" OR \"delincuencia\" OR \"agresion\" OR \"delito\" OR \"crim\" OR \"inseguretat\" OR \"delinqüència\" OR \"agressió\" OR \"delicte\" since:2017-02-14 until:2017-02-15', '\"Barcelona\" AND \"violencia\" OR \"crimen\" OR \"inseguridad\" OR \"delincuencia\" OR \"agresion\" OR \"delito\" OR \"crim\" OR \"inseguretat\" OR \"delinqüència\" OR \"agressió\" OR \"delicte\" since:2017-02-15 until:2017-02-16', '\"Barcelona\" AND \"violencia\" OR \"crimen\" OR \"inseguridad\" OR \"delincuencia\" OR \"agresion\" OR \"delito\" OR \"crim\" OR \"inseguretat\" OR \"delinqüència\" OR \"agressió\" OR \"delicte\" since:2017-02-16 until:2017-02-17']\n",
      "INFO: Got 4 tweets (4 new).\n",
      "INFO: Got 28 tweets (24 new).\n",
      "INFO: Got 58 tweets (30 new).\n",
      "INFO: Got 109 tweets (51 new).\n",
      "INFO: Got 154 tweets (45 new).\n",
      "INFO: Got 220 tweets (66 new).\n",
      "INFO: Got 310 tweets (90 new).\n"
     ]
    },
    {
     "name": "stdout",
     "output_type": "stream",
     "text": [
      "310  were retrieved for 2017-02-10 to 2017-02-17\n"
     ]
    },
    {
     "name": "stderr",
     "output_type": "stream",
     "text": [
      "INFO: queries: ['\"Barcelona\" AND \"violencia\" OR \"crimen\" OR \"inseguridad\" OR \"delincuencia\" OR \"agresion\" OR \"delito\" OR \"crim\" OR \"inseguretat\" OR \"delinqüència\" OR \"agressió\" OR \"delicte\" since:2017-02-03 until:2017-02-04', '\"Barcelona\" AND \"violencia\" OR \"crimen\" OR \"inseguridad\" OR \"delincuencia\" OR \"agresion\" OR \"delito\" OR \"crim\" OR \"inseguretat\" OR \"delinqüència\" OR \"agressió\" OR \"delicte\" since:2017-02-04 until:2017-02-05', '\"Barcelona\" AND \"violencia\" OR \"crimen\" OR \"inseguridad\" OR \"delincuencia\" OR \"agresion\" OR \"delito\" OR \"crim\" OR \"inseguretat\" OR \"delinqüència\" OR \"agressió\" OR \"delicte\" since:2017-02-05 until:2017-02-06', '\"Barcelona\" AND \"violencia\" OR \"crimen\" OR \"inseguridad\" OR \"delincuencia\" OR \"agresion\" OR \"delito\" OR \"crim\" OR \"inseguretat\" OR \"delinqüència\" OR \"agressió\" OR \"delicte\" since:2017-02-06 until:2017-02-07', '\"Barcelona\" AND \"violencia\" OR \"crimen\" OR \"inseguridad\" OR \"delincuencia\" OR \"agresion\" OR \"delito\" OR \"crim\" OR \"inseguretat\" OR \"delinqüència\" OR \"agressió\" OR \"delicte\" since:2017-02-07 until:2017-02-08', '\"Barcelona\" AND \"violencia\" OR \"crimen\" OR \"inseguridad\" OR \"delincuencia\" OR \"agresion\" OR \"delito\" OR \"crim\" OR \"inseguretat\" OR \"delinqüència\" OR \"agressió\" OR \"delicte\" since:2017-02-08 until:2017-02-09', '\"Barcelona\" AND \"violencia\" OR \"crimen\" OR \"inseguridad\" OR \"delincuencia\" OR \"agresion\" OR \"delito\" OR \"crim\" OR \"inseguretat\" OR \"delinqüència\" OR \"agressió\" OR \"delicte\" since:2017-02-09 until:2017-02-10']\n",
      "INFO: Got 6 tweets (6 new).\n",
      "INFO: Got 28 tweets (22 new).\n",
      "INFO: Got 54 tweets (26 new).\n",
      "INFO: Got 109 tweets (55 new).\n",
      "INFO: Got 191 tweets (82 new).\n",
      "INFO: Got 252 tweets (61 new).\n",
      "INFO: Got 361 tweets (109 new).\n"
     ]
    },
    {
     "name": "stdout",
     "output_type": "stream",
     "text": [
      "361  were retrieved for 2017-02-03 to 2017-02-10\n"
     ]
    },
    {
     "name": "stderr",
     "output_type": "stream",
     "text": [
      "INFO: queries: ['\"Barcelona\" AND \"violencia\" OR \"crimen\" OR \"inseguridad\" OR \"delincuencia\" OR \"agresion\" OR \"delito\" OR \"crim\" OR \"inseguretat\" OR \"delinqüència\" OR \"agressió\" OR \"delicte\" since:2017-01-27 until:2017-01-28', '\"Barcelona\" AND \"violencia\" OR \"crimen\" OR \"inseguridad\" OR \"delincuencia\" OR \"agresion\" OR \"delito\" OR \"crim\" OR \"inseguretat\" OR \"delinqüència\" OR \"agressió\" OR \"delicte\" since:2017-01-28 until:2017-01-29', '\"Barcelona\" AND \"violencia\" OR \"crimen\" OR \"inseguridad\" OR \"delincuencia\" OR \"agresion\" OR \"delito\" OR \"crim\" OR \"inseguretat\" OR \"delinqüència\" OR \"agressió\" OR \"delicte\" since:2017-01-29 until:2017-01-30', '\"Barcelona\" AND \"violencia\" OR \"crimen\" OR \"inseguridad\" OR \"delincuencia\" OR \"agresion\" OR \"delito\" OR \"crim\" OR \"inseguretat\" OR \"delinqüència\" OR \"agressió\" OR \"delicte\" since:2017-01-30 until:2017-01-31', '\"Barcelona\" AND \"violencia\" OR \"crimen\" OR \"inseguridad\" OR \"delincuencia\" OR \"agresion\" OR \"delito\" OR \"crim\" OR \"inseguretat\" OR \"delinqüència\" OR \"agressió\" OR \"delicte\" since:2017-01-31 until:2017-02-01', '\"Barcelona\" AND \"violencia\" OR \"crimen\" OR \"inseguridad\" OR \"delincuencia\" OR \"agresion\" OR \"delito\" OR \"crim\" OR \"inseguretat\" OR \"delinqüència\" OR \"agressió\" OR \"delicte\" since:2017-02-01 until:2017-02-02', '\"Barcelona\" AND \"violencia\" OR \"crimen\" OR \"inseguridad\" OR \"delincuencia\" OR \"agresion\" OR \"delito\" OR \"crim\" OR \"inseguretat\" OR \"delinqüència\" OR \"agressió\" OR \"delicte\" since:2017-02-02 until:2017-02-03']\n",
      "INFO: Got 22 tweets (22 new).\n",
      "INFO: Got 60 tweets (38 new).\n",
      "INFO: Got 103 tweets (43 new).\n",
      "INFO: Got 150 tweets (47 new).\n",
      "INFO: Got 192 tweets (42 new).\n",
      "INFO: Got 298 tweets (106 new).\n",
      "INFO: Got 476 tweets (178 new).\n"
     ]
    },
    {
     "name": "stdout",
     "output_type": "stream",
     "text": [
      "476  were retrieved for 2017-01-27 to 2017-02-03\n"
     ]
    },
    {
     "name": "stderr",
     "output_type": "stream",
     "text": [
      "INFO: queries: ['\"Barcelona\" AND \"violencia\" OR \"crimen\" OR \"inseguridad\" OR \"delincuencia\" OR \"agresion\" OR \"delito\" OR \"crim\" OR \"inseguretat\" OR \"delinqüència\" OR \"agressió\" OR \"delicte\" since:2017-01-20 until:2017-01-21', '\"Barcelona\" AND \"violencia\" OR \"crimen\" OR \"inseguridad\" OR \"delincuencia\" OR \"agresion\" OR \"delito\" OR \"crim\" OR \"inseguretat\" OR \"delinqüència\" OR \"agressió\" OR \"delicte\" since:2017-01-21 until:2017-01-22', '\"Barcelona\" AND \"violencia\" OR \"crimen\" OR \"inseguridad\" OR \"delincuencia\" OR \"agresion\" OR \"delito\" OR \"crim\" OR \"inseguretat\" OR \"delinqüència\" OR \"agressió\" OR \"delicte\" since:2017-01-22 until:2017-01-23', '\"Barcelona\" AND \"violencia\" OR \"crimen\" OR \"inseguridad\" OR \"delincuencia\" OR \"agresion\" OR \"delito\" OR \"crim\" OR \"inseguretat\" OR \"delinqüència\" OR \"agressió\" OR \"delicte\" since:2017-01-23 until:2017-01-24', '\"Barcelona\" AND \"violencia\" OR \"crimen\" OR \"inseguridad\" OR \"delincuencia\" OR \"agresion\" OR \"delito\" OR \"crim\" OR \"inseguretat\" OR \"delinqüència\" OR \"agressió\" OR \"delicte\" since:2017-01-24 until:2017-01-25', '\"Barcelona\" AND \"violencia\" OR \"crimen\" OR \"inseguridad\" OR \"delincuencia\" OR \"agresion\" OR \"delito\" OR \"crim\" OR \"inseguretat\" OR \"delinqüència\" OR \"agressió\" OR \"delicte\" since:2017-01-25 until:2017-01-26', '\"Barcelona\" AND \"violencia\" OR \"crimen\" OR \"inseguridad\" OR \"delincuencia\" OR \"agresion\" OR \"delito\" OR \"crim\" OR \"inseguretat\" OR \"delinqüència\" OR \"agressió\" OR \"delicte\" since:2017-01-26 until:2017-01-27']\n",
      "INFO: Got 8 tweets (8 new).\n",
      "INFO: Got 22 tweets (14 new).\n",
      "INFO: Got 42 tweets (20 new).\n",
      "INFO: Got 60 tweets (18 new).\n",
      "INFO: Got 92 tweets (32 new).\n",
      "INFO: Got 135 tweets (43 new).\n",
      "INFO: Got 194 tweets (59 new).\n"
     ]
    },
    {
     "name": "stdout",
     "output_type": "stream",
     "text": [
      "194  were retrieved for 2017-01-20 to 2017-01-27\n"
     ]
    },
    {
     "name": "stderr",
     "output_type": "stream",
     "text": [
      "INFO: queries: ['\"Barcelona\" AND \"violencia\" OR \"crimen\" OR \"inseguridad\" OR \"delincuencia\" OR \"agresion\" OR \"delito\" OR \"crim\" OR \"inseguretat\" OR \"delinqüència\" OR \"agressió\" OR \"delicte\" since:2017-01-13 until:2017-01-14', '\"Barcelona\" AND \"violencia\" OR \"crimen\" OR \"inseguridad\" OR \"delincuencia\" OR \"agresion\" OR \"delito\" OR \"crim\" OR \"inseguretat\" OR \"delinqüència\" OR \"agressió\" OR \"delicte\" since:2017-01-14 until:2017-01-15', '\"Barcelona\" AND \"violencia\" OR \"crimen\" OR \"inseguridad\" OR \"delincuencia\" OR \"agresion\" OR \"delito\" OR \"crim\" OR \"inseguretat\" OR \"delinqüència\" OR \"agressió\" OR \"delicte\" since:2017-01-15 until:2017-01-16', '\"Barcelona\" AND \"violencia\" OR \"crimen\" OR \"inseguridad\" OR \"delincuencia\" OR \"agresion\" OR \"delito\" OR \"crim\" OR \"inseguretat\" OR \"delinqüència\" OR \"agressió\" OR \"delicte\" since:2017-01-16 until:2017-01-17', '\"Barcelona\" AND \"violencia\" OR \"crimen\" OR \"inseguridad\" OR \"delincuencia\" OR \"agresion\" OR \"delito\" OR \"crim\" OR \"inseguretat\" OR \"delinqüència\" OR \"agressió\" OR \"delicte\" since:2017-01-17 until:2017-01-18', '\"Barcelona\" AND \"violencia\" OR \"crimen\" OR \"inseguridad\" OR \"delincuencia\" OR \"agresion\" OR \"delito\" OR \"crim\" OR \"inseguretat\" OR \"delinqüència\" OR \"agressió\" OR \"delicte\" since:2017-01-18 until:2017-01-19', '\"Barcelona\" AND \"violencia\" OR \"crimen\" OR \"inseguridad\" OR \"delincuencia\" OR \"agresion\" OR \"delito\" OR \"crim\" OR \"inseguretat\" OR \"delinqüència\" OR \"agressió\" OR \"delicte\" since:2017-01-19 until:2017-01-20']\n",
      "INFO: Got 28 tweets (28 new).\n",
      "INFO: Got 60 tweets (32 new).\n",
      "INFO: Got 82 tweets (22 new).\n",
      "INFO: Got 98 tweets (16 new).\n",
      "INFO: Got 134 tweets (36 new).\n",
      "INFO: Got 156 tweets (22 new).\n",
      "INFO: Got 188 tweets (32 new).\n"
     ]
    },
    {
     "name": "stdout",
     "output_type": "stream",
     "text": [
      "188  were retrieved for 2017-01-13 to 2017-01-20\n"
     ]
    },
    {
     "name": "stderr",
     "output_type": "stream",
     "text": [
      "INFO: queries: ['\"Barcelona\" AND \"violencia\" OR \"crimen\" OR \"inseguridad\" OR \"delincuencia\" OR \"agresion\" OR \"delito\" OR \"crim\" OR \"inseguretat\" OR \"delinqüència\" OR \"agressió\" OR \"delicte\" since:2017-01-06 until:2017-01-07', '\"Barcelona\" AND \"violencia\" OR \"crimen\" OR \"inseguridad\" OR \"delincuencia\" OR \"agresion\" OR \"delito\" OR \"crim\" OR \"inseguretat\" OR \"delinqüència\" OR \"agressió\" OR \"delicte\" since:2017-01-07 until:2017-01-08', '\"Barcelona\" AND \"violencia\" OR \"crimen\" OR \"inseguridad\" OR \"delincuencia\" OR \"agresion\" OR \"delito\" OR \"crim\" OR \"inseguretat\" OR \"delinqüència\" OR \"agressió\" OR \"delicte\" since:2017-01-08 until:2017-01-09', '\"Barcelona\" AND \"violencia\" OR \"crimen\" OR \"inseguridad\" OR \"delincuencia\" OR \"agresion\" OR \"delito\" OR \"crim\" OR \"inseguretat\" OR \"delinqüència\" OR \"agressió\" OR \"delicte\" since:2017-01-09 until:2017-01-10', '\"Barcelona\" AND \"violencia\" OR \"crimen\" OR \"inseguridad\" OR \"delincuencia\" OR \"agresion\" OR \"delito\" OR \"crim\" OR \"inseguretat\" OR \"delinqüència\" OR \"agressió\" OR \"delicte\" since:2017-01-10 until:2017-01-11', '\"Barcelona\" AND \"violencia\" OR \"crimen\" OR \"inseguridad\" OR \"delincuencia\" OR \"agresion\" OR \"delito\" OR \"crim\" OR \"inseguretat\" OR \"delinqüència\" OR \"agressió\" OR \"delicte\" since:2017-01-11 until:2017-01-12', '\"Barcelona\" AND \"violencia\" OR \"crimen\" OR \"inseguridad\" OR \"delincuencia\" OR \"agresion\" OR \"delito\" OR \"crim\" OR \"inseguretat\" OR \"delinqüència\" OR \"agressió\" OR \"delicte\" since:2017-01-12 until:2017-01-13']\n",
      "INFO: Got 20 tweets (20 new).\n",
      "INFO: Got 36 tweets (16 new).\n",
      "INFO: Got 58 tweets (22 new).\n",
      "INFO: Got 72 tweets (14 new).\n",
      "INFO: Got 98 tweets (26 new).\n",
      "INFO: Got 143 tweets (45 new).\n",
      "INFO: Got 191 tweets (48 new).\n"
     ]
    },
    {
     "name": "stdout",
     "output_type": "stream",
     "text": [
      "191  were retrieved for 2017-01-06 to 2017-01-13\n"
     ]
    }
   ],
   "source": [
    "day_delta = dt.timedelta(days=1)\n",
    "\n",
    "start_date = dt.date(2018, 1, 5)\n",
    "final_date = dt.date(2017, 1, 6)\n",
    "# print(start_date)\n",
    "# print(end_date == (start_date - 14*day_delta ))\n",
    "while start_date > final_date:\n",
    "    begin_date = start_date - 7*day_delta\n",
    "    end_date = start_date\n",
    "    query = '\"Barcelona\" AND \"violencia\" OR \"crimen\" OR \"inseguridad\" OR \"delincuencia\" OR \"agresion\" OR \"delito\" OR \"crim\" OR \"inseguretat\" OR \"delinqüència\" OR \"agressió\" OR \"delicte\"'\n",
    "    tweets = query_tweets(query=query, begindate = begin_date, enddate = end_date)\n",
    "    print(len(tweets), f' were retrieved for {begin_date} to {end_date}')\n",
    "    df = pd.DataFrame(t.__dict__ for t in tweets)\n",
    "    df.to_csv(f'Tweets_{begin_date}_{end_date}.csv')\n",
    "    start_date -= 7*day_delta\n",
    "    time.sleep(60)"
   ]
  },
  {
   "cell_type": "markdown",
   "metadata": {},
   "source": [
    "## Create master DataFrame\n",
    "\n",
    "All the CSV created by the Twitter parser are concatenated in one single DataFrame"
   ]
  },
  {
   "cell_type": "code",
   "execution_count": 9,
   "metadata": {},
   "outputs": [
    {
     "data": {
      "text/html": [
       "<div>\n",
       "<style scoped>\n",
       "    .dataframe tbody tr th:only-of-type {\n",
       "        vertical-align: middle;\n",
       "    }\n",
       "\n",
       "    .dataframe tbody tr th {\n",
       "        vertical-align: top;\n",
       "    }\n",
       "\n",
       "    .dataframe thead th {\n",
       "        text-align: right;\n",
       "    }\n",
       "</style>\n",
       "<table border=\"1\" class=\"dataframe\">\n",
       "  <thead>\n",
       "    <tr style=\"text-align: right;\">\n",
       "      <th></th>\n",
       "      <th>Unnamed: 0</th>\n",
       "      <th>screen_name</th>\n",
       "      <th>username</th>\n",
       "      <th>user_id</th>\n",
       "      <th>tweet_id</th>\n",
       "      <th>tweet_url</th>\n",
       "      <th>timestamp</th>\n",
       "      <th>timestamp_epochs</th>\n",
       "      <th>text</th>\n",
       "      <th>text_html</th>\n",
       "      <th>...</th>\n",
       "      <th>has_media</th>\n",
       "      <th>img_urls</th>\n",
       "      <th>video_url</th>\n",
       "      <th>likes</th>\n",
       "      <th>retweets</th>\n",
       "      <th>replies</th>\n",
       "      <th>is_replied</th>\n",
       "      <th>is_reply_to</th>\n",
       "      <th>parent_tweet_id</th>\n",
       "      <th>reply_to_users</th>\n",
       "    </tr>\n",
       "  </thead>\n",
       "  <tbody>\n",
       "    <tr>\n",
       "      <td>0</td>\n",
       "      <td>0</td>\n",
       "      <td>elperiodicoLH</td>\n",
       "      <td>EL PERIÓDICO L’Hospitalet</td>\n",
       "      <td>619011019</td>\n",
       "      <td>818877057178468352</td>\n",
       "      <td>/elperiodicoLH/status/818877057178468352</td>\n",
       "      <td>2017-01-10 17:47:59</td>\n",
       "      <td>1484070479</td>\n",
       "      <td>.@mossos investiguen si el tiroteig de #Barcel...</td>\n",
       "      <td>&lt;p class=\"TweetTextSize js-tweet-text tweet-te...</td>\n",
       "      <td>...</td>\n",
       "      <td>False</td>\n",
       "      <td>[]</td>\n",
       "      <td>NaN</td>\n",
       "      <td>0</td>\n",
       "      <td>0</td>\n",
       "      <td>0</td>\n",
       "      <td>False</td>\n",
       "      <td>False</td>\n",
       "      <td>NaN</td>\n",
       "      <td>[]</td>\n",
       "    </tr>\n",
       "    <tr>\n",
       "      <td>1</td>\n",
       "      <td>1</td>\n",
       "      <td>elperiodicoLH</td>\n",
       "      <td>EL PERIÓDICO L’Hospitalet</td>\n",
       "      <td>619011019</td>\n",
       "      <td>818873047318929408</td>\n",
       "      <td>/elperiodicoLH/status/818873047318929408</td>\n",
       "      <td>2017-01-10 17:32:03</td>\n",
       "      <td>1484069523</td>\n",
       "      <td>.@Mossos investigan si el tiroteo de #Barcelon...</td>\n",
       "      <td>&lt;p class=\"TweetTextSize js-tweet-text tweet-te...</td>\n",
       "      <td>...</td>\n",
       "      <td>False</td>\n",
       "      <td>[]</td>\n",
       "      <td>NaN</td>\n",
       "      <td>0</td>\n",
       "      <td>0</td>\n",
       "      <td>0</td>\n",
       "      <td>False</td>\n",
       "      <td>False</td>\n",
       "      <td>NaN</td>\n",
       "      <td>[]</td>\n",
       "    </tr>\n",
       "    <tr>\n",
       "      <td>2</td>\n",
       "      <td>2</td>\n",
       "      <td>ABC_Barcelona</td>\n",
       "      <td>ABC Barcelona</td>\n",
       "      <td>212309697</td>\n",
       "      <td>818847421941870592</td>\n",
       "      <td>/ABC_Barcelona/status/818847421941870592</td>\n",
       "      <td>2017-01-10 15:50:13</td>\n",
       "      <td>1484063413</td>\n",
       "      <td>El juez cita a declarar a los padres de Nadia ...</td>\n",
       "      <td>&lt;p class=\"TweetTextSize js-tweet-text tweet-te...</td>\n",
       "      <td>...</td>\n",
       "      <td>False</td>\n",
       "      <td>[]</td>\n",
       "      <td>NaN</td>\n",
       "      <td>0</td>\n",
       "      <td>0</td>\n",
       "      <td>0</td>\n",
       "      <td>False</td>\n",
       "      <td>False</td>\n",
       "      <td>NaN</td>\n",
       "      <td>[]</td>\n",
       "    </tr>\n",
       "    <tr>\n",
       "      <td>3</td>\n",
       "      <td>3</td>\n",
       "      <td>10demin</td>\n",
       "      <td>javier herrera</td>\n",
       "      <td>375425376</td>\n",
       "      <td>818841919681941504</td>\n",
       "      <td>/10demin/status/818841919681941504</td>\n",
       "      <td>2017-01-10 15:28:21</td>\n",
       "      <td>1484062101</td>\n",
       "      <td>Agresion Luis Suarez a Asenjo. Barcelona Villa...</td>\n",
       "      <td>&lt;p class=\"TweetTextSize js-tweet-text tweet-te...</td>\n",
       "      <td>...</td>\n",
       "      <td>False</td>\n",
       "      <td>[]</td>\n",
       "      <td>NaN</td>\n",
       "      <td>0</td>\n",
       "      <td>0</td>\n",
       "      <td>0</td>\n",
       "      <td>False</td>\n",
       "      <td>False</td>\n",
       "      <td>NaN</td>\n",
       "      <td>[]</td>\n",
       "    </tr>\n",
       "    <tr>\n",
       "      <td>4</td>\n",
       "      <td>4</td>\n",
       "      <td>DeGalinsoga</td>\n",
       "      <td>Julio Camba</td>\n",
       "      <td>3187795533</td>\n",
       "      <td>818830159381860352</td>\n",
       "      <td>/DeGalinsoga/status/818830159381860352</td>\n",
       "      <td>2017-01-10 14:41:37</td>\n",
       "      <td>1484059297</td>\n",
       "      <td>Una agresión condenada por todo el mundo, cosa...</td>\n",
       "      <td>&lt;p class=\"TweetTextSize js-tweet-text tweet-te...</td>\n",
       "      <td>...</td>\n",
       "      <td>False</td>\n",
       "      <td>[]</td>\n",
       "      <td>NaN</td>\n",
       "      <td>1</td>\n",
       "      <td>0</td>\n",
       "      <td>1</td>\n",
       "      <td>True</td>\n",
       "      <td>True</td>\n",
       "      <td>8.163982e+17</td>\n",
       "      <td>[{'screen_name': 'Daroib', 'user_id': '1387331...</td>\n",
       "    </tr>\n",
       "  </tbody>\n",
       "</table>\n",
       "<p>5 rows × 22 columns</p>\n",
       "</div>"
      ],
      "text/plain": [
       "   Unnamed: 0    screen_name                   username     user_id  \\\n",
       "0           0  elperiodicoLH  EL PERIÓDICO L’Hospitalet   619011019   \n",
       "1           1  elperiodicoLH  EL PERIÓDICO L’Hospitalet   619011019   \n",
       "2           2  ABC_Barcelona              ABC Barcelona   212309697   \n",
       "3           3        10demin             javier herrera   375425376   \n",
       "4           4    DeGalinsoga                Julio Camba  3187795533   \n",
       "\n",
       "             tweet_id                                 tweet_url  \\\n",
       "0  818877057178468352  /elperiodicoLH/status/818877057178468352   \n",
       "1  818873047318929408  /elperiodicoLH/status/818873047318929408   \n",
       "2  818847421941870592  /ABC_Barcelona/status/818847421941870592   \n",
       "3  818841919681941504        /10demin/status/818841919681941504   \n",
       "4  818830159381860352    /DeGalinsoga/status/818830159381860352   \n",
       "\n",
       "             timestamp  timestamp_epochs  \\\n",
       "0  2017-01-10 17:47:59        1484070479   \n",
       "1  2017-01-10 17:32:03        1484069523   \n",
       "2  2017-01-10 15:50:13        1484063413   \n",
       "3  2017-01-10 15:28:21        1484062101   \n",
       "4  2017-01-10 14:41:37        1484059297   \n",
       "\n",
       "                                                text  \\\n",
       "0  .@mossos investiguen si el tiroteig de #Barcel...   \n",
       "1  .@Mossos investigan si el tiroteo de #Barcelon...   \n",
       "2  El juez cita a declarar a los padres de Nadia ...   \n",
       "3  Agresion Luis Suarez a Asenjo. Barcelona Villa...   \n",
       "4  Una agresión condenada por todo el mundo, cosa...   \n",
       "\n",
       "                                           text_html  ... has_media img_urls  \\\n",
       "0  <p class=\"TweetTextSize js-tweet-text tweet-te...  ...     False       []   \n",
       "1  <p class=\"TweetTextSize js-tweet-text tweet-te...  ...     False       []   \n",
       "2  <p class=\"TweetTextSize js-tweet-text tweet-te...  ...     False       []   \n",
       "3  <p class=\"TweetTextSize js-tweet-text tweet-te...  ...     False       []   \n",
       "4  <p class=\"TweetTextSize js-tweet-text tweet-te...  ...     False       []   \n",
       "\n",
       "   video_url likes  retweets  replies  is_replied  is_reply_to  \\\n",
       "0        NaN     0         0        0       False        False   \n",
       "1        NaN     0         0        0       False        False   \n",
       "2        NaN     0         0        0       False        False   \n",
       "3        NaN     0         0        0       False        False   \n",
       "4        NaN     1         0        1        True         True   \n",
       "\n",
       "   parent_tweet_id                                     reply_to_users  \n",
       "0              NaN                                                 []  \n",
       "1              NaN                                                 []  \n",
       "2              NaN                                                 []  \n",
       "3              NaN                                                 []  \n",
       "4     8.163982e+17  [{'screen_name': 'Daroib', 'user_id': '1387331...  \n",
       "\n",
       "[5 rows x 22 columns]"
      ]
     },
     "execution_count": 9,
     "metadata": {},
     "output_type": "execute_result"
    }
   ],
   "source": [
    "tweets = pd.concat([pd.read_csv(f) for f in glob.glob('*.csv')], ignore_index = True)\n",
    "tweets.head()"
   ]
  },
  {
   "cell_type": "markdown",
   "metadata": {},
   "source": [
    "## Clean data\n"
   ]
  },
  {
   "cell_type": "code",
   "execution_count": 10,
   "metadata": {
    "scrolled": true
   },
   "outputs": [
    {
     "name": "stdout",
     "output_type": "stream",
     "text": [
      "<class 'pandas.core.frame.DataFrame'>\n",
      "RangeIndex: 120212 entries, 0 to 120211\n",
      "Data columns (total 22 columns):\n",
      "Unnamed: 0          120212 non-null int64\n",
      "screen_name         120212 non-null object\n",
      "username            120212 non-null object\n",
      "user_id             120212 non-null int64\n",
      "tweet_id            120212 non-null int64\n",
      "tweet_url           120212 non-null object\n",
      "timestamp           120212 non-null object\n",
      "timestamp_epochs    120212 non-null int64\n",
      "text                120212 non-null object\n",
      "text_html           120212 non-null object\n",
      "links               120212 non-null object\n",
      "hashtags            120212 non-null object\n",
      "has_media           120212 non-null bool\n",
      "img_urls            120212 non-null object\n",
      "video_url           0 non-null float64\n",
      "likes               120212 non-null int64\n",
      "retweets            120212 non-null int64\n",
      "replies             120212 non-null int64\n",
      "is_replied          120212 non-null bool\n",
      "is_reply_to         120212 non-null bool\n",
      "parent_tweet_id     30679 non-null float64\n",
      "reply_to_users      120212 non-null object\n",
      "dtypes: bool(3), float64(2), int64(7), object(10)\n",
      "memory usage: 17.8+ MB\n"
     ]
    }
   ],
   "source": [
    "tweets.info()"
   ]
  },
  {
   "cell_type": "code",
   "execution_count": 11,
   "metadata": {},
   "outputs": [],
   "source": [
    "##Drop unwanted columns\n",
    "tweets = tweets.drop(['Unnamed: 0', 'timestamp_epochs', 'has_media', 'img_urls', 'video_url', 'is_replied', 'is_reply_to', 'reply_to_users', 'parent_tweet_id' ], axis=1)"
   ]
  },
  {
   "cell_type": "code",
   "execution_count": 12,
   "metadata": {},
   "outputs": [],
   "source": [
    "##Delete possible duplicates\n",
    "tweets = tweets.drop_duplicates().copy()"
   ]
  },
  {
   "cell_type": "code",
   "execution_count": 13,
   "metadata": {
    "scrolled": true
   },
   "outputs": [],
   "source": [
    "##Parse date to have a Year, Month and Day column\n",
    "tweets['year'] = tweets.apply(lambda x: x.timestamp.split('-')[0], axis = 1)\n",
    "tweets['month'] = tweets.apply(lambda x: x.timestamp.split('-')[1], axis = 1)\n",
    "tweets['day'] = tweets.apply(lambda x: x.timestamp.split('-')[2], axis = 1)\n",
    "tweets['day'] = tweets.apply(lambda x: x.day.split(' ')[0], axis = 1)"
   ]
  },
  {
   "cell_type": "code",
   "execution_count": 14,
   "metadata": {},
   "outputs": [
    {
     "name": "stdout",
     "output_type": "stream",
     "text": [
      "<class 'pandas.core.frame.DataFrame'>\n",
      "Int64Index: 100664 entries, 0 to 120211\n",
      "Data columns (total 16 columns):\n",
      "screen_name    100664 non-null object\n",
      "username       100664 non-null object\n",
      "user_id        100664 non-null int64\n",
      "tweet_id       100664 non-null int64\n",
      "tweet_url      100664 non-null object\n",
      "timestamp      100664 non-null object\n",
      "text           100664 non-null object\n",
      "text_html      100664 non-null object\n",
      "links          100664 non-null object\n",
      "hashtags       100664 non-null object\n",
      "likes          100664 non-null int64\n",
      "retweets       100664 non-null int64\n",
      "replies        100664 non-null int64\n",
      "year           100664 non-null object\n",
      "month          100664 non-null object\n",
      "day            100664 non-null object\n",
      "dtypes: int64(5), object(11)\n",
      "memory usage: 13.1+ MB\n"
     ]
    }
   ],
   "source": [
    "tweets.info()"
   ]
  },
  {
   "cell_type": "code",
   "execution_count": 15,
   "metadata": {},
   "outputs": [],
   "source": [
    "tweets['year'] = tweets['year'].astype(int)\n",
    "tweets['month'] = tweets['month'].astype(int)\n",
    "tweets['day'] = tweets['day'].astype(int)"
   ]
  },
  {
   "cell_type": "code",
   "execution_count": 16,
   "metadata": {},
   "outputs": [
    {
     "name": "stdout",
     "output_type": "stream",
     "text": [
      "<class 'pandas.core.frame.DataFrame'>\n",
      "Int64Index: 100664 entries, 0 to 120211\n",
      "Data columns (total 16 columns):\n",
      "screen_name    100664 non-null object\n",
      "username       100664 non-null object\n",
      "user_id        100664 non-null int64\n",
      "tweet_id       100664 non-null int64\n",
      "tweet_url      100664 non-null object\n",
      "timestamp      100664 non-null object\n",
      "text           100664 non-null object\n",
      "text_html      100664 non-null object\n",
      "links          100664 non-null object\n",
      "hashtags       100664 non-null object\n",
      "likes          100664 non-null int64\n",
      "retweets       100664 non-null int64\n",
      "replies        100664 non-null int64\n",
      "year           100664 non-null int32\n",
      "month          100664 non-null int32\n",
      "day            100664 non-null int32\n",
      "dtypes: int32(3), int64(5), object(8)\n",
      "memory usage: 11.9+ MB\n"
     ]
    }
   ],
   "source": [
    "tweets.info()"
   ]
  },
  {
   "cell_type": "markdown",
   "metadata": {},
   "source": [
    "## Create CSV for analysis"
   ]
  },
  {
   "cell_type": "code",
   "execution_count": 17,
   "metadata": {},
   "outputs": [],
   "source": [
    "tweets.to_csv('../../Analysis/tweets.csv')"
   ]
  },
  {
   "cell_type": "markdown",
   "metadata": {},
   "source": [
    "## Export to DB"
   ]
  },
  {
   "cell_type": "code",
   "execution_count": null,
   "metadata": {},
   "outputs": [],
   "source": []
  }
 ],
 "metadata": {
  "kernelspec": {
   "display_name": "Python 3",
   "language": "python",
   "name": "python3"
  },
  "language_info": {
   "codemirror_mode": {
    "name": "ipython",
    "version": 3
   },
   "file_extension": ".py",
   "mimetype": "text/x-python",
   "name": "python",
   "nbconvert_exporter": "python",
   "pygments_lexer": "ipython3",
   "version": "3.7.4"
  }
 },
 "nbformat": 4,
 "nbformat_minor": 2
}
