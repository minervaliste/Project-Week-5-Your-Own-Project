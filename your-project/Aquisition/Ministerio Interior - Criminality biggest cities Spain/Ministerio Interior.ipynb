{
 "cells": [
  {
   "cell_type": "code",
   "execution_count": 1,
   "metadata": {},
   "outputs": [],
   "source": [
    "# Libraries\n",
    "import numpy as np\n",
    "import pandas as pd\n",
    "import re"
   ]
  },
  {
   "cell_type": "markdown",
   "metadata": {},
   "source": [
    "## Import crime stats from top 15 populated cities"
   ]
  },
  {
   "cell_type": "code",
   "execution_count": 2,
   "metadata": {},
   "outputs": [
    {
     "name": "stderr",
     "output_type": "stream",
     "text": [
      "C:\\Users\\miner\\Anaconda3\\lib\\site-packages\\ipykernel_launcher.py:52: SettingWithCopyWarning: \n",
      "A value is trying to be set on a copy of a slice from a DataFrame.\n",
      "Try using .loc[row_indexer,col_indexer] = value instead\n",
      "\n",
      "See the caveats in the documentation: http://pandas.pydata.org/pandas-docs/stable/user_guide/indexing.html#returning-a-view-versus-a-copy\n",
      "C:\\Users\\miner\\Anaconda3\\lib\\site-packages\\ipykernel_launcher.py:56: SettingWithCopyWarning: \n",
      "A value is trying to be set on a copy of a slice from a DataFrame.\n",
      "Try using .loc[row_indexer,col_indexer] = value instead\n",
      "\n",
      "See the caveats in the documentation: http://pandas.pydata.org/pandas-docs/stable/user_guide/indexing.html#returning-a-view-versus-a-copy\n",
      "C:\\Users\\miner\\Anaconda3\\lib\\site-packages\\ipykernel_launcher.py:65: SettingWithCopyWarning: \n",
      "A value is trying to be set on a copy of a slice from a DataFrame.\n",
      "Try using .loc[row_indexer,col_indexer] = value instead\n",
      "\n",
      "See the caveats in the documentation: http://pandas.pydata.org/pandas-docs/stable/user_guide/indexing.html#returning-a-view-versus-a-copy\n",
      "C:\\Users\\miner\\Anaconda3\\lib\\site-packages\\ipykernel_launcher.py:69: SettingWithCopyWarning: \n",
      "A value is trying to be set on a copy of a slice from a DataFrame.\n",
      "Try using .loc[row_indexer,col_indexer] = value instead\n",
      "\n",
      "See the caveats in the documentation: http://pandas.pydata.org/pandas-docs/stable/user_guide/indexing.html#returning-a-view-versus-a-copy\n",
      "C:\\Users\\miner\\Anaconda3\\lib\\site-packages\\ipykernel_launcher.py:73: SettingWithCopyWarning: \n",
      "A value is trying to be set on a copy of a slice from a DataFrame.\n",
      "Try using .loc[row_indexer,col_indexer] = value instead\n",
      "\n",
      "See the caveats in the documentation: http://pandas.pydata.org/pandas-docs/stable/user_guide/indexing.html#returning-a-view-versus-a-copy\n"
     ]
    }
   ],
   "source": [
    "##Declare a function that receives an xls file and extracts for it the data needed for our dataframe\n",
    "def clean_xls(trimester, xls_file):\n",
    "    \n",
    "    excel_crimes = pd.read_excel(xls_file)\n",
    " \n",
    "    if xls_file[:4] == '2019' or xls_file[:4] == '2018':\n",
    "        crimes = excel_crimes.iloc[6:231,].reset_index(drop=True)\n",
    "    \n",
    "    else:\n",
    "        crimes = excel_crimes.iloc[6:216,].reset_index(drop=True)\n",
    "    crimes.columns = ['crime', 'quantity']\n",
    "    crimes['year'] = re.search(r'\\d{4}', xls_file)[0]\n",
    "    crimes['trimester'] = trimester\n",
    "    crimes['city'] = crimes['crime'].apply(lambda x: re.findall(r'- Municipio de (.*)', x))\n",
    "    crimes['city'] = crimes['city'].apply(lambda x: x[0] if x else np.nan)\n",
    "    crimes['city'] = crimes['city'].ffill()\n",
    "    crimes = crimes.dropna()\n",
    "    crimes['quantity'] = crimes['quantity'].astype('int')\n",
    "    \n",
    "    return crimes\n",
    "\n",
    "\n",
    "##Declare a function that receives a dataframe and trims it by year and trimester to operate with the new DF\n",
    "def trim(df, year):\n",
    "    \n",
    "    if year == '2019':\n",
    "        n = 4\n",
    "    \n",
    "    else:\n",
    "        n = 5\n",
    "    \n",
    "    lst = []\n",
    "    for i in range(1,n):\n",
    "        trim = df[df['trimester'] == i]\n",
    "        lst.append(trim)\n",
    "    \n",
    "    return lst\n",
    "\n",
    "\n",
    "#Declare a function that separates the year data by trimester and dissagregates the total of crimes by substracting the \n",
    "#number of crimes of the previous period from the current number of crimes\n",
    "def fix_number_crimes(df):\n",
    "    \n",
    "    for i in df.year.unique():\n",
    "        temp_df = df[df.year == i]\n",
    "    \n",
    "        if i == '2019':\n",
    "           \n",
    "            trim1, trim2, trim3 = trim(temp_df, i)\n",
    "            temp3 = trim3['quantity'].reset_index(drop=True) - trim2['quantity'].reset_index(drop=True)\n",
    "            temp3.index = trim3.index\n",
    "            trim3['quantity'] = temp3\n",
    "            \n",
    "            temp2 = trim2['quantity'].reset_index(drop=True) - trim1['quantity'].reset_index(drop=True)\n",
    "            temp2.index = trim2.index\n",
    "            trim2['quantity'] = temp2\n",
    "            \n",
    "            df.update(trim3)\n",
    "            df.update(trim2)\n",
    "        \n",
    "        else:\n",
    "            trim1, trim2, trim3, trim4 = trim(temp_df, i)  \n",
    "            temp4 = trim4['quantity'].reset_index(drop=True) - trim3['quantity'].reset_index(drop=True)\n",
    "            temp4.index = trim4.index\n",
    "            trim4['quantity'] = temp4\n",
    "            \n",
    "            temp3 = trim3['quantity'].reset_index(drop=True) - trim2['quantity'].reset_index(drop=True)\n",
    "            temp3.index = trim3.index\n",
    "            trim3['quantity'] = temp3\n",
    "            \n",
    "            temp2 = trim2['quantity'].reset_index(drop=True) - trim1['quantity'].reset_index(drop=True)\n",
    "            temp2.index = trim2.index\n",
    "            trim2['quantity'] = temp2\n",
    "            \n",
    "            df.update(trim4)\n",
    "            df.update(trim3)\n",
    "            df.update(trim2)\n",
    "        \n",
    "\n",
    "#Declare a list with the files to process, a list with the semesters they belong to, and a dataframe to store the info      \n",
    "list_xls = ['2019_1T.xls', '2019_2T.xls', '2019_3T.xls', '2018_1T.xls', '2018_2T.xls', '2018_3T.xls', '2018_4T.xls', '2017_1T.xls', '2017_2T.xls', '2017_3T.xls', '2017_4T.xls', '2016_1T.xls', '2016_2T.xls', '2016_3T.xls', '2016_4T.xls']\n",
    "list_trimester = [1,2, 3] + [1,2,3,4]*3\n",
    "crimes_spain = pd.DataFrame()\n",
    "\n",
    "#Clean each xls\n",
    "for i, j in zip(list_trimester, list_xls):\n",
    "    crimes_spain = pd.concat([crimes_spain, clean_xls(i, j)])\n",
    "\n",
    "#Reset the index to ensure the update method can be properly used in the fix_number_crimes() function\n",
    "crimes_spain = crimes_spain.reset_index(drop=True)\n",
    "fix_number_crimes(crimes_spain)"
   ]
  },
  {
   "cell_type": "code",
   "execution_count": 3,
   "metadata": {
    "scrolled": true
   },
   "outputs": [
    {
     "data": {
      "text/html": [
       "<div>\n",
       "<style scoped>\n",
       "    .dataframe tbody tr th:only-of-type {\n",
       "        vertical-align: middle;\n",
       "    }\n",
       "\n",
       "    .dataframe tbody tr th {\n",
       "        vertical-align: top;\n",
       "    }\n",
       "\n",
       "    .dataframe thead th {\n",
       "        text-align: right;\n",
       "    }\n",
       "</style>\n",
       "<table border=\"1\" class=\"dataframe\">\n",
       "  <thead>\n",
       "    <tr style=\"text-align: right;\">\n",
       "      <th></th>\n",
       "      <th>crime</th>\n",
       "      <th>quantity</th>\n",
       "      <th>year</th>\n",
       "      <th>trimester</th>\n",
       "      <th>city</th>\n",
       "    </tr>\n",
       "  </thead>\n",
       "  <tbody>\n",
       "    <tr>\n",
       "      <td>0</td>\n",
       "      <td>1.-Homicidios dolosos y asesinatos consumados</td>\n",
       "      <td>0.0</td>\n",
       "      <td>2019</td>\n",
       "      <td>1.0</td>\n",
       "      <td>Córdoba</td>\n",
       "    </tr>\n",
       "    <tr>\n",
       "      <td>1</td>\n",
       "      <td>2.-Homicidios dolosos y asesinatos en grad...</td>\n",
       "      <td>0.0</td>\n",
       "      <td>2019</td>\n",
       "      <td>1.0</td>\n",
       "      <td>Córdoba</td>\n",
       "    </tr>\n",
       "    <tr>\n",
       "      <td>2</td>\n",
       "      <td>3.-Delitos graves y menos graves de lesion...</td>\n",
       "      <td>18.0</td>\n",
       "      <td>2019</td>\n",
       "      <td>1.0</td>\n",
       "      <td>Córdoba</td>\n",
       "    </tr>\n",
       "    <tr>\n",
       "      <td>3</td>\n",
       "      <td>4.-Secuestro</td>\n",
       "      <td>1.0</td>\n",
       "      <td>2019</td>\n",
       "      <td>1.0</td>\n",
       "      <td>Córdoba</td>\n",
       "    </tr>\n",
       "    <tr>\n",
       "      <td>4</td>\n",
       "      <td>5.-Delitos contra la libertad e indemnidad...</td>\n",
       "      <td>32.0</td>\n",
       "      <td>2019</td>\n",
       "      <td>1.0</td>\n",
       "      <td>Córdoba</td>\n",
       "    </tr>\n",
       "  </tbody>\n",
       "</table>\n",
       "</div>"
      ],
      "text/plain": [
       "                                               crime  quantity  year  \\\n",
       "0      1.-Homicidios dolosos y asesinatos consumados       0.0  2019   \n",
       "1      2.-Homicidios dolosos y asesinatos en grad...       0.0  2019   \n",
       "2      3.-Delitos graves y menos graves de lesion...      18.0  2019   \n",
       "3                                       4.-Secuestro       1.0  2019   \n",
       "4      5.-Delitos contra la libertad e indemnidad...      32.0  2019   \n",
       "\n",
       "   trimester     city  \n",
       "0        1.0  Córdoba  \n",
       "1        1.0  Córdoba  \n",
       "2        1.0  Córdoba  \n",
       "3        1.0  Córdoba  \n",
       "4        1.0  Córdoba  "
      ]
     },
     "execution_count": 3,
     "metadata": {},
     "output_type": "execute_result"
    }
   ],
   "source": [
    "crimes_spain.head()"
   ]
  },
  {
   "cell_type": "code",
   "execution_count": 4,
   "metadata": {},
   "outputs": [
    {
     "name": "stdout",
     "output_type": "stream",
     "text": [
      "<class 'pandas.core.frame.DataFrame'>\n",
      "RangeIndex: 3030 entries, 0 to 3029\n",
      "Data columns (total 5 columns):\n",
      "crime        3030 non-null object\n",
      "quantity     3030 non-null float64\n",
      "year         3030 non-null object\n",
      "trimester    3030 non-null float64\n",
      "city         3030 non-null object\n",
      "dtypes: float64(2), object(3)\n",
      "memory usage: 118.5+ KB\n"
     ]
    }
   ],
   "source": [
    "crimes_spain.info()"
   ]
  },
  {
   "cell_type": "code",
   "execution_count": 5,
   "metadata": {},
   "outputs": [],
   "source": [
    "##Change types\n",
    "crimes_spain['trimester'] = crimes_spain['trimester'].astype(int)\n",
    "crimes_spain['quantity'] = crimes_spain['quantity'].astype(int)\n",
    "crimes_spain['year'] = crimes_spain['year'].astype(int)"
   ]
  },
  {
   "cell_type": "code",
   "execution_count": 6,
   "metadata": {},
   "outputs": [
    {
     "name": "stdout",
     "output_type": "stream",
     "text": [
      "<class 'pandas.core.frame.DataFrame'>\n",
      "RangeIndex: 3030 entries, 0 to 3029\n",
      "Data columns (total 5 columns):\n",
      "crime        3030 non-null object\n",
      "quantity     3030 non-null int32\n",
      "year         3030 non-null int32\n",
      "trimester    3030 non-null int32\n",
      "city         3030 non-null object\n",
      "dtypes: int32(3), object(2)\n",
      "memory usage: 83.0+ KB\n"
     ]
    }
   ],
   "source": [
    "crimes_spain.info()"
   ]
  },
  {
   "cell_type": "code",
   "execution_count": 7,
   "metadata": {},
   "outputs": [],
   "source": [
    "##Normalize dataset names to meet  the ones in the population table\n",
    "crimes_spain['city'].replace('Palma de Mallorca', 'Palma', inplace = True)\n",
    "crimes_spain['city'].replace('Alicante/Alacant', 'Alicante', inplace = True)\n",
    "crimes_spain['city'].replace('Palmas de Gran Canaria (Las)', 'Las Palmas de Gran Canaria', inplace = True)"
   ]
  },
  {
   "cell_type": "code",
   "execution_count": 8,
   "metadata": {},
   "outputs": [
    {
     "data": {
      "text/html": [
       "<div>\n",
       "<style scoped>\n",
       "    .dataframe tbody tr th:only-of-type {\n",
       "        vertical-align: middle;\n",
       "    }\n",
       "\n",
       "    .dataframe tbody tr th {\n",
       "        vertical-align: top;\n",
       "    }\n",
       "\n",
       "    .dataframe thead th {\n",
       "        text-align: right;\n",
       "    }\n",
       "</style>\n",
       "<table border=\"1\" class=\"dataframe\">\n",
       "  <thead>\n",
       "    <tr style=\"text-align: right;\">\n",
       "      <th></th>\n",
       "      <th>crime</th>\n",
       "      <th>quantity</th>\n",
       "      <th>year</th>\n",
       "      <th>trimester</th>\n",
       "      <th>city</th>\n",
       "    </tr>\n",
       "  </thead>\n",
       "  <tbody>\n",
       "    <tr>\n",
       "      <td>0</td>\n",
       "      <td>1.-Homicidios dolosos y asesinatos consumados</td>\n",
       "      <td>0</td>\n",
       "      <td>2019</td>\n",
       "      <td>1</td>\n",
       "      <td>Córdoba</td>\n",
       "    </tr>\n",
       "    <tr>\n",
       "      <td>1</td>\n",
       "      <td>2.-Homicidios dolosos y asesinatos en grad...</td>\n",
       "      <td>0</td>\n",
       "      <td>2019</td>\n",
       "      <td>1</td>\n",
       "      <td>Córdoba</td>\n",
       "    </tr>\n",
       "    <tr>\n",
       "      <td>2</td>\n",
       "      <td>3.-Delitos graves y menos graves de lesion...</td>\n",
       "      <td>18</td>\n",
       "      <td>2019</td>\n",
       "      <td>1</td>\n",
       "      <td>Córdoba</td>\n",
       "    </tr>\n",
       "    <tr>\n",
       "      <td>3</td>\n",
       "      <td>4.-Secuestro</td>\n",
       "      <td>1</td>\n",
       "      <td>2019</td>\n",
       "      <td>1</td>\n",
       "      <td>Córdoba</td>\n",
       "    </tr>\n",
       "    <tr>\n",
       "      <td>4</td>\n",
       "      <td>5.-Delitos contra la libertad e indemnidad...</td>\n",
       "      <td>32</td>\n",
       "      <td>2019</td>\n",
       "      <td>1</td>\n",
       "      <td>Córdoba</td>\n",
       "    </tr>\n",
       "  </tbody>\n",
       "</table>\n",
       "</div>"
      ],
      "text/plain": [
       "                                               crime  quantity  year  \\\n",
       "0      1.-Homicidios dolosos y asesinatos consumados         0  2019   \n",
       "1      2.-Homicidios dolosos y asesinatos en grad...         0  2019   \n",
       "2      3.-Delitos graves y menos graves de lesion...        18  2019   \n",
       "3                                       4.-Secuestro         1  2019   \n",
       "4      5.-Delitos contra la libertad e indemnidad...        32  2019   \n",
       "\n",
       "   trimester     city  \n",
       "0          1  Córdoba  \n",
       "1          1  Córdoba  \n",
       "2          1  Córdoba  \n",
       "3          1  Córdoba  \n",
       "4          1  Córdoba  "
      ]
     },
     "execution_count": 8,
     "metadata": {},
     "output_type": "execute_result"
    }
   ],
   "source": [
    "crimes_spain.head()"
   ]
  },
  {
   "cell_type": "markdown",
   "metadata": {},
   "source": [
    "## Create CSV for analysis"
   ]
  },
  {
   "cell_type": "code",
   "execution_count": 9,
   "metadata": {},
   "outputs": [],
   "source": [
    "crimes_spain.to_csv('../../Analysis/crimes_spain.csv')"
   ]
  }
 ],
 "metadata": {
  "kernelspec": {
   "display_name": "Python 3",
   "language": "python",
   "name": "python3"
  },
  "language_info": {
   "codemirror_mode": {
    "name": "ipython",
    "version": 3
   },
   "file_extension": ".py",
   "mimetype": "text/x-python",
   "name": "python",
   "nbconvert_exporter": "python",
   "pygments_lexer": "ipython3",
   "version": "3.7.4"
  }
 },
 "nbformat": 4,
 "nbformat_minor": 2
}
